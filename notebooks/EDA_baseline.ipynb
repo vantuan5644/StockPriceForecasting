{
 "cells": [
  {
   "cell_type": "code",
   "execution_count": 1,
   "metadata": {},
   "outputs": [],
   "source": [
    "import pandas as pd\n",
    "import numpy as np\n",
    "import matplotlib.pyplot as plt\n",
    "import seaborn as sns"
   ]
  },
  {
   "cell_type": "code",
   "execution_count": 2,
   "metadata": {},
   "outputs": [],
   "source": [
    "pd.options.mode.chained_assignment = None \n",
    "pd.set_option('display.max_columns', None)\n"
   ]
  },
  {
   "cell_type": "markdown",
   "metadata": {},
   "source": [
    "# Stock Price Prediction \n",
    "\n",
    "Giới thiệu Project: ###\n"
   ]
  },
  {
   "cell_type": "markdown",
   "metadata": {},
   "source": [
    "## Dataset\n",
    "\n",
    "Giá chứng khoán FPT "
   ]
  },
  {
   "cell_type": "code",
   "execution_count": 27,
   "metadata": {},
   "outputs": [],
   "source": [
    "data = pd.read_csv('../dataset/excel_fpt.csv')"
   ]
  },
  {
   "cell_type": "code",
   "execution_count": 28,
   "metadata": {},
   "outputs": [
    {
     "data": {
      "text/html": [
       "<div>\n",
       "<style scoped>\n",
       "    .dataframe tbody tr th:only-of-type {\n",
       "        vertical-align: middle;\n",
       "    }\n",
       "\n",
       "    .dataframe tbody tr th {\n",
       "        vertical-align: top;\n",
       "    }\n",
       "\n",
       "    .dataframe thead th {\n",
       "        text-align: right;\n",
       "    }\n",
       "</style>\n",
       "<table border=\"1\" class=\"dataframe\">\n",
       "  <thead>\n",
       "    <tr style=\"text-align: right;\">\n",
       "      <th></th>\n",
       "      <th>&lt;Ticker&gt;</th>\n",
       "      <th>&lt;DTYYYYMMDD&gt;</th>\n",
       "      <th>&lt;Open&gt;</th>\n",
       "      <th>&lt;High&gt;</th>\n",
       "      <th>&lt;Low&gt;</th>\n",
       "      <th>&lt;Close&gt;</th>\n",
       "      <th>&lt;Volume&gt;</th>\n",
       "    </tr>\n",
       "  </thead>\n",
       "  <tbody>\n",
       "    <tr>\n",
       "      <th>3485</th>\n",
       "      <td>FPT</td>\n",
       "      <td>20061219</td>\n",
       "      <td>27.4356</td>\n",
       "      <td>27.4356</td>\n",
       "      <td>27.4356</td>\n",
       "      <td>27.4356</td>\n",
       "      <td>137520</td>\n",
       "    </tr>\n",
       "    <tr>\n",
       "      <th>3486</th>\n",
       "      <td>FPT</td>\n",
       "      <td>20061218</td>\n",
       "      <td>26.1371</td>\n",
       "      <td>26.1371</td>\n",
       "      <td>26.1371</td>\n",
       "      <td>26.1372</td>\n",
       "      <td>215790</td>\n",
       "    </tr>\n",
       "    <tr>\n",
       "      <th>3487</th>\n",
       "      <td>FPT</td>\n",
       "      <td>20061215</td>\n",
       "      <td>24.8952</td>\n",
       "      <td>24.8952</td>\n",
       "      <td>24.8952</td>\n",
       "      <td>24.8952</td>\n",
       "      <td>265300</td>\n",
       "    </tr>\n",
       "    <tr>\n",
       "      <th>3488</th>\n",
       "      <td>FPT</td>\n",
       "      <td>20061214</td>\n",
       "      <td>23.7097</td>\n",
       "      <td>23.7097</td>\n",
       "      <td>23.7097</td>\n",
       "      <td>23.7097</td>\n",
       "      <td>280710</td>\n",
       "    </tr>\n",
       "    <tr>\n",
       "      <th>3489</th>\n",
       "      <td>FPT</td>\n",
       "      <td>20061213</td>\n",
       "      <td>22.5807</td>\n",
       "      <td>22.5807</td>\n",
       "      <td>22.5807</td>\n",
       "      <td>22.5807</td>\n",
       "      <td>83530</td>\n",
       "    </tr>\n",
       "  </tbody>\n",
       "</table>\n",
       "</div>"
      ],
      "text/plain": [
       "     <Ticker>  <DTYYYYMMDD>   <Open>   <High>    <Low>  <Close>  <Volume>\n",
       "3485      FPT      20061219  27.4356  27.4356  27.4356  27.4356    137520\n",
       "3486      FPT      20061218  26.1371  26.1371  26.1371  26.1372    215790\n",
       "3487      FPT      20061215  24.8952  24.8952  24.8952  24.8952    265300\n",
       "3488      FPT      20061214  23.7097  23.7097  23.7097  23.7097    280710\n",
       "3489      FPT      20061213  22.5807  22.5807  22.5807  22.5807     83530"
      ]
     },
     "execution_count": 28,
     "metadata": {},
     "output_type": "execute_result"
    }
   ],
   "source": [
    "data.tail()"
   ]
  },
  {
   "cell_type": "code",
   "execution_count": 29,
   "metadata": {},
   "outputs": [
    {
     "data": {
      "text/html": [
       "<div>\n",
       "<style scoped>\n",
       "    .dataframe tbody tr th:only-of-type {\n",
       "        vertical-align: middle;\n",
       "    }\n",
       "\n",
       "    .dataframe tbody tr th {\n",
       "        vertical-align: top;\n",
       "    }\n",
       "\n",
       "    .dataframe thead th {\n",
       "        text-align: right;\n",
       "    }\n",
       "</style>\n",
       "<table border=\"1\" class=\"dataframe\">\n",
       "  <thead>\n",
       "    <tr style=\"text-align: right;\">\n",
       "      <th></th>\n",
       "      <th>&lt;Ticker&gt;</th>\n",
       "      <th>&lt;DTYYYYMMDD&gt;</th>\n",
       "      <th>&lt;Open&gt;</th>\n",
       "      <th>&lt;High&gt;</th>\n",
       "      <th>&lt;Low&gt;</th>\n",
       "      <th>&lt;Close&gt;</th>\n",
       "      <th>&lt;Volume&gt;</th>\n",
       "    </tr>\n",
       "  </thead>\n",
       "  <tbody>\n",
       "    <tr>\n",
       "      <th>0</th>\n",
       "      <td>FPT</td>\n",
       "      <td>20201216</td>\n",
       "      <td>57.2</td>\n",
       "      <td>57.5</td>\n",
       "      <td>57.0</td>\n",
       "      <td>57.1</td>\n",
       "      <td>1995530</td>\n",
       "    </tr>\n",
       "    <tr>\n",
       "      <th>1</th>\n",
       "      <td>FPT</td>\n",
       "      <td>20201215</td>\n",
       "      <td>57.5</td>\n",
       "      <td>57.6</td>\n",
       "      <td>56.6</td>\n",
       "      <td>56.7</td>\n",
       "      <td>2666900</td>\n",
       "    </tr>\n",
       "    <tr>\n",
       "      <th>2</th>\n",
       "      <td>FPT</td>\n",
       "      <td>20201214</td>\n",
       "      <td>57.0</td>\n",
       "      <td>58.0</td>\n",
       "      <td>56.9</td>\n",
       "      <td>57.2</td>\n",
       "      <td>1443760</td>\n",
       "    </tr>\n",
       "    <tr>\n",
       "      <th>3</th>\n",
       "      <td>FPT</td>\n",
       "      <td>20201211</td>\n",
       "      <td>56.6</td>\n",
       "      <td>57.0</td>\n",
       "      <td>56.3</td>\n",
       "      <td>57.0</td>\n",
       "      <td>1750270</td>\n",
       "    </tr>\n",
       "    <tr>\n",
       "      <th>4</th>\n",
       "      <td>FPT</td>\n",
       "      <td>20201210</td>\n",
       "      <td>57.0</td>\n",
       "      <td>57.7</td>\n",
       "      <td>56.5</td>\n",
       "      <td>56.5</td>\n",
       "      <td>2112490</td>\n",
       "    </tr>\n",
       "  </tbody>\n",
       "</table>\n",
       "</div>"
      ],
      "text/plain": [
       "  <Ticker>  <DTYYYYMMDD>  <Open>  <High>  <Low>  <Close>  <Volume>\n",
       "0      FPT      20201216    57.2    57.5   57.0     57.1   1995530\n",
       "1      FPT      20201215    57.5    57.6   56.6     56.7   2666900\n",
       "2      FPT      20201214    57.0    58.0   56.9     57.2   1443760\n",
       "3      FPT      20201211    56.6    57.0   56.3     57.0   1750270\n",
       "4      FPT      20201210    57.0    57.7   56.5     56.5   2112490"
      ]
     },
     "execution_count": 29,
     "metadata": {},
     "output_type": "execute_result"
    }
   ],
   "source": [
    "data.head()"
   ]
  },
  {
   "cell_type": "code",
   "execution_count": 30,
   "metadata": {},
   "outputs": [
    {
     "data": {
      "text/plain": [
       "(3490, 7)"
      ]
     },
     "execution_count": 30,
     "metadata": {},
     "output_type": "execute_result"
    }
   ],
   "source": [
    "data.shape"
   ]
  },
  {
   "cell_type": "markdown",
   "metadata": {},
   "source": [
    "- Giá tham chiếu: giá Close ngày hôm trước\n",
    "- Giá Open: giá chốt lệnh lần đầu tiên trong ngày\n",
    "- Giá High: giá khớp lệnh cao nhất trong ngày\n",
    "- Giá Low: giá khớp lệnh thấp nhất trong ngày"
   ]
  },
  {
   "cell_type": "code",
   "execution_count": 31,
   "metadata": {},
   "outputs": [],
   "source": [
    "columns = [i.replace('<', '').replace('>', '') for i in data.columns]"
   ]
  },
  {
   "cell_type": "code",
   "execution_count": 32,
   "metadata": {},
   "outputs": [],
   "source": [
    "data = data.rename(columns = {data.columns[i]: columns[i] for i in range(len(data.columns))})"
   ]
  },
  {
   "cell_type": "code",
   "execution_count": 33,
   "metadata": {},
   "outputs": [],
   "source": [
    "data.index = pd.to_datetime(data['DTYYYYMMDD'], format='%Y%m%d')\n",
    "data.drop(columns=['DTYYYYMMDD', 'Ticker'], inplace=True)\n"
   ]
  },
  {
   "cell_type": "code",
   "execution_count": 34,
   "metadata": {},
   "outputs": [],
   "source": [
    "data = data[['Open', 'High', 'Low', 'Close', 'Volume']]"
   ]
  },
  {
   "cell_type": "markdown",
   "metadata": {},
   "source": [
    "## EDA"
   ]
  },
  {
   "cell_type": "markdown",
   "metadata": {},
   "source": [
    "Chỉ xét các tính chất của chuỗi thời gian là giá trị cổ phiếu đóng cửa (Close)"
   ]
  },
  {
   "cell_type": "code",
   "execution_count": 36,
   "metadata": {},
   "outputs": [],
   "source": [
    "df = data[['Close']]"
   ]
  },
  {
   "cell_type": "markdown",
   "metadata": {},
   "source": [
    "### Time plot"
   ]
  },
  {
   "cell_type": "code",
   "execution_count": 37,
   "metadata": {},
   "outputs": [
    {
     "data": {
      "text/plain": [
       "<matplotlib.axes._subplots.AxesSubplot at 0x20cf7993700>"
      ]
     },
     "execution_count": 37,
     "metadata": {},
     "output_type": "execute_result"
    },
    {
     "data": {
      "image/png": "[encoded data removed]",
      "text/plain": [
       "<Figure size 432x288 with 1 Axes>"
      ]
     },
     "metadata": {
      "needs_background": "light"
     },
     "output_type": "display_data"
    }
   ],
   "source": [
    "df.plot(grid=True)"
   ]
  },
  {
   "cell_type": "markdown",
   "metadata": {},
   "source": [
    "#### Tính trung bình theo năm để thấy xu hướng chung"
   ]
  },
  {
   "cell_type": "code",
   "execution_count": 62,
   "metadata": {},
   "outputs": [
    {
     "data": {
      "text/plain": [
       "<matplotlib.axes._subplots.AxesSubplot at 0x20cf94b9490>"
      ]
     },
     "execution_count": 62,
     "metadata": {},
     "output_type": "execute_result"
    },
    {
     "data": {
      "image/png": "[encoded data removed]",
      "text/plain": [
       "<Figure size 432x288 with 1 Axes>"
      ]
     },
     "metadata": {
      "needs_background": "light"
     },
     "output_type": "display_data"
    }
   ],
   "source": [
    "df.resample('Y').mean().plot()"
   ]
  },
  {
   "cell_type": "markdown",
   "metadata": {},
   "source": [
    "- Nhận xét: Giá đóng cửa có xu hướng giảm và đạt nhỏ nhất vào năm 2008, tăng chậm trở lại trong giai đoạn từ 2010-2016, từ 2017 trở đi có xu hướng tăng, hiện tại đang đạt đỉnh"
   ]
  },
  {
   "cell_type": "markdown",
   "metadata": {},
   "source": [
    "- Giải thích??"
   ]
  },
  {
   "cell_type": "markdown",
   "metadata": {},
   "source": [
    "#### Xét giai đoạn gần đây: 2017 - nay"
   ]
  },
  {
   "cell_type": "code",
   "execution_count": 65,
   "metadata": {},
   "outputs": [],
   "source": [
    "df_new = df.sort_index().loc['20170101':]"
   ]
  },
  {
   "cell_type": "code",
   "execution_count": 53,
   "metadata": {},
   "outputs": [
    {
     "data": {
      "text/plain": [
       "<matplotlib.axes._subplots.AxesSubplot at 0x20cf9331880>"
      ]
     },
     "execution_count": 53,
     "metadata": {},
     "output_type": "execute_result"
    },
    {
     "data": {
      "image/png": "[encoded data removed]",
      "text/plain": [
       "<Figure size 432x288 with 1 Axes>"
      ]
     },
     "metadata": {
      "needs_background": "light"
     },
     "output_type": "display_data"
    }
   ],
   "source": [
    "df_new.plot()"
   ]
  },
  {
   "cell_type": "markdown",
   "metadata": {},
   "source": [
    "- Trending: Nhìn chung có xu hướng tăng, có 2 khoảng thời gian bị giảm bất thường là 07/2018-01/2019 và 01/2020-06/2020"
   ]
  },
  {
   "cell_type": "markdown",
   "metadata": {},
   "source": [
    "- Giải thích???"
   ]
  },
  {
   "cell_type": "markdown",
   "metadata": {},
   "source": [
    "#### Box plot"
   ]
  },
  {
   "cell_type": "code",
   "execution_count": 99,
   "metadata": {},
   "outputs": [
    {
     "data": {
      "text/plain": [
       "Text(0, 0.5, 'Close Prices')"
      ]
     },
     "execution_count": 99,
     "metadata": {},
     "output_type": "execute_result"
    },
    {
     "data": {
      "image/png": "[encoded data removed]",
      "text/plain": [
       "<Figure size 1080x432 with 1 Axes>"
      ]
     },
     "metadata": {
      "needs_background": "light"
     },
     "output_type": "display_data"
    }
   ],
   "source": [
    "fig, ax = plt.subplots(figsize=(15, 6))\n",
    "\n",
    "sns.boxplot(df.index.year, df['Close'])\n",
    "ax.set_title('Year-wise Box Plot\\n(The Trend)', fontsize=10, loc='center')\n",
    "ax.set_xlabel('Year')\n",
    "ax.set_ylabel('Close Prices')\n",
    "\n"
   ]
  },
  {
   "cell_type": "markdown",
   "metadata": {},
   "source": [
    "- Nhận xét: Các năm 2008, 2011, 2016, 2020 có các giá trị bất thường\n",
    "    - 2008: Cao bất thường\n",
    "    - 2011: Cao bất thường, thấp bất thường\n",
    "    - 2016: Cao bất thường\n",
    "    - 2020: Thấp bất thường"
   ]
  },
  {
   "cell_type": "markdown",
   "metadata": {},
   "source": [
    "### Seasonal plot \n",
    "\n",
    "Mục đích: Tìm hiểu xem giá đóng cửa có bị ảnh hưởng bởi yếu tố mùa vụ (seasonal): tháng trong năm, ngày trong tháng, thứ trong tuần hay ko"
   ]
  },
  {
   "cell_type": "markdown",
   "metadata": {},
   "source": [
    "#### Monthly box plot"
   ]
  },
  {
   "cell_type": "code",
   "execution_count": 100,
   "metadata": {},
   "outputs": [
    {
     "data": {
      "text/plain": [
       "Text(0, 0.5, 'Close Prices')"
      ]
     },
     "execution_count": 100,
     "metadata": {},
     "output_type": "execute_result"
    },
    {
     "data": {
      "image/png": "[encoded data removed]",
      "text/plain": [
       "<Figure size 1080x432 with 1 Axes>"
      ]
     },
     "metadata": {
      "needs_background": "light"
     },
     "output_type": "display_data"
    }
   ],
   "source": [
    "fig, ax = plt.subplots(figsize=(15, 6))\n",
    "\n",
    "sns.boxplot(df.index.month, df['Close'])\n",
    "ax.set_title('Month-wise Box Plot\\n(The Seasonality)', fontsize=10, loc='center')\n",
    "ax.set_xlabel('Month')\n",
    "ax.set_ylabel('Close Prices')\n"
   ]
  },
  {
   "cell_type": "markdown",
   "metadata": {},
   "source": [
    "Nhận xét: Giá đóng cửa có dấu hiệu cao bất thường vào tháng 12"
   ]
  },
  {
   "cell_type": "markdown",
   "metadata": {},
   "source": [
    "#### Monthly seasonal line plot"
   ]
  },
  {
   "cell_type": "code",
   "execution_count": 132,
   "metadata": {},
   "outputs": [
    {
     "name": "stdout",
     "output_type": "stream",
     "text": [
      "[2006, 2007, 2008, 2009, 2010, 2011, 2012, 2013, 2014, 2015, 2016, 2017, 2018, 2019, 2020]\n"
     ]
    }
   ],
   "source": [
    "years = sorted(set(df_monthly.index.year))\n",
    "print(years)"
   ]
  },
  {
   "cell_type": "code",
   "execution_count": 133,
   "metadata": {},
   "outputs": [],
   "source": [
    "year_ranges = [[2006, 2007, 2008, 2009, 2010, 2011, 2012, 2013, 2014], [2015, 2016, 2017, 2018, 2019, 2020]]\n",
    "\n",
    "monthly_dfs = [df[df.index.year.isin(i)].groupby(pd.Grouper(freq=\"M\")).mean() for i in year_ranges]"
   ]
  },
  {
   "cell_type": "code",
   "execution_count": 208,
   "metadata": {},
   "outputs": [
    {
     "data": {
      "image/png": "[encoded data removed]",
      "text/plain": [
       "<Figure size 1080x720 with 2 Axes>"
      ]
     },
     "metadata": {
      "needs_background": "light"
     },
     "output_type": "display_data"
    }
   ],
   "source": [
    "fig, ax = plt.subplots(nrows=2, figsize=(15, 10), sharex=True)\n",
    "\n",
    "for i in range(2):\n",
    "    sns.lineplot(monthly_dfs[i].index.month, monthly_dfs[i].Close, hue=monthly_dfs[i].index.year, palette='bright', ax=ax[i])\n",
    "    ax[i].set_title(f'Seasonal plot from {year_ranges[i][0]} to {year_ranges[i][-1]}')\n",
    "    ax[i].set_xlabel('Month')\n",
    "    ax[i].set_ylabel('Close Price')\n",
    "    ax[i].legend(loc='upper right')\n",
    "    ax[i].grid()"
   ]
  },
  {
   "cell_type": "markdown",
   "metadata": {},
   "source": [
    "- Nhận xét: \n",
    "    - Giai đoạn 2006 - 2014:\n",
    "        - Năm 2007 & 2008: bất thường: cao ở đầu năm rồi giảm dần\n",
    "        - Các năm còn lại có xu hướng ổn định\n",
    "        \n",
    "    - Giai đoạn 2015 - 2020:\n",
    "        - 2015 & 2016: xu hướng ổn định\n",
    "        - 2017 & 2019: xu hướng tăng dần về cuối năm\n",
    "        - 2018: Cao ở giữa năm, giảm dần về cuối năm\n",
    "        - 2020: Giảm ở đầu năm, tăng dần về cuối năm"
   ]
  },
  {
   "cell_type": "markdown",
   "metadata": {},
   "source": [
    "### ETS "
   ]
  },
  {
   "cell_type": "code",
   "execution_count": 148,
   "metadata": {},
   "outputs": [],
   "source": [
    "import statsmodels.tsa.seasonal"
   ]
  },
  {
   "cell_type": "code",
   "execution_count": 158,
   "metadata": {},
   "outputs": [],
   "source": [
    "df_monthly = df.groupby(pd.Grouper(freq=\"M\")).mean()"
   ]
  },
  {
   "cell_type": "code",
   "execution_count": 180,
   "metadata": {},
   "outputs": [
    {
     "data": {
      "image/png": "[encoded data removed]",
      "text/plain": [
       "<Figure size 1080x720 with 4 Axes>"
      ]
     },
     "metadata": {
      "needs_background": "light"
     },
     "output_type": "display_data"
    }
   ],
   "source": [
    "plt.rcParams[\"figure.figsize\"] = (15, 10)\n",
    "\n",
    "decomposition = statsmodels.tsa.seasonal.seasonal_decompose(df_monthly)\n",
    "decomposition.plot()\n",
    "plt.show()"
   ]
  },
  {
   "cell_type": "markdown",
   "metadata": {},
   "source": [
    "- Giải thích???"
   ]
  },
  {
   "cell_type": "markdown",
   "metadata": {},
   "source": [
    "## Stationary\n",
    "\n",
    "- Most statistical forecasting methods are designed to work on a stationary time series. The first step in the forecasting process is typically to do some transformation to convert a non-stationary series to stationary. A stationary time series is one whose properties do not depend on the time at which the series is observed.\n",
    "\n"
   ]
  },
  {
   "cell_type": "code",
   "execution_count": 181,
   "metadata": {},
   "outputs": [],
   "source": [
    "from statsmodels.tsa.stattools import adfuller\n"
   ]
  },
  {
   "cell_type": "markdown",
   "metadata": {},
   "source": [
    "#### ADF test"
   ]
  },
  {
   "cell_type": "code",
   "execution_count": 183,
   "metadata": {},
   "outputs": [],
   "source": [
    "def adf_test(series,title=''):\n",
    "    \"\"\"\n",
    "    Pass in a time series and an optional title, returns an ADF report\n",
    "    \"\"\"\n",
    "    print('Augmented Dickey-Fuller Test: {}'.format(title))\n",
    "    result = adfuller(series.dropna(), autolag='AIC') # .dropna() handles differenced data\n",
    "    \n",
    "    labels = ['ADF test statistic','p-value','# lags used','# observations']\n",
    "    out = pd.Series(result[0:4],index=labels)\n",
    "\n",
    "    for key,val in result[4].items():\n",
    "        out['critical value ({})'.format(key)]=val\n",
    "        \n",
    "    print(out.to_string())          # .to_string() removes the line \"dtype: float64\"\n",
    "    \n",
    "    if result[1] <= 0.05:\n",
    "        print(\"Strong evidence against the null hypothesis\")\n",
    "        print(\"Reject the null hypothesis\")\n",
    "        print(\"Data has no unit root and is stationary\")\n",
    "    else:\n",
    "        print(\"Weak evidence against the null hypothesis\")\n",
    "        print(\"Fail to reject the null hypothesis\")\n",
    "        print(\"Data has a unit root and is non-stationary\")"
   ]
  },
  {
   "cell_type": "code",
   "execution_count": 184,
   "metadata": {},
   "outputs": [
    {
     "name": "stdout",
     "output_type": "stream",
     "text": [
      "Augmented Dickey-Fuller Test: \n",
      "ADF test statistic        -2.781529\n",
      "p-value                    0.060961\n",
      "# lags used               23.000000\n",
      "# observations          3466.000000\n",
      "critical value (1%)       -3.432238\n",
      "critical value (5%)       -2.862374\n",
      "critical value (10%)      -2.567214\n",
      "Weak evidence against the null hypothesis\n",
      "Fail to reject the null hypothesis\n",
      "Data has a unit root and is non-stationary\n"
     ]
    }
   ],
   "source": [
    "adf_test(df)"
   ]
  },
  {
   "cell_type": "markdown",
   "metadata": {},
   "source": [
    "- Giải thích??"
   ]
  },
  {
   "cell_type": "markdown",
   "metadata": {},
   "source": [
    "#### KPSS test"
   ]
  },
  {
   "cell_type": "code",
   "execution_count": 186,
   "metadata": {},
   "outputs": [
    {
     "name": "stdout",
     "output_type": "stream",
     "text": [
      "\n",
      "KPSS Statistic: 7.306358378140961\n",
      "P-Value: 0.01\n",
      "Critial Values:\n",
      "   10%, 0.347\n",
      "Critial Values:\n",
      "   5%, 0.463\n",
      "Critial Values:\n",
      "   2.5%, 0.574\n",
      "Critial Values:\n",
      "   1%, 0.739\n"
     ]
    },
    {
     "name": "stderr",
     "output_type": "stream",
     "text": [
      "C:\\Users\\tuantv26\\Anaconda3\\envs\\FundaPython\\lib\\site-packages\\statsmodels\\tsa\\stattools.py:1661: FutureWarning: The behavior of using lags=None will change in the next release. Currently lags=None is the same as lags='legacy', and so a sample-size lag length is used. After the next release, the default will change to be the same as lags='auto' which uses an automatic lag length selection method. To silence this warning, either use 'auto' or 'legacy'\n",
      "  warn(msg, FutureWarning)\n",
      "C:\\Users\\tuantv26\\Anaconda3\\envs\\FundaPython\\lib\\site-packages\\statsmodels\\tsa\\stattools.py:1685: InterpolationWarning: p-value is smaller than the indicated p-value\n",
      "  warn(\"p-value is smaller than the indicated p-value\", InterpolationWarning)\n"
     ]
    }
   ],
   "source": [
    "# KPSS Test\n",
    "result = kpss(df, regression='c')\n",
    "print(\"\\nKPSS Statistic: {}\".format(result[0]))\n",
    "print(\"P-Value: {}\".format(result[1]))\n",
    "for key, value in result[3].items():\n",
    "    print('Critial Values:')\n",
    "    print(\"   {}, {}\".format(key,value))\n"
   ]
  },
  {
   "cell_type": "markdown",
   "metadata": {},
   "source": [
    "- Kết luận?\n",
    "- Giải thích?"
   ]
  },
  {
   "cell_type": "markdown",
   "metadata": {},
   "source": [
    "#### Granger Causality test"
   ]
  },
  {
   "cell_type": "code",
   "execution_count": 188,
   "metadata": {},
   "outputs": [],
   "source": [
    "from statsmodels.tsa.stattools import grangercausalitytests"
   ]
  },
  {
   "cell_type": "code",
   "execution_count": 195,
   "metadata": {},
   "outputs": [
    {
     "name": "stdout",
     "output_type": "stream",
     "text": [
      "\n",
      "Granger Causality\n",
      "number of lags (no zero) 1\n",
      "ssr based F test:         F=8.7645  , p=0.0031  , df_denom=3486, df_num=1\n",
      "ssr based chi2 test:   chi2=8.7720  , p=0.0031  , df=1\n",
      "likelihood ratio test: chi2=8.7610  , p=0.0031  , df=1\n",
      "parameter F test:         F=8.7645  , p=0.0031  , df_denom=3486, df_num=1\n",
      "\n",
      "Granger Causality\n",
      "number of lags (no zero) 2\n",
      "ssr based F test:         F=4.5359  , p=0.0108  , df_denom=3483, df_num=2\n",
      "ssr based chi2 test:   chi2=9.0848  , p=0.0106  , df=2\n",
      "likelihood ratio test: chi2=9.0730  , p=0.0107  , df=2\n",
      "parameter F test:         F=4.5359  , p=0.0108  , df_denom=3483, df_num=2\n",
      "{1: ({'ssr_ftest': (8.764493082798404, 0.003092222536501997, 3486.0, 1), 'ssr_chi2test': (8.77203567581286, 0.0030588386917363495, 1), 'lrtest': (8.761026808429051, 0.0030773574318216524, 1), 'params_ftest': (8.764493942820584, 0.0030922210821053724, 3486.0, 1.0)}, [<statsmodels.regression.linear_model.RegressionResultsWrapper object at 0x0000020CFE512340>, <statsmodels.regression.linear_model.RegressionResultsWrapper object at 0x0000020C80B633D0>, array([[0., 1., 0.]])]), 2: ({'ssr_ftest': (4.535904145027673, 0.010780597558081171, 3483.0, 2), 'ssr_chi2test': (9.084831270661226, 0.010647654611726965, 2), 'lrtest': (9.073020616060603, 0.010710718520432467, 2), 'params_ftest': (4.535904151865938, 0.010780597484550595, 3483.0, 2.0)}, [<statsmodels.regression.linear_model.RegressionResultsWrapper object at 0x0000020CFEF948B0>, <statsmodels.regression.linear_model.RegressionResultsWrapper object at 0x0000020CFEF73220>, array([[0., 0., 1., 0., 0.],\n",
      "       [0., 0., 0., 1., 0.]])])}\n"
     ]
    }
   ],
   "source": [
    "print(grangercausalitytests(data[['Close', 'Volume']], maxlag=2))\n"
   ]
  },
  {
   "cell_type": "markdown",
   "metadata": {},
   "source": [
    "- Giải thích?\n",
    "- Kết luận?"
   ]
  },
  {
   "cell_type": "markdown",
   "metadata": {},
   "source": [
    "## Autocorrelation plot"
   ]
  },
  {
   "cell_type": "code",
   "execution_count": 187,
   "metadata": {},
   "outputs": [],
   "source": [
    "from statsmodels.tsa.stattools import acf\n",
    "from statsmodels.graphics.tsaplots import plot_acf, plot_pacf"
   ]
  },
  {
   "cell_type": "code",
   "execution_count": 196,
   "metadata": {},
   "outputs": [],
   "source": [
    "from pandas.plotting import lag_plot\n"
   ]
  },
  {
   "cell_type": "code",
   "execution_count": 203,
   "metadata": {},
   "outputs": [
    {
     "data": {
      "text/plain": [
       "<matplotlib.axes._subplots.AxesSubplot at 0x20cff027ca0>"
      ]
     },
     "execution_count": 203,
     "metadata": {},
     "output_type": "execute_result"
    },
    {
     "data": {
      "image/png": "[encoded data removed]",
      "text/plain": [
       "<Figure size 432x288 with 1 Axes>"
      ]
     },
     "metadata": {
      "needs_background": "light"
     },
     "output_type": "display_data"
    }
   ],
   "source": [
    "plt.rcParams[\"figure.figsize\"] = (6, 4)\n",
    "\n",
    "lag_plot(df, lag=1)"
   ]
  },
  {
   "cell_type": "code",
   "execution_count": 205,
   "metadata": {},
   "outputs": [
    {
     "data": {
      "image/png": "[encoded data removed]",
      "text/plain": [
       "<Figure size 1080x432 with 2 Axes>"
      ]
     },
     "metadata": {
      "needs_background": "light"
     },
     "output_type": "display_data"
    }
   ],
   "source": [
    "fig, ax = plt.subplots(nrows=1, ncols=2, figsize=(15, 6))\n",
    "plot_acf(df, lags=60, ax=ax[0])\n",
    "plot_pacf(df, lags=60, ax=ax[1])\n"
   ]
  },
  {
   "cell_type": "code",
   "execution_count": 206,
   "metadata": {},
   "outputs": [],
   "source": [
    "from pandas.plotting import autocorrelation_plot\n"
   ]
  },
  {
   "cell_type": "code",
   "execution_count": 207,
   "metadata": {},
   "outputs": [
    {
     "data": {
      "text/plain": [
       "<matplotlib.axes._subplots.AxesSubplot at 0x20c80e1c0d0>"
      ]
     },
     "execution_count": 207,
     "metadata": {},
     "output_type": "execute_result"
    },
    {
     "data": {
      "image/png": "[encoded data removed]",
      "text/plain": [
       "<Figure size 432x288 with 1 Axes>"
      ]
     },
     "metadata": {
      "needs_background": "light"
     },
     "output_type": "display_data"
    }
   ],
   "source": [
    "autocorrelation_plot(df)"
   ]
  },
  {
   "cell_type": "markdown",
   "metadata": {},
   "source": [
    "- Giải thích?\n",
    "- Kết luận?"
   ]
  },
  {
   "cell_type": "markdown",
   "metadata": {},
   "source": [
    "## Moving Average"
   ]
  },
  {
   "cell_type": "markdown",
   "metadata": {},
   "source": [
    "Moving average is the estimation of the trend-cycle at time t, and is obtained by averaging the values of the time series within k periods of t. Observations that are nearby in time are also likely to be close in value. Therefore, the average eliminates some of the randomness in the data, leaving a smooth trend-cycle component.\n",
    "\n",
    "- The basic SMA has some weaknesses:\n",
    "    - Smaller windows will lead to more noise, rather than signal.\n",
    "    - It will always lag by the size of the window.\n",
    "    - It will never reach the full peak or valley of the data due to the averaging.\n",
    "    - It does not really inform you about possible future behavior, all it really does is describe trends in your data.\n",
    "    - Extreme historical values can skew SMA significantly.\n"
   ]
  },
  {
   "cell_type": "markdown",
   "metadata": {},
   "source": [
    "#### Simple Moving Average"
   ]
  },
  {
   "cell_type": "code",
   "execution_count": 218,
   "metadata": {},
   "outputs": [],
   "source": [
    "df = df[['Close']]"
   ]
  },
  {
   "cell_type": "code",
   "execution_count": 220,
   "metadata": {},
   "outputs": [
    {
     "data": {
      "text/plain": [
       "<matplotlib.axes._subplots.AxesSubplot at 0x20c86edfb50>"
      ]
     },
     "execution_count": 220,
     "metadata": {},
     "output_type": "execute_result"
    },
    {
     "data": {
      "image/png": "[encoded data removed]",
      "text/plain": [
       "<Figure size 432x288 with 1 Axes>"
      ]
     },
     "metadata": {
      "needs_background": "light"
     },
     "output_type": "display_data"
    }
   ],
   "source": [
    "lag = 50\n",
    "df.rolling(lag).mean().plot()"
   ]
  },
  {
   "cell_type": "markdown",
   "metadata": {},
   "source": [
    "- Nhận xét?"
   ]
  },
  {
   "cell_type": "markdown",
   "metadata": {},
   "source": [
    "#### EWMA"
   ]
  },
  {
   "cell_type": "code",
   "execution_count": 212,
   "metadata": {},
   "outputs": [],
   "source": [
    "from statsmodels.tsa.holtwinters import SimpleExpSmoothing\n"
   ]
  },
  {
   "cell_type": "markdown",
   "metadata": {},
   "source": [
    "#### Double and Triple Exponential Smoothing"
   ]
  },
  {
   "cell_type": "code",
   "execution_count": 213,
   "metadata": {},
   "outputs": [],
   "source": [
    "from statsmodels.tsa.holtwinters import ExponentialSmoothing\n"
   ]
  },
  {
   "cell_type": "code",
   "execution_count": 215,
   "metadata": {},
   "outputs": [
    {
     "name": "stderr",
     "output_type": "stream",
     "text": [
      "C:\\Users\\tuantv26\\Anaconda3\\envs\\FundaPython\\lib\\site-packages\\statsmodels\\tsa\\base\\tsa_model.py:216: ValueWarning: A date index has been provided, but it has no associated frequency information and so will be ignored when e.g. forecasting.\n",
      "  warnings.warn('A date index has been provided, but it has no'\n",
      "C:\\Users\\tuantv26\\Anaconda3\\envs\\FundaPython\\lib\\site-packages\\statsmodels\\tsa\\base\\tsa_model.py:220: ValueWarning: A date index has been provided, but it is not monotonic and so will be ignored when e.g. forecasting.\n",
      "  warnings.warn('A date index has been provided, but it is not'\n",
      "C:\\Users\\tuantv26\\Anaconda3\\envs\\FundaPython\\lib\\site-packages\\statsmodels\\tsa\\base\\tsa_model.py:216: ValueWarning: A date index has been provided, but it has no associated frequency information and so will be ignored when e.g. forecasting.\n",
      "  warnings.warn('A date index has been provided, but it has no'\n",
      "C:\\Users\\tuantv26\\Anaconda3\\envs\\FundaPython\\lib\\site-packages\\statsmodels\\tsa\\base\\tsa_model.py:220: ValueWarning: A date index has been provided, but it is not monotonic and so will be ignored when e.g. forecasting.\n",
      "  warnings.warn('A date index has been provided, but it is not'\n",
      "C:\\Users\\tuantv26\\Anaconda3\\envs\\FundaPython\\lib\\site-packages\\statsmodels\\tsa\\holtwinters.py:743: ConvergenceWarning: Optimization failed to converge. Check mle_retvals.\n",
      "  warn(\"Optimization failed to converge. Check mle_retvals.\",\n"
     ]
    },
    {
     "data": {
      "text/plain": [
       "<matplotlib.axes._subplots.AxesSubplot at 0x20cff4ae880>"
      ]
     },
     "execution_count": 215,
     "metadata": {},
     "output_type": "execute_result"
    },
    {
     "data": {
      "image/png": "[encoded data removed]",
      "text/plain": [
       "<Figure size 1080x432 with 1 Axes>"
      ]
     },
     "metadata": {
      "needs_background": "light"
     },
     "output_type": "display_data"
    }
   ],
   "source": [
    "df['double_exp_sm'] = ExponentialSmoothing(df['Close'], trend='add').fit().fittedvalues.shift(-1)\n",
    "df['triple_exp_sm'] = ExponentialSmoothing(df['Close'], trend='add',seasonal='add', seasonal_periods=12).fit().fittedvalues.shift(-1)\n",
    "df[['Close', 'double_exp_sm', 'triple_exp_sm']].plot(figsize=(15,6))\n"
   ]
  },
  {
   "cell_type": "markdown",
   "metadata": {},
   "source": [
    "Use 2019-2020 range"
   ]
  },
  {
   "cell_type": "code",
   "execution_count": 14,
   "metadata": {},
   "outputs": [],
   "source": [
    "df = data[data.index.year.isin([2019, 2020])]\n"
   ]
  },
  {
   "cell_type": "code",
   "execution_count": 15,
   "metadata": {},
   "outputs": [
    {
     "data": {
      "text/plain": [
       "<matplotlib.axes._subplots.AxesSubplot at 0x20cf77bf0d0>"
      ]
     },
     "execution_count": 15,
     "metadata": {},
     "output_type": "execute_result"
    },
    {
     "data": {
      "image/png": "[encoded data removed]",
      "text/plain": [
       "<Figure size 432x288 with 1 Axes>"
      ]
     },
     "metadata": {
      "needs_background": "light"
     },
     "output_type": "display_data"
    }
   ],
   "source": [
    "df[['Close']].plot()"
   ]
  },
  {
   "cell_type": "markdown",
   "metadata": {},
   "source": [
    "Datetime processing"
   ]
  },
  {
   "cell_type": "code",
   "execution_count": 31,
   "metadata": {},
   "outputs": [
    {
     "data": {
      "text/html": [
       "<div>\n",
       "<style scoped>\n",
       "    .dataframe tbody tr th:only-of-type {\n",
       "        vertical-align: middle;\n",
       "    }\n",
       "\n",
       "    .dataframe tbody tr th {\n",
       "        vertical-align: top;\n",
       "    }\n",
       "\n",
       "    .dataframe thead th {\n",
       "        text-align: right;\n",
       "    }\n",
       "</style>\n",
       "<table border=\"1\" class=\"dataframe\">\n",
       "  <thead>\n",
       "    <tr style=\"text-align: right;\">\n",
       "      <th></th>\n",
       "      <th>Open</th>\n",
       "      <th>High</th>\n",
       "      <th>Low</th>\n",
       "      <th>Close</th>\n",
       "      <th>Volume</th>\n",
       "    </tr>\n",
       "    <tr>\n",
       "      <th>DTYYYYMMDD</th>\n",
       "      <th></th>\n",
       "      <th></th>\n",
       "      <th></th>\n",
       "      <th></th>\n",
       "      <th></th>\n",
       "    </tr>\n",
       "  </thead>\n",
       "  <tbody>\n",
       "    <tr>\n",
       "      <th>2019-01-02</th>\n",
       "      <td>101.2</td>\n",
       "      <td>101.3</td>\n",
       "      <td>97.5</td>\n",
       "      <td>100.4</td>\n",
       "      <td>602450</td>\n",
       "    </tr>\n",
       "    <tr>\n",
       "      <th>2019-01-03</th>\n",
       "      <td>100.0</td>\n",
       "      <td>100.3</td>\n",
       "      <td>98.2</td>\n",
       "      <td>100.3</td>\n",
       "      <td>496950</td>\n",
       "    </tr>\n",
       "    <tr>\n",
       "      <th>2019-01-04</th>\n",
       "      <td>100.0</td>\n",
       "      <td>100.7</td>\n",
       "      <td>98.0</td>\n",
       "      <td>100.6</td>\n",
       "      <td>458000</td>\n",
       "    </tr>\n",
       "    <tr>\n",
       "      <th>2019-01-07</th>\n",
       "      <td>100.9</td>\n",
       "      <td>103.0</td>\n",
       "      <td>99.9</td>\n",
       "      <td>101.0</td>\n",
       "      <td>589150</td>\n",
       "    </tr>\n",
       "    <tr>\n",
       "      <th>2019-01-08</th>\n",
       "      <td>102.0</td>\n",
       "      <td>102.0</td>\n",
       "      <td>99.7</td>\n",
       "      <td>101.0</td>\n",
       "      <td>494300</td>\n",
       "    </tr>\n",
       "  </tbody>\n",
       "</table>\n",
       "</div>"
      ],
      "text/plain": [
       "             Open   High   Low  Close  Volume\n",
       "DTYYYYMMDD                                   \n",
       "2019-01-02  101.2  101.3  97.5  100.4  602450\n",
       "2019-01-03  100.0  100.3  98.2  100.3  496950\n",
       "2019-01-04  100.0  100.7  98.0  100.6  458000\n",
       "2019-01-07  100.9  103.0  99.9  101.0  589150\n",
       "2019-01-08  102.0  102.0  99.7  101.0  494300"
      ]
     },
     "execution_count": 31,
     "metadata": {},
     "output_type": "execute_result"
    }
   ],
   "source": [
    "df = df.sort_index()\n",
    "df.head()"
   ]
  },
  {
   "cell_type": "code",
   "execution_count": 32,
   "metadata": {},
   "outputs": [],
   "source": [
    "df['date'] = df.index\n",
    "# df['hour'] = df['date'].dt.hour\n",
    "df['dayofweek'] = df['date'].dt.dayofweek\n",
    "df['quarter'] = df['date'].dt.quarter\n",
    "df['month'] = df['date'].dt.month\n",
    "df['year'] = df['date'].dt.year\n",
    "df['dayofyear'] = df['date'].dt.dayofyear\n",
    "df['dayofmonth'] = df['date'].dt.day\n",
    "df['weekofyear'] = df['date'].dt.weekofyear\n",
    "df.drop(columns=['date'], inplace=True)"
   ]
  },
  {
   "cell_type": "markdown",
   "metadata": {},
   "source": [
    "Moving average"
   ]
  },
  {
   "cell_type": "code",
   "execution_count": 33,
   "metadata": {},
   "outputs": [],
   "source": [
    "ma_day = [10, 20, 50]\n",
    "\n",
    "for ma in ma_day:\n",
    "    column_name = f\"MA for {ma} days\"\n",
    "    df[column_name] = df['Close'].rolling(ma).mean()\n"
   ]
  },
  {
   "cell_type": "code",
   "execution_count": 34,
   "metadata": {},
   "outputs": [
    {
     "data": {
      "text/plain": [
       "<matplotlib.axes._subplots.AxesSubplot at 0x1ec94ffc130>"
      ]
     },
     "execution_count": 34,
     "metadata": {},
     "output_type": "execute_result"
    },
    {
     "data": {
      "image/png": "[encoded data removed]",
      "text/plain": [
       "<Figure size 432x288 with 1 Axes>"
      ]
     },
     "metadata": {
      "needs_background": "light"
     },
     "output_type": "display_data"
    }
   ],
   "source": [
    "df[['MA for 10 days', 'MA for 20 days', 'MA for 50 days']].plot()"
   ]
  },
  {
   "cell_type": "markdown",
   "metadata": {},
   "source": [
    "Shifting values"
   ]
  },
  {
   "cell_type": "code",
   "execution_count": 35,
   "metadata": {},
   "outputs": [],
   "source": [
    "cols = ['Open', 'High', 'Low', 'Close', 'Volume']"
   ]
  },
  {
   "cell_type": "code",
   "execution_count": 36,
   "metadata": {},
   "outputs": [],
   "source": [
    "for col in cols:\n",
    "    for i in range(1, 8):\n",
    "        df[f'{col}_{i}'] = df[col].shift(i)"
   ]
  },
  {
   "cell_type": "markdown",
   "metadata": {},
   "source": [
    "Set the High_Low limit\n",
    "\n",
    "`lowerbound = 0.93 * Close_1`\n",
    "\n",
    "`upperbound = 1.07 * Close_1`"
   ]
  },
  {
   "cell_type": "code",
   "execution_count": 37,
   "metadata": {},
   "outputs": [],
   "source": [
    "df['lowerbound'] = 0.93 * df['Close_1']\n",
    "df['upperbound'] = 1.07 * df['Close_1']"
   ]
  },
  {
   "cell_type": "code",
   "execution_count": 38,
   "metadata": {},
   "outputs": [],
   "source": [
    "df.dropna(how='any', inplace=True)"
   ]
  },
  {
   "cell_type": "code",
   "execution_count": 39,
   "metadata": {},
   "outputs": [
    {
     "data": {
      "text/html": [
       "<div>\n",
       "<style scoped>\n",
       "    .dataframe tbody tr th:only-of-type {\n",
       "        vertical-align: middle;\n",
       "    }\n",
       "\n",
       "    .dataframe tbody tr th {\n",
       "        vertical-align: top;\n",
       "    }\n",
       "\n",
       "    .dataframe thead th {\n",
       "        text-align: right;\n",
       "    }\n",
       "</style>\n",
       "<table border=\"1\" class=\"dataframe\">\n",
       "  <thead>\n",
       "    <tr style=\"text-align: right;\">\n",
       "      <th></th>\n",
       "      <th>Open</th>\n",
       "      <th>High</th>\n",
       "      <th>Low</th>\n",
       "      <th>Close</th>\n",
       "      <th>Volume</th>\n",
       "      <th>dayofweek</th>\n",
       "      <th>quarter</th>\n",
       "      <th>month</th>\n",
       "      <th>year</th>\n",
       "      <th>dayofyear</th>\n",
       "      <th>dayofmonth</th>\n",
       "      <th>weekofyear</th>\n",
       "      <th>MA for 10 days</th>\n",
       "      <th>MA for 20 days</th>\n",
       "      <th>MA for 50 days</th>\n",
       "      <th>Open_1</th>\n",
       "      <th>Open_2</th>\n",
       "      <th>Open_3</th>\n",
       "      <th>Open_4</th>\n",
       "      <th>Open_5</th>\n",
       "      <th>Open_6</th>\n",
       "      <th>Open_7</th>\n",
       "      <th>High_1</th>\n",
       "      <th>High_2</th>\n",
       "      <th>High_3</th>\n",
       "      <th>High_4</th>\n",
       "      <th>High_5</th>\n",
       "      <th>High_6</th>\n",
       "      <th>High_7</th>\n",
       "      <th>Low_1</th>\n",
       "      <th>Low_2</th>\n",
       "      <th>Low_3</th>\n",
       "      <th>Low_4</th>\n",
       "      <th>Low_5</th>\n",
       "      <th>Low_6</th>\n",
       "      <th>Low_7</th>\n",
       "      <th>Close_1</th>\n",
       "      <th>Close_2</th>\n",
       "      <th>Close_3</th>\n",
       "      <th>Close_4</th>\n",
       "      <th>Close_5</th>\n",
       "      <th>Close_6</th>\n",
       "      <th>Close_7</th>\n",
       "      <th>Volume_1</th>\n",
       "      <th>Volume_2</th>\n",
       "      <th>Volume_3</th>\n",
       "      <th>Volume_4</th>\n",
       "      <th>Volume_5</th>\n",
       "      <th>Volume_6</th>\n",
       "      <th>Volume_7</th>\n",
       "      <th>lowerbound</th>\n",
       "      <th>upperbound</th>\n",
       "    </tr>\n",
       "    <tr>\n",
       "      <th>DTYYYYMMDD</th>\n",
       "      <th></th>\n",
       "      <th></th>\n",
       "      <th></th>\n",
       "      <th></th>\n",
       "      <th></th>\n",
       "      <th></th>\n",
       "      <th></th>\n",
       "      <th></th>\n",
       "      <th></th>\n",
       "      <th></th>\n",
       "      <th></th>\n",
       "      <th></th>\n",
       "      <th></th>\n",
       "      <th></th>\n",
       "      <th></th>\n",
       "      <th></th>\n",
       "      <th></th>\n",
       "      <th></th>\n",
       "      <th></th>\n",
       "      <th></th>\n",
       "      <th></th>\n",
       "      <th></th>\n",
       "      <th></th>\n",
       "      <th></th>\n",
       "      <th></th>\n",
       "      <th></th>\n",
       "      <th></th>\n",
       "      <th></th>\n",
       "      <th></th>\n",
       "      <th></th>\n",
       "      <th></th>\n",
       "      <th></th>\n",
       "      <th></th>\n",
       "      <th></th>\n",
       "      <th></th>\n",
       "      <th></th>\n",
       "      <th></th>\n",
       "      <th></th>\n",
       "      <th></th>\n",
       "      <th></th>\n",
       "      <th></th>\n",
       "      <th></th>\n",
       "      <th></th>\n",
       "      <th></th>\n",
       "      <th></th>\n",
       "      <th></th>\n",
       "      <th></th>\n",
       "      <th></th>\n",
       "      <th></th>\n",
       "      <th></th>\n",
       "      <th></th>\n",
       "      <th></th>\n",
       "    </tr>\n",
       "  </thead>\n",
       "  <tbody>\n",
       "    <tr>\n",
       "      <th>2020-12-14</th>\n",
       "      <td>106.7</td>\n",
       "      <td>108.9</td>\n",
       "      <td>105.5</td>\n",
       "      <td>108.9</td>\n",
       "      <td>1122380</td>\n",
       "      <td>0</td>\n",
       "      <td>4</td>\n",
       "      <td>12</td>\n",
       "      <td>2020</td>\n",
       "      <td>349</td>\n",
       "      <td>14</td>\n",
       "      <td>51</td>\n",
       "      <td>105.90</td>\n",
       "      <td>105.315</td>\n",
       "      <td>102.548</td>\n",
       "      <td>104.9</td>\n",
       "      <td>106.0</td>\n",
       "      <td>105.0</td>\n",
       "      <td>105.8</td>\n",
       "      <td>106.0</td>\n",
       "      <td>105.8</td>\n",
       "      <td>105.0</td>\n",
       "      <td>106.8</td>\n",
       "      <td>107.0</td>\n",
       "      <td>106.0</td>\n",
       "      <td>105.8</td>\n",
       "      <td>106.0</td>\n",
       "      <td>106.5</td>\n",
       "      <td>105.8</td>\n",
       "      <td>104.9</td>\n",
       "      <td>104.9</td>\n",
       "      <td>104.4</td>\n",
       "      <td>104.8</td>\n",
       "      <td>105.1</td>\n",
       "      <td>104.5</td>\n",
       "      <td>104.3</td>\n",
       "      <td>106.8</td>\n",
       "      <td>104.9</td>\n",
       "      <td>106.0</td>\n",
       "      <td>105.0</td>\n",
       "      <td>105.8</td>\n",
       "      <td>105.8</td>\n",
       "      <td>105.8</td>\n",
       "      <td>569360.0</td>\n",
       "      <td>979550.0</td>\n",
       "      <td>789790.0</td>\n",
       "      <td>747280.0</td>\n",
       "      <td>678660.0</td>\n",
       "      <td>797060.0</td>\n",
       "      <td>731750.0</td>\n",
       "      <td>99.324</td>\n",
       "      <td>114.276</td>\n",
       "    </tr>\n",
       "    <tr>\n",
       "      <th>2020-12-15</th>\n",
       "      <td>108.9</td>\n",
       "      <td>108.9</td>\n",
       "      <td>106.7</td>\n",
       "      <td>107.0</td>\n",
       "      <td>1205700</td>\n",
       "      <td>1</td>\n",
       "      <td>4</td>\n",
       "      <td>12</td>\n",
       "      <td>2020</td>\n",
       "      <td>350</td>\n",
       "      <td>15</td>\n",
       "      <td>51</td>\n",
       "      <td>106.10</td>\n",
       "      <td>105.365</td>\n",
       "      <td>102.852</td>\n",
       "      <td>106.7</td>\n",
       "      <td>104.9</td>\n",
       "      <td>106.0</td>\n",
       "      <td>105.0</td>\n",
       "      <td>105.8</td>\n",
       "      <td>106.0</td>\n",
       "      <td>105.8</td>\n",
       "      <td>108.9</td>\n",
       "      <td>106.8</td>\n",
       "      <td>107.0</td>\n",
       "      <td>106.0</td>\n",
       "      <td>105.8</td>\n",
       "      <td>106.0</td>\n",
       "      <td>106.5</td>\n",
       "      <td>105.5</td>\n",
       "      <td>104.9</td>\n",
       "      <td>104.9</td>\n",
       "      <td>104.4</td>\n",
       "      <td>104.8</td>\n",
       "      <td>105.1</td>\n",
       "      <td>104.5</td>\n",
       "      <td>108.9</td>\n",
       "      <td>106.8</td>\n",
       "      <td>104.9</td>\n",
       "      <td>106.0</td>\n",
       "      <td>105.0</td>\n",
       "      <td>105.8</td>\n",
       "      <td>105.8</td>\n",
       "      <td>1122380.0</td>\n",
       "      <td>569360.0</td>\n",
       "      <td>979550.0</td>\n",
       "      <td>789790.0</td>\n",
       "      <td>747280.0</td>\n",
       "      <td>678660.0</td>\n",
       "      <td>797060.0</td>\n",
       "      <td>101.277</td>\n",
       "      <td>116.523</td>\n",
       "    </tr>\n",
       "    <tr>\n",
       "      <th>2020-12-16</th>\n",
       "      <td>106.8</td>\n",
       "      <td>107.1</td>\n",
       "      <td>105.9</td>\n",
       "      <td>107.0</td>\n",
       "      <td>756200</td>\n",
       "      <td>2</td>\n",
       "      <td>4</td>\n",
       "      <td>12</td>\n",
       "      <td>2020</td>\n",
       "      <td>351</td>\n",
       "      <td>16</td>\n",
       "      <td>51</td>\n",
       "      <td>106.30</td>\n",
       "      <td>105.470</td>\n",
       "      <td>103.142</td>\n",
       "      <td>108.9</td>\n",
       "      <td>106.7</td>\n",
       "      <td>104.9</td>\n",
       "      <td>106.0</td>\n",
       "      <td>105.0</td>\n",
       "      <td>105.8</td>\n",
       "      <td>106.0</td>\n",
       "      <td>108.9</td>\n",
       "      <td>108.9</td>\n",
       "      <td>106.8</td>\n",
       "      <td>107.0</td>\n",
       "      <td>106.0</td>\n",
       "      <td>105.8</td>\n",
       "      <td>106.0</td>\n",
       "      <td>106.7</td>\n",
       "      <td>105.5</td>\n",
       "      <td>104.9</td>\n",
       "      <td>104.9</td>\n",
       "      <td>104.4</td>\n",
       "      <td>104.8</td>\n",
       "      <td>105.1</td>\n",
       "      <td>107.0</td>\n",
       "      <td>108.9</td>\n",
       "      <td>106.8</td>\n",
       "      <td>104.9</td>\n",
       "      <td>106.0</td>\n",
       "      <td>105.0</td>\n",
       "      <td>105.8</td>\n",
       "      <td>1205700.0</td>\n",
       "      <td>1122380.0</td>\n",
       "      <td>569360.0</td>\n",
       "      <td>979550.0</td>\n",
       "      <td>789790.0</td>\n",
       "      <td>747280.0</td>\n",
       "      <td>678660.0</td>\n",
       "      <td>99.510</td>\n",
       "      <td>114.490</td>\n",
       "    </tr>\n",
       "    <tr>\n",
       "      <th>2020-12-17</th>\n",
       "      <td>107.0</td>\n",
       "      <td>107.0</td>\n",
       "      <td>104.6</td>\n",
       "      <td>104.7</td>\n",
       "      <td>1352580</td>\n",
       "      <td>3</td>\n",
       "      <td>4</td>\n",
       "      <td>12</td>\n",
       "      <td>2020</td>\n",
       "      <td>352</td>\n",
       "      <td>17</td>\n",
       "      <td>51</td>\n",
       "      <td>106.19</td>\n",
       "      <td>105.505</td>\n",
       "      <td>103.390</td>\n",
       "      <td>106.8</td>\n",
       "      <td>108.9</td>\n",
       "      <td>106.7</td>\n",
       "      <td>104.9</td>\n",
       "      <td>106.0</td>\n",
       "      <td>105.0</td>\n",
       "      <td>105.8</td>\n",
       "      <td>107.1</td>\n",
       "      <td>108.9</td>\n",
       "      <td>108.9</td>\n",
       "      <td>106.8</td>\n",
       "      <td>107.0</td>\n",
       "      <td>106.0</td>\n",
       "      <td>105.8</td>\n",
       "      <td>105.9</td>\n",
       "      <td>106.7</td>\n",
       "      <td>105.5</td>\n",
       "      <td>104.9</td>\n",
       "      <td>104.9</td>\n",
       "      <td>104.4</td>\n",
       "      <td>104.8</td>\n",
       "      <td>107.0</td>\n",
       "      <td>107.0</td>\n",
       "      <td>108.9</td>\n",
       "      <td>106.8</td>\n",
       "      <td>104.9</td>\n",
       "      <td>106.0</td>\n",
       "      <td>105.0</td>\n",
       "      <td>756200.0</td>\n",
       "      <td>1205700.0</td>\n",
       "      <td>1122380.0</td>\n",
       "      <td>569360.0</td>\n",
       "      <td>979550.0</td>\n",
       "      <td>789790.0</td>\n",
       "      <td>747280.0</td>\n",
       "      <td>99.510</td>\n",
       "      <td>114.490</td>\n",
       "    </tr>\n",
       "    <tr>\n",
       "      <th>2020-12-18</th>\n",
       "      <td>104.7</td>\n",
       "      <td>106.1</td>\n",
       "      <td>104.5</td>\n",
       "      <td>104.7</td>\n",
       "      <td>1350780</td>\n",
       "      <td>4</td>\n",
       "      <td>4</td>\n",
       "      <td>12</td>\n",
       "      <td>2020</td>\n",
       "      <td>353</td>\n",
       "      <td>18</td>\n",
       "      <td>51</td>\n",
       "      <td>106.08</td>\n",
       "      <td>105.550</td>\n",
       "      <td>103.612</td>\n",
       "      <td>107.0</td>\n",
       "      <td>106.8</td>\n",
       "      <td>108.9</td>\n",
       "      <td>106.7</td>\n",
       "      <td>104.9</td>\n",
       "      <td>106.0</td>\n",
       "      <td>105.0</td>\n",
       "      <td>107.0</td>\n",
       "      <td>107.1</td>\n",
       "      <td>108.9</td>\n",
       "      <td>108.9</td>\n",
       "      <td>106.8</td>\n",
       "      <td>107.0</td>\n",
       "      <td>106.0</td>\n",
       "      <td>104.6</td>\n",
       "      <td>105.9</td>\n",
       "      <td>106.7</td>\n",
       "      <td>105.5</td>\n",
       "      <td>104.9</td>\n",
       "      <td>104.9</td>\n",
       "      <td>104.4</td>\n",
       "      <td>104.7</td>\n",
       "      <td>107.0</td>\n",
       "      <td>107.0</td>\n",
       "      <td>108.9</td>\n",
       "      <td>106.8</td>\n",
       "      <td>104.9</td>\n",
       "      <td>106.0</td>\n",
       "      <td>1352580.0</td>\n",
       "      <td>756200.0</td>\n",
       "      <td>1205700.0</td>\n",
       "      <td>1122380.0</td>\n",
       "      <td>569360.0</td>\n",
       "      <td>979550.0</td>\n",
       "      <td>789790.0</td>\n",
       "      <td>97.371</td>\n",
       "      <td>112.029</td>\n",
       "    </tr>\n",
       "  </tbody>\n",
       "</table>\n",
       "</div>"
      ],
      "text/plain": [
       "             Open   High    Low  Close   Volume  dayofweek  quarter  month  \\\n",
       "DTYYYYMMDD                                                                   \n",
       "2020-12-14  106.7  108.9  105.5  108.9  1122380          0        4     12   \n",
       "2020-12-15  108.9  108.9  106.7  107.0  1205700          1        4     12   \n",
       "2020-12-16  106.8  107.1  105.9  107.0   756200          2        4     12   \n",
       "2020-12-17  107.0  107.0  104.6  104.7  1352580          3        4     12   \n",
       "2020-12-18  104.7  106.1  104.5  104.7  1350780          4        4     12   \n",
       "\n",
       "            year  dayofyear  dayofmonth  weekofyear  MA for 10 days  \\\n",
       "DTYYYYMMDD                                                            \n",
       "2020-12-14  2020        349          14          51          105.90   \n",
       "2020-12-15  2020        350          15          51          106.10   \n",
       "2020-12-16  2020        351          16          51          106.30   \n",
       "2020-12-17  2020        352          17          51          106.19   \n",
       "2020-12-18  2020        353          18          51          106.08   \n",
       "\n",
       "            MA for 20 days  MA for 50 days  Open_1  Open_2  Open_3  Open_4  \\\n",
       "DTYYYYMMDD                                                                   \n",
       "2020-12-14         105.315         102.548   104.9   106.0   105.0   105.8   \n",
       "2020-12-15         105.365         102.852   106.7   104.9   106.0   105.0   \n",
       "2020-12-16         105.470         103.142   108.9   106.7   104.9   106.0   \n",
       "2020-12-17         105.505         103.390   106.8   108.9   106.7   104.9   \n",
       "2020-12-18         105.550         103.612   107.0   106.8   108.9   106.7   \n",
       "\n",
       "            Open_5  Open_6  Open_7  High_1  High_2  High_3  High_4  High_5  \\\n",
       "DTYYYYMMDD                                                                   \n",
       "2020-12-14   106.0   105.8   105.0   106.8   107.0   106.0   105.8   106.0   \n",
       "2020-12-15   105.8   106.0   105.8   108.9   106.8   107.0   106.0   105.8   \n",
       "2020-12-16   105.0   105.8   106.0   108.9   108.9   106.8   107.0   106.0   \n",
       "2020-12-17   106.0   105.0   105.8   107.1   108.9   108.9   106.8   107.0   \n",
       "2020-12-18   104.9   106.0   105.0   107.0   107.1   108.9   108.9   106.8   \n",
       "\n",
       "            High_6  High_7  Low_1  Low_2  Low_3  Low_4  Low_5  Low_6  Low_7  \\\n",
       "DTYYYYMMDD                                                                    \n",
       "2020-12-14   106.5   105.8  104.9  104.9  104.4  104.8  105.1  104.5  104.3   \n",
       "2020-12-15   106.0   106.5  105.5  104.9  104.9  104.4  104.8  105.1  104.5   \n",
       "2020-12-16   105.8   106.0  106.7  105.5  104.9  104.9  104.4  104.8  105.1   \n",
       "2020-12-17   106.0   105.8  105.9  106.7  105.5  104.9  104.9  104.4  104.8   \n",
       "2020-12-18   107.0   106.0  104.6  105.9  106.7  105.5  104.9  104.9  104.4   \n",
       "\n",
       "            Close_1  Close_2  Close_3  Close_4  Close_5  Close_6  Close_7  \\\n",
       "DTYYYYMMDD                                                                  \n",
       "2020-12-14    106.8    104.9    106.0    105.0    105.8    105.8    105.8   \n",
       "2020-12-15    108.9    106.8    104.9    106.0    105.0    105.8    105.8   \n",
       "2020-12-16    107.0    108.9    106.8    104.9    106.0    105.0    105.8   \n",
       "2020-12-17    107.0    107.0    108.9    106.8    104.9    106.0    105.0   \n",
       "2020-12-18    104.7    107.0    107.0    108.9    106.8    104.9    106.0   \n",
       "\n",
       "             Volume_1   Volume_2   Volume_3   Volume_4  Volume_5  Volume_6  \\\n",
       "DTYYYYMMDD                                                                   \n",
       "2020-12-14   569360.0   979550.0   789790.0   747280.0  678660.0  797060.0   \n",
       "2020-12-15  1122380.0   569360.0   979550.0   789790.0  747280.0  678660.0   \n",
       "2020-12-16  1205700.0  1122380.0   569360.0   979550.0  789790.0  747280.0   \n",
       "2020-12-17   756200.0  1205700.0  1122380.0   569360.0  979550.0  789790.0   \n",
       "2020-12-18  1352580.0   756200.0  1205700.0  1122380.0  569360.0  979550.0   \n",
       "\n",
       "            Volume_7  lowerbound  upperbound  \n",
       "DTYYYYMMDD                                    \n",
       "2020-12-14  731750.0      99.324     114.276  \n",
       "2020-12-15  797060.0     101.277     116.523  \n",
       "2020-12-16  678660.0      99.510     114.490  \n",
       "2020-12-17  747280.0      99.510     114.490  \n",
       "2020-12-18  789790.0      97.371     112.029  "
      ]
     },
     "execution_count": 39,
     "metadata": {},
     "output_type": "execute_result"
    }
   ],
   "source": [
    "df.tail()"
   ]
  },
  {
   "cell_type": "markdown",
   "metadata": {},
   "source": [
    "Train test split"
   ]
  },
  {
   "cell_type": "code",
   "execution_count": 40,
   "metadata": {},
   "outputs": [
    {
     "name": "stdout",
     "output_type": "stream",
     "text": [
      "['Close', 'dayofweek', 'quarter', 'month', 'year', 'dayofyear', 'dayofmonth', 'weekofyear', 'MA for 10 days', 'MA for 20 days', 'MA for 50 days', 'Open_1', 'Open_2', 'Open_3', 'Open_4', 'Open_5', 'Open_6', 'Open_7', 'High_1', 'High_2', 'High_3', 'High_4', 'High_5', 'High_6', 'High_7', 'Low_1', 'Low_2', 'Low_3', 'Low_4', 'Low_5', 'Low_6', 'Low_7', 'Close_1', 'Close_2', 'Close_3', 'Close_4', 'Close_5', 'Close_6', 'Close_7', 'Volume_1', 'Volume_2', 'Volume_3', 'Volume_4', 'Volume_5', 'Volume_6', 'Volume_7', 'lowerbound', 'upperbound']\n"
     ]
    }
   ],
   "source": [
    "cols = [i for i in df.columns if i not in ['Open', 'High', 'Low', 'Volume']]\n",
    "print(cols)"
   ]
  },
  {
   "cell_type": "code",
   "execution_count": 41,
   "metadata": {},
   "outputs": [],
   "source": [
    "df = df[cols]\n",
    "label_col = 'Close'"
   ]
  },
  {
   "cell_type": "code",
   "execution_count": 42,
   "metadata": {},
   "outputs": [],
   "source": [
    "from sklearn.model_selection import train_test_split"
   ]
  },
  {
   "cell_type": "code",
   "execution_count": 43,
   "metadata": {},
   "outputs": [],
   "source": [
    "def get_data_splits(df, train_ratio: float, validation_ratio: float, test_ratio: float):\n",
    "    train_len = int(df.shape[0] * train_ratio)\n",
    "    train_data = df.iloc[: train_len]\n",
    "    test_len = int(df.shape[0] * test_ratio)\n",
    "    test_data = df.iloc[-test_len:]\n",
    "    val_data = df.iloc[train_len:-test_len]\n",
    "    return train_data, val_data, test_data"
   ]
  },
  {
   "cell_type": "code",
   "execution_count": 44,
   "metadata": {},
   "outputs": [],
   "source": [
    "train_data, _, test_data = get_data_splits(df, train_ratio=0.5, validation_ratio=0, test_ratio=0.5)\n"
   ]
  },
  {
   "cell_type": "code",
   "execution_count": 45,
   "metadata": {},
   "outputs": [
    {
     "data": {
      "text/html": [
       "<div>\n",
       "<style scoped>\n",
       "    .dataframe tbody tr th:only-of-type {\n",
       "        vertical-align: middle;\n",
       "    }\n",
       "\n",
       "    .dataframe tbody tr th {\n",
       "        vertical-align: top;\n",
       "    }\n",
       "\n",
       "    .dataframe thead th {\n",
       "        text-align: right;\n",
       "    }\n",
       "</style>\n",
       "<table border=\"1\" class=\"dataframe\">\n",
       "  <thead>\n",
       "    <tr style=\"text-align: right;\">\n",
       "      <th></th>\n",
       "      <th>Close</th>\n",
       "      <th>dayofweek</th>\n",
       "      <th>quarter</th>\n",
       "      <th>month</th>\n",
       "      <th>year</th>\n",
       "      <th>dayofyear</th>\n",
       "      <th>dayofmonth</th>\n",
       "      <th>weekofyear</th>\n",
       "      <th>MA for 10 days</th>\n",
       "      <th>MA for 20 days</th>\n",
       "      <th>MA for 50 days</th>\n",
       "      <th>Open_1</th>\n",
       "      <th>Open_2</th>\n",
       "      <th>Open_3</th>\n",
       "      <th>Open_4</th>\n",
       "      <th>Open_5</th>\n",
       "      <th>Open_6</th>\n",
       "      <th>Open_7</th>\n",
       "      <th>High_1</th>\n",
       "      <th>High_2</th>\n",
       "      <th>High_3</th>\n",
       "      <th>High_4</th>\n",
       "      <th>High_5</th>\n",
       "      <th>High_6</th>\n",
       "      <th>High_7</th>\n",
       "      <th>Low_1</th>\n",
       "      <th>Low_2</th>\n",
       "      <th>Low_3</th>\n",
       "      <th>Low_4</th>\n",
       "      <th>Low_5</th>\n",
       "      <th>Low_6</th>\n",
       "      <th>Low_7</th>\n",
       "      <th>Close_1</th>\n",
       "      <th>Close_2</th>\n",
       "      <th>Close_3</th>\n",
       "      <th>Close_4</th>\n",
       "      <th>Close_5</th>\n",
       "      <th>Close_6</th>\n",
       "      <th>Close_7</th>\n",
       "      <th>Volume_1</th>\n",
       "      <th>Volume_2</th>\n",
       "      <th>Volume_3</th>\n",
       "      <th>Volume_4</th>\n",
       "      <th>Volume_5</th>\n",
       "      <th>Volume_6</th>\n",
       "      <th>Volume_7</th>\n",
       "      <th>lowerbound</th>\n",
       "      <th>upperbound</th>\n",
       "    </tr>\n",
       "    <tr>\n",
       "      <th>DTYYYYMMDD</th>\n",
       "      <th></th>\n",
       "      <th></th>\n",
       "      <th></th>\n",
       "      <th></th>\n",
       "      <th></th>\n",
       "      <th></th>\n",
       "      <th></th>\n",
       "      <th></th>\n",
       "      <th></th>\n",
       "      <th></th>\n",
       "      <th></th>\n",
       "      <th></th>\n",
       "      <th></th>\n",
       "      <th></th>\n",
       "      <th></th>\n",
       "      <th></th>\n",
       "      <th></th>\n",
       "      <th></th>\n",
       "      <th></th>\n",
       "      <th></th>\n",
       "      <th></th>\n",
       "      <th></th>\n",
       "      <th></th>\n",
       "      <th></th>\n",
       "      <th></th>\n",
       "      <th></th>\n",
       "      <th></th>\n",
       "      <th></th>\n",
       "      <th></th>\n",
       "      <th></th>\n",
       "      <th></th>\n",
       "      <th></th>\n",
       "      <th></th>\n",
       "      <th></th>\n",
       "      <th></th>\n",
       "      <th></th>\n",
       "      <th></th>\n",
       "      <th></th>\n",
       "      <th></th>\n",
       "      <th></th>\n",
       "      <th></th>\n",
       "      <th></th>\n",
       "      <th></th>\n",
       "      <th></th>\n",
       "      <th></th>\n",
       "      <th></th>\n",
       "      <th></th>\n",
       "      <th></th>\n",
       "    </tr>\n",
       "  </thead>\n",
       "  <tbody>\n",
       "    <tr>\n",
       "      <th>2019-03-19</th>\n",
       "      <td>121.0</td>\n",
       "      <td>1</td>\n",
       "      <td>1</td>\n",
       "      <td>3</td>\n",
       "      <td>2019</td>\n",
       "      <td>78</td>\n",
       "      <td>19</td>\n",
       "      <td>12</td>\n",
       "      <td>118.92</td>\n",
       "      <td>117.705</td>\n",
       "      <td>109.496</td>\n",
       "      <td>120.0</td>\n",
       "      <td>119.3</td>\n",
       "      <td>116.5</td>\n",
       "      <td>118.5</td>\n",
       "      <td>119.0</td>\n",
       "      <td>117.0</td>\n",
       "      <td>119.0</td>\n",
       "      <td>121.3</td>\n",
       "      <td>119.3</td>\n",
       "      <td>118.8</td>\n",
       "      <td>120.0</td>\n",
       "      <td>119.4</td>\n",
       "      <td>118.3</td>\n",
       "      <td>119.6</td>\n",
       "      <td>119.1</td>\n",
       "      <td>117.9</td>\n",
       "      <td>115.6</td>\n",
       "      <td>117.0</td>\n",
       "      <td>118.2</td>\n",
       "      <td>117.0</td>\n",
       "      <td>118.1</td>\n",
       "      <td>121.3</td>\n",
       "      <td>118.7</td>\n",
       "      <td>118.8</td>\n",
       "      <td>117.5</td>\n",
       "      <td>118.6</td>\n",
       "      <td>118.3</td>\n",
       "      <td>118.1</td>\n",
       "      <td>1114570.0</td>\n",
       "      <td>1704580.0</td>\n",
       "      <td>1155340.0</td>\n",
       "      <td>1262350.0</td>\n",
       "      <td>902200.0</td>\n",
       "      <td>429390.0</td>\n",
       "      <td>845280.0</td>\n",
       "      <td>112.809</td>\n",
       "      <td>129.791</td>\n",
       "    </tr>\n",
       "    <tr>\n",
       "      <th>2019-03-20</th>\n",
       "      <td>120.2</td>\n",
       "      <td>2</td>\n",
       "      <td>1</td>\n",
       "      <td>3</td>\n",
       "      <td>2019</td>\n",
       "      <td>79</td>\n",
       "      <td>20</td>\n",
       "      <td>12</td>\n",
       "      <td>119.17</td>\n",
       "      <td>117.890</td>\n",
       "      <td>109.892</td>\n",
       "      <td>121.3</td>\n",
       "      <td>120.0</td>\n",
       "      <td>119.3</td>\n",
       "      <td>116.5</td>\n",
       "      <td>118.5</td>\n",
       "      <td>119.0</td>\n",
       "      <td>117.0</td>\n",
       "      <td>122.4</td>\n",
       "      <td>121.3</td>\n",
       "      <td>119.3</td>\n",
       "      <td>118.8</td>\n",
       "      <td>120.0</td>\n",
       "      <td>119.4</td>\n",
       "      <td>118.3</td>\n",
       "      <td>120.7</td>\n",
       "      <td>119.1</td>\n",
       "      <td>117.9</td>\n",
       "      <td>115.6</td>\n",
       "      <td>117.0</td>\n",
       "      <td>118.2</td>\n",
       "      <td>117.0</td>\n",
       "      <td>121.0</td>\n",
       "      <td>121.3</td>\n",
       "      <td>118.7</td>\n",
       "      <td>118.8</td>\n",
       "      <td>117.5</td>\n",
       "      <td>118.6</td>\n",
       "      <td>118.3</td>\n",
       "      <td>1190080.0</td>\n",
       "      <td>1114570.0</td>\n",
       "      <td>1704580.0</td>\n",
       "      <td>1155340.0</td>\n",
       "      <td>1262350.0</td>\n",
       "      <td>902200.0</td>\n",
       "      <td>429390.0</td>\n",
       "      <td>112.530</td>\n",
       "      <td>129.470</td>\n",
       "    </tr>\n",
       "    <tr>\n",
       "      <th>2019-03-21</th>\n",
       "      <td>117.0</td>\n",
       "      <td>3</td>\n",
       "      <td>1</td>\n",
       "      <td>3</td>\n",
       "      <td>2019</td>\n",
       "      <td>80</td>\n",
       "      <td>21</td>\n",
       "      <td>12</td>\n",
       "      <td>118.95</td>\n",
       "      <td>117.820</td>\n",
       "      <td>110.226</td>\n",
       "      <td>121.0</td>\n",
       "      <td>121.3</td>\n",
       "      <td>120.0</td>\n",
       "      <td>119.3</td>\n",
       "      <td>116.5</td>\n",
       "      <td>118.5</td>\n",
       "      <td>119.0</td>\n",
       "      <td>121.0</td>\n",
       "      <td>122.4</td>\n",
       "      <td>121.3</td>\n",
       "      <td>119.3</td>\n",
       "      <td>118.8</td>\n",
       "      <td>120.0</td>\n",
       "      <td>119.4</td>\n",
       "      <td>119.1</td>\n",
       "      <td>120.7</td>\n",
       "      <td>119.1</td>\n",
       "      <td>117.9</td>\n",
       "      <td>115.6</td>\n",
       "      <td>117.0</td>\n",
       "      <td>118.2</td>\n",
       "      <td>120.2</td>\n",
       "      <td>121.0</td>\n",
       "      <td>121.3</td>\n",
       "      <td>118.7</td>\n",
       "      <td>118.8</td>\n",
       "      <td>117.5</td>\n",
       "      <td>118.6</td>\n",
       "      <td>780190.0</td>\n",
       "      <td>1190080.0</td>\n",
       "      <td>1114570.0</td>\n",
       "      <td>1704580.0</td>\n",
       "      <td>1155340.0</td>\n",
       "      <td>1262350.0</td>\n",
       "      <td>902200.0</td>\n",
       "      <td>111.786</td>\n",
       "      <td>128.614</td>\n",
       "    </tr>\n",
       "    <tr>\n",
       "      <th>2019-03-22</th>\n",
       "      <td>118.6</td>\n",
       "      <td>4</td>\n",
       "      <td>1</td>\n",
       "      <td>3</td>\n",
       "      <td>2019</td>\n",
       "      <td>81</td>\n",
       "      <td>22</td>\n",
       "      <td>12</td>\n",
       "      <td>119.00</td>\n",
       "      <td>117.900</td>\n",
       "      <td>110.586</td>\n",
       "      <td>120.0</td>\n",
       "      <td>121.0</td>\n",
       "      <td>121.3</td>\n",
       "      <td>120.0</td>\n",
       "      <td>119.3</td>\n",
       "      <td>116.5</td>\n",
       "      <td>118.5</td>\n",
       "      <td>120.3</td>\n",
       "      <td>121.0</td>\n",
       "      <td>122.4</td>\n",
       "      <td>121.3</td>\n",
       "      <td>119.3</td>\n",
       "      <td>118.8</td>\n",
       "      <td>120.0</td>\n",
       "      <td>117.0</td>\n",
       "      <td>119.1</td>\n",
       "      <td>120.7</td>\n",
       "      <td>119.1</td>\n",
       "      <td>117.9</td>\n",
       "      <td>115.6</td>\n",
       "      <td>117.0</td>\n",
       "      <td>117.0</td>\n",
       "      <td>120.2</td>\n",
       "      <td>121.0</td>\n",
       "      <td>121.3</td>\n",
       "      <td>118.7</td>\n",
       "      <td>118.8</td>\n",
       "      <td>117.5</td>\n",
       "      <td>1208480.0</td>\n",
       "      <td>780190.0</td>\n",
       "      <td>1190080.0</td>\n",
       "      <td>1114570.0</td>\n",
       "      <td>1704580.0</td>\n",
       "      <td>1155340.0</td>\n",
       "      <td>1262350.0</td>\n",
       "      <td>108.810</td>\n",
       "      <td>125.190</td>\n",
       "    </tr>\n",
       "    <tr>\n",
       "      <th>2019-03-25</th>\n",
       "      <td>115.2</td>\n",
       "      <td>0</td>\n",
       "      <td>1</td>\n",
       "      <td>3</td>\n",
       "      <td>2019</td>\n",
       "      <td>84</td>\n",
       "      <td>25</td>\n",
       "      <td>13</td>\n",
       "      <td>118.69</td>\n",
       "      <td>117.845</td>\n",
       "      <td>110.870</td>\n",
       "      <td>117.0</td>\n",
       "      <td>120.0</td>\n",
       "      <td>121.0</td>\n",
       "      <td>121.3</td>\n",
       "      <td>120.0</td>\n",
       "      <td>119.3</td>\n",
       "      <td>116.5</td>\n",
       "      <td>118.9</td>\n",
       "      <td>120.3</td>\n",
       "      <td>121.0</td>\n",
       "      <td>122.4</td>\n",
       "      <td>121.3</td>\n",
       "      <td>119.3</td>\n",
       "      <td>118.8</td>\n",
       "      <td>117.0</td>\n",
       "      <td>117.0</td>\n",
       "      <td>119.1</td>\n",
       "      <td>120.7</td>\n",
       "      <td>119.1</td>\n",
       "      <td>117.9</td>\n",
       "      <td>115.6</td>\n",
       "      <td>118.6</td>\n",
       "      <td>117.0</td>\n",
       "      <td>120.2</td>\n",
       "      <td>121.0</td>\n",
       "      <td>121.3</td>\n",
       "      <td>118.7</td>\n",
       "      <td>118.8</td>\n",
       "      <td>1114660.0</td>\n",
       "      <td>1208480.0</td>\n",
       "      <td>780190.0</td>\n",
       "      <td>1190080.0</td>\n",
       "      <td>1114570.0</td>\n",
       "      <td>1704580.0</td>\n",
       "      <td>1155340.0</td>\n",
       "      <td>110.298</td>\n",
       "      <td>126.902</td>\n",
       "    </tr>\n",
       "    <tr>\n",
       "      <th>...</th>\n",
       "      <td>...</td>\n",
       "      <td>...</td>\n",
       "      <td>...</td>\n",
       "      <td>...</td>\n",
       "      <td>...</td>\n",
       "      <td>...</td>\n",
       "      <td>...</td>\n",
       "      <td>...</td>\n",
       "      <td>...</td>\n",
       "      <td>...</td>\n",
       "      <td>...</td>\n",
       "      <td>...</td>\n",
       "      <td>...</td>\n",
       "      <td>...</td>\n",
       "      <td>...</td>\n",
       "      <td>...</td>\n",
       "      <td>...</td>\n",
       "      <td>...</td>\n",
       "      <td>...</td>\n",
       "      <td>...</td>\n",
       "      <td>...</td>\n",
       "      <td>...</td>\n",
       "      <td>...</td>\n",
       "      <td>...</td>\n",
       "      <td>...</td>\n",
       "      <td>...</td>\n",
       "      <td>...</td>\n",
       "      <td>...</td>\n",
       "      <td>...</td>\n",
       "      <td>...</td>\n",
       "      <td>...</td>\n",
       "      <td>...</td>\n",
       "      <td>...</td>\n",
       "      <td>...</td>\n",
       "      <td>...</td>\n",
       "      <td>...</td>\n",
       "      <td>...</td>\n",
       "      <td>...</td>\n",
       "      <td>...</td>\n",
       "      <td>...</td>\n",
       "      <td>...</td>\n",
       "      <td>...</td>\n",
       "      <td>...</td>\n",
       "      <td>...</td>\n",
       "      <td>...</td>\n",
       "      <td>...</td>\n",
       "      <td>...</td>\n",
       "      <td>...</td>\n",
       "    </tr>\n",
       "    <tr>\n",
       "      <th>2020-01-31</th>\n",
       "      <td>114.8</td>\n",
       "      <td>4</td>\n",
       "      <td>1</td>\n",
       "      <td>1</td>\n",
       "      <td>2020</td>\n",
       "      <td>31</td>\n",
       "      <td>31</td>\n",
       "      <td>5</td>\n",
       "      <td>114.92</td>\n",
       "      <td>114.885</td>\n",
       "      <td>115.524</td>\n",
       "      <td>114.1</td>\n",
       "      <td>114.9</td>\n",
       "      <td>114.3</td>\n",
       "      <td>114.9</td>\n",
       "      <td>114.9</td>\n",
       "      <td>115.0</td>\n",
       "      <td>115.0</td>\n",
       "      <td>114.9</td>\n",
       "      <td>114.9</td>\n",
       "      <td>115.0</td>\n",
       "      <td>114.9</td>\n",
       "      <td>115.1</td>\n",
       "      <td>115.1</td>\n",
       "      <td>115.0</td>\n",
       "      <td>112.1</td>\n",
       "      <td>114.2</td>\n",
       "      <td>114.3</td>\n",
       "      <td>114.3</td>\n",
       "      <td>114.4</td>\n",
       "      <td>114.3</td>\n",
       "      <td>114.3</td>\n",
       "      <td>114.9</td>\n",
       "      <td>114.9</td>\n",
       "      <td>114.9</td>\n",
       "      <td>114.9</td>\n",
       "      <td>114.9</td>\n",
       "      <td>115.0</td>\n",
       "      <td>115.0</td>\n",
       "      <td>682720.0</td>\n",
       "      <td>371780.0</td>\n",
       "      <td>181510.0</td>\n",
       "      <td>370670.0</td>\n",
       "      <td>169100.0</td>\n",
       "      <td>186740.0</td>\n",
       "      <td>205600.0</td>\n",
       "      <td>106.857</td>\n",
       "      <td>122.943</td>\n",
       "    </tr>\n",
       "    <tr>\n",
       "      <th>2020-02-03</th>\n",
       "      <td>114.8</td>\n",
       "      <td>0</td>\n",
       "      <td>1</td>\n",
       "      <td>2</td>\n",
       "      <td>2020</td>\n",
       "      <td>34</td>\n",
       "      <td>3</td>\n",
       "      <td>6</td>\n",
       "      <td>114.91</td>\n",
       "      <td>114.865</td>\n",
       "      <td>115.428</td>\n",
       "      <td>114.9</td>\n",
       "      <td>114.1</td>\n",
       "      <td>114.9</td>\n",
       "      <td>114.3</td>\n",
       "      <td>114.9</td>\n",
       "      <td>114.9</td>\n",
       "      <td>115.0</td>\n",
       "      <td>114.9</td>\n",
       "      <td>114.9</td>\n",
       "      <td>114.9</td>\n",
       "      <td>115.0</td>\n",
       "      <td>114.9</td>\n",
       "      <td>115.1</td>\n",
       "      <td>115.1</td>\n",
       "      <td>113.6</td>\n",
       "      <td>112.1</td>\n",
       "      <td>114.2</td>\n",
       "      <td>114.3</td>\n",
       "      <td>114.3</td>\n",
       "      <td>114.4</td>\n",
       "      <td>114.3</td>\n",
       "      <td>114.8</td>\n",
       "      <td>114.9</td>\n",
       "      <td>114.9</td>\n",
       "      <td>114.9</td>\n",
       "      <td>114.9</td>\n",
       "      <td>114.9</td>\n",
       "      <td>115.0</td>\n",
       "      <td>831740.0</td>\n",
       "      <td>682720.0</td>\n",
       "      <td>371780.0</td>\n",
       "      <td>181510.0</td>\n",
       "      <td>370670.0</td>\n",
       "      <td>169100.0</td>\n",
       "      <td>186740.0</td>\n",
       "      <td>106.764</td>\n",
       "      <td>122.836</td>\n",
       "    </tr>\n",
       "    <tr>\n",
       "      <th>2020-02-04</th>\n",
       "      <td>114.8</td>\n",
       "      <td>1</td>\n",
       "      <td>1</td>\n",
       "      <td>2</td>\n",
       "      <td>2020</td>\n",
       "      <td>35</td>\n",
       "      <td>4</td>\n",
       "      <td>6</td>\n",
       "      <td>114.89</td>\n",
       "      <td>114.855</td>\n",
       "      <td>115.362</td>\n",
       "      <td>113.8</td>\n",
       "      <td>114.9</td>\n",
       "      <td>114.1</td>\n",
       "      <td>114.9</td>\n",
       "      <td>114.3</td>\n",
       "      <td>114.9</td>\n",
       "      <td>114.9</td>\n",
       "      <td>114.8</td>\n",
       "      <td>114.9</td>\n",
       "      <td>114.9</td>\n",
       "      <td>114.9</td>\n",
       "      <td>115.0</td>\n",
       "      <td>114.9</td>\n",
       "      <td>115.1</td>\n",
       "      <td>112.3</td>\n",
       "      <td>113.6</td>\n",
       "      <td>112.1</td>\n",
       "      <td>114.2</td>\n",
       "      <td>114.3</td>\n",
       "      <td>114.3</td>\n",
       "      <td>114.4</td>\n",
       "      <td>114.8</td>\n",
       "      <td>114.8</td>\n",
       "      <td>114.9</td>\n",
       "      <td>114.9</td>\n",
       "      <td>114.9</td>\n",
       "      <td>114.9</td>\n",
       "      <td>114.9</td>\n",
       "      <td>760420.0</td>\n",
       "      <td>831740.0</td>\n",
       "      <td>682720.0</td>\n",
       "      <td>371780.0</td>\n",
       "      <td>181510.0</td>\n",
       "      <td>370670.0</td>\n",
       "      <td>169100.0</td>\n",
       "      <td>106.764</td>\n",
       "      <td>122.836</td>\n",
       "    </tr>\n",
       "    <tr>\n",
       "      <th>2020-02-05</th>\n",
       "      <td>114.5</td>\n",
       "      <td>2</td>\n",
       "      <td>1</td>\n",
       "      <td>2</td>\n",
       "      <td>2020</td>\n",
       "      <td>36</td>\n",
       "      <td>5</td>\n",
       "      <td>6</td>\n",
       "      <td>114.84</td>\n",
       "      <td>114.830</td>\n",
       "      <td>115.310</td>\n",
       "      <td>113.6</td>\n",
       "      <td>113.8</td>\n",
       "      <td>114.9</td>\n",
       "      <td>114.1</td>\n",
       "      <td>114.9</td>\n",
       "      <td>114.3</td>\n",
       "      <td>114.9</td>\n",
       "      <td>114.8</td>\n",
       "      <td>114.8</td>\n",
       "      <td>114.9</td>\n",
       "      <td>114.9</td>\n",
       "      <td>114.9</td>\n",
       "      <td>115.0</td>\n",
       "      <td>114.9</td>\n",
       "      <td>111.8</td>\n",
       "      <td>112.3</td>\n",
       "      <td>113.6</td>\n",
       "      <td>112.1</td>\n",
       "      <td>114.2</td>\n",
       "      <td>114.3</td>\n",
       "      <td>114.3</td>\n",
       "      <td>114.8</td>\n",
       "      <td>114.8</td>\n",
       "      <td>114.8</td>\n",
       "      <td>114.9</td>\n",
       "      <td>114.9</td>\n",
       "      <td>114.9</td>\n",
       "      <td>114.9</td>\n",
       "      <td>1485500.0</td>\n",
       "      <td>760420.0</td>\n",
       "      <td>831740.0</td>\n",
       "      <td>682720.0</td>\n",
       "      <td>371780.0</td>\n",
       "      <td>181510.0</td>\n",
       "      <td>370670.0</td>\n",
       "      <td>106.764</td>\n",
       "      <td>122.836</td>\n",
       "    </tr>\n",
       "    <tr>\n",
       "      <th>2020-02-06</th>\n",
       "      <td>114.4</td>\n",
       "      <td>3</td>\n",
       "      <td>1</td>\n",
       "      <td>2</td>\n",
       "      <td>2020</td>\n",
       "      <td>37</td>\n",
       "      <td>6</td>\n",
       "      <td>6</td>\n",
       "      <td>114.78</td>\n",
       "      <td>114.800</td>\n",
       "      <td>115.278</td>\n",
       "      <td>114.8</td>\n",
       "      <td>113.6</td>\n",
       "      <td>113.8</td>\n",
       "      <td>114.9</td>\n",
       "      <td>114.1</td>\n",
       "      <td>114.9</td>\n",
       "      <td>114.3</td>\n",
       "      <td>114.8</td>\n",
       "      <td>114.8</td>\n",
       "      <td>114.8</td>\n",
       "      <td>114.9</td>\n",
       "      <td>114.9</td>\n",
       "      <td>114.9</td>\n",
       "      <td>115.0</td>\n",
       "      <td>113.0</td>\n",
       "      <td>111.8</td>\n",
       "      <td>112.3</td>\n",
       "      <td>113.6</td>\n",
       "      <td>112.1</td>\n",
       "      <td>114.2</td>\n",
       "      <td>114.3</td>\n",
       "      <td>114.5</td>\n",
       "      <td>114.8</td>\n",
       "      <td>114.8</td>\n",
       "      <td>114.8</td>\n",
       "      <td>114.9</td>\n",
       "      <td>114.9</td>\n",
       "      <td>114.9</td>\n",
       "      <td>468420.0</td>\n",
       "      <td>1485500.0</td>\n",
       "      <td>760420.0</td>\n",
       "      <td>831740.0</td>\n",
       "      <td>682720.0</td>\n",
       "      <td>371780.0</td>\n",
       "      <td>181510.0</td>\n",
       "      <td>106.485</td>\n",
       "      <td>122.515</td>\n",
       "    </tr>\n",
       "  </tbody>\n",
       "</table>\n",
       "<p>222 rows × 48 columns</p>\n",
       "</div>"
      ],
      "text/plain": [
       "            Close  dayofweek  quarter  month  year  dayofyear  dayofmonth  \\\n",
       "DTYYYYMMDD                                                                  \n",
       "2019-03-19  121.0          1        1      3  2019         78          19   \n",
       "2019-03-20  120.2          2        1      3  2019         79          20   \n",
       "2019-03-21  117.0          3        1      3  2019         80          21   \n",
       "2019-03-22  118.6          4        1      3  2019         81          22   \n",
       "2019-03-25  115.2          0        1      3  2019         84          25   \n",
       "...           ...        ...      ...    ...   ...        ...         ...   \n",
       "2020-01-31  114.8          4        1      1  2020         31          31   \n",
       "2020-02-03  114.8          0        1      2  2020         34           3   \n",
       "2020-02-04  114.8          1        1      2  2020         35           4   \n",
       "2020-02-05  114.5          2        1      2  2020         36           5   \n",
       "2020-02-06  114.4          3        1      2  2020         37           6   \n",
       "\n",
       "            weekofyear  MA for 10 days  MA for 20 days  MA for 50 days  \\\n",
       "DTYYYYMMDD                                                               \n",
       "2019-03-19          12          118.92         117.705         109.496   \n",
       "2019-03-20          12          119.17         117.890         109.892   \n",
       "2019-03-21          12          118.95         117.820         110.226   \n",
       "2019-03-22          12          119.00         117.900         110.586   \n",
       "2019-03-25          13          118.69         117.845         110.870   \n",
       "...                ...             ...             ...             ...   \n",
       "2020-01-31           5          114.92         114.885         115.524   \n",
       "2020-02-03           6          114.91         114.865         115.428   \n",
       "2020-02-04           6          114.89         114.855         115.362   \n",
       "2020-02-05           6          114.84         114.830         115.310   \n",
       "2020-02-06           6          114.78         114.800         115.278   \n",
       "\n",
       "            Open_1  Open_2  Open_3  Open_4  Open_5  Open_6  Open_7  High_1  \\\n",
       "DTYYYYMMDD                                                                   \n",
       "2019-03-19   120.0   119.3   116.5   118.5   119.0   117.0   119.0   121.3   \n",
       "2019-03-20   121.3   120.0   119.3   116.5   118.5   119.0   117.0   122.4   \n",
       "2019-03-21   121.0   121.3   120.0   119.3   116.5   118.5   119.0   121.0   \n",
       "2019-03-22   120.0   121.0   121.3   120.0   119.3   116.5   118.5   120.3   \n",
       "2019-03-25   117.0   120.0   121.0   121.3   120.0   119.3   116.5   118.9   \n",
       "...            ...     ...     ...     ...     ...     ...     ...     ...   \n",
       "2020-01-31   114.1   114.9   114.3   114.9   114.9   115.0   115.0   114.9   \n",
       "2020-02-03   114.9   114.1   114.9   114.3   114.9   114.9   115.0   114.9   \n",
       "2020-02-04   113.8   114.9   114.1   114.9   114.3   114.9   114.9   114.8   \n",
       "2020-02-05   113.6   113.8   114.9   114.1   114.9   114.3   114.9   114.8   \n",
       "2020-02-06   114.8   113.6   113.8   114.9   114.1   114.9   114.3   114.8   \n",
       "\n",
       "            High_2  High_3  High_4  High_5  High_6  High_7  Low_1  Low_2  \\\n",
       "DTYYYYMMDD                                                                 \n",
       "2019-03-19   119.3   118.8   120.0   119.4   118.3   119.6  119.1  117.9   \n",
       "2019-03-20   121.3   119.3   118.8   120.0   119.4   118.3  120.7  119.1   \n",
       "2019-03-21   122.4   121.3   119.3   118.8   120.0   119.4  119.1  120.7   \n",
       "2019-03-22   121.0   122.4   121.3   119.3   118.8   120.0  117.0  119.1   \n",
       "2019-03-25   120.3   121.0   122.4   121.3   119.3   118.8  117.0  117.0   \n",
       "...            ...     ...     ...     ...     ...     ...    ...    ...   \n",
       "2020-01-31   114.9   115.0   114.9   115.1   115.1   115.0  112.1  114.2   \n",
       "2020-02-03   114.9   114.9   115.0   114.9   115.1   115.1  113.6  112.1   \n",
       "2020-02-04   114.9   114.9   114.9   115.0   114.9   115.1  112.3  113.6   \n",
       "2020-02-05   114.8   114.9   114.9   114.9   115.0   114.9  111.8  112.3   \n",
       "2020-02-06   114.8   114.8   114.9   114.9   114.9   115.0  113.0  111.8   \n",
       "\n",
       "            Low_3  Low_4  Low_5  Low_6  Low_7  Close_1  Close_2  Close_3  \\\n",
       "DTYYYYMMDD                                                                 \n",
       "2019-03-19  115.6  117.0  118.2  117.0  118.1    121.3    118.7    118.8   \n",
       "2019-03-20  117.9  115.6  117.0  118.2  117.0    121.0    121.3    118.7   \n",
       "2019-03-21  119.1  117.9  115.6  117.0  118.2    120.2    121.0    121.3   \n",
       "2019-03-22  120.7  119.1  117.9  115.6  117.0    117.0    120.2    121.0   \n",
       "2019-03-25  119.1  120.7  119.1  117.9  115.6    118.6    117.0    120.2   \n",
       "...           ...    ...    ...    ...    ...      ...      ...      ...   \n",
       "2020-01-31  114.3  114.3  114.4  114.3  114.3    114.9    114.9    114.9   \n",
       "2020-02-03  114.2  114.3  114.3  114.4  114.3    114.8    114.9    114.9   \n",
       "2020-02-04  112.1  114.2  114.3  114.3  114.4    114.8    114.8    114.9   \n",
       "2020-02-05  113.6  112.1  114.2  114.3  114.3    114.8    114.8    114.8   \n",
       "2020-02-06  112.3  113.6  112.1  114.2  114.3    114.5    114.8    114.8   \n",
       "\n",
       "            Close_4  Close_5  Close_6  Close_7   Volume_1   Volume_2  \\\n",
       "DTYYYYMMDD                                                             \n",
       "2019-03-19    117.5    118.6    118.3    118.1  1114570.0  1704580.0   \n",
       "2019-03-20    118.8    117.5    118.6    118.3  1190080.0  1114570.0   \n",
       "2019-03-21    118.7    118.8    117.5    118.6   780190.0  1190080.0   \n",
       "2019-03-22    121.3    118.7    118.8    117.5  1208480.0   780190.0   \n",
       "2019-03-25    121.0    121.3    118.7    118.8  1114660.0  1208480.0   \n",
       "...             ...      ...      ...      ...        ...        ...   \n",
       "2020-01-31    114.9    114.9    115.0    115.0   682720.0   371780.0   \n",
       "2020-02-03    114.9    114.9    114.9    115.0   831740.0   682720.0   \n",
       "2020-02-04    114.9    114.9    114.9    114.9   760420.0   831740.0   \n",
       "2020-02-05    114.9    114.9    114.9    114.9  1485500.0   760420.0   \n",
       "2020-02-06    114.8    114.9    114.9    114.9   468420.0  1485500.0   \n",
       "\n",
       "             Volume_3   Volume_4   Volume_5   Volume_6   Volume_7  lowerbound  \\\n",
       "DTYYYYMMDD                                                                      \n",
       "2019-03-19  1155340.0  1262350.0   902200.0   429390.0   845280.0     112.809   \n",
       "2019-03-20  1704580.0  1155340.0  1262350.0   902200.0   429390.0     112.530   \n",
       "2019-03-21  1114570.0  1704580.0  1155340.0  1262350.0   902200.0     111.786   \n",
       "2019-03-22  1190080.0  1114570.0  1704580.0  1155340.0  1262350.0     108.810   \n",
       "2019-03-25   780190.0  1190080.0  1114570.0  1704580.0  1155340.0     110.298   \n",
       "...               ...        ...        ...        ...        ...         ...   \n",
       "2020-01-31   181510.0   370670.0   169100.0   186740.0   205600.0     106.857   \n",
       "2020-02-03   371780.0   181510.0   370670.0   169100.0   186740.0     106.764   \n",
       "2020-02-04   682720.0   371780.0   181510.0   370670.0   169100.0     106.764   \n",
       "2020-02-05   831740.0   682720.0   371780.0   181510.0   370670.0     106.764   \n",
       "2020-02-06   760420.0   831740.0   682720.0   371780.0   181510.0     106.485   \n",
       "\n",
       "            upperbound  \n",
       "DTYYYYMMDD              \n",
       "2019-03-19     129.791  \n",
       "2019-03-20     129.470  \n",
       "2019-03-21     128.614  \n",
       "2019-03-22     125.190  \n",
       "2019-03-25     126.902  \n",
       "...                ...  \n",
       "2020-01-31     122.943  \n",
       "2020-02-03     122.836  \n",
       "2020-02-04     122.836  \n",
       "2020-02-05     122.836  \n",
       "2020-02-06     122.515  \n",
       "\n",
       "[222 rows x 48 columns]"
      ]
     },
     "execution_count": 45,
     "metadata": {},
     "output_type": "execute_result"
    }
   ],
   "source": [
    "train_data"
   ]
  },
  {
   "cell_type": "code",
   "execution_count": 46,
   "metadata": {},
   "outputs": [
    {
     "data": {
      "text/html": [
       "<div>\n",
       "<style scoped>\n",
       "    .dataframe tbody tr th:only-of-type {\n",
       "        vertical-align: middle;\n",
       "    }\n",
       "\n",
       "    .dataframe tbody tr th {\n",
       "        vertical-align: top;\n",
       "    }\n",
       "\n",
       "    .dataframe thead th {\n",
       "        text-align: right;\n",
       "    }\n",
       "</style>\n",
       "<table border=\"1\" class=\"dataframe\">\n",
       "  <thead>\n",
       "    <tr style=\"text-align: right;\">\n",
       "      <th></th>\n",
       "      <th>Close</th>\n",
       "      <th>dayofweek</th>\n",
       "      <th>quarter</th>\n",
       "      <th>month</th>\n",
       "      <th>year</th>\n",
       "      <th>dayofyear</th>\n",
       "      <th>dayofmonth</th>\n",
       "      <th>weekofyear</th>\n",
       "      <th>MA for 10 days</th>\n",
       "      <th>MA for 20 days</th>\n",
       "      <th>MA for 50 days</th>\n",
       "      <th>Open_1</th>\n",
       "      <th>Open_2</th>\n",
       "      <th>Open_3</th>\n",
       "      <th>Open_4</th>\n",
       "      <th>Open_5</th>\n",
       "      <th>Open_6</th>\n",
       "      <th>Open_7</th>\n",
       "      <th>High_1</th>\n",
       "      <th>High_2</th>\n",
       "      <th>High_3</th>\n",
       "      <th>High_4</th>\n",
       "      <th>High_5</th>\n",
       "      <th>High_6</th>\n",
       "      <th>High_7</th>\n",
       "      <th>Low_1</th>\n",
       "      <th>Low_2</th>\n",
       "      <th>Low_3</th>\n",
       "      <th>Low_4</th>\n",
       "      <th>Low_5</th>\n",
       "      <th>Low_6</th>\n",
       "      <th>Low_7</th>\n",
       "      <th>Close_1</th>\n",
       "      <th>Close_2</th>\n",
       "      <th>Close_3</th>\n",
       "      <th>Close_4</th>\n",
       "      <th>Close_5</th>\n",
       "      <th>Close_6</th>\n",
       "      <th>Close_7</th>\n",
       "      <th>Volume_1</th>\n",
       "      <th>Volume_2</th>\n",
       "      <th>Volume_3</th>\n",
       "      <th>Volume_4</th>\n",
       "      <th>Volume_5</th>\n",
       "      <th>Volume_6</th>\n",
       "      <th>Volume_7</th>\n",
       "      <th>lowerbound</th>\n",
       "      <th>upperbound</th>\n",
       "    </tr>\n",
       "    <tr>\n",
       "      <th>DTYYYYMMDD</th>\n",
       "      <th></th>\n",
       "      <th></th>\n",
       "      <th></th>\n",
       "      <th></th>\n",
       "      <th></th>\n",
       "      <th></th>\n",
       "      <th></th>\n",
       "      <th></th>\n",
       "      <th></th>\n",
       "      <th></th>\n",
       "      <th></th>\n",
       "      <th></th>\n",
       "      <th></th>\n",
       "      <th></th>\n",
       "      <th></th>\n",
       "      <th></th>\n",
       "      <th></th>\n",
       "      <th></th>\n",
       "      <th></th>\n",
       "      <th></th>\n",
       "      <th></th>\n",
       "      <th></th>\n",
       "      <th></th>\n",
       "      <th></th>\n",
       "      <th></th>\n",
       "      <th></th>\n",
       "      <th></th>\n",
       "      <th></th>\n",
       "      <th></th>\n",
       "      <th></th>\n",
       "      <th></th>\n",
       "      <th></th>\n",
       "      <th></th>\n",
       "      <th></th>\n",
       "      <th></th>\n",
       "      <th></th>\n",
       "      <th></th>\n",
       "      <th></th>\n",
       "      <th></th>\n",
       "      <th></th>\n",
       "      <th></th>\n",
       "      <th></th>\n",
       "      <th></th>\n",
       "      <th></th>\n",
       "      <th></th>\n",
       "      <th></th>\n",
       "      <th></th>\n",
       "      <th></th>\n",
       "    </tr>\n",
       "  </thead>\n",
       "  <tbody>\n",
       "    <tr>\n",
       "      <th>2020-02-07</th>\n",
       "      <td>114.4</td>\n",
       "      <td>4</td>\n",
       "      <td>1</td>\n",
       "      <td>2</td>\n",
       "      <td>2020</td>\n",
       "      <td>38</td>\n",
       "      <td>7</td>\n",
       "      <td>6</td>\n",
       "      <td>114.73</td>\n",
       "      <td>114.755</td>\n",
       "      <td>115.260</td>\n",
       "      <td>114.5</td>\n",
       "      <td>114.8</td>\n",
       "      <td>113.6</td>\n",
       "      <td>113.8</td>\n",
       "      <td>114.9</td>\n",
       "      <td>114.1</td>\n",
       "      <td>114.9</td>\n",
       "      <td>114.7</td>\n",
       "      <td>114.8</td>\n",
       "      <td>114.8</td>\n",
       "      <td>114.8</td>\n",
       "      <td>114.9</td>\n",
       "      <td>114.9</td>\n",
       "      <td>114.9</td>\n",
       "      <td>112.8</td>\n",
       "      <td>113.0</td>\n",
       "      <td>111.8</td>\n",
       "      <td>112.3</td>\n",
       "      <td>113.6</td>\n",
       "      <td>112.1</td>\n",
       "      <td>114.2</td>\n",
       "      <td>114.4</td>\n",
       "      <td>114.5</td>\n",
       "      <td>114.8</td>\n",
       "      <td>114.8</td>\n",
       "      <td>114.8</td>\n",
       "      <td>114.9</td>\n",
       "      <td>114.9</td>\n",
       "      <td>676290.0</td>\n",
       "      <td>468420.0</td>\n",
       "      <td>1485500.0</td>\n",
       "      <td>760420.0</td>\n",
       "      <td>831740.0</td>\n",
       "      <td>682720.0</td>\n",
       "      <td>371780.0</td>\n",
       "      <td>106.392</td>\n",
       "      <td>122.408</td>\n",
       "    </tr>\n",
       "    <tr>\n",
       "      <th>2020-02-10</th>\n",
       "      <td>113.7</td>\n",
       "      <td>0</td>\n",
       "      <td>1</td>\n",
       "      <td>2</td>\n",
       "      <td>2020</td>\n",
       "      <td>41</td>\n",
       "      <td>10</td>\n",
       "      <td>7</td>\n",
       "      <td>114.61</td>\n",
       "      <td>114.715</td>\n",
       "      <td>115.210</td>\n",
       "      <td>114.0</td>\n",
       "      <td>114.5</td>\n",
       "      <td>114.8</td>\n",
       "      <td>113.6</td>\n",
       "      <td>113.8</td>\n",
       "      <td>114.9</td>\n",
       "      <td>114.1</td>\n",
       "      <td>114.4</td>\n",
       "      <td>114.7</td>\n",
       "      <td>114.8</td>\n",
       "      <td>114.8</td>\n",
       "      <td>114.8</td>\n",
       "      <td>114.9</td>\n",
       "      <td>114.9</td>\n",
       "      <td>112.0</td>\n",
       "      <td>112.8</td>\n",
       "      <td>113.0</td>\n",
       "      <td>111.8</td>\n",
       "      <td>112.3</td>\n",
       "      <td>113.6</td>\n",
       "      <td>112.1</td>\n",
       "      <td>114.4</td>\n",
       "      <td>114.4</td>\n",
       "      <td>114.5</td>\n",
       "      <td>114.8</td>\n",
       "      <td>114.8</td>\n",
       "      <td>114.8</td>\n",
       "      <td>114.9</td>\n",
       "      <td>1295520.0</td>\n",
       "      <td>676290.0</td>\n",
       "      <td>468420.0</td>\n",
       "      <td>1485500.0</td>\n",
       "      <td>760420.0</td>\n",
       "      <td>831740.0</td>\n",
       "      <td>682720.0</td>\n",
       "      <td>106.392</td>\n",
       "      <td>122.408</td>\n",
       "    </tr>\n",
       "    <tr>\n",
       "      <th>2020-02-11</th>\n",
       "      <td>113.4</td>\n",
       "      <td>1</td>\n",
       "      <td>1</td>\n",
       "      <td>2</td>\n",
       "      <td>2020</td>\n",
       "      <td>42</td>\n",
       "      <td>11</td>\n",
       "      <td>7</td>\n",
       "      <td>114.46</td>\n",
       "      <td>114.650</td>\n",
       "      <td>115.158</td>\n",
       "      <td>113.0</td>\n",
       "      <td>114.0</td>\n",
       "      <td>114.5</td>\n",
       "      <td>114.8</td>\n",
       "      <td>113.6</td>\n",
       "      <td>113.8</td>\n",
       "      <td>114.9</td>\n",
       "      <td>114.1</td>\n",
       "      <td>114.4</td>\n",
       "      <td>114.7</td>\n",
       "      <td>114.8</td>\n",
       "      <td>114.8</td>\n",
       "      <td>114.8</td>\n",
       "      <td>114.9</td>\n",
       "      <td>113.0</td>\n",
       "      <td>112.0</td>\n",
       "      <td>112.8</td>\n",
       "      <td>113.0</td>\n",
       "      <td>111.8</td>\n",
       "      <td>112.3</td>\n",
       "      <td>113.6</td>\n",
       "      <td>113.7</td>\n",
       "      <td>114.4</td>\n",
       "      <td>114.4</td>\n",
       "      <td>114.5</td>\n",
       "      <td>114.8</td>\n",
       "      <td>114.8</td>\n",
       "      <td>114.8</td>\n",
       "      <td>192700.0</td>\n",
       "      <td>1295520.0</td>\n",
       "      <td>676290.0</td>\n",
       "      <td>468420.0</td>\n",
       "      <td>1485500.0</td>\n",
       "      <td>760420.0</td>\n",
       "      <td>831740.0</td>\n",
       "      <td>105.741</td>\n",
       "      <td>121.659</td>\n",
       "    </tr>\n",
       "    <tr>\n",
       "      <th>2020-02-12</th>\n",
       "      <td>112.0</td>\n",
       "      <td>2</td>\n",
       "      <td>1</td>\n",
       "      <td>2</td>\n",
       "      <td>2020</td>\n",
       "      <td>43</td>\n",
       "      <td>12</td>\n",
       "      <td>7</td>\n",
       "      <td>114.17</td>\n",
       "      <td>114.535</td>\n",
       "      <td>115.094</td>\n",
       "      <td>113.5</td>\n",
       "      <td>113.0</td>\n",
       "      <td>114.0</td>\n",
       "      <td>114.5</td>\n",
       "      <td>114.8</td>\n",
       "      <td>113.6</td>\n",
       "      <td>113.8</td>\n",
       "      <td>114.2</td>\n",
       "      <td>114.1</td>\n",
       "      <td>114.4</td>\n",
       "      <td>114.7</td>\n",
       "      <td>114.8</td>\n",
       "      <td>114.8</td>\n",
       "      <td>114.8</td>\n",
       "      <td>113.0</td>\n",
       "      <td>113.0</td>\n",
       "      <td>112.0</td>\n",
       "      <td>112.8</td>\n",
       "      <td>113.0</td>\n",
       "      <td>111.8</td>\n",
       "      <td>112.3</td>\n",
       "      <td>113.4</td>\n",
       "      <td>113.7</td>\n",
       "      <td>114.4</td>\n",
       "      <td>114.4</td>\n",
       "      <td>114.5</td>\n",
       "      <td>114.8</td>\n",
       "      <td>114.8</td>\n",
       "      <td>290630.0</td>\n",
       "      <td>192700.0</td>\n",
       "      <td>1295520.0</td>\n",
       "      <td>676290.0</td>\n",
       "      <td>468420.0</td>\n",
       "      <td>1485500.0</td>\n",
       "      <td>760420.0</td>\n",
       "      <td>105.462</td>\n",
       "      <td>121.338</td>\n",
       "    </tr>\n",
       "    <tr>\n",
       "      <th>2020-02-13</th>\n",
       "      <td>112.4</td>\n",
       "      <td>3</td>\n",
       "      <td>1</td>\n",
       "      <td>2</td>\n",
       "      <td>2020</td>\n",
       "      <td>44</td>\n",
       "      <td>13</td>\n",
       "      <td>7</td>\n",
       "      <td>113.92</td>\n",
       "      <td>114.420</td>\n",
       "      <td>115.030</td>\n",
       "      <td>113.4</td>\n",
       "      <td>113.5</td>\n",
       "      <td>113.0</td>\n",
       "      <td>114.0</td>\n",
       "      <td>114.5</td>\n",
       "      <td>114.8</td>\n",
       "      <td>113.6</td>\n",
       "      <td>113.4</td>\n",
       "      <td>114.2</td>\n",
       "      <td>114.1</td>\n",
       "      <td>114.4</td>\n",
       "      <td>114.7</td>\n",
       "      <td>114.8</td>\n",
       "      <td>114.8</td>\n",
       "      <td>112.0</td>\n",
       "      <td>113.0</td>\n",
       "      <td>113.0</td>\n",
       "      <td>112.0</td>\n",
       "      <td>112.8</td>\n",
       "      <td>113.0</td>\n",
       "      <td>111.8</td>\n",
       "      <td>112.0</td>\n",
       "      <td>113.4</td>\n",
       "      <td>113.7</td>\n",
       "      <td>114.4</td>\n",
       "      <td>114.4</td>\n",
       "      <td>114.5</td>\n",
       "      <td>114.8</td>\n",
       "      <td>452790.0</td>\n",
       "      <td>290630.0</td>\n",
       "      <td>192700.0</td>\n",
       "      <td>1295520.0</td>\n",
       "      <td>676290.0</td>\n",
       "      <td>468420.0</td>\n",
       "      <td>1485500.0</td>\n",
       "      <td>104.160</td>\n",
       "      <td>119.840</td>\n",
       "    </tr>\n",
       "    <tr>\n",
       "      <th>...</th>\n",
       "      <td>...</td>\n",
       "      <td>...</td>\n",
       "      <td>...</td>\n",
       "      <td>...</td>\n",
       "      <td>...</td>\n",
       "      <td>...</td>\n",
       "      <td>...</td>\n",
       "      <td>...</td>\n",
       "      <td>...</td>\n",
       "      <td>...</td>\n",
       "      <td>...</td>\n",
       "      <td>...</td>\n",
       "      <td>...</td>\n",
       "      <td>...</td>\n",
       "      <td>...</td>\n",
       "      <td>...</td>\n",
       "      <td>...</td>\n",
       "      <td>...</td>\n",
       "      <td>...</td>\n",
       "      <td>...</td>\n",
       "      <td>...</td>\n",
       "      <td>...</td>\n",
       "      <td>...</td>\n",
       "      <td>...</td>\n",
       "      <td>...</td>\n",
       "      <td>...</td>\n",
       "      <td>...</td>\n",
       "      <td>...</td>\n",
       "      <td>...</td>\n",
       "      <td>...</td>\n",
       "      <td>...</td>\n",
       "      <td>...</td>\n",
       "      <td>...</td>\n",
       "      <td>...</td>\n",
       "      <td>...</td>\n",
       "      <td>...</td>\n",
       "      <td>...</td>\n",
       "      <td>...</td>\n",
       "      <td>...</td>\n",
       "      <td>...</td>\n",
       "      <td>...</td>\n",
       "      <td>...</td>\n",
       "      <td>...</td>\n",
       "      <td>...</td>\n",
       "      <td>...</td>\n",
       "      <td>...</td>\n",
       "      <td>...</td>\n",
       "      <td>...</td>\n",
       "    </tr>\n",
       "    <tr>\n",
       "      <th>2020-12-14</th>\n",
       "      <td>108.9</td>\n",
       "      <td>0</td>\n",
       "      <td>4</td>\n",
       "      <td>12</td>\n",
       "      <td>2020</td>\n",
       "      <td>349</td>\n",
       "      <td>14</td>\n",
       "      <td>51</td>\n",
       "      <td>105.90</td>\n",
       "      <td>105.315</td>\n",
       "      <td>102.548</td>\n",
       "      <td>104.9</td>\n",
       "      <td>106.0</td>\n",
       "      <td>105.0</td>\n",
       "      <td>105.8</td>\n",
       "      <td>106.0</td>\n",
       "      <td>105.8</td>\n",
       "      <td>105.0</td>\n",
       "      <td>106.8</td>\n",
       "      <td>107.0</td>\n",
       "      <td>106.0</td>\n",
       "      <td>105.8</td>\n",
       "      <td>106.0</td>\n",
       "      <td>106.5</td>\n",
       "      <td>105.8</td>\n",
       "      <td>104.9</td>\n",
       "      <td>104.9</td>\n",
       "      <td>104.4</td>\n",
       "      <td>104.8</td>\n",
       "      <td>105.1</td>\n",
       "      <td>104.5</td>\n",
       "      <td>104.3</td>\n",
       "      <td>106.8</td>\n",
       "      <td>104.9</td>\n",
       "      <td>106.0</td>\n",
       "      <td>105.0</td>\n",
       "      <td>105.8</td>\n",
       "      <td>105.8</td>\n",
       "      <td>105.8</td>\n",
       "      <td>569360.0</td>\n",
       "      <td>979550.0</td>\n",
       "      <td>789790.0</td>\n",
       "      <td>747280.0</td>\n",
       "      <td>678660.0</td>\n",
       "      <td>797060.0</td>\n",
       "      <td>731750.0</td>\n",
       "      <td>99.324</td>\n",
       "      <td>114.276</td>\n",
       "    </tr>\n",
       "    <tr>\n",
       "      <th>2020-12-15</th>\n",
       "      <td>107.0</td>\n",
       "      <td>1</td>\n",
       "      <td>4</td>\n",
       "      <td>12</td>\n",
       "      <td>2020</td>\n",
       "      <td>350</td>\n",
       "      <td>15</td>\n",
       "      <td>51</td>\n",
       "      <td>106.10</td>\n",
       "      <td>105.365</td>\n",
       "      <td>102.852</td>\n",
       "      <td>106.7</td>\n",
       "      <td>104.9</td>\n",
       "      <td>106.0</td>\n",
       "      <td>105.0</td>\n",
       "      <td>105.8</td>\n",
       "      <td>106.0</td>\n",
       "      <td>105.8</td>\n",
       "      <td>108.9</td>\n",
       "      <td>106.8</td>\n",
       "      <td>107.0</td>\n",
       "      <td>106.0</td>\n",
       "      <td>105.8</td>\n",
       "      <td>106.0</td>\n",
       "      <td>106.5</td>\n",
       "      <td>105.5</td>\n",
       "      <td>104.9</td>\n",
       "      <td>104.9</td>\n",
       "      <td>104.4</td>\n",
       "      <td>104.8</td>\n",
       "      <td>105.1</td>\n",
       "      <td>104.5</td>\n",
       "      <td>108.9</td>\n",
       "      <td>106.8</td>\n",
       "      <td>104.9</td>\n",
       "      <td>106.0</td>\n",
       "      <td>105.0</td>\n",
       "      <td>105.8</td>\n",
       "      <td>105.8</td>\n",
       "      <td>1122380.0</td>\n",
       "      <td>569360.0</td>\n",
       "      <td>979550.0</td>\n",
       "      <td>789790.0</td>\n",
       "      <td>747280.0</td>\n",
       "      <td>678660.0</td>\n",
       "      <td>797060.0</td>\n",
       "      <td>101.277</td>\n",
       "      <td>116.523</td>\n",
       "    </tr>\n",
       "    <tr>\n",
       "      <th>2020-12-16</th>\n",
       "      <td>107.0</td>\n",
       "      <td>2</td>\n",
       "      <td>4</td>\n",
       "      <td>12</td>\n",
       "      <td>2020</td>\n",
       "      <td>351</td>\n",
       "      <td>16</td>\n",
       "      <td>51</td>\n",
       "      <td>106.30</td>\n",
       "      <td>105.470</td>\n",
       "      <td>103.142</td>\n",
       "      <td>108.9</td>\n",
       "      <td>106.7</td>\n",
       "      <td>104.9</td>\n",
       "      <td>106.0</td>\n",
       "      <td>105.0</td>\n",
       "      <td>105.8</td>\n",
       "      <td>106.0</td>\n",
       "      <td>108.9</td>\n",
       "      <td>108.9</td>\n",
       "      <td>106.8</td>\n",
       "      <td>107.0</td>\n",
       "      <td>106.0</td>\n",
       "      <td>105.8</td>\n",
       "      <td>106.0</td>\n",
       "      <td>106.7</td>\n",
       "      <td>105.5</td>\n",
       "      <td>104.9</td>\n",
       "      <td>104.9</td>\n",
       "      <td>104.4</td>\n",
       "      <td>104.8</td>\n",
       "      <td>105.1</td>\n",
       "      <td>107.0</td>\n",
       "      <td>108.9</td>\n",
       "      <td>106.8</td>\n",
       "      <td>104.9</td>\n",
       "      <td>106.0</td>\n",
       "      <td>105.0</td>\n",
       "      <td>105.8</td>\n",
       "      <td>1205700.0</td>\n",
       "      <td>1122380.0</td>\n",
       "      <td>569360.0</td>\n",
       "      <td>979550.0</td>\n",
       "      <td>789790.0</td>\n",
       "      <td>747280.0</td>\n",
       "      <td>678660.0</td>\n",
       "      <td>99.510</td>\n",
       "      <td>114.490</td>\n",
       "    </tr>\n",
       "    <tr>\n",
       "      <th>2020-12-17</th>\n",
       "      <td>104.7</td>\n",
       "      <td>3</td>\n",
       "      <td>4</td>\n",
       "      <td>12</td>\n",
       "      <td>2020</td>\n",
       "      <td>352</td>\n",
       "      <td>17</td>\n",
       "      <td>51</td>\n",
       "      <td>106.19</td>\n",
       "      <td>105.505</td>\n",
       "      <td>103.390</td>\n",
       "      <td>106.8</td>\n",
       "      <td>108.9</td>\n",
       "      <td>106.7</td>\n",
       "      <td>104.9</td>\n",
       "      <td>106.0</td>\n",
       "      <td>105.0</td>\n",
       "      <td>105.8</td>\n",
       "      <td>107.1</td>\n",
       "      <td>108.9</td>\n",
       "      <td>108.9</td>\n",
       "      <td>106.8</td>\n",
       "      <td>107.0</td>\n",
       "      <td>106.0</td>\n",
       "      <td>105.8</td>\n",
       "      <td>105.9</td>\n",
       "      <td>106.7</td>\n",
       "      <td>105.5</td>\n",
       "      <td>104.9</td>\n",
       "      <td>104.9</td>\n",
       "      <td>104.4</td>\n",
       "      <td>104.8</td>\n",
       "      <td>107.0</td>\n",
       "      <td>107.0</td>\n",
       "      <td>108.9</td>\n",
       "      <td>106.8</td>\n",
       "      <td>104.9</td>\n",
       "      <td>106.0</td>\n",
       "      <td>105.0</td>\n",
       "      <td>756200.0</td>\n",
       "      <td>1205700.0</td>\n",
       "      <td>1122380.0</td>\n",
       "      <td>569360.0</td>\n",
       "      <td>979550.0</td>\n",
       "      <td>789790.0</td>\n",
       "      <td>747280.0</td>\n",
       "      <td>99.510</td>\n",
       "      <td>114.490</td>\n",
       "    </tr>\n",
       "    <tr>\n",
       "      <th>2020-12-18</th>\n",
       "      <td>104.7</td>\n",
       "      <td>4</td>\n",
       "      <td>4</td>\n",
       "      <td>12</td>\n",
       "      <td>2020</td>\n",
       "      <td>353</td>\n",
       "      <td>18</td>\n",
       "      <td>51</td>\n",
       "      <td>106.08</td>\n",
       "      <td>105.550</td>\n",
       "      <td>103.612</td>\n",
       "      <td>107.0</td>\n",
       "      <td>106.8</td>\n",
       "      <td>108.9</td>\n",
       "      <td>106.7</td>\n",
       "      <td>104.9</td>\n",
       "      <td>106.0</td>\n",
       "      <td>105.0</td>\n",
       "      <td>107.0</td>\n",
       "      <td>107.1</td>\n",
       "      <td>108.9</td>\n",
       "      <td>108.9</td>\n",
       "      <td>106.8</td>\n",
       "      <td>107.0</td>\n",
       "      <td>106.0</td>\n",
       "      <td>104.6</td>\n",
       "      <td>105.9</td>\n",
       "      <td>106.7</td>\n",
       "      <td>105.5</td>\n",
       "      <td>104.9</td>\n",
       "      <td>104.9</td>\n",
       "      <td>104.4</td>\n",
       "      <td>104.7</td>\n",
       "      <td>107.0</td>\n",
       "      <td>107.0</td>\n",
       "      <td>108.9</td>\n",
       "      <td>106.8</td>\n",
       "      <td>104.9</td>\n",
       "      <td>106.0</td>\n",
       "      <td>1352580.0</td>\n",
       "      <td>756200.0</td>\n",
       "      <td>1205700.0</td>\n",
       "      <td>1122380.0</td>\n",
       "      <td>569360.0</td>\n",
       "      <td>979550.0</td>\n",
       "      <td>789790.0</td>\n",
       "      <td>97.371</td>\n",
       "      <td>112.029</td>\n",
       "    </tr>\n",
       "  </tbody>\n",
       "</table>\n",
       "<p>222 rows × 48 columns</p>\n",
       "</div>"
      ],
      "text/plain": [
       "            Close  dayofweek  quarter  month  year  dayofyear  dayofmonth  \\\n",
       "DTYYYYMMDD                                                                  \n",
       "2020-02-07  114.4          4        1      2  2020         38           7   \n",
       "2020-02-10  113.7          0        1      2  2020         41          10   \n",
       "2020-02-11  113.4          1        1      2  2020         42          11   \n",
       "2020-02-12  112.0          2        1      2  2020         43          12   \n",
       "2020-02-13  112.4          3        1      2  2020         44          13   \n",
       "...           ...        ...      ...    ...   ...        ...         ...   \n",
       "2020-12-14  108.9          0        4     12  2020        349          14   \n",
       "2020-12-15  107.0          1        4     12  2020        350          15   \n",
       "2020-12-16  107.0          2        4     12  2020        351          16   \n",
       "2020-12-17  104.7          3        4     12  2020        352          17   \n",
       "2020-12-18  104.7          4        4     12  2020        353          18   \n",
       "\n",
       "            weekofyear  MA for 10 days  MA for 20 days  MA for 50 days  \\\n",
       "DTYYYYMMDD                                                               \n",
       "2020-02-07           6          114.73         114.755         115.260   \n",
       "2020-02-10           7          114.61         114.715         115.210   \n",
       "2020-02-11           7          114.46         114.650         115.158   \n",
       "2020-02-12           7          114.17         114.535         115.094   \n",
       "2020-02-13           7          113.92         114.420         115.030   \n",
       "...                ...             ...             ...             ...   \n",
       "2020-12-14          51          105.90         105.315         102.548   \n",
       "2020-12-15          51          106.10         105.365         102.852   \n",
       "2020-12-16          51          106.30         105.470         103.142   \n",
       "2020-12-17          51          106.19         105.505         103.390   \n",
       "2020-12-18          51          106.08         105.550         103.612   \n",
       "\n",
       "            Open_1  Open_2  Open_3  Open_4  Open_5  Open_6  Open_7  High_1  \\\n",
       "DTYYYYMMDD                                                                   \n",
       "2020-02-07   114.5   114.8   113.6   113.8   114.9   114.1   114.9   114.7   \n",
       "2020-02-10   114.0   114.5   114.8   113.6   113.8   114.9   114.1   114.4   \n",
       "2020-02-11   113.0   114.0   114.5   114.8   113.6   113.8   114.9   114.1   \n",
       "2020-02-12   113.5   113.0   114.0   114.5   114.8   113.6   113.8   114.2   \n",
       "2020-02-13   113.4   113.5   113.0   114.0   114.5   114.8   113.6   113.4   \n",
       "...            ...     ...     ...     ...     ...     ...     ...     ...   \n",
       "2020-12-14   104.9   106.0   105.0   105.8   106.0   105.8   105.0   106.8   \n",
       "2020-12-15   106.7   104.9   106.0   105.0   105.8   106.0   105.8   108.9   \n",
       "2020-12-16   108.9   106.7   104.9   106.0   105.0   105.8   106.0   108.9   \n",
       "2020-12-17   106.8   108.9   106.7   104.9   106.0   105.0   105.8   107.1   \n",
       "2020-12-18   107.0   106.8   108.9   106.7   104.9   106.0   105.0   107.0   \n",
       "\n",
       "            High_2  High_3  High_4  High_5  High_6  High_7  Low_1  Low_2  \\\n",
       "DTYYYYMMDD                                                                 \n",
       "2020-02-07   114.8   114.8   114.8   114.9   114.9   114.9  112.8  113.0   \n",
       "2020-02-10   114.7   114.8   114.8   114.8   114.9   114.9  112.0  112.8   \n",
       "2020-02-11   114.4   114.7   114.8   114.8   114.8   114.9  113.0  112.0   \n",
       "2020-02-12   114.1   114.4   114.7   114.8   114.8   114.8  113.0  113.0   \n",
       "2020-02-13   114.2   114.1   114.4   114.7   114.8   114.8  112.0  113.0   \n",
       "...            ...     ...     ...     ...     ...     ...    ...    ...   \n",
       "2020-12-14   107.0   106.0   105.8   106.0   106.5   105.8  104.9  104.9   \n",
       "2020-12-15   106.8   107.0   106.0   105.8   106.0   106.5  105.5  104.9   \n",
       "2020-12-16   108.9   106.8   107.0   106.0   105.8   106.0  106.7  105.5   \n",
       "2020-12-17   108.9   108.9   106.8   107.0   106.0   105.8  105.9  106.7   \n",
       "2020-12-18   107.1   108.9   108.9   106.8   107.0   106.0  104.6  105.9   \n",
       "\n",
       "            Low_3  Low_4  Low_5  Low_6  Low_7  Close_1  Close_2  Close_3  \\\n",
       "DTYYYYMMDD                                                                 \n",
       "2020-02-07  111.8  112.3  113.6  112.1  114.2    114.4    114.5    114.8   \n",
       "2020-02-10  113.0  111.8  112.3  113.6  112.1    114.4    114.4    114.5   \n",
       "2020-02-11  112.8  113.0  111.8  112.3  113.6    113.7    114.4    114.4   \n",
       "2020-02-12  112.0  112.8  113.0  111.8  112.3    113.4    113.7    114.4   \n",
       "2020-02-13  113.0  112.0  112.8  113.0  111.8    112.0    113.4    113.7   \n",
       "...           ...    ...    ...    ...    ...      ...      ...      ...   \n",
       "2020-12-14  104.4  104.8  105.1  104.5  104.3    106.8    104.9    106.0   \n",
       "2020-12-15  104.9  104.4  104.8  105.1  104.5    108.9    106.8    104.9   \n",
       "2020-12-16  104.9  104.9  104.4  104.8  105.1    107.0    108.9    106.8   \n",
       "2020-12-17  105.5  104.9  104.9  104.4  104.8    107.0    107.0    108.9   \n",
       "2020-12-18  106.7  105.5  104.9  104.9  104.4    104.7    107.0    107.0   \n",
       "\n",
       "            Close_4  Close_5  Close_6  Close_7   Volume_1   Volume_2  \\\n",
       "DTYYYYMMDD                                                             \n",
       "2020-02-07    114.8    114.8    114.9    114.9   676290.0   468420.0   \n",
       "2020-02-10    114.8    114.8    114.8    114.9  1295520.0   676290.0   \n",
       "2020-02-11    114.5    114.8    114.8    114.8   192700.0  1295520.0   \n",
       "2020-02-12    114.4    114.5    114.8    114.8   290630.0   192700.0   \n",
       "2020-02-13    114.4    114.4    114.5    114.8   452790.0   290630.0   \n",
       "...             ...      ...      ...      ...        ...        ...   \n",
       "2020-12-14    105.0    105.8    105.8    105.8   569360.0   979550.0   \n",
       "2020-12-15    106.0    105.0    105.8    105.8  1122380.0   569360.0   \n",
       "2020-12-16    104.9    106.0    105.0    105.8  1205700.0  1122380.0   \n",
       "2020-12-17    106.8    104.9    106.0    105.0   756200.0  1205700.0   \n",
       "2020-12-18    108.9    106.8    104.9    106.0  1352580.0   756200.0   \n",
       "\n",
       "             Volume_3   Volume_4   Volume_5   Volume_6   Volume_7  lowerbound  \\\n",
       "DTYYYYMMDD                                                                      \n",
       "2020-02-07  1485500.0   760420.0   831740.0   682720.0   371780.0     106.392   \n",
       "2020-02-10   468420.0  1485500.0   760420.0   831740.0   682720.0     106.392   \n",
       "2020-02-11   676290.0   468420.0  1485500.0   760420.0   831740.0     105.741   \n",
       "2020-02-12  1295520.0   676290.0   468420.0  1485500.0   760420.0     105.462   \n",
       "2020-02-13   192700.0  1295520.0   676290.0   468420.0  1485500.0     104.160   \n",
       "...               ...        ...        ...        ...        ...         ...   \n",
       "2020-12-14   789790.0   747280.0   678660.0   797060.0   731750.0      99.324   \n",
       "2020-12-15   979550.0   789790.0   747280.0   678660.0   797060.0     101.277   \n",
       "2020-12-16   569360.0   979550.0   789790.0   747280.0   678660.0      99.510   \n",
       "2020-12-17  1122380.0   569360.0   979550.0   789790.0   747280.0      99.510   \n",
       "2020-12-18  1205700.0  1122380.0   569360.0   979550.0   789790.0      97.371   \n",
       "\n",
       "            upperbound  \n",
       "DTYYYYMMDD              \n",
       "2020-02-07     122.408  \n",
       "2020-02-10     122.408  \n",
       "2020-02-11     121.659  \n",
       "2020-02-12     121.338  \n",
       "2020-02-13     119.840  \n",
       "...                ...  \n",
       "2020-12-14     114.276  \n",
       "2020-12-15     116.523  \n",
       "2020-12-16     114.490  \n",
       "2020-12-17     114.490  \n",
       "2020-12-18     112.029  \n",
       "\n",
       "[222 rows x 48 columns]"
      ]
     },
     "execution_count": 46,
     "metadata": {},
     "output_type": "execute_result"
    }
   ],
   "source": [
    "test_data"
   ]
  },
  {
   "cell_type": "code",
   "execution_count": 47,
   "metadata": {},
   "outputs": [],
   "source": [
    "X_train, y_train = train_data.drop(columns=[label_col]), train_data[label_col]\n",
    "X_test, y_test = test_data.drop(columns=[label_col]), test_data[label_col]"
   ]
  },
  {
   "cell_type": "code",
   "execution_count": 48,
   "metadata": {},
   "outputs": [
    {
     "data": {
      "text/plain": [
       "<matplotlib.legend.Legend at 0x1ec94c93730>"
      ]
     },
     "execution_count": 48,
     "metadata": {},
     "output_type": "execute_result"
    },
    {
     "data": {
      "image/png": "[encoded data removed]",
      "text/plain": [
       "<Figure size 864x504 with 1 Axes>"
      ]
     },
     "metadata": {
      "needs_background": "light"
     },
     "output_type": "display_data"
    }
   ],
   "source": [
    "plt.figure(figsize=(12,7))\n",
    "plt.title('Close Prices')\n",
    "plt.xlabel('Dates')\n",
    "plt.ylabel('Prices')\n",
    "plt.plot(y_train, 'blue', label='Training Data')\n",
    "plt.plot(y_test, 'green', label='Testing Data')\n",
    "plt.legend()\n"
   ]
  },
  {
   "cell_type": "markdown",
   "metadata": {},
   "source": [
    "## Baseline\n",
    "\n",
    "Linear Regression"
   ]
  },
  {
   "cell_type": "code",
   "execution_count": 49,
   "metadata": {},
   "outputs": [],
   "source": [
    "from sklearn.linear_model import LinearRegression"
   ]
  },
  {
   "cell_type": "code",
   "execution_count": 50,
   "metadata": {},
   "outputs": [
    {
     "data": {
      "text/plain": [
       "LinearRegression()"
      ]
     },
     "execution_count": 50,
     "metadata": {},
     "output_type": "execute_result"
    }
   ],
   "source": [
    "linear_reg = LinearRegression()\n",
    "linear_reg.fit(X_train, y_train)"
   ]
  },
  {
   "cell_type": "markdown",
   "metadata": {},
   "source": [
    "Evaluate"
   ]
  },
  {
   "cell_type": "code",
   "execution_count": 51,
   "metadata": {},
   "outputs": [],
   "source": [
    "from sklearn.metrics import mean_squared_error, r2_score"
   ]
  },
  {
   "cell_type": "code",
   "execution_count": 52,
   "metadata": {},
   "outputs": [],
   "source": [
    "def MAPE(y_true, y_pred):\n",
    "    error = np.abs(y_true - y_pred) / y_true\n",
    "    error.replace([np.inf, -np.inf], np.nan, inplace=True)\n",
    "    error = error[~np.isnan(error)]\n",
    "\n",
    "    return np.mean(error) * 100\n"
   ]
  },
  {
   "cell_type": "code",
   "execution_count": 53,
   "metadata": {},
   "outputs": [
    {
     "data": {
      "text/plain": [
       "1.854000752016945"
      ]
     },
     "execution_count": 53,
     "metadata": {},
     "output_type": "execute_result"
    }
   ],
   "source": [
    "y_pred = linear_reg.predict(X_test)\n",
    "y_pred = pd.Series(y_pred, index=y_test.index)\n",
    "MAPE(y_test, y_pred)"
   ]
  },
  {
   "cell_type": "code",
   "execution_count": 54,
   "metadata": {},
   "outputs": [
    {
     "data": {
      "text/plain": [
       "5.3571721126255865"
      ]
     },
     "execution_count": 54,
     "metadata": {},
     "output_type": "execute_result"
    }
   ],
   "source": [
    "mean_squared_error(y_test, y_pred)"
   ]
  },
  {
   "cell_type": "code",
   "execution_count": 55,
   "metadata": {},
   "outputs": [
    {
     "data": {
      "text/plain": [
       "0.9054957526101425"
      ]
     },
     "execution_count": 55,
     "metadata": {},
     "output_type": "execute_result"
    }
   ],
   "source": [
    "r2_score(y_test, y_pred)"
   ]
  },
  {
   "cell_type": "code",
   "execution_count": 56,
   "metadata": {},
   "outputs": [
    {
     "data": {
      "image/png": "[encoded data removed]",
      "text/plain": [
       "<Figure size 864x504 with 1 Axes>"
      ]
     },
     "metadata": {
      "needs_background": "light"
     },
     "output_type": "display_data"
    }
   ],
   "source": [
    "plt.figure(figsize=(12, 7))\n",
    "plt.xlabel('Date')\n",
    "plt.ylabel('Close Prices')\n",
    "plt.plot(y_train)\n",
    "plt.plot(y_test)\n",
    "plt.plot(y_pred)\n",
    "plt.legend(['Train', 'Test', 'Predictions'], loc='lower right')\n",
    "plt.show()"
   ]
  },
  {
   "cell_type": "code",
   "execution_count": null,
   "metadata": {},
   "outputs": [],
   "source": []
  }
 ],
 "metadata": {
  "kernelspec": {
   "display_name": "Python 3",
   "language": "python",
   "name": "python3"
  },
  "language_info": {
   "codemirror_mode": {
    "name": "ipython",
    "version": 3
   },
   "file_extension": ".py",
   "mimetype": "text/x-python",
   "name": "python",
   "nbconvert_exporter": "python",
   "pygments_lexer": "ipython3",
   "version": "3.8.3"
  }
 },
 "nbformat": 4,
 "nbformat_minor": 4
}
