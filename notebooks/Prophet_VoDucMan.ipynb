{
 "cells": [
  {
   "cell_type": "code",
   "execution_count": 1,
   "metadata": {},
   "outputs": [],
   "source": [
    "import numpy as np\n",
    "import pandas as pd\n",
    "import os\n",
    "import matplotlib.pyplot as plt\n",
    "from fbprophet import Prophet\n",
    "from pylab import rcParams\n",
    "from tqdm import tqdm\n",
    "import warnings\n",
    "warnings.filterwarnings(\"ignore\")\n",
    "rcParams['figure.figsize'] = (22,5)"
   ]
  },
  {
   "cell_type": "code",
   "execution_count": 2,
   "metadata": {},
   "outputs": [],
   "source": [
    "FILE_PATH = \"../dataset/excel_fpt.csv\"\n",
    "TEST_SIZE = 100\n",
    "TEST_HORIZON = 30\n",
    "SEASONALITY = False"
   ]
  },
  {
   "cell_type": "code",
   "execution_count": 3,
   "metadata": {},
   "outputs": [],
   "source": [
    "def MAPE_point(true_value, predict_value):\n",
    "    return \"MAPE for one day: \" + str(100 * np.abs((true_value - predict_value)/true_value))\n",
    "\n",
    "def MAPE_range(true_values, predict_value):\n",
    "    percen_errors = []\n",
    "    for i in range(len(true_values)):\n",
    "        percen_errors.append(100 * np.abs((true_values[i] - predict_values[i])/true_values[i]))\n",
    "    return \"MAPE for range {} days: \".format(TEST_SIZE) + str(sum(percen_errors)/len(percen_errors))"
   ]
  },
  {
   "cell_type": "code",
   "execution_count": 4,
   "metadata": {},
   "outputs": [
    {
     "data": {
      "text/html": [
       "<div>\n",
       "<style scoped>\n",
       "    .dataframe tbody tr th:only-of-type {\n",
       "        vertical-align: middle;\n",
       "    }\n",
       "\n",
       "    .dataframe tbody tr th {\n",
       "        vertical-align: top;\n",
       "    }\n",
       "\n",
       "    .dataframe thead th {\n",
       "        text-align: right;\n",
       "    }\n",
       "</style>\n",
       "<table border=\"1\" class=\"dataframe\">\n",
       "  <thead>\n",
       "    <tr style=\"text-align: right;\">\n",
       "      <th></th>\n",
       "      <th>&lt;Ticker&gt;</th>\n",
       "      <th>&lt;DTYYYYMMDD&gt;</th>\n",
       "      <th>&lt;Open&gt;</th>\n",
       "      <th>&lt;High&gt;</th>\n",
       "      <th>&lt;Low&gt;</th>\n",
       "      <th>&lt;Close&gt;</th>\n",
       "      <th>&lt;Volume&gt;</th>\n",
       "    </tr>\n",
       "  </thead>\n",
       "  <tbody>\n",
       "    <tr>\n",
       "      <th>0</th>\n",
       "      <td>FPT</td>\n",
       "      <td>20201216</td>\n",
       "      <td>57.2</td>\n",
       "      <td>57.5</td>\n",
       "      <td>57.0</td>\n",
       "      <td>57.1</td>\n",
       "      <td>1995530</td>\n",
       "    </tr>\n",
       "    <tr>\n",
       "      <th>1</th>\n",
       "      <td>FPT</td>\n",
       "      <td>20201215</td>\n",
       "      <td>57.5</td>\n",
       "      <td>57.6</td>\n",
       "      <td>56.6</td>\n",
       "      <td>56.7</td>\n",
       "      <td>2666900</td>\n",
       "    </tr>\n",
       "    <tr>\n",
       "      <th>2</th>\n",
       "      <td>FPT</td>\n",
       "      <td>20201214</td>\n",
       "      <td>57.0</td>\n",
       "      <td>58.0</td>\n",
       "      <td>56.9</td>\n",
       "      <td>57.2</td>\n",
       "      <td>1443760</td>\n",
       "    </tr>\n",
       "    <tr>\n",
       "      <th>3</th>\n",
       "      <td>FPT</td>\n",
       "      <td>20201211</td>\n",
       "      <td>56.6</td>\n",
       "      <td>57.0</td>\n",
       "      <td>56.3</td>\n",
       "      <td>57.0</td>\n",
       "      <td>1750270</td>\n",
       "    </tr>\n",
       "    <tr>\n",
       "      <th>4</th>\n",
       "      <td>FPT</td>\n",
       "      <td>20201210</td>\n",
       "      <td>57.0</td>\n",
       "      <td>57.7</td>\n",
       "      <td>56.5</td>\n",
       "      <td>56.5</td>\n",
       "      <td>2112490</td>\n",
       "    </tr>\n",
       "  </tbody>\n",
       "</table>\n",
       "</div>"
      ],
      "text/plain": [
       "  <Ticker>  <DTYYYYMMDD>  <Open>  <High>  <Low>  <Close>  <Volume>\n",
       "0      FPT      20201216    57.2    57.5   57.0     57.1   1995530\n",
       "1      FPT      20201215    57.5    57.6   56.6     56.7   2666900\n",
       "2      FPT      20201214    57.0    58.0   56.9     57.2   1443760\n",
       "3      FPT      20201211    56.6    57.0   56.3     57.0   1750270\n",
       "4      FPT      20201210    57.0    57.7   56.5     56.5   2112490"
      ]
     },
     "execution_count": 4,
     "metadata": {},
     "output_type": "execute_result"
    }
   ],
   "source": [
    "df = pd.read_csv(FILE_PATH)\n",
    "df.head()"
   ]
  },
  {
   "cell_type": "code",
   "execution_count": 5,
   "metadata": {},
   "outputs": [
    {
     "data": {
      "text/html": [
       "<div>\n",
       "<style scoped>\n",
       "    .dataframe tbody tr th:only-of-type {\n",
       "        vertical-align: middle;\n",
       "    }\n",
       "\n",
       "    .dataframe tbody tr th {\n",
       "        vertical-align: top;\n",
       "    }\n",
       "\n",
       "    .dataframe thead th {\n",
       "        text-align: right;\n",
       "    }\n",
       "</style>\n",
       "<table border=\"1\" class=\"dataframe\">\n",
       "  <thead>\n",
       "    <tr style=\"text-align: right;\">\n",
       "      <th></th>\n",
       "      <th>&lt;Ticker&gt;</th>\n",
       "      <th>&lt;DTYYYYMMDD&gt;</th>\n",
       "      <th>&lt;Open&gt;</th>\n",
       "      <th>&lt;High&gt;</th>\n",
       "      <th>&lt;Low&gt;</th>\n",
       "      <th>&lt;Close&gt;</th>\n",
       "      <th>&lt;Volume&gt;</th>\n",
       "    </tr>\n",
       "  </thead>\n",
       "  <tbody>\n",
       "    <tr>\n",
       "      <th>3485</th>\n",
       "      <td>FPT</td>\n",
       "      <td>20061219</td>\n",
       "      <td>27.4356</td>\n",
       "      <td>27.4356</td>\n",
       "      <td>27.4356</td>\n",
       "      <td>27.4356</td>\n",
       "      <td>137520</td>\n",
       "    </tr>\n",
       "    <tr>\n",
       "      <th>3486</th>\n",
       "      <td>FPT</td>\n",
       "      <td>20061218</td>\n",
       "      <td>26.1371</td>\n",
       "      <td>26.1371</td>\n",
       "      <td>26.1371</td>\n",
       "      <td>26.1372</td>\n",
       "      <td>215790</td>\n",
       "    </tr>\n",
       "    <tr>\n",
       "      <th>3487</th>\n",
       "      <td>FPT</td>\n",
       "      <td>20061215</td>\n",
       "      <td>24.8952</td>\n",
       "      <td>24.8952</td>\n",
       "      <td>24.8952</td>\n",
       "      <td>24.8952</td>\n",
       "      <td>265300</td>\n",
       "    </tr>\n",
       "    <tr>\n",
       "      <th>3488</th>\n",
       "      <td>FPT</td>\n",
       "      <td>20061214</td>\n",
       "      <td>23.7097</td>\n",
       "      <td>23.7097</td>\n",
       "      <td>23.7097</td>\n",
       "      <td>23.7097</td>\n",
       "      <td>280710</td>\n",
       "    </tr>\n",
       "    <tr>\n",
       "      <th>3489</th>\n",
       "      <td>FPT</td>\n",
       "      <td>20061213</td>\n",
       "      <td>22.5807</td>\n",
       "      <td>22.5807</td>\n",
       "      <td>22.5807</td>\n",
       "      <td>22.5807</td>\n",
       "      <td>83530</td>\n",
       "    </tr>\n",
       "  </tbody>\n",
       "</table>\n",
       "</div>"
      ],
      "text/plain": [
       "     <Ticker>  <DTYYYYMMDD>   <Open>   <High>    <Low>  <Close>  <Volume>\n",
       "3485      FPT      20061219  27.4356  27.4356  27.4356  27.4356    137520\n",
       "3486      FPT      20061218  26.1371  26.1371  26.1371  26.1372    215790\n",
       "3487      FPT      20061215  24.8952  24.8952  24.8952  24.8952    265300\n",
       "3488      FPT      20061214  23.7097  23.7097  23.7097  23.7097    280710\n",
       "3489      FPT      20061213  22.5807  22.5807  22.5807  22.5807     83530"
      ]
     },
     "execution_count": 5,
     "metadata": {},
     "output_type": "execute_result"
    }
   ],
   "source": [
    "df.tail()"
   ]
  },
  {
   "cell_type": "code",
   "execution_count": 6,
   "metadata": {},
   "outputs": [
    {
     "data": {
      "text/html": [
       "<div>\n",
       "<style scoped>\n",
       "    .dataframe tbody tr th:only-of-type {\n",
       "        vertical-align: middle;\n",
       "    }\n",
       "\n",
       "    .dataframe tbody tr th {\n",
       "        vertical-align: top;\n",
       "    }\n",
       "\n",
       "    .dataframe thead th {\n",
       "        text-align: right;\n",
       "    }\n",
       "</style>\n",
       "<table border=\"1\" class=\"dataframe\">\n",
       "  <thead>\n",
       "    <tr style=\"text-align: right;\">\n",
       "      <th></th>\n",
       "      <th>ds</th>\n",
       "      <th>y</th>\n",
       "    </tr>\n",
       "  </thead>\n",
       "  <tbody>\n",
       "    <tr>\n",
       "      <th>0</th>\n",
       "      <td>2006-12-13</td>\n",
       "      <td>22.5807</td>\n",
       "    </tr>\n",
       "    <tr>\n",
       "      <th>1</th>\n",
       "      <td>2006-12-14</td>\n",
       "      <td>23.7097</td>\n",
       "    </tr>\n",
       "    <tr>\n",
       "      <th>2</th>\n",
       "      <td>2006-12-15</td>\n",
       "      <td>24.8952</td>\n",
       "    </tr>\n",
       "    <tr>\n",
       "      <th>3</th>\n",
       "      <td>2006-12-18</td>\n",
       "      <td>26.1372</td>\n",
       "    </tr>\n",
       "    <tr>\n",
       "      <th>4</th>\n",
       "      <td>2006-12-19</td>\n",
       "      <td>27.4356</td>\n",
       "    </tr>\n",
       "  </tbody>\n",
       "</table>\n",
       "</div>"
      ],
      "text/plain": [
       "          ds        y\n",
       "0 2006-12-13  22.5807\n",
       "1 2006-12-14  23.7097\n",
       "2 2006-12-15  24.8952\n",
       "3 2006-12-18  26.1372\n",
       "4 2006-12-19  27.4356"
      ]
     },
     "execution_count": 6,
     "metadata": {},
     "output_type": "execute_result"
    }
   ],
   "source": [
    "columns = df.columns\n",
    "columns_remove_bracket = [label.replace(\"<\",\"\").replace(\">\",\"\") for label in columns]\n",
    "columns_to_replace = {columns[i]: columns_remove_bracket[i] for i in range(len(df.columns))}\n",
    "df.rename(columns=columns_to_replace, inplace=True)\n",
    "df.drop([\"Ticker\",\"Open\",\"High\",\"Low\",\"Volume\"], axis=1, inplace=True)\n",
    "df[\"DTYYYYMMDD\"] = pd.to_datetime(df[\"DTYYYYMMDD\"], format=\"%Y%m%d\", errors=\"coerce\")\n",
    "df.rename(columns={\"DTYYYYMMDD\": \"ds\", \"Close\": \"y\"}, inplace=True)\n",
    "df.sort_values(by=\"ds\", inplace=True, ascending=True)\n",
    "df.reset_index(inplace=True, drop=True)\n",
    "df.head()"
   ]
  },
  {
   "cell_type": "code",
   "execution_count": 7,
   "metadata": {},
   "outputs": [
    {
     "data": {
      "text/html": [
       "<div>\n",
       "<style scoped>\n",
       "    .dataframe tbody tr th:only-of-type {\n",
       "        vertical-align: middle;\n",
       "    }\n",
       "\n",
       "    .dataframe tbody tr th {\n",
       "        vertical-align: top;\n",
       "    }\n",
       "\n",
       "    .dataframe thead th {\n",
       "        text-align: right;\n",
       "    }\n",
       "</style>\n",
       "<table border=\"1\" class=\"dataframe\">\n",
       "  <thead>\n",
       "    <tr style=\"text-align: right;\">\n",
       "      <th></th>\n",
       "      <th>ds</th>\n",
       "      <th>y</th>\n",
       "    </tr>\n",
       "  </thead>\n",
       "  <tbody>\n",
       "    <tr>\n",
       "      <th>0</th>\n",
       "      <td>2010-01-04</td>\n",
       "      <td>11.4774</td>\n",
       "    </tr>\n",
       "    <tr>\n",
       "      <th>1</th>\n",
       "      <td>2010-01-05</td>\n",
       "      <td>11.4774</td>\n",
       "    </tr>\n",
       "    <tr>\n",
       "      <th>2</th>\n",
       "      <td>2010-01-06</td>\n",
       "      <td>11.2687</td>\n",
       "    </tr>\n",
       "    <tr>\n",
       "      <th>3</th>\n",
       "      <td>2010-01-07</td>\n",
       "      <td>11.1991</td>\n",
       "    </tr>\n",
       "    <tr>\n",
       "      <th>4</th>\n",
       "      <td>2010-01-08</td>\n",
       "      <td>10.8513</td>\n",
       "    </tr>\n",
       "  </tbody>\n",
       "</table>\n",
       "</div>"
      ],
      "text/plain": [
       "          ds        y\n",
       "0 2010-01-04  11.4774\n",
       "1 2010-01-05  11.4774\n",
       "2 2010-01-06  11.2687\n",
       "3 2010-01-07  11.1991\n",
       "4 2010-01-08  10.8513"
      ]
     },
     "execution_count": 7,
     "metadata": {},
     "output_type": "execute_result"
    }
   ],
   "source": [
    "df = df[df[\"ds\"].dt.year >= 2010].reset_index()\n",
    "df.drop(\"index\", axis=1,inplace=True)\n",
    "df.head()"
   ]
  },
  {
   "cell_type": "code",
   "execution_count": 8,
   "metadata": {},
   "outputs": [
    {
     "data": {
      "text/plain": [
       "(2733, (2633, 2), (100, 2))"
      ]
     },
     "execution_count": 8,
     "metadata": {},
     "output_type": "execute_result"
    }
   ],
   "source": [
    "total = len(df)\n",
    "x_train, x_test = df[:total-TEST_SIZE].copy(), df[total-TEST_SIZE:].copy()\n",
    "x_test.reset_index(inplace=True)\n",
    "x_test.drop(\"index\", axis=1, inplace=True)\n",
    "total, x_train.shape, x_test.shape"
   ]
  },
  {
   "cell_type": "code",
   "execution_count": 9,
   "metadata": {},
   "outputs": [
    {
     "data": {
      "text/plain": [
       "<fbprophet.forecaster.Prophet at 0x2617d991848>"
      ]
     },
     "execution_count": 9,
     "metadata": {},
     "output_type": "execute_result"
    }
   ],
   "source": [
    "model = Prophet(daily_seasonality=False)\n",
    "model.fit(x_train)"
   ]
  },
  {
   "cell_type": "code",
   "execution_count": 10,
   "metadata": {},
   "outputs": [
    {
     "data": {
      "text/html": [
       "<div>\n",
       "<style scoped>\n",
       "    .dataframe tbody tr th:only-of-type {\n",
       "        vertical-align: middle;\n",
       "    }\n",
       "\n",
       "    .dataframe tbody tr th {\n",
       "        vertical-align: top;\n",
       "    }\n",
       "\n",
       "    .dataframe thead th {\n",
       "        text-align: right;\n",
       "    }\n",
       "</style>\n",
       "<table border=\"1\" class=\"dataframe\">\n",
       "  <thead>\n",
       "    <tr style=\"text-align: right;\">\n",
       "      <th></th>\n",
       "      <th>ds</th>\n",
       "    </tr>\n",
       "  </thead>\n",
       "  <tbody>\n",
       "    <tr>\n",
       "      <th>0</th>\n",
       "      <td>2020-07-29</td>\n",
       "    </tr>\n",
       "    <tr>\n",
       "      <th>1</th>\n",
       "      <td>2020-07-30</td>\n",
       "    </tr>\n",
       "    <tr>\n",
       "      <th>2</th>\n",
       "      <td>2020-07-31</td>\n",
       "    </tr>\n",
       "    <tr>\n",
       "      <th>3</th>\n",
       "      <td>2020-08-03</td>\n",
       "    </tr>\n",
       "    <tr>\n",
       "      <th>4</th>\n",
       "      <td>2020-08-04</td>\n",
       "    </tr>\n",
       "  </tbody>\n",
       "</table>\n",
       "</div>"
      ],
      "text/plain": [
       "          ds\n",
       "0 2020-07-29\n",
       "1 2020-07-30\n",
       "2 2020-07-31\n",
       "3 2020-08-03\n",
       "4 2020-08-04"
      ]
     },
     "execution_count": 10,
     "metadata": {},
     "output_type": "execute_result"
    }
   ],
   "source": [
    "# df_future = model.make_future_dataframe(periods=len(x_test), include_history=False)\n",
    "df_future = x_test.drop(columns=[\"y\"])\n",
    "df_future.reset_index(inplace=True, drop=True)\n",
    "df_future.head()"
   ]
  },
  {
   "cell_type": "code",
   "execution_count": 11,
   "metadata": {},
   "outputs": [
    {
     "data": {
      "text/html": [
       "<div>\n",
       "<style scoped>\n",
       "    .dataframe tbody tr th:only-of-type {\n",
       "        vertical-align: middle;\n",
       "    }\n",
       "\n",
       "    .dataframe tbody tr th {\n",
       "        vertical-align: top;\n",
       "    }\n",
       "\n",
       "    .dataframe thead th {\n",
       "        text-align: right;\n",
       "    }\n",
       "</style>\n",
       "<table border=\"1\" class=\"dataframe\">\n",
       "  <thead>\n",
       "    <tr style=\"text-align: right;\">\n",
       "      <th></th>\n",
       "      <th>ds</th>\n",
       "      <th>yhat</th>\n",
       "      <th>yhat_lower</th>\n",
       "      <th>yhat_upper</th>\n",
       "    </tr>\n",
       "  </thead>\n",
       "  <tbody>\n",
       "    <tr>\n",
       "      <th>0</th>\n",
       "      <td>2020-07-29</td>\n",
       "      <td>48.480408</td>\n",
       "      <td>46.144214</td>\n",
       "      <td>50.707809</td>\n",
       "    </tr>\n",
       "    <tr>\n",
       "      <th>1</th>\n",
       "      <td>2020-07-30</td>\n",
       "      <td>48.571842</td>\n",
       "      <td>46.357316</td>\n",
       "      <td>50.995901</td>\n",
       "    </tr>\n",
       "    <tr>\n",
       "      <th>2</th>\n",
       "      <td>2020-07-31</td>\n",
       "      <td>48.621013</td>\n",
       "      <td>46.414251</td>\n",
       "      <td>51.230991</td>\n",
       "    </tr>\n",
       "    <tr>\n",
       "      <th>3</th>\n",
       "      <td>2020-08-03</td>\n",
       "      <td>48.726656</td>\n",
       "      <td>46.415901</td>\n",
       "      <td>51.216043</td>\n",
       "    </tr>\n",
       "    <tr>\n",
       "      <th>4</th>\n",
       "      <td>2020-08-04</td>\n",
       "      <td>48.809630</td>\n",
       "      <td>46.439273</td>\n",
       "      <td>51.274426</td>\n",
       "    </tr>\n",
       "  </tbody>\n",
       "</table>\n",
       "</div>"
      ],
      "text/plain": [
       "          ds       yhat  yhat_lower  yhat_upper\n",
       "0 2020-07-29  48.480408   46.144214   50.707809\n",
       "1 2020-07-30  48.571842   46.357316   50.995901\n",
       "2 2020-07-31  48.621013   46.414251   51.230991\n",
       "3 2020-08-03  48.726656   46.415901   51.216043\n",
       "4 2020-08-04  48.809630   46.439273   51.274426"
      ]
     },
     "execution_count": 11,
     "metadata": {},
     "output_type": "execute_result"
    }
   ],
   "source": [
    "forecast = model.predict(df_future)\n",
    "forecast[['ds', 'yhat', 'yhat_lower', 'yhat_upper']].head()"
   ]
  },
  {
   "cell_type": "code",
   "execution_count": 12,
   "metadata": {},
   "outputs": [
    {
     "data": {
      "text/plain": [
       "<matplotlib.legend.Legend at 0x2610054be08>"
      ]
     },
     "execution_count": 12,
     "metadata": {},
     "output_type": "execute_result"
    },
    {
     "data": {
      "image/png": "[encoded data removed]",
      "text/plain": [
       "<Figure size 720x432 with 1 Axes>"
      ]
     },
     "metadata": {},
     "output_type": "display_data"
    }
   ],
   "source": [
    "figure_1 = model.plot(forecast)\n",
    "x_test_clone = x_test.copy()\n",
    "x_test_clone.set_index(\"ds\", inplace=True)\n",
    "plt.plot(x_test_clone, color=\"red\", label=\"True values\")\n",
    "plt.legend()"
   ]
  },
  {
   "cell_type": "code",
   "execution_count": 13,
   "metadata": {},
   "outputs": [
    {
     "data": {
      "image/png": "[encoded data removed]",
      "text/plain": [
       "<Figure size 648x648 with 3 Axes>"
      ]
     },
     "metadata": {},
     "output_type": "display_data"
    }
   ],
   "source": [
    "figure_2 = model.plot_components(forecast)"
   ]
  },
  {
   "cell_type": "code",
   "execution_count": 14,
   "metadata": {},
   "outputs": [
    {
     "data": {
      "text/html": [
       "<div>\n",
       "<style scoped>\n",
       "    .dataframe tbody tr th:only-of-type {\n",
       "        vertical-align: middle;\n",
       "    }\n",
       "\n",
       "    .dataframe tbody tr th {\n",
       "        vertical-align: top;\n",
       "    }\n",
       "\n",
       "    .dataframe thead th {\n",
       "        text-align: right;\n",
       "    }\n",
       "</style>\n",
       "<table border=\"1\" class=\"dataframe\">\n",
       "  <thead>\n",
       "    <tr style=\"text-align: right;\">\n",
       "      <th></th>\n",
       "      <th>ds</th>\n",
       "      <th>trend</th>\n",
       "      <th>yhat_lower</th>\n",
       "      <th>yhat_upper</th>\n",
       "      <th>trend_lower</th>\n",
       "      <th>trend_upper</th>\n",
       "      <th>additive_terms</th>\n",
       "      <th>additive_terms_lower</th>\n",
       "      <th>additive_terms_upper</th>\n",
       "      <th>weekly</th>\n",
       "      <th>weekly_lower</th>\n",
       "      <th>weekly_upper</th>\n",
       "      <th>yearly</th>\n",
       "      <th>yearly_lower</th>\n",
       "      <th>yearly_upper</th>\n",
       "      <th>multiplicative_terms</th>\n",
       "      <th>multiplicative_terms_lower</th>\n",
       "      <th>multiplicative_terms_upper</th>\n",
       "      <th>yhat</th>\n",
       "    </tr>\n",
       "  </thead>\n",
       "  <tbody>\n",
       "    <tr>\n",
       "      <th>0</th>\n",
       "      <td>2020-07-29</td>\n",
       "      <td>48.253345</td>\n",
       "      <td>46.144214</td>\n",
       "      <td>50.707809</td>\n",
       "      <td>48.253345</td>\n",
       "      <td>48.253345</td>\n",
       "      <td>0.227063</td>\n",
       "      <td>0.227063</td>\n",
       "      <td>0.227063</td>\n",
       "      <td>0.142009</td>\n",
       "      <td>0.142009</td>\n",
       "      <td>0.142009</td>\n",
       "      <td>0.085054</td>\n",
       "      <td>0.085054</td>\n",
       "      <td>0.085054</td>\n",
       "      <td>0.0</td>\n",
       "      <td>0.0</td>\n",
       "      <td>0.0</td>\n",
       "      <td>48.480408</td>\n",
       "    </tr>\n",
       "    <tr>\n",
       "      <th>1</th>\n",
       "      <td>2020-07-30</td>\n",
       "      <td>48.276621</td>\n",
       "      <td>46.357316</td>\n",
       "      <td>50.995901</td>\n",
       "      <td>48.276621</td>\n",
       "      <td>48.276621</td>\n",
       "      <td>0.295220</td>\n",
       "      <td>0.295220</td>\n",
       "      <td>0.295220</td>\n",
       "      <td>0.175361</td>\n",
       "      <td>0.175361</td>\n",
       "      <td>0.175361</td>\n",
       "      <td>0.119859</td>\n",
       "      <td>0.119859</td>\n",
       "      <td>0.119859</td>\n",
       "      <td>0.0</td>\n",
       "      <td>0.0</td>\n",
       "      <td>0.0</td>\n",
       "      <td>48.571842</td>\n",
       "    </tr>\n",
       "    <tr>\n",
       "      <th>2</th>\n",
       "      <td>2020-07-31</td>\n",
       "      <td>48.299898</td>\n",
       "      <td>46.414251</td>\n",
       "      <td>51.230991</td>\n",
       "      <td>48.299898</td>\n",
       "      <td>48.299898</td>\n",
       "      <td>0.321115</td>\n",
       "      <td>0.321115</td>\n",
       "      <td>0.321115</td>\n",
       "      <td>0.165849</td>\n",
       "      <td>0.165849</td>\n",
       "      <td>0.165849</td>\n",
       "      <td>0.155267</td>\n",
       "      <td>0.155267</td>\n",
       "      <td>0.155267</td>\n",
       "      <td>0.0</td>\n",
       "      <td>0.0</td>\n",
       "      <td>0.0</td>\n",
       "      <td>48.621013</td>\n",
       "    </tr>\n",
       "    <tr>\n",
       "      <th>3</th>\n",
       "      <td>2020-08-03</td>\n",
       "      <td>48.369727</td>\n",
       "      <td>46.415901</td>\n",
       "      <td>51.216043</td>\n",
       "      <td>48.369727</td>\n",
       "      <td>48.369727</td>\n",
       "      <td>0.356928</td>\n",
       "      <td>0.356928</td>\n",
       "      <td>0.356928</td>\n",
       "      <td>0.094284</td>\n",
       "      <td>0.094284</td>\n",
       "      <td>0.094284</td>\n",
       "      <td>0.262645</td>\n",
       "      <td>0.262645</td>\n",
       "      <td>0.262645</td>\n",
       "      <td>0.0</td>\n",
       "      <td>0.0</td>\n",
       "      <td>0.0</td>\n",
       "      <td>48.726656</td>\n",
       "    </tr>\n",
       "    <tr>\n",
       "      <th>4</th>\n",
       "      <td>2020-08-04</td>\n",
       "      <td>48.393004</td>\n",
       "      <td>46.439273</td>\n",
       "      <td>51.274426</td>\n",
       "      <td>48.393004</td>\n",
       "      <td>48.393004</td>\n",
       "      <td>0.416626</td>\n",
       "      <td>0.416626</td>\n",
       "      <td>0.416626</td>\n",
       "      <td>0.118652</td>\n",
       "      <td>0.118652</td>\n",
       "      <td>0.118652</td>\n",
       "      <td>0.297974</td>\n",
       "      <td>0.297974</td>\n",
       "      <td>0.297974</td>\n",
       "      <td>0.0</td>\n",
       "      <td>0.0</td>\n",
       "      <td>0.0</td>\n",
       "      <td>48.809630</td>\n",
       "    </tr>\n",
       "  </tbody>\n",
       "</table>\n",
       "</div>"
      ],
      "text/plain": [
       "          ds      trend  yhat_lower  yhat_upper  trend_lower  trend_upper  \\\n",
       "0 2020-07-29  48.253345   46.144214   50.707809    48.253345    48.253345   \n",
       "1 2020-07-30  48.276621   46.357316   50.995901    48.276621    48.276621   \n",
       "2 2020-07-31  48.299898   46.414251   51.230991    48.299898    48.299898   \n",
       "3 2020-08-03  48.369727   46.415901   51.216043    48.369727    48.369727   \n",
       "4 2020-08-04  48.393004   46.439273   51.274426    48.393004    48.393004   \n",
       "\n",
       "   additive_terms  additive_terms_lower  additive_terms_upper    weekly  \\\n",
       "0        0.227063              0.227063              0.227063  0.142009   \n",
       "1        0.295220              0.295220              0.295220  0.175361   \n",
       "2        0.321115              0.321115              0.321115  0.165849   \n",
       "3        0.356928              0.356928              0.356928  0.094284   \n",
       "4        0.416626              0.416626              0.416626  0.118652   \n",
       "\n",
       "   weekly_lower  weekly_upper    yearly  yearly_lower  yearly_upper  \\\n",
       "0      0.142009      0.142009  0.085054      0.085054      0.085054   \n",
       "1      0.175361      0.175361  0.119859      0.119859      0.119859   \n",
       "2      0.165849      0.165849  0.155267      0.155267      0.155267   \n",
       "3      0.094284      0.094284  0.262645      0.262645      0.262645   \n",
       "4      0.118652      0.118652  0.297974      0.297974      0.297974   \n",
       "\n",
       "   multiplicative_terms  multiplicative_terms_lower  \\\n",
       "0                   0.0                         0.0   \n",
       "1                   0.0                         0.0   \n",
       "2                   0.0                         0.0   \n",
       "3                   0.0                         0.0   \n",
       "4                   0.0                         0.0   \n",
       "\n",
       "   multiplicative_terms_upper       yhat  \n",
       "0                         0.0  48.480408  \n",
       "1                         0.0  48.571842  \n",
       "2                         0.0  48.621013  \n",
       "3                         0.0  48.726656  \n",
       "4                         0.0  48.809630  "
      ]
     },
     "execution_count": 14,
     "metadata": {},
     "output_type": "execute_result"
    }
   ],
   "source": [
    "forecast.head()"
   ]
  },
  {
   "cell_type": "markdown",
   "metadata": {},
   "source": [
    "$\\overline y$ = trend + weekly + yearly (không cộng cho additive terms)"
   ]
  },
  {
   "cell_type": "code",
   "execution_count": 15,
   "metadata": {},
   "outputs": [
    {
     "data": {
      "text/html": [
       "<div>\n",
       "<style scoped>\n",
       "    .dataframe tbody tr th:only-of-type {\n",
       "        vertical-align: middle;\n",
       "    }\n",
       "\n",
       "    .dataframe tbody tr th {\n",
       "        vertical-align: top;\n",
       "    }\n",
       "\n",
       "    .dataframe thead th {\n",
       "        text-align: right;\n",
       "    }\n",
       "</style>\n",
       "<table border=\"1\" class=\"dataframe\">\n",
       "  <thead>\n",
       "    <tr style=\"text-align: right;\">\n",
       "      <th></th>\n",
       "      <th>ds</th>\n",
       "      <th>y</th>\n",
       "    </tr>\n",
       "  </thead>\n",
       "  <tbody>\n",
       "    <tr>\n",
       "      <th>0</th>\n",
       "      <td>2020-07-29</td>\n",
       "      <td>43.6166</td>\n",
       "    </tr>\n",
       "    <tr>\n",
       "      <th>1</th>\n",
       "      <td>2020-07-30</td>\n",
       "      <td>44.2040</td>\n",
       "    </tr>\n",
       "    <tr>\n",
       "      <th>2</th>\n",
       "      <td>2020-07-31</td>\n",
       "      <td>43.5677</td>\n",
       "    </tr>\n",
       "    <tr>\n",
       "      <th>3</th>\n",
       "      <td>2020-08-03</td>\n",
       "      <td>44.9383</td>\n",
       "    </tr>\n",
       "    <tr>\n",
       "      <th>4</th>\n",
       "      <td>2020-08-04</td>\n",
       "      <td>45.5747</td>\n",
       "    </tr>\n",
       "  </tbody>\n",
       "</table>\n",
       "</div>"
      ],
      "text/plain": [
       "          ds        y\n",
       "0 2020-07-29  43.6166\n",
       "1 2020-07-30  44.2040\n",
       "2 2020-07-31  43.5677\n",
       "3 2020-08-03  44.9383\n",
       "4 2020-08-04  45.5747"
      ]
     },
     "execution_count": 15,
     "metadata": {},
     "output_type": "execute_result"
    }
   ],
   "source": [
    "x_test.head()"
   ]
  },
  {
   "cell_type": "code",
   "execution_count": 16,
   "metadata": {},
   "outputs": [
    {
     "data": {
      "text/html": [
       "<div>\n",
       "<style scoped>\n",
       "    .dataframe tbody tr th:only-of-type {\n",
       "        vertical-align: middle;\n",
       "    }\n",
       "\n",
       "    .dataframe tbody tr th {\n",
       "        vertical-align: top;\n",
       "    }\n",
       "\n",
       "    .dataframe thead th {\n",
       "        text-align: right;\n",
       "    }\n",
       "</style>\n",
       "<table border=\"1\" class=\"dataframe\">\n",
       "  <thead>\n",
       "    <tr style=\"text-align: right;\">\n",
       "      <th></th>\n",
       "      <th>ds</th>\n",
       "      <th>yhat</th>\n",
       "    </tr>\n",
       "  </thead>\n",
       "  <tbody>\n",
       "    <tr>\n",
       "      <th>0</th>\n",
       "      <td>2020-07-29</td>\n",
       "      <td>48.480408</td>\n",
       "    </tr>\n",
       "    <tr>\n",
       "      <th>1</th>\n",
       "      <td>2020-07-30</td>\n",
       "      <td>48.571842</td>\n",
       "    </tr>\n",
       "    <tr>\n",
       "      <th>2</th>\n",
       "      <td>2020-07-31</td>\n",
       "      <td>48.621013</td>\n",
       "    </tr>\n",
       "    <tr>\n",
       "      <th>3</th>\n",
       "      <td>2020-08-03</td>\n",
       "      <td>48.726656</td>\n",
       "    </tr>\n",
       "    <tr>\n",
       "      <th>4</th>\n",
       "      <td>2020-08-04</td>\n",
       "      <td>48.809630</td>\n",
       "    </tr>\n",
       "  </tbody>\n",
       "</table>\n",
       "</div>"
      ],
      "text/plain": [
       "          ds       yhat\n",
       "0 2020-07-29  48.480408\n",
       "1 2020-07-30  48.571842\n",
       "2 2020-07-31  48.621013\n",
       "3 2020-08-03  48.726656\n",
       "4 2020-08-04  48.809630"
      ]
     },
     "execution_count": 16,
     "metadata": {},
     "output_type": "execute_result"
    }
   ],
   "source": [
    "forecast[[\"ds\", \"yhat\"]].head()"
   ]
  },
  {
   "cell_type": "markdown",
   "metadata": {},
   "source": [
    "## Validation"
   ]
  },
  {
   "cell_type": "code",
   "execution_count": 17,
   "metadata": {},
   "outputs": [
    {
     "data": {
      "text/plain": [
       "(100,)"
      ]
     },
     "execution_count": 17,
     "metadata": {},
     "output_type": "execute_result"
    }
   ],
   "source": [
    "true_values = x_test[\"y\"].values\n",
    "true_values.shape"
   ]
  },
  {
   "cell_type": "code",
   "execution_count": 18,
   "metadata": {},
   "outputs": [
    {
     "data": {
      "text/plain": [
       "(100,)"
      ]
     },
     "execution_count": 18,
     "metadata": {},
     "output_type": "execute_result"
    }
   ],
   "source": [
    "predict_values = forecast[\"yhat\"].values\n",
    "predict_values.shape"
   ]
  },
  {
   "cell_type": "code",
   "execution_count": 19,
   "metadata": {},
   "outputs": [
    {
     "data": {
      "text/plain": [
       "'MAPE for one day: 11.151276901392842'"
      ]
     },
     "execution_count": 19,
     "metadata": {},
     "output_type": "execute_result"
    }
   ],
   "source": [
    "MAPE_point(true_values[0], predict_values[0])"
   ]
  },
  {
   "cell_type": "code",
   "execution_count": 20,
   "metadata": {},
   "outputs": [
    {
     "data": {
      "text/plain": [
       "'MAPE for range 100 days: 4.064555603935822'"
      ]
     },
     "execution_count": 20,
     "metadata": {},
     "output_type": "execute_result"
    }
   ],
   "source": [
    "MAPE_range(true_values, predict_values)"
   ]
  },
  {
   "cell_type": "code",
   "execution_count": null,
   "metadata": {},
   "outputs": [],
   "source": []
  },
  {
   "cell_type": "markdown",
   "metadata": {},
   "source": [
    "## Rolling leanring"
   ]
  },
  {
   "cell_type": "code",
   "execution_count": 21,
   "metadata": {},
   "outputs": [],
   "source": [
    "def stan_init(m):\n",
    "    \"\"\"Retrieve parameters from a trained model.\n",
    "    \n",
    "    Retrieve parameters from a trained model in the format\n",
    "    used to initialize a new Stan model.\n",
    "    \n",
    "    Parameters\n",
    "    ----------\n",
    "    m: A trained model of the Prophet class.\n",
    "    \n",
    "    Returns\n",
    "    -------\n",
    "    A Dictionary containing retrieved parameters of m.\n",
    "    \n",
    "    \"\"\"\n",
    "    res = {}\n",
    "    for pname in ['k', 'm', 'sigma_obs']:\n",
    "        res[pname] = m.params[pname][0][0]\n",
    "    for pname in ['delta', 'beta']:\n",
    "        res[pname] = m.params[pname][0]\n",
    "    return res"
   ]
  },
  {
   "cell_type": "code",
   "execution_count": 22,
   "metadata": {},
   "outputs": [
    {
     "name": "stderr",
     "output_type": "stream",
     "text": [
      "  0%|                                                                                           | 0/30 [00:00<?, ?it/s]INFO:fbprophet:Disabling daily seasonality. Run prophet with daily_seasonality=True to override this.\n",
      "  3%|██▊                                                                                | 1/30 [01:16<36:45, 76.05s/it]INFO:fbprophet:Disabling daily seasonality. Run prophet with daily_seasonality=True to override this.\n",
      "  7%|█████▌                                                                             | 2/30 [01:40<28:17, 60.64s/it]INFO:fbprophet:Disabling daily seasonality. Run prophet with daily_seasonality=True to override this.\n",
      " 10%|████████▎                                                                          | 3/30 [02:53<28:53, 64.21s/it]INFO:fbprophet:Disabling daily seasonality. Run prophet with daily_seasonality=True to override this.\n",
      " 13%|███████████                                                                        | 4/30 [03:51<27:06, 62.56s/it]INFO:fbprophet:Disabling daily seasonality. Run prophet with daily_seasonality=True to override this.\n",
      " 17%|█████████████▊                                                                     | 5/30 [04:09<20:23, 48.96s/it]INFO:fbprophet:Disabling daily seasonality. Run prophet with daily_seasonality=True to override this.\n",
      " 20%|████████████████▌                                                                  | 6/30 [04:26<15:47, 39.48s/it]INFO:fbprophet:Disabling daily seasonality. Run prophet with daily_seasonality=True to override this.\n",
      " 23%|███████████████████▎                                                               | 7/30 [05:02<14:43, 38.41s/it]INFO:fbprophet:Disabling daily seasonality. Run prophet with daily_seasonality=True to override this.\n",
      " 27%|██████████████████████▏                                                            | 8/30 [05:37<13:39, 37.25s/it]INFO:fbprophet:Disabling daily seasonality. Run prophet with daily_seasonality=True to override this.\n",
      " 30%|████████████████████████▉                                                          | 9/30 [05:53<10:48, 30.87s/it]INFO:fbprophet:Disabling daily seasonality. Run prophet with daily_seasonality=True to override this.\n",
      " 33%|███████████████████████████▎                                                      | 10/30 [06:24<10:19, 30.96s/it]INFO:fbprophet:Disabling daily seasonality. Run prophet with daily_seasonality=True to override this.\n",
      " 37%|██████████████████████████████                                                    | 11/30 [07:07<11:01, 34.81s/it]INFO:fbprophet:Disabling daily seasonality. Run prophet with daily_seasonality=True to override this.\n",
      " 40%|████████████████████████████████▊                                                 | 12/30 [07:51<11:16, 37.57s/it]INFO:fbprophet:Disabling daily seasonality. Run prophet with daily_seasonality=True to override this.\n",
      " 43%|███████████████████████████████████▌                                              | 13/30 [08:03<08:24, 29.69s/it]INFO:fbprophet:Disabling daily seasonality. Run prophet with daily_seasonality=True to override this.\n",
      " 47%|██████████████████████████████████████▎                                           | 14/30 [09:07<10:38, 39.93s/it]INFO:fbprophet:Disabling daily seasonality. Run prophet with daily_seasonality=True to override this.\n",
      " 50%|█████████████████████████████████████████                                         | 15/30 [09:37<09:17, 37.20s/it]INFO:fbprophet:Disabling daily seasonality. Run prophet with daily_seasonality=True to override this.\n",
      " 53%|███████████████████████████████████████████▋                                      | 16/30 [10:55<11:28, 49.19s/it]INFO:fbprophet:Disabling daily seasonality. Run prophet with daily_seasonality=True to override this.\n",
      " 57%|██████████████████████████████████████████████▍                                   | 17/30 [11:07<08:15, 38.13s/it]INFO:fbprophet:Disabling daily seasonality. Run prophet with daily_seasonality=True to override this.\n",
      " 60%|█████████████████████████████████████████████████▏                                | 18/30 [11:50<07:56, 39.70s/it]INFO:fbprophet:Disabling daily seasonality. Run prophet with daily_seasonality=True to override this.\n",
      " 63%|███████████████████████████████████████████████████▉                              | 19/30 [13:02<09:01, 49.18s/it]INFO:fbprophet:Disabling daily seasonality. Run prophet with daily_seasonality=True to override this.\n",
      " 67%|██████████████████████████████████████████████████████▋                           | 20/30 [14:04<08:52, 53.24s/it]INFO:fbprophet:Disabling daily seasonality. Run prophet with daily_seasonality=True to override this.\n",
      " 70%|█████████████████████████████████████████████████████████▍                        | 21/30 [14:10<05:50, 38.95s/it]INFO:fbprophet:Disabling daily seasonality. Run prophet with daily_seasonality=True to override this.\n",
      " 73%|████████████████████████████████████████████████████████████▏                     | 22/30 [14:50<05:14, 39.30s/it]INFO:fbprophet:Disabling daily seasonality. Run prophet with daily_seasonality=True to override this.\n",
      " 77%|██████████████████████████████████████████████████████████████▊                   | 23/30 [15:59<05:37, 48.28s/it]INFO:fbprophet:Disabling daily seasonality. Run prophet with daily_seasonality=True to override this.\n",
      " 80%|█████████████████████████████████████████████████████████████████▌                | 24/30 [16:14<03:49, 38.29s/it]INFO:fbprophet:Disabling daily seasonality. Run prophet with daily_seasonality=True to override this.\n",
      " 83%|████████████████████████████████████████████████████████████████████▎             | 25/30 [16:56<03:16, 39.30s/it]INFO:fbprophet:Disabling daily seasonality. Run prophet with daily_seasonality=True to override this.\n",
      " 87%|███████████████████████████████████████████████████████████████████████           | 26/30 [17:20<02:18, 34.70s/it]INFO:fbprophet:Disabling daily seasonality. Run prophet with daily_seasonality=True to override this.\n",
      " 90%|█████████████████████████████████████████████████████████████████████████▊        | 27/30 [17:59<01:48, 36.07s/it]INFO:fbprophet:Disabling daily seasonality. Run prophet with daily_seasonality=True to override this.\n",
      " 93%|████████████████████████████████████████████████████████████████████████████▌     | 28/30 [18:22<01:04, 32.12s/it]INFO:fbprophet:Disabling daily seasonality. Run prophet with daily_seasonality=True to override this.\n",
      " 97%|███████████████████████████████████████████████████████████████████████████████▎  | 29/30 [18:49<00:30, 30.49s/it]INFO:fbprophet:Disabling daily seasonality. Run prophet with daily_seasonality=True to override this.\n",
      "100%|██████████████████████████████████████████████████████████████████████████████████| 30/30 [19:34<00:00, 39.15s/it]\n"
     ]
    }
   ],
   "source": [
    "true_values, predict_values = [], []\n",
    "model_rolling = None\n",
    "\n",
    "for i in tqdm(range(TEST_HORIZON)):\n",
    "#     print(x_train)\n",
    "    if (i == 0):\n",
    "        model_rolling = Prophet(n_changepoints=100,changepoint_range=0.99, changepoint_prior_scale=0.5).fit(x_train)\n",
    "    else:\n",
    "        model_rolling = Prophet(n_changepoints=100, changepoint_range=0.99, changepoint_prior_scale=0.5).fit(x_train, init=stan_init(model_rolling))\n",
    "        \n",
    "    true_values.append(x_test.iloc[i,1])\n",
    "    sample = x_test.iloc[i,:].copy()\n",
    "    future_need_predict = pd.DataFrame({\"ds\": [sample[0]]})\n",
    "    predict_df = model_rolling.predict(future_need_predict)\n",
    "    predict_values.append(predict_df['yhat'][0])\n",
    "    x_train = x_train.append(x_test.iloc[i,:])\n",
    "    "
   ]
  },
  {
   "cell_type": "code",
   "execution_count": 25,
   "metadata": {},
   "outputs": [
    {
     "data": {
      "text/plain": [
       "'MAPE for range 100 days: 3.1735808855984806'"
      ]
     },
     "execution_count": 25,
     "metadata": {},
     "output_type": "execute_result"
    }
   ],
   "source": [
    "MAPE_range(true_values, predict_values)"
   ]
  },
  {
   "cell_type": "code",
   "execution_count": 26,
   "metadata": {},
   "outputs": [
    {
     "data": {
      "image/png": "[encoded data removed]",
      "text/plain": [
       "<Figure size 1584x360 with 1 Axes>"
      ]
     },
     "metadata": {
      "needs_background": "light"
     },
     "output_type": "display_data"
    }
   ],
   "source": [
    "plt.plot(np.arange(len(true_values)), true_values, color=\"blue\", label=\"True values\")\n",
    "plt.plot(np.arange(len(predict_values)), predict_values, color=\"red\", label=\"Predict values\")\n",
    "plt.legend()\n",
    "plt.show()"
   ]
  },
  {
   "cell_type": "code",
   "execution_count": null,
   "metadata": {},
   "outputs": [],
   "source": []
  },
  {
   "cell_type": "code",
   "execution_count": null,
   "metadata": {},
   "outputs": [],
   "source": []
  }
 ],
 "metadata": {
  "kernelspec": {
   "display_name": "Python 3",
   "language": "python",
   "name": "python3"
  },
  "language_info": {
   "codemirror_mode": {
    "name": "ipython",
    "version": 3
   },
   "file_extension": ".py",
   "mimetype": "text/x-python",
   "name": "python",
   "nbconvert_exporter": "python",
   "pygments_lexer": "ipython3",
   "version": "3.7.9"
  }
 },
 "nbformat": 4,
 "nbformat_minor": 4
}
