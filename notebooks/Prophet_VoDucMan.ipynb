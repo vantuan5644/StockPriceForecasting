{
 "cells": [
  {
   "cell_type": "code",
   "execution_count": 1,
   "metadata": {},
   "outputs": [],
   "source": [
    "import numpy as np\n",
    "import pandas as pd\n",
    "import os\n",
    "import matplotlib.pyplot as plt\n",
    "from fbprophet import Prophet\n",
    "from pylab import rcParams\n",
    "from tqdm import tqdm\n",
    "import warnings\n",
    "warnings.filterwarnings(\"ignore\")\n",
    "rcParams['figure.figsize'] = (22,5)"
   ]
  },
  {
   "cell_type": "code",
   "execution_count": 2,
   "metadata": {},
   "outputs": [],
   "source": [
    "FILE_PATH = \"../dataset/excel_fpt.csv\"\n",
    "TEST_SIZE = 30\n",
    "TEST_HORIZON = 7\n",
    "SEASONALITY = False"
   ]
  },
  {
   "cell_type": "code",
   "execution_count": 3,
   "metadata": {},
   "outputs": [],
   "source": [
    "def MAPE_point(true_value, predict_value):\n",
    "    return \"MAPE for one day: \" + str(100 * np.abs((true_value - predict_value)/true_value))\n",
    "\n",
    "def MAPE_range(true_values, predict_value):\n",
    "    percen_errors = []\n",
    "    for i in range(len(true_values)):\n",
    "        percen_errors.append(100 * np.abs((true_values[i] - predict_values[i])/true_values[i]))\n",
    "    return \"MAPE for range {} days: \".format(TEST_SIZE) + str(sum(percen_errors)/len(percen_errors))"
   ]
  },
  {
   "cell_type": "code",
   "execution_count": 4,
   "metadata": {},
   "outputs": [
    {
     "data": {
      "text/html": [
       "<div>\n",
       "<style scoped>\n",
       "    .dataframe tbody tr th:only-of-type {\n",
       "        vertical-align: middle;\n",
       "    }\n",
       "\n",
       "    .dataframe tbody tr th {\n",
       "        vertical-align: top;\n",
       "    }\n",
       "\n",
       "    .dataframe thead th {\n",
       "        text-align: right;\n",
       "    }\n",
       "</style>\n",
       "<table border=\"1\" class=\"dataframe\">\n",
       "  <thead>\n",
       "    <tr style=\"text-align: right;\">\n",
       "      <th></th>\n",
       "      <th>&lt;Ticker&gt;</th>\n",
       "      <th>&lt;DTYYYYMMDD&gt;</th>\n",
       "      <th>&lt;Open&gt;</th>\n",
       "      <th>&lt;High&gt;</th>\n",
       "      <th>&lt;Low&gt;</th>\n",
       "      <th>&lt;Close&gt;</th>\n",
       "      <th>&lt;Volume&gt;</th>\n",
       "    </tr>\n",
       "  </thead>\n",
       "  <tbody>\n",
       "    <tr>\n",
       "      <th>0</th>\n",
       "      <td>FPT</td>\n",
       "      <td>20201216</td>\n",
       "      <td>57.2</td>\n",
       "      <td>57.5</td>\n",
       "      <td>57.0</td>\n",
       "      <td>57.1</td>\n",
       "      <td>1995530</td>\n",
       "    </tr>\n",
       "    <tr>\n",
       "      <th>1</th>\n",
       "      <td>FPT</td>\n",
       "      <td>20201215</td>\n",
       "      <td>57.5</td>\n",
       "      <td>57.6</td>\n",
       "      <td>56.6</td>\n",
       "      <td>56.7</td>\n",
       "      <td>2666900</td>\n",
       "    </tr>\n",
       "    <tr>\n",
       "      <th>2</th>\n",
       "      <td>FPT</td>\n",
       "      <td>20201214</td>\n",
       "      <td>57.0</td>\n",
       "      <td>58.0</td>\n",
       "      <td>56.9</td>\n",
       "      <td>57.2</td>\n",
       "      <td>1443760</td>\n",
       "    </tr>\n",
       "    <tr>\n",
       "      <th>3</th>\n",
       "      <td>FPT</td>\n",
       "      <td>20201211</td>\n",
       "      <td>56.6</td>\n",
       "      <td>57.0</td>\n",
       "      <td>56.3</td>\n",
       "      <td>57.0</td>\n",
       "      <td>1750270</td>\n",
       "    </tr>\n",
       "    <tr>\n",
       "      <th>4</th>\n",
       "      <td>FPT</td>\n",
       "      <td>20201210</td>\n",
       "      <td>57.0</td>\n",
       "      <td>57.7</td>\n",
       "      <td>56.5</td>\n",
       "      <td>56.5</td>\n",
       "      <td>2112490</td>\n",
       "    </tr>\n",
       "  </tbody>\n",
       "</table>\n",
       "</div>"
      ],
      "text/plain": [
       "  <Ticker>  <DTYYYYMMDD>  <Open>  <High>  <Low>  <Close>  <Volume>\n",
       "0      FPT      20201216    57.2    57.5   57.0     57.1   1995530\n",
       "1      FPT      20201215    57.5    57.6   56.6     56.7   2666900\n",
       "2      FPT      20201214    57.0    58.0   56.9     57.2   1443760\n",
       "3      FPT      20201211    56.6    57.0   56.3     57.0   1750270\n",
       "4      FPT      20201210    57.0    57.7   56.5     56.5   2112490"
      ]
     },
     "execution_count": 4,
     "metadata": {},
     "output_type": "execute_result"
    }
   ],
   "source": [
    "df = pd.read_csv(FILE_PATH)\n",
    "df.head()"
   ]
  },
  {
   "cell_type": "code",
   "execution_count": 5,
   "metadata": {},
   "outputs": [
    {
     "data": {
      "text/html": [
       "<div>\n",
       "<style scoped>\n",
       "    .dataframe tbody tr th:only-of-type {\n",
       "        vertical-align: middle;\n",
       "    }\n",
       "\n",
       "    .dataframe tbody tr th {\n",
       "        vertical-align: top;\n",
       "    }\n",
       "\n",
       "    .dataframe thead th {\n",
       "        text-align: right;\n",
       "    }\n",
       "</style>\n",
       "<table border=\"1\" class=\"dataframe\">\n",
       "  <thead>\n",
       "    <tr style=\"text-align: right;\">\n",
       "      <th></th>\n",
       "      <th>&lt;Ticker&gt;</th>\n",
       "      <th>&lt;DTYYYYMMDD&gt;</th>\n",
       "      <th>&lt;Open&gt;</th>\n",
       "      <th>&lt;High&gt;</th>\n",
       "      <th>&lt;Low&gt;</th>\n",
       "      <th>&lt;Close&gt;</th>\n",
       "      <th>&lt;Volume&gt;</th>\n",
       "    </tr>\n",
       "  </thead>\n",
       "  <tbody>\n",
       "    <tr>\n",
       "      <th>3485</th>\n",
       "      <td>FPT</td>\n",
       "      <td>20061219</td>\n",
       "      <td>27.4356</td>\n",
       "      <td>27.4356</td>\n",
       "      <td>27.4356</td>\n",
       "      <td>27.4356</td>\n",
       "      <td>137520</td>\n",
       "    </tr>\n",
       "    <tr>\n",
       "      <th>3486</th>\n",
       "      <td>FPT</td>\n",
       "      <td>20061218</td>\n",
       "      <td>26.1371</td>\n",
       "      <td>26.1371</td>\n",
       "      <td>26.1371</td>\n",
       "      <td>26.1372</td>\n",
       "      <td>215790</td>\n",
       "    </tr>\n",
       "    <tr>\n",
       "      <th>3487</th>\n",
       "      <td>FPT</td>\n",
       "      <td>20061215</td>\n",
       "      <td>24.8952</td>\n",
       "      <td>24.8952</td>\n",
       "      <td>24.8952</td>\n",
       "      <td>24.8952</td>\n",
       "      <td>265300</td>\n",
       "    </tr>\n",
       "    <tr>\n",
       "      <th>3488</th>\n",
       "      <td>FPT</td>\n",
       "      <td>20061214</td>\n",
       "      <td>23.7097</td>\n",
       "      <td>23.7097</td>\n",
       "      <td>23.7097</td>\n",
       "      <td>23.7097</td>\n",
       "      <td>280710</td>\n",
       "    </tr>\n",
       "    <tr>\n",
       "      <th>3489</th>\n",
       "      <td>FPT</td>\n",
       "      <td>20061213</td>\n",
       "      <td>22.5807</td>\n",
       "      <td>22.5807</td>\n",
       "      <td>22.5807</td>\n",
       "      <td>22.5807</td>\n",
       "      <td>83530</td>\n",
       "    </tr>\n",
       "  </tbody>\n",
       "</table>\n",
       "</div>"
      ],
      "text/plain": [
       "     <Ticker>  <DTYYYYMMDD>   <Open>   <High>    <Low>  <Close>  <Volume>\n",
       "3485      FPT      20061219  27.4356  27.4356  27.4356  27.4356    137520\n",
       "3486      FPT      20061218  26.1371  26.1371  26.1371  26.1372    215790\n",
       "3487      FPT      20061215  24.8952  24.8952  24.8952  24.8952    265300\n",
       "3488      FPT      20061214  23.7097  23.7097  23.7097  23.7097    280710\n",
       "3489      FPT      20061213  22.5807  22.5807  22.5807  22.5807     83530"
      ]
     },
     "execution_count": 5,
     "metadata": {},
     "output_type": "execute_result"
    }
   ],
   "source": [
    "df.tail()"
   ]
  },
  {
   "cell_type": "code",
   "execution_count": 6,
   "metadata": {},
   "outputs": [
    {
     "data": {
      "text/html": [
       "<div>\n",
       "<style scoped>\n",
       "    .dataframe tbody tr th:only-of-type {\n",
       "        vertical-align: middle;\n",
       "    }\n",
       "\n",
       "    .dataframe tbody tr th {\n",
       "        vertical-align: top;\n",
       "    }\n",
       "\n",
       "    .dataframe thead th {\n",
       "        text-align: right;\n",
       "    }\n",
       "</style>\n",
       "<table border=\"1\" class=\"dataframe\">\n",
       "  <thead>\n",
       "    <tr style=\"text-align: right;\">\n",
       "      <th></th>\n",
       "      <th>ds</th>\n",
       "      <th>y</th>\n",
       "    </tr>\n",
       "  </thead>\n",
       "  <tbody>\n",
       "    <tr>\n",
       "      <th>0</th>\n",
       "      <td>2006-12-13</td>\n",
       "      <td>22.5807</td>\n",
       "    </tr>\n",
       "    <tr>\n",
       "      <th>1</th>\n",
       "      <td>2006-12-14</td>\n",
       "      <td>23.7097</td>\n",
       "    </tr>\n",
       "    <tr>\n",
       "      <th>2</th>\n",
       "      <td>2006-12-15</td>\n",
       "      <td>24.8952</td>\n",
       "    </tr>\n",
       "    <tr>\n",
       "      <th>3</th>\n",
       "      <td>2006-12-18</td>\n",
       "      <td>26.1372</td>\n",
       "    </tr>\n",
       "    <tr>\n",
       "      <th>4</th>\n",
       "      <td>2006-12-19</td>\n",
       "      <td>27.4356</td>\n",
       "    </tr>\n",
       "  </tbody>\n",
       "</table>\n",
       "</div>"
      ],
      "text/plain": [
       "          ds        y\n",
       "0 2006-12-13  22.5807\n",
       "1 2006-12-14  23.7097\n",
       "2 2006-12-15  24.8952\n",
       "3 2006-12-18  26.1372\n",
       "4 2006-12-19  27.4356"
      ]
     },
     "execution_count": 6,
     "metadata": {},
     "output_type": "execute_result"
    }
   ],
   "source": [
    "columns = df.columns\n",
    "columns_remove_bracket = [label.replace(\"<\",\"\").replace(\">\",\"\") for label in columns]\n",
    "columns_to_replace = {columns[i]: columns_remove_bracket[i] for i in range(len(df.columns))}\n",
    "df.rename(columns=columns_to_replace, inplace=True)\n",
    "df.drop([\"Ticker\",\"Open\",\"High\",\"Low\",\"Volume\"], axis=1, inplace=True)\n",
    "df[\"DTYYYYMMDD\"] = pd.to_datetime(df[\"DTYYYYMMDD\"], format=\"%Y%m%d\", errors=\"coerce\")\n",
    "df.rename(columns={\"DTYYYYMMDD\": \"ds\", \"Close\": \"y\"}, inplace=True)\n",
    "df.sort_values(by=\"ds\", inplace=True, ascending=True)\n",
    "df.reset_index(inplace=True, drop=True)\n",
    "df.head()"
   ]
  },
  {
   "cell_type": "code",
   "execution_count": 7,
   "metadata": {},
   "outputs": [
    {
     "data": {
      "text/html": [
       "<div>\n",
       "<style scoped>\n",
       "    .dataframe tbody tr th:only-of-type {\n",
       "        vertical-align: middle;\n",
       "    }\n",
       "\n",
       "    .dataframe tbody tr th {\n",
       "        vertical-align: top;\n",
       "    }\n",
       "\n",
       "    .dataframe thead th {\n",
       "        text-align: right;\n",
       "    }\n",
       "</style>\n",
       "<table border=\"1\" class=\"dataframe\">\n",
       "  <thead>\n",
       "    <tr style=\"text-align: right;\">\n",
       "      <th></th>\n",
       "      <th>ds</th>\n",
       "      <th>y</th>\n",
       "    </tr>\n",
       "  </thead>\n",
       "  <tbody>\n",
       "    <tr>\n",
       "      <th>0</th>\n",
       "      <td>2010-01-04</td>\n",
       "      <td>11.4774</td>\n",
       "    </tr>\n",
       "    <tr>\n",
       "      <th>1</th>\n",
       "      <td>2010-01-05</td>\n",
       "      <td>11.4774</td>\n",
       "    </tr>\n",
       "    <tr>\n",
       "      <th>2</th>\n",
       "      <td>2010-01-06</td>\n",
       "      <td>11.2687</td>\n",
       "    </tr>\n",
       "    <tr>\n",
       "      <th>3</th>\n",
       "      <td>2010-01-07</td>\n",
       "      <td>11.1991</td>\n",
       "    </tr>\n",
       "    <tr>\n",
       "      <th>4</th>\n",
       "      <td>2010-01-08</td>\n",
       "      <td>10.8513</td>\n",
       "    </tr>\n",
       "  </tbody>\n",
       "</table>\n",
       "</div>"
      ],
      "text/plain": [
       "          ds        y\n",
       "0 2010-01-04  11.4774\n",
       "1 2010-01-05  11.4774\n",
       "2 2010-01-06  11.2687\n",
       "3 2010-01-07  11.1991\n",
       "4 2010-01-08  10.8513"
      ]
     },
     "execution_count": 7,
     "metadata": {},
     "output_type": "execute_result"
    }
   ],
   "source": [
    "df = df[df[\"ds\"].dt.year >= 2010].reset_index()\n",
    "df.drop(\"index\", axis=1,inplace=True)\n",
    "df.head()"
   ]
  },
  {
   "cell_type": "code",
   "execution_count": 8,
   "metadata": {},
   "outputs": [
    {
     "data": {
      "text/plain": [
       "(2733, (2703, 2), (30, 2))"
      ]
     },
     "execution_count": 8,
     "metadata": {},
     "output_type": "execute_result"
    }
   ],
   "source": [
    "total = len(df)\n",
    "x_train, x_test = df[:total-TEST_SIZE].copy(), df[total-TEST_SIZE:].copy()\n",
    "x_test.reset_index(inplace=True)\n",
    "x_test.drop(\"index\", axis=1, inplace=True)\n",
    "total, x_train.shape, x_test.shape"
   ]
  },
  {
   "cell_type": "code",
   "execution_count": 9,
   "metadata": {},
   "outputs": [
    {
     "data": {
      "text/plain": [
       "<fbprophet.forecaster.Prophet at 0x1b2ecf74bc8>"
      ]
     },
     "execution_count": 9,
     "metadata": {},
     "output_type": "execute_result"
    }
   ],
   "source": [
    "model = Prophet(daily_seasonality=False, n_changepoints=100, changepoint_prior_scale=0.5, changepoint_range=0.99)\n",
    "model.fit(x_train)"
   ]
  },
  {
   "cell_type": "code",
   "execution_count": 10,
   "metadata": {},
   "outputs": [
    {
     "data": {
      "text/html": [
       "<div>\n",
       "<style scoped>\n",
       "    .dataframe tbody tr th:only-of-type {\n",
       "        vertical-align: middle;\n",
       "    }\n",
       "\n",
       "    .dataframe tbody tr th {\n",
       "        vertical-align: top;\n",
       "    }\n",
       "\n",
       "    .dataframe thead th {\n",
       "        text-align: right;\n",
       "    }\n",
       "</style>\n",
       "<table border=\"1\" class=\"dataframe\">\n",
       "  <thead>\n",
       "    <tr style=\"text-align: right;\">\n",
       "      <th></th>\n",
       "      <th>ds</th>\n",
       "    </tr>\n",
       "  </thead>\n",
       "  <tbody>\n",
       "    <tr>\n",
       "      <th>0</th>\n",
       "      <td>2020-11-05</td>\n",
       "    </tr>\n",
       "    <tr>\n",
       "      <th>1</th>\n",
       "      <td>2020-11-06</td>\n",
       "    </tr>\n",
       "    <tr>\n",
       "      <th>2</th>\n",
       "      <td>2020-11-09</td>\n",
       "    </tr>\n",
       "    <tr>\n",
       "      <th>3</th>\n",
       "      <td>2020-11-10</td>\n",
       "    </tr>\n",
       "    <tr>\n",
       "      <th>4</th>\n",
       "      <td>2020-11-11</td>\n",
       "    </tr>\n",
       "  </tbody>\n",
       "</table>\n",
       "</div>"
      ],
      "text/plain": [
       "          ds\n",
       "0 2020-11-05\n",
       "1 2020-11-06\n",
       "2 2020-11-09\n",
       "3 2020-11-10\n",
       "4 2020-11-11"
      ]
     },
     "execution_count": 10,
     "metadata": {},
     "output_type": "execute_result"
    }
   ],
   "source": [
    "# df_future = model.make_future_dataframe(periods=len(x_test), include_history=False)\n",
    "df_future = x_test.drop(columns=[\"y\"])\n",
    "df_future.reset_index(inplace=True, drop=True)\n",
    "df_future.head()"
   ]
  },
  {
   "cell_type": "code",
   "execution_count": 11,
   "metadata": {},
   "outputs": [
    {
     "data": {
      "text/html": [
       "<div>\n",
       "<style scoped>\n",
       "    .dataframe tbody tr th:only-of-type {\n",
       "        vertical-align: middle;\n",
       "    }\n",
       "\n",
       "    .dataframe tbody tr th {\n",
       "        vertical-align: top;\n",
       "    }\n",
       "\n",
       "    .dataframe thead th {\n",
       "        text-align: right;\n",
       "    }\n",
       "</style>\n",
       "<table border=\"1\" class=\"dataframe\">\n",
       "  <thead>\n",
       "    <tr style=\"text-align: right;\">\n",
       "      <th></th>\n",
       "      <th>ds</th>\n",
       "      <th>yhat</th>\n",
       "      <th>yhat_lower</th>\n",
       "      <th>yhat_upper</th>\n",
       "    </tr>\n",
       "  </thead>\n",
       "  <tbody>\n",
       "    <tr>\n",
       "      <th>0</th>\n",
       "      <td>2020-11-05</td>\n",
       "      <td>53.139541</td>\n",
       "      <td>52.165070</td>\n",
       "      <td>54.244406</td>\n",
       "    </tr>\n",
       "    <tr>\n",
       "      <th>1</th>\n",
       "      <td>2020-11-06</td>\n",
       "      <td>53.238216</td>\n",
       "      <td>52.260045</td>\n",
       "      <td>54.296674</td>\n",
       "    </tr>\n",
       "    <tr>\n",
       "      <th>2</th>\n",
       "      <td>2020-11-09</td>\n",
       "      <td>53.445187</td>\n",
       "      <td>52.454376</td>\n",
       "      <td>54.498646</td>\n",
       "    </tr>\n",
       "    <tr>\n",
       "      <th>3</th>\n",
       "      <td>2020-11-10</td>\n",
       "      <td>53.560470</td>\n",
       "      <td>52.559657</td>\n",
       "      <td>54.551762</td>\n",
       "    </tr>\n",
       "    <tr>\n",
       "      <th>4</th>\n",
       "      <td>2020-11-11</td>\n",
       "      <td>53.671890</td>\n",
       "      <td>52.706204</td>\n",
       "      <td>54.678571</td>\n",
       "    </tr>\n",
       "  </tbody>\n",
       "</table>\n",
       "</div>"
      ],
      "text/plain": [
       "          ds       yhat  yhat_lower  yhat_upper\n",
       "0 2020-11-05  53.139541   52.165070   54.244406\n",
       "1 2020-11-06  53.238216   52.260045   54.296674\n",
       "2 2020-11-09  53.445187   52.454376   54.498646\n",
       "3 2020-11-10  53.560470   52.559657   54.551762\n",
       "4 2020-11-11  53.671890   52.706204   54.678571"
      ]
     },
     "execution_count": 11,
     "metadata": {},
     "output_type": "execute_result"
    }
   ],
   "source": [
    "forecast = model.predict(df_future)\n",
    "forecast[['ds', 'yhat', 'yhat_lower', 'yhat_upper']].head()"
   ]
  },
  {
   "cell_type": "code",
   "execution_count": 12,
   "metadata": {},
   "outputs": [
    {
     "data": {
      "text/plain": [
       "<matplotlib.legend.Legend at 0x1b2efb00688>"
      ]
     },
     "execution_count": 12,
     "metadata": {},
     "output_type": "execute_result"
    },
    {
     "data": {
      "image/png": "[encoded data removed]",
      "text/plain": [
       "<Figure size 720x432 with 1 Axes>"
      ]
     },
     "metadata": {},
     "output_type": "display_data"
    }
   ],
   "source": [
    "figure_1 = model.plot(forecast)\n",
    "x_test_clone = x_test.copy()\n",
    "x_test_clone.set_index(\"ds\", inplace=True)\n",
    "plt.plot(x_test_clone, color=\"red\", label=\"True values\")\n",
    "plt.legend()"
   ]
  },
  {
   "cell_type": "code",
   "execution_count": 13,
   "metadata": {},
   "outputs": [
    {
     "data": {
      "image/png": "[encoded data removed]",
      "text/plain": [
       "<Figure size 648x648 with 3 Axes>"
      ]
     },
     "metadata": {},
     "output_type": "display_data"
    }
   ],
   "source": [
    "figure_2 = model.plot_components(forecast)"
   ]
  },
  {
   "cell_type": "code",
   "execution_count": 14,
   "metadata": {},
   "outputs": [
    {
     "data": {
      "text/html": [
       "<div>\n",
       "<style scoped>\n",
       "    .dataframe tbody tr th:only-of-type {\n",
       "        vertical-align: middle;\n",
       "    }\n",
       "\n",
       "    .dataframe tbody tr th {\n",
       "        vertical-align: top;\n",
       "    }\n",
       "\n",
       "    .dataframe thead th {\n",
       "        text-align: right;\n",
       "    }\n",
       "</style>\n",
       "<table border=\"1\" class=\"dataframe\">\n",
       "  <thead>\n",
       "    <tr style=\"text-align: right;\">\n",
       "      <th></th>\n",
       "      <th>ds</th>\n",
       "      <th>trend</th>\n",
       "      <th>yhat_lower</th>\n",
       "      <th>yhat_upper</th>\n",
       "      <th>trend_lower</th>\n",
       "      <th>trend_upper</th>\n",
       "      <th>additive_terms</th>\n",
       "      <th>additive_terms_lower</th>\n",
       "      <th>additive_terms_upper</th>\n",
       "      <th>weekly</th>\n",
       "      <th>weekly_lower</th>\n",
       "      <th>weekly_upper</th>\n",
       "      <th>yearly</th>\n",
       "      <th>yearly_lower</th>\n",
       "      <th>yearly_upper</th>\n",
       "      <th>multiplicative_terms</th>\n",
       "      <th>multiplicative_terms_lower</th>\n",
       "      <th>multiplicative_terms_upper</th>\n",
       "      <th>yhat</th>\n",
       "    </tr>\n",
       "  </thead>\n",
       "  <tbody>\n",
       "    <tr>\n",
       "      <th>0</th>\n",
       "      <td>2020-11-05</td>\n",
       "      <td>52.678192</td>\n",
       "      <td>52.165070</td>\n",
       "      <td>54.244406</td>\n",
       "      <td>52.678192</td>\n",
       "      <td>52.678192</td>\n",
       "      <td>0.461349</td>\n",
       "      <td>0.461349</td>\n",
       "      <td>0.461349</td>\n",
       "      <td>0.030668</td>\n",
       "      <td>0.030668</td>\n",
       "      <td>0.030668</td>\n",
       "      <td>0.430681</td>\n",
       "      <td>0.430681</td>\n",
       "      <td>0.430681</td>\n",
       "      <td>0.0</td>\n",
       "      <td>0.0</td>\n",
       "      <td>0.0</td>\n",
       "      <td>53.139541</td>\n",
       "    </tr>\n",
       "    <tr>\n",
       "      <th>1</th>\n",
       "      <td>2020-11-06</td>\n",
       "      <td>52.753259</td>\n",
       "      <td>52.260045</td>\n",
       "      <td>54.296674</td>\n",
       "      <td>52.753259</td>\n",
       "      <td>52.753259</td>\n",
       "      <td>0.484958</td>\n",
       "      <td>0.484958</td>\n",
       "      <td>0.484958</td>\n",
       "      <td>0.032940</td>\n",
       "      <td>0.032940</td>\n",
       "      <td>0.032940</td>\n",
       "      <td>0.452018</td>\n",
       "      <td>0.452018</td>\n",
       "      <td>0.452018</td>\n",
       "      <td>0.0</td>\n",
       "      <td>0.0</td>\n",
       "      <td>0.0</td>\n",
       "      <td>53.238216</td>\n",
       "    </tr>\n",
       "    <tr>\n",
       "      <th>2</th>\n",
       "      <td>2020-11-09</td>\n",
       "      <td>52.978459</td>\n",
       "      <td>52.454376</td>\n",
       "      <td>54.498646</td>\n",
       "      <td>52.978459</td>\n",
       "      <td>52.978459</td>\n",
       "      <td>0.466728</td>\n",
       "      <td>0.466728</td>\n",
       "      <td>0.466728</td>\n",
       "      <td>-0.037303</td>\n",
       "      <td>-0.037303</td>\n",
       "      <td>-0.037303</td>\n",
       "      <td>0.504031</td>\n",
       "      <td>0.504031</td>\n",
       "      <td>0.504031</td>\n",
       "      <td>0.0</td>\n",
       "      <td>0.0</td>\n",
       "      <td>0.0</td>\n",
       "      <td>53.445187</td>\n",
       "    </tr>\n",
       "    <tr>\n",
       "      <th>3</th>\n",
       "      <td>2020-11-10</td>\n",
       "      <td>53.053525</td>\n",
       "      <td>52.559657</td>\n",
       "      <td>54.551762</td>\n",
       "      <td>53.053525</td>\n",
       "      <td>53.053525</td>\n",
       "      <td>0.506945</td>\n",
       "      <td>0.506945</td>\n",
       "      <td>0.506945</td>\n",
       "      <td>-0.009154</td>\n",
       "      <td>-0.009154</td>\n",
       "      <td>-0.009154</td>\n",
       "      <td>0.516099</td>\n",
       "      <td>0.516099</td>\n",
       "      <td>0.516099</td>\n",
       "      <td>0.0</td>\n",
       "      <td>0.0</td>\n",
       "      <td>0.0</td>\n",
       "      <td>53.560470</td>\n",
       "    </tr>\n",
       "    <tr>\n",
       "      <th>4</th>\n",
       "      <td>2020-11-11</td>\n",
       "      <td>53.128592</td>\n",
       "      <td>52.706204</td>\n",
       "      <td>54.678571</td>\n",
       "      <td>53.128592</td>\n",
       "      <td>53.128592</td>\n",
       "      <td>0.543298</td>\n",
       "      <td>0.543298</td>\n",
       "      <td>0.543298</td>\n",
       "      <td>0.018280</td>\n",
       "      <td>0.018280</td>\n",
       "      <td>0.018280</td>\n",
       "      <td>0.525018</td>\n",
       "      <td>0.525018</td>\n",
       "      <td>0.525018</td>\n",
       "      <td>0.0</td>\n",
       "      <td>0.0</td>\n",
       "      <td>0.0</td>\n",
       "      <td>53.671890</td>\n",
       "    </tr>\n",
       "  </tbody>\n",
       "</table>\n",
       "</div>"
      ],
      "text/plain": [
       "          ds      trend  yhat_lower  yhat_upper  trend_lower  trend_upper  \\\n",
       "0 2020-11-05  52.678192   52.165070   54.244406    52.678192    52.678192   \n",
       "1 2020-11-06  52.753259   52.260045   54.296674    52.753259    52.753259   \n",
       "2 2020-11-09  52.978459   52.454376   54.498646    52.978459    52.978459   \n",
       "3 2020-11-10  53.053525   52.559657   54.551762    53.053525    53.053525   \n",
       "4 2020-11-11  53.128592   52.706204   54.678571    53.128592    53.128592   \n",
       "\n",
       "   additive_terms  additive_terms_lower  additive_terms_upper    weekly  \\\n",
       "0        0.461349              0.461349              0.461349  0.030668   \n",
       "1        0.484958              0.484958              0.484958  0.032940   \n",
       "2        0.466728              0.466728              0.466728 -0.037303   \n",
       "3        0.506945              0.506945              0.506945 -0.009154   \n",
       "4        0.543298              0.543298              0.543298  0.018280   \n",
       "\n",
       "   weekly_lower  weekly_upper    yearly  yearly_lower  yearly_upper  \\\n",
       "0      0.030668      0.030668  0.430681      0.430681      0.430681   \n",
       "1      0.032940      0.032940  0.452018      0.452018      0.452018   \n",
       "2     -0.037303     -0.037303  0.504031      0.504031      0.504031   \n",
       "3     -0.009154     -0.009154  0.516099      0.516099      0.516099   \n",
       "4      0.018280      0.018280  0.525018      0.525018      0.525018   \n",
       "\n",
       "   multiplicative_terms  multiplicative_terms_lower  \\\n",
       "0                   0.0                         0.0   \n",
       "1                   0.0                         0.0   \n",
       "2                   0.0                         0.0   \n",
       "3                   0.0                         0.0   \n",
       "4                   0.0                         0.0   \n",
       "\n",
       "   multiplicative_terms_upper       yhat  \n",
       "0                         0.0  53.139541  \n",
       "1                         0.0  53.238216  \n",
       "2                         0.0  53.445187  \n",
       "3                         0.0  53.560470  \n",
       "4                         0.0  53.671890  "
      ]
     },
     "execution_count": 14,
     "metadata": {},
     "output_type": "execute_result"
    }
   ],
   "source": [
    "forecast.head()"
   ]
  },
  {
   "cell_type": "markdown",
   "metadata": {},
   "source": [
    "$\\overline y$ = trend + weekly + yearly (không cộng cho additive terms)"
   ]
  },
  {
   "cell_type": "code",
   "execution_count": 15,
   "metadata": {},
   "outputs": [
    {
     "data": {
      "text/html": [
       "<div>\n",
       "<style scoped>\n",
       "    .dataframe tbody tr th:only-of-type {\n",
       "        vertical-align: middle;\n",
       "    }\n",
       "\n",
       "    .dataframe tbody tr th {\n",
       "        vertical-align: top;\n",
       "    }\n",
       "\n",
       "    .dataframe thead th {\n",
       "        text-align: right;\n",
       "    }\n",
       "</style>\n",
       "<table border=\"1\" class=\"dataframe\">\n",
       "  <thead>\n",
       "    <tr style=\"text-align: right;\">\n",
       "      <th></th>\n",
       "      <th>ds</th>\n",
       "      <th>y</th>\n",
       "    </tr>\n",
       "  </thead>\n",
       "  <tbody>\n",
       "    <tr>\n",
       "      <th>0</th>\n",
       "      <td>2020-11-05</td>\n",
       "      <td>52.0</td>\n",
       "    </tr>\n",
       "    <tr>\n",
       "      <th>1</th>\n",
       "      <td>2020-11-06</td>\n",
       "      <td>52.4</td>\n",
       "    </tr>\n",
       "    <tr>\n",
       "      <th>2</th>\n",
       "      <td>2020-11-09</td>\n",
       "      <td>53.4</td>\n",
       "    </tr>\n",
       "    <tr>\n",
       "      <th>3</th>\n",
       "      <td>2020-11-10</td>\n",
       "      <td>53.0</td>\n",
       "    </tr>\n",
       "    <tr>\n",
       "      <th>4</th>\n",
       "      <td>2020-11-11</td>\n",
       "      <td>53.0</td>\n",
       "    </tr>\n",
       "  </tbody>\n",
       "</table>\n",
       "</div>"
      ],
      "text/plain": [
       "          ds     y\n",
       "0 2020-11-05  52.0\n",
       "1 2020-11-06  52.4\n",
       "2 2020-11-09  53.4\n",
       "3 2020-11-10  53.0\n",
       "4 2020-11-11  53.0"
      ]
     },
     "execution_count": 15,
     "metadata": {},
     "output_type": "execute_result"
    }
   ],
   "source": [
    "x_test.head()"
   ]
  },
  {
   "cell_type": "code",
   "execution_count": 16,
   "metadata": {},
   "outputs": [
    {
     "data": {
      "text/html": [
       "<div>\n",
       "<style scoped>\n",
       "    .dataframe tbody tr th:only-of-type {\n",
       "        vertical-align: middle;\n",
       "    }\n",
       "\n",
       "    .dataframe tbody tr th {\n",
       "        vertical-align: top;\n",
       "    }\n",
       "\n",
       "    .dataframe thead th {\n",
       "        text-align: right;\n",
       "    }\n",
       "</style>\n",
       "<table border=\"1\" class=\"dataframe\">\n",
       "  <thead>\n",
       "    <tr style=\"text-align: right;\">\n",
       "      <th></th>\n",
       "      <th>ds</th>\n",
       "      <th>yhat</th>\n",
       "    </tr>\n",
       "  </thead>\n",
       "  <tbody>\n",
       "    <tr>\n",
       "      <th>0</th>\n",
       "      <td>2020-11-05</td>\n",
       "      <td>53.139541</td>\n",
       "    </tr>\n",
       "    <tr>\n",
       "      <th>1</th>\n",
       "      <td>2020-11-06</td>\n",
       "      <td>53.238216</td>\n",
       "    </tr>\n",
       "    <tr>\n",
       "      <th>2</th>\n",
       "      <td>2020-11-09</td>\n",
       "      <td>53.445187</td>\n",
       "    </tr>\n",
       "    <tr>\n",
       "      <th>3</th>\n",
       "      <td>2020-11-10</td>\n",
       "      <td>53.560470</td>\n",
       "    </tr>\n",
       "    <tr>\n",
       "      <th>4</th>\n",
       "      <td>2020-11-11</td>\n",
       "      <td>53.671890</td>\n",
       "    </tr>\n",
       "  </tbody>\n",
       "</table>\n",
       "</div>"
      ],
      "text/plain": [
       "          ds       yhat\n",
       "0 2020-11-05  53.139541\n",
       "1 2020-11-06  53.238216\n",
       "2 2020-11-09  53.445187\n",
       "3 2020-11-10  53.560470\n",
       "4 2020-11-11  53.671890"
      ]
     },
     "execution_count": 16,
     "metadata": {},
     "output_type": "execute_result"
    }
   ],
   "source": [
    "forecast[[\"ds\", \"yhat\"]].head()"
   ]
  },
  {
   "cell_type": "markdown",
   "metadata": {},
   "source": [
    "## Validation"
   ]
  },
  {
   "cell_type": "code",
   "execution_count": 17,
   "metadata": {},
   "outputs": [
    {
     "data": {
      "text/plain": [
       "(30,)"
      ]
     },
     "execution_count": 17,
     "metadata": {},
     "output_type": "execute_result"
    }
   ],
   "source": [
    "true_values = x_test[\"y\"].values\n",
    "true_values.shape"
   ]
  },
  {
   "cell_type": "code",
   "execution_count": 18,
   "metadata": {},
   "outputs": [
    {
     "data": {
      "text/plain": [
       "(30,)"
      ]
     },
     "execution_count": 18,
     "metadata": {},
     "output_type": "execute_result"
    }
   ],
   "source": [
    "predict_values = forecast[\"yhat\"].values\n",
    "predict_values.shape"
   ]
  },
  {
   "cell_type": "code",
   "execution_count": 19,
   "metadata": {},
   "outputs": [
    {
     "data": {
      "text/plain": [
       "'MAPE for one day: 2.1914252134680288'"
      ]
     },
     "execution_count": 19,
     "metadata": {},
     "output_type": "execute_result"
    }
   ],
   "source": [
    "MAPE_point(true_values[0], predict_values[0])"
   ]
  },
  {
   "cell_type": "code",
   "execution_count": 20,
   "metadata": {},
   "outputs": [
    {
     "data": {
      "text/plain": [
       "'MAPE for range 30 days: 1.7474454330532638'"
      ]
     },
     "execution_count": 20,
     "metadata": {},
     "output_type": "execute_result"
    }
   ],
   "source": [
    "MAPE_range(true_values, predict_values)"
   ]
  },
  {
   "cell_type": "code",
   "execution_count": null,
   "metadata": {},
   "outputs": [],
   "source": []
  },
  {
   "cell_type": "markdown",
   "metadata": {},
   "source": [
    "## Rolling leanring"
   ]
  },
  {
   "cell_type": "code",
   "execution_count": 21,
   "metadata": {},
   "outputs": [],
   "source": [
    "def stan_init(m):\n",
    "    \"\"\"Retrieve parameters from a trained model.\n",
    "    \n",
    "    Retrieve parameters from a trained model in the format\n",
    "    used to initialize a new Stan model.\n",
    "    \n",
    "    Parameters\n",
    "    ----------\n",
    "    m: A trained model of the Prophet class.\n",
    "    \n",
    "    Returns\n",
    "    -------\n",
    "    A Dictionary containing retrieved parameters of m.\n",
    "    \n",
    "    \"\"\"\n",
    "    res = {}\n",
    "    for pname in ['k', 'm', 'sigma_obs']:\n",
    "        res[pname] = m.params[pname][0][0]\n",
    "    for pname in ['delta', 'beta']:\n",
    "        res[pname] = m.params[pname][0]\n",
    "    return res"
   ]
  },
  {
   "cell_type": "code",
   "execution_count": null,
   "metadata": {},
   "outputs": [
    {
     "name": "stderr",
     "output_type": "stream",
     "text": [
      "  0%|                                                                                            | 0/7 [00:00<?, ?it/s]INFO:fbprophet:Disabling daily seasonality. Run prophet with daily_seasonality=True to override this.\n",
      " 14%|████████████                                                                        | 1/7 [01:13<07:21, 73.63s/it]INFO:fbprophet:Disabling daily seasonality. Run prophet with daily_seasonality=True to override this.\n",
      " 29%|████████████████████████                                                            | 2/7 [01:50<05:12, 62.58s/it]INFO:fbprophet:Disabling daily seasonality. Run prophet with daily_seasonality=True to override this.\n",
      " 43%|████████████████████████████████████                                                | 3/7 [03:04<04:23, 65.98s/it]INFO:fbprophet:Disabling daily seasonality. Run prophet with daily_seasonality=True to override this.\n",
      " 57%|████████████████████████████████████████████████                                    | 4/7 [03:52<03:01, 60.51s/it]INFO:fbprophet:Disabling daily seasonality. Run prophet with daily_seasonality=True to override this.\n",
      " 71%|████████████████████████████████████████████████████████████                        | 5/7 [04:09<01:35, 47.71s/it]INFO:fbprophet:Disabling daily seasonality. Run prophet with daily_seasonality=True to override this.\n"
     ]
    }
   ],
   "source": [
    "true_values, predict_values = [], []\n",
    "model_rolling = None\n",
    "\n",
    "for i in tqdm(range(TEST_HORIZON)):\n",
    "#     print(x_train)\n",
    "    if (i == 0):\n",
    "        model_rolling = Prophet(n_changepoints=100,changepoint_range=0.99, changepoint_prior_scale=0.5).fit(x_train)\n",
    "    else:\n",
    "        model_rolling = Prophet(n_changepoints=100, changepoint_range=0.99, changepoint_prior_scale=0.5).fit(x_train, init=stan_init(model_rolling))\n",
    "        \n",
    "    true_values.append(x_test.iloc[i,1])\n",
    "    sample = x_test.iloc[i,:].copy()\n",
    "    future_need_predict = pd.DataFrame({\"ds\": [sample[0]]})\n",
    "    predict_df = model_rolling.predict(future_need_predict)\n",
    "    predict_values.append(predict_df['yhat'][0])\n",
    "    x_train = x_train.append(x_test.iloc[i,:])\n",
    "    "
   ]
  },
  {
   "cell_type": "code",
   "execution_count": null,
   "metadata": {},
   "outputs": [],
   "source": [
    "MAPE_range(true_values, predict_values)"
   ]
  },
  {
   "cell_type": "code",
   "execution_count": null,
   "metadata": {},
   "outputs": [],
   "source": [
    "plt.plot(np.arange(len(true_values)), true_values, color=\"blue\", label=\"True values\")\n",
    "plt.plot(np.arange(len(predict_values)), predict_values, color=\"red\", label=\"Predict values\")\n",
    "plt.legend()\n",
    "plt.show()"
   ]
  },
  {
   "cell_type": "code",
   "execution_count": null,
   "metadata": {},
   "outputs": [],
   "source": []
  },
  {
   "cell_type": "code",
   "execution_count": null,
   "metadata": {},
   "outputs": [],
   "source": []
  }
 ],
 "metadata": {
  "kernelspec": {
   "display_name": "Python 3",
   "language": "python",
   "name": "python3"
  },
  "language_info": {
   "codemirror_mode": {
    "name": "ipython",
    "version": 3
   },
   "file_extension": ".py",
   "mimetype": "text/x-python",
   "name": "python",
   "nbconvert_exporter": "python",
   "pygments_lexer": "ipython3",
   "version": "3.7.9"
  }
 },
 "nbformat": 4,
 "nbformat_minor": 4
}
