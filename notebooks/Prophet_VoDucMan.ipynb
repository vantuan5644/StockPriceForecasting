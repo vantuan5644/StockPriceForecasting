{
 "cells": [
  {
   "cell_type": "code",
   "execution_count": 2,
   "metadata": {},
   "outputs": [],
   "source": [
    "import numpy as np\n",
    "import pandas as pd\n",
    "import os\n",
    "import matplotlib.pyplot as plt\n",
    "from fbprophet import Prophet\n",
    "from pylab import rcParams\n",
    "from tqdm import tqdm\n",
    "import pickle\n",
    "rcParams['figure.figsize'] = (22,5)"
   ]
  },
  {
   "cell_type": "code",
   "execution_count": 12,
   "metadata": {},
   "outputs": [],
   "source": [
    "FILE_PATH = \"../dataset/excel_fpt.csv\"\n",
    "START_YEAR = 2016\n",
    "VALIDATION_SIZE = 100\n",
    "TEST_SIZE = 30\n",
    "TEST_HORIZON = 7\n",
    "SEASONALITY = False"
   ]
  },
  {
   "cell_type": "code",
   "execution_count": 13,
   "metadata": {},
   "outputs": [],
   "source": [
    "def MAPE_point(true_value, predict_value):\n",
    "    return 100 * np.abs((true_value - predict_value)/true_value)\n",
    "\n",
    "def MAPE_range(true_values, predict_values):\n",
    "    percen_errors = []\n",
    "    for i in range(len(true_values)):\n",
    "        percen_errors.append(100 * np.abs((true_values[i] - predict_values[i])/true_values[i]))\n",
    "    return sum(percen_errors)/len(percen_errors)"
   ]
  },
  {
   "cell_type": "code",
   "execution_count": 14,
   "metadata": {},
   "outputs": [
    {
     "data": {
      "text/html": [
       "<div>\n",
       "<style scoped>\n",
       "    .dataframe tbody tr th:only-of-type {\n",
       "        vertical-align: middle;\n",
       "    }\n",
       "\n",
       "    .dataframe tbody tr th {\n",
       "        vertical-align: top;\n",
       "    }\n",
       "\n",
       "    .dataframe thead th {\n",
       "        text-align: right;\n",
       "    }\n",
       "</style>\n",
       "<table border=\"1\" class=\"dataframe\">\n",
       "  <thead>\n",
       "    <tr style=\"text-align: right;\">\n",
       "      <th></th>\n",
       "      <th>&lt;Ticker&gt;</th>\n",
       "      <th>&lt;DTYYYYMMDD&gt;</th>\n",
       "      <th>&lt;Open&gt;</th>\n",
       "      <th>&lt;High&gt;</th>\n",
       "      <th>&lt;Low&gt;</th>\n",
       "      <th>&lt;Close&gt;</th>\n",
       "      <th>&lt;Volume&gt;</th>\n",
       "    </tr>\n",
       "  </thead>\n",
       "  <tbody>\n",
       "    <tr>\n",
       "      <th>0</th>\n",
       "      <td>FPT</td>\n",
       "      <td>20201216</td>\n",
       "      <td>57.2</td>\n",
       "      <td>57.5</td>\n",
       "      <td>57.0</td>\n",
       "      <td>57.1</td>\n",
       "      <td>1995530</td>\n",
       "    </tr>\n",
       "    <tr>\n",
       "      <th>1</th>\n",
       "      <td>FPT</td>\n",
       "      <td>20201215</td>\n",
       "      <td>57.5</td>\n",
       "      <td>57.6</td>\n",
       "      <td>56.6</td>\n",
       "      <td>56.7</td>\n",
       "      <td>2666900</td>\n",
       "    </tr>\n",
       "    <tr>\n",
       "      <th>2</th>\n",
       "      <td>FPT</td>\n",
       "      <td>20201214</td>\n",
       "      <td>57.0</td>\n",
       "      <td>58.0</td>\n",
       "      <td>56.9</td>\n",
       "      <td>57.2</td>\n",
       "      <td>1443760</td>\n",
       "    </tr>\n",
       "    <tr>\n",
       "      <th>3</th>\n",
       "      <td>FPT</td>\n",
       "      <td>20201211</td>\n",
       "      <td>56.6</td>\n",
       "      <td>57.0</td>\n",
       "      <td>56.3</td>\n",
       "      <td>57.0</td>\n",
       "      <td>1750270</td>\n",
       "    </tr>\n",
       "    <tr>\n",
       "      <th>4</th>\n",
       "      <td>FPT</td>\n",
       "      <td>20201210</td>\n",
       "      <td>57.0</td>\n",
       "      <td>57.7</td>\n",
       "      <td>56.5</td>\n",
       "      <td>56.5</td>\n",
       "      <td>2112490</td>\n",
       "    </tr>\n",
       "  </tbody>\n",
       "</table>\n",
       "</div>"
      ],
      "text/plain": [
       "  <Ticker>  <DTYYYYMMDD>  <Open>  <High>  <Low>  <Close>  <Volume>\n",
       "0      FPT      20201216    57.2    57.5   57.0     57.1   1995530\n",
       "1      FPT      20201215    57.5    57.6   56.6     56.7   2666900\n",
       "2      FPT      20201214    57.0    58.0   56.9     57.2   1443760\n",
       "3      FPT      20201211    56.6    57.0   56.3     57.0   1750270\n",
       "4      FPT      20201210    57.0    57.7   56.5     56.5   2112490"
      ]
     },
     "execution_count": 14,
     "metadata": {},
     "output_type": "execute_result"
    }
   ],
   "source": [
    "df = pd.read_csv(FILE_PATH)\n",
    "df.head()"
   ]
  },
  {
   "cell_type": "code",
   "execution_count": null,
   "metadata": {},
   "outputs": [],
   "source": []
  },
  {
   "cell_type": "code",
   "execution_count": 15,
   "metadata": {},
   "outputs": [
    {
     "data": {
      "text/html": [
       "<div>\n",
       "<style scoped>\n",
       "    .dataframe tbody tr th:only-of-type {\n",
       "        vertical-align: middle;\n",
       "    }\n",
       "\n",
       "    .dataframe tbody tr th {\n",
       "        vertical-align: top;\n",
       "    }\n",
       "\n",
       "    .dataframe thead th {\n",
       "        text-align: right;\n",
       "    }\n",
       "</style>\n",
       "<table border=\"1\" class=\"dataframe\">\n",
       "  <thead>\n",
       "    <tr style=\"text-align: right;\">\n",
       "      <th></th>\n",
       "      <th>ds</th>\n",
       "      <th>y</th>\n",
       "    </tr>\n",
       "  </thead>\n",
       "  <tbody>\n",
       "    <tr>\n",
       "      <th>0</th>\n",
       "      <td>2016-01-04</td>\n",
       "      <td>20.0549</td>\n",
       "    </tr>\n",
       "    <tr>\n",
       "      <th>1</th>\n",
       "      <td>2016-01-05</td>\n",
       "      <td>20.0549</td>\n",
       "    </tr>\n",
       "    <tr>\n",
       "      <th>2</th>\n",
       "      <td>2016-01-06</td>\n",
       "      <td>20.0968</td>\n",
       "    </tr>\n",
       "    <tr>\n",
       "      <th>3</th>\n",
       "      <td>2016-01-07</td>\n",
       "      <td>19.7192</td>\n",
       "    </tr>\n",
       "    <tr>\n",
       "      <th>4</th>\n",
       "      <td>2016-01-08</td>\n",
       "      <td>19.4255</td>\n",
       "    </tr>\n",
       "  </tbody>\n",
       "</table>\n",
       "</div>"
      ],
      "text/plain": [
       "          ds        y\n",
       "0 2016-01-04  20.0549\n",
       "1 2016-01-05  20.0549\n",
       "2 2016-01-06  20.0968\n",
       "3 2016-01-07  19.7192\n",
       "4 2016-01-08  19.4255"
      ]
     },
     "execution_count": 15,
     "metadata": {},
     "output_type": "execute_result"
    }
   ],
   "source": [
    "columns = df.columns\n",
    "columns_remove_bracket = [label.replace(\"<\",\"\").replace(\">\",\"\") for label in columns]\n",
    "columns_to_replace = {columns[i]: columns_remove_bracket[i] for i in range(len(df.columns))}\n",
    "df.rename(columns=columns_to_replace, inplace=True)\n",
    "df.drop([\"Ticker\",\"Open\",\"High\",\"Low\",\"Volume\"], axis=1, inplace=True)\n",
    "df[\"DTYYYYMMDD\"] = pd.to_datetime(df[\"DTYYYYMMDD\"], format=\"%Y%m%d\", errors=\"coerce\")\n",
    "df.rename(columns={\"DTYYYYMMDD\": \"ds\", \"Close\": \"y\"}, inplace=True)\n",
    "df = df[df[\"ds\"].dt.year >= START_YEAR]\n",
    "df.sort_values(by=\"ds\", inplace=True, ascending=True)\n",
    "df.reset_index(inplace=True, drop=True)\n",
    "df.head()"
   ]
  },
  {
   "cell_type": "code",
   "execution_count": 16,
   "metadata": {},
   "outputs": [
    {
     "data": {
      "text/html": [
       "<div>\n",
       "<style scoped>\n",
       "    .dataframe tbody tr th:only-of-type {\n",
       "        vertical-align: middle;\n",
       "    }\n",
       "\n",
       "    .dataframe tbody tr th {\n",
       "        vertical-align: top;\n",
       "    }\n",
       "\n",
       "    .dataframe thead th {\n",
       "        text-align: right;\n",
       "    }\n",
       "</style>\n",
       "<table border=\"1\" class=\"dataframe\">\n",
       "  <thead>\n",
       "    <tr style=\"text-align: right;\">\n",
       "      <th></th>\n",
       "      <th>ds</th>\n",
       "      <th>y</th>\n",
       "    </tr>\n",
       "  </thead>\n",
       "  <tbody>\n",
       "    <tr>\n",
       "      <th>1235</th>\n",
       "      <td>2020-12-10</td>\n",
       "      <td>56.5</td>\n",
       "    </tr>\n",
       "    <tr>\n",
       "      <th>1236</th>\n",
       "      <td>2020-12-11</td>\n",
       "      <td>57.0</td>\n",
       "    </tr>\n",
       "    <tr>\n",
       "      <th>1237</th>\n",
       "      <td>2020-12-14</td>\n",
       "      <td>57.2</td>\n",
       "    </tr>\n",
       "    <tr>\n",
       "      <th>1238</th>\n",
       "      <td>2020-12-15</td>\n",
       "      <td>56.7</td>\n",
       "    </tr>\n",
       "    <tr>\n",
       "      <th>1239</th>\n",
       "      <td>2020-12-16</td>\n",
       "      <td>57.1</td>\n",
       "    </tr>\n",
       "  </tbody>\n",
       "</table>\n",
       "</div>"
      ],
      "text/plain": [
       "             ds     y\n",
       "1235 2020-12-10  56.5\n",
       "1236 2020-12-11  57.0\n",
       "1237 2020-12-14  57.2\n",
       "1238 2020-12-15  56.7\n",
       "1239 2020-12-16  57.1"
      ]
     },
     "execution_count": 16,
     "metadata": {},
     "output_type": "execute_result"
    }
   ],
   "source": [
    "df.tail()"
   ]
  },
  {
   "cell_type": "code",
   "execution_count": 17,
   "metadata": {},
   "outputs": [
    {
     "data": {
      "text/plain": [
       "<AxesSubplot:title={'center':'Giá cổ phiếu FPT từ năm 2016 đến năm 2020'}, xlabel='ds', ylabel='ĐV: Nghìn VNĐ'>"
      ]
     },
     "execution_count": 17,
     "metadata": {},
     "output_type": "execute_result"
    },
    {
     "data": {
      "image/png": "[encoded data removed]",
      "text/plain": [
       "<Figure size 1584x360 with 1 Axes>"
      ]
     },
     "metadata": {
      "needs_background": "light"
     },
     "output_type": "display_data"
    }
   ],
   "source": [
    "df_copy = df.copy()\n",
    "df_copy.set_index(\"ds\", inplace=True)\n",
    "df_copy.plot(title=f\"Giá cổ phiếu FPT từ năm {START_YEAR} đến năm 2020\", ylabel=\"ĐV: Nghìn VNĐ\")"
   ]
  },
  {
   "cell_type": "code",
   "execution_count": 18,
   "metadata": {},
   "outputs": [
    {
     "data": {
      "text/html": [
       "<div>\n",
       "<style scoped>\n",
       "    .dataframe tbody tr th:only-of-type {\n",
       "        vertical-align: middle;\n",
       "    }\n",
       "\n",
       "    .dataframe tbody tr th {\n",
       "        vertical-align: top;\n",
       "    }\n",
       "\n",
       "    .dataframe thead th {\n",
       "        text-align: right;\n",
       "    }\n",
       "</style>\n",
       "<table border=\"1\" class=\"dataframe\">\n",
       "  <thead>\n",
       "    <tr style=\"text-align: right;\">\n",
       "      <th></th>\n",
       "      <th>ds</th>\n",
       "      <th>y</th>\n",
       "    </tr>\n",
       "  </thead>\n",
       "  <tbody>\n",
       "    <tr>\n",
       "      <th>1235</th>\n",
       "      <td>2020-12-10</td>\n",
       "      <td>56.5</td>\n",
       "    </tr>\n",
       "    <tr>\n",
       "      <th>1236</th>\n",
       "      <td>2020-12-11</td>\n",
       "      <td>57.0</td>\n",
       "    </tr>\n",
       "    <tr>\n",
       "      <th>1237</th>\n",
       "      <td>2020-12-14</td>\n",
       "      <td>57.2</td>\n",
       "    </tr>\n",
       "    <tr>\n",
       "      <th>1238</th>\n",
       "      <td>2020-12-15</td>\n",
       "      <td>56.7</td>\n",
       "    </tr>\n",
       "    <tr>\n",
       "      <th>1239</th>\n",
       "      <td>2020-12-16</td>\n",
       "      <td>57.1</td>\n",
       "    </tr>\n",
       "  </tbody>\n",
       "</table>\n",
       "</div>"
      ],
      "text/plain": [
       "             ds     y\n",
       "1235 2020-12-10  56.5\n",
       "1236 2020-12-11  57.0\n",
       "1237 2020-12-14  57.2\n",
       "1238 2020-12-15  56.7\n",
       "1239 2020-12-16  57.1"
      ]
     },
     "execution_count": 18,
     "metadata": {},
     "output_type": "execute_result"
    }
   ],
   "source": [
    "total = len(df)\n",
    "x_train, x_valid = df[:total-VALIDATION_SIZE-TEST_SIZE], df[total-VALIDATION_SIZE-TEST_SIZE:total-TEST_SIZE]\n",
    "x_test = df[total-TEST_SIZE:]\n",
    "total, x_train.shape, x_valid.shape, x_test.shape\n",
    "x_test.tail()"
   ]
  },
  {
   "cell_type": "markdown",
   "metadata": {},
   "source": [
    "model = Prophet(daily_seasonality=False, n_changepoints=100, changepoint_prior_scale=0.5, changepoint_range=0.99)\n",
    "model.fit(x_train)"
   ]
  },
  {
   "cell_type": "code",
   "execution_count": 19,
   "metadata": {},
   "outputs": [
    {
     "data": {
      "text/html": [
       "<div>\n",
       "<style scoped>\n",
       "    .dataframe tbody tr th:only-of-type {\n",
       "        vertical-align: middle;\n",
       "    }\n",
       "\n",
       "    .dataframe tbody tr th {\n",
       "        vertical-align: top;\n",
       "    }\n",
       "\n",
       "    .dataframe thead th {\n",
       "        text-align: right;\n",
       "    }\n",
       "</style>\n",
       "<table border=\"1\" class=\"dataframe\">\n",
       "  <thead>\n",
       "    <tr style=\"text-align: right;\">\n",
       "      <th></th>\n",
       "      <th>ds</th>\n",
       "    </tr>\n",
       "  </thead>\n",
       "  <tbody>\n",
       "    <tr>\n",
       "      <th>0</th>\n",
       "      <td>2020-06-17</td>\n",
       "    </tr>\n",
       "    <tr>\n",
       "      <th>1</th>\n",
       "      <td>2020-06-18</td>\n",
       "    </tr>\n",
       "    <tr>\n",
       "      <th>2</th>\n",
       "      <td>2020-06-19</td>\n",
       "    </tr>\n",
       "    <tr>\n",
       "      <th>3</th>\n",
       "      <td>2020-06-22</td>\n",
       "    </tr>\n",
       "    <tr>\n",
       "      <th>4</th>\n",
       "      <td>2020-06-23</td>\n",
       "    </tr>\n",
       "  </tbody>\n",
       "</table>\n",
       "</div>"
      ],
      "text/plain": [
       "          ds\n",
       "0 2020-06-17\n",
       "1 2020-06-18\n",
       "2 2020-06-19\n",
       "3 2020-06-22\n",
       "4 2020-06-23"
      ]
     },
     "execution_count": 19,
     "metadata": {},
     "output_type": "execute_result"
    }
   ],
   "source": [
    "# df_future = model.make_future_dataframe(periods=len(x_test), include_history=False)\n",
    "df_future_valid = x_valid.drop(columns=[\"y\"])\n",
    "df_future_test = x_test.drop(columns=[\"y\"])\n",
    "df_future_valid.reset_index(inplace=True, drop=True)\n",
    "df_future_test.reset_index(inplace=True, drop=True)\n",
    "df_future_valid.head()"
   ]
  },
  {
   "cell_type": "markdown",
   "metadata": {},
   "source": [
    "forecast = model.predict(df_future)\n",
    "forecast[['ds', 'yhat', 'yhat_lower', 'yhat_upper']].head()"
   ]
  },
  {
   "cell_type": "markdown",
   "metadata": {},
   "source": [
    "figure_1 = model.plot(forecast)\n",
    "x_test_clone = x_test.copy()\n",
    "x_test_clone.set_index(\"ds\", inplace=True)\n",
    "plt.plot(x_test_clone, color=\"red\", label=\"True values\")\n",
    "plt.legend()"
   ]
  },
  {
   "cell_type": "markdown",
   "metadata": {},
   "source": [
    "figure_2 = model.plot_components(forecast)"
   ]
  },
  {
   "cell_type": "markdown",
   "metadata": {},
   "source": [
    "forecast.head()"
   ]
  },
  {
   "cell_type": "markdown",
   "metadata": {},
   "source": [
    "$\\overline y$ = trend + weekly + yearly (không cộng cho additive terms)"
   ]
  },
  {
   "cell_type": "markdown",
   "metadata": {},
   "source": [
    "x_test.head()"
   ]
  },
  {
   "cell_type": "markdown",
   "metadata": {},
   "source": [
    "forecast[[\"ds\", \"yhat\"]].head()"
   ]
  },
  {
   "cell_type": "markdown",
   "metadata": {},
   "source": [
    "## Metrics"
   ]
  },
  {
   "cell_type": "markdown",
   "metadata": {},
   "source": [
    "Compute the **mean absolute percentage error (MAPE)** over all predictions\n",
    "\n",
    "$$MAPE = \\frac{1}{n} \\sum_{t=1}^{n}\\left|\\frac{actual_t - predicted_t}{actual_t}\\right|$$"
   ]
  },
  {
   "cell_type": "markdown",
   "metadata": {},
   "source": [
    "true_values = x_test[\"y\"].values\n",
    "true_values.shape"
   ]
  },
  {
   "cell_type": "markdown",
   "metadata": {},
   "source": [
    "predict_values = forecast[\"yhat\"].values\n",
    "predict_values.shape"
   ]
  },
  {
   "cell_type": "markdown",
   "metadata": {},
   "source": [
    "MAPE_point(true_values[0], predict_values[0])"
   ]
  },
  {
   "cell_type": "markdown",
   "metadata": {},
   "source": [
    "MAPE_range(true_values, predict_values)"
   ]
  },
  {
   "cell_type": "markdown",
   "metadata": {},
   "source": [
    "## Rolling leanring"
   ]
  },
  {
   "cell_type": "code",
   "execution_count": 20,
   "metadata": {},
   "outputs": [],
   "source": [
    "def stan_init(m):\n",
    "    \"\"\"Retrieve parameters from a trained model.\n",
    "    \n",
    "    Retrieve parameters from a trained model in the format\n",
    "    used to initialize a new Stan model.\n",
    "    \n",
    "    Parameters\n",
    "    ----------\n",
    "    m: A trained model of the Prophet class.\n",
    "    \n",
    "    Returns\n",
    "    -------\n",
    "    A Dictionary containing retrieved parameters of m.\n",
    "    \n",
    "    \"\"\"\n",
    "    res = {}\n",
    "    for pname in ['k', 'm', 'sigma_obs']:\n",
    "        res[pname] = m.params[pname][0][0]\n",
    "    for pname in ['delta', 'beta']:\n",
    "        res[pname] = m.params[pname][0]\n",
    "    return res"
   ]
  },
  {
   "cell_type": "markdown",
   "metadata": {},
   "source": [
    "## Validate and turning hyperparameters"
   ]
  },
  {
   "cell_type": "code",
   "execution_count": 33,
   "metadata": {},
   "outputs": [],
   "source": [
    "changepoint_ranges = np.logspace(np.log10(0.8), np.log10(0.99), num=5)\n",
    "changepoint_prior_scales = np.logspace(np.log10(0.05), np.log10(0.8), num=5)\n",
    "seasonality_prior_scales = np.logspace(np.log10(0.01), np.log10(10), num=5)"
   ]
  },
  {
   "cell_type": "code",
   "execution_count": 40,
   "metadata": {},
   "outputs": [
    {
     "name": "stderr",
     "output_type": "stream",
     "text": [
      "INFO:fbprophet:Disabling daily seasonality. Run prophet with daily_seasonality=True to override this.\n"
     ]
    },
    {
     "name": "stdout",
     "output_type": "stream",
     "text": [
      "Current Params: \n",
      "changepoint_range: 0.8, changepoint_prior_scale: 0.049999999999999996, season_prior_scale: 0.01\n"
     ]
    },
    {
     "name": "stderr",
     "output_type": "stream",
     "text": [
      "INFO:fbprophet:Disabling daily seasonality. Run prophet with daily_seasonality=True to override this.\n"
     ]
    },
    {
     "name": "stdout",
     "output_type": "stream",
     "text": [
      "Current MAPE: 2.241585575973535\n",
      "Current Params: \n",
      "changepoint_range: 0.8, changepoint_prior_scale: 0.049999999999999996, season_prior_scale: 0.05623413251903491\n"
     ]
    },
    {
     "name": "stderr",
     "output_type": "stream",
     "text": [
      "INFO:fbprophet:Disabling daily seasonality. Run prophet with daily_seasonality=True to override this.\n"
     ]
    },
    {
     "name": "stdout",
     "output_type": "stream",
     "text": [
      "Current MAPE: 2.221884338975108\n",
      "Current Params: \n",
      "changepoint_range: 0.8, changepoint_prior_scale: 0.049999999999999996, season_prior_scale: 0.31622776601683794\n"
     ]
    },
    {
     "name": "stderr",
     "output_type": "stream",
     "text": [
      "INFO:fbprophet:Disabling daily seasonality. Run prophet with daily_seasonality=True to override this.\n"
     ]
    },
    {
     "name": "stdout",
     "output_type": "stream",
     "text": [
      "Current MAPE: 2.210428216780364\n",
      "Current Params: \n",
      "changepoint_range: 0.8, changepoint_prior_scale: 0.049999999999999996, season_prior_scale: 1.7782794100389228\n"
     ]
    },
    {
     "name": "stderr",
     "output_type": "stream",
     "text": [
      "INFO:fbprophet:Disabling daily seasonality. Run prophet with daily_seasonality=True to override this.\n"
     ]
    },
    {
     "name": "stdout",
     "output_type": "stream",
     "text": [
      "Current MAPE: 2.2049802366537987\n",
      "Current Params: \n",
      "changepoint_range: 0.8, changepoint_prior_scale: 0.049999999999999996, season_prior_scale: 10.0\n"
     ]
    },
    {
     "name": "stderr",
     "output_type": "stream",
     "text": [
      "INFO:fbprophet:Disabling daily seasonality. Run prophet with daily_seasonality=True to override this.\n"
     ]
    },
    {
     "name": "stdout",
     "output_type": "stream",
     "text": [
      "Current MAPE: 2.194877248546588\n",
      "Current Params: \n",
      "changepoint_range: 0.8, changepoint_prior_scale: 0.1, season_prior_scale: 0.01\n"
     ]
    },
    {
     "name": "stderr",
     "output_type": "stream",
     "text": [
      "INFO:fbprophet:Disabling daily seasonality. Run prophet with daily_seasonality=True to override this.\n"
     ]
    },
    {
     "name": "stdout",
     "output_type": "stream",
     "text": [
      "Current MAPE: 5.294864010237364\n",
      "Current Params: \n",
      "changepoint_range: 0.8, changepoint_prior_scale: 0.1, season_prior_scale: 0.05623413251903491\n"
     ]
    },
    {
     "name": "stderr",
     "output_type": "stream",
     "text": [
      "INFO:fbprophet:Disabling daily seasonality. Run prophet with daily_seasonality=True to override this.\n"
     ]
    },
    {
     "name": "stdout",
     "output_type": "stream",
     "text": [
      "Current MAPE: 6.787085997649485\n",
      "Current Params: \n",
      "changepoint_range: 0.8, changepoint_prior_scale: 0.1, season_prior_scale: 0.31622776601683794\n"
     ]
    },
    {
     "name": "stderr",
     "output_type": "stream",
     "text": [
      "INFO:fbprophet:Disabling daily seasonality. Run prophet with daily_seasonality=True to override this.\n"
     ]
    },
    {
     "name": "stdout",
     "output_type": "stream",
     "text": [
      "Current MAPE: 6.776921232207549\n",
      "Current Params: \n",
      "changepoint_range: 0.8, changepoint_prior_scale: 0.1, season_prior_scale: 1.7782794100389228\n"
     ]
    },
    {
     "name": "stderr",
     "output_type": "stream",
     "text": [
      "INFO:fbprophet:Disabling daily seasonality. Run prophet with daily_seasonality=True to override this.\n"
     ]
    },
    {
     "name": "stdout",
     "output_type": "stream",
     "text": [
      "Current MAPE: 6.730050650694944\n",
      "Current Params: \n",
      "changepoint_range: 0.8, changepoint_prior_scale: 0.1, season_prior_scale: 10.0\n"
     ]
    },
    {
     "name": "stderr",
     "output_type": "stream",
     "text": [
      "INFO:fbprophet:Disabling daily seasonality. Run prophet with daily_seasonality=True to override this.\n"
     ]
    },
    {
     "name": "stdout",
     "output_type": "stream",
     "text": [
      "Current MAPE: 6.82915089653916\n",
      "Current Params: \n",
      "changepoint_range: 0.8, changepoint_prior_scale: 0.19999999999999998, season_prior_scale: 0.01\n"
     ]
    },
    {
     "name": "stderr",
     "output_type": "stream",
     "text": [
      "INFO:fbprophet:Disabling daily seasonality. Run prophet with daily_seasonality=True to override this.\n"
     ]
    },
    {
     "name": "stdout",
     "output_type": "stream",
     "text": [
      "Current MAPE: 8.307776342396169\n",
      "Current Params: \n",
      "changepoint_range: 0.8, changepoint_prior_scale: 0.19999999999999998, season_prior_scale: 0.05623413251903491\n"
     ]
    },
    {
     "name": "stderr",
     "output_type": "stream",
     "text": [
      "INFO:fbprophet:Disabling daily seasonality. Run prophet with daily_seasonality=True to override this.\n"
     ]
    },
    {
     "name": "stdout",
     "output_type": "stream",
     "text": [
      "Current MAPE: 10.702751642107817\n",
      "Current Params: \n",
      "changepoint_range: 0.8, changepoint_prior_scale: 0.19999999999999998, season_prior_scale: 0.31622776601683794\n"
     ]
    },
    {
     "name": "stderr",
     "output_type": "stream",
     "text": [
      "INFO:fbprophet:Disabling daily seasonality. Run prophet with daily_seasonality=True to override this.\n"
     ]
    },
    {
     "name": "stdout",
     "output_type": "stream",
     "text": [
      "Current MAPE: 11.264577678488076\n",
      "Current Params: \n",
      "changepoint_range: 0.8, changepoint_prior_scale: 0.19999999999999998, season_prior_scale: 1.7782794100389228\n"
     ]
    },
    {
     "name": "stderr",
     "output_type": "stream",
     "text": [
      "INFO:fbprophet:Disabling daily seasonality. Run prophet with daily_seasonality=True to override this.\n"
     ]
    },
    {
     "name": "stdout",
     "output_type": "stream",
     "text": [
      "Current MAPE: 10.987166107735463\n",
      "Current Params: \n",
      "changepoint_range: 0.8, changepoint_prior_scale: 0.19999999999999998, season_prior_scale: 10.0\n"
     ]
    },
    {
     "name": "stderr",
     "output_type": "stream",
     "text": [
      "INFO:fbprophet:Disabling daily seasonality. Run prophet with daily_seasonality=True to override this.\n"
     ]
    },
    {
     "name": "stdout",
     "output_type": "stream",
     "text": [
      "Current MAPE: 11.061573490425362\n",
      "Current Params: \n",
      "changepoint_range: 0.8, changepoint_prior_scale: 0.3999999999999999, season_prior_scale: 0.01\n"
     ]
    },
    {
     "name": "stderr",
     "output_type": "stream",
     "text": [
      "INFO:fbprophet:Disabling daily seasonality. Run prophet with daily_seasonality=True to override this.\n"
     ]
    },
    {
     "name": "stdout",
     "output_type": "stream",
     "text": [
      "Current MAPE: 10.69075052988538\n",
      "Current Params: \n",
      "changepoint_range: 0.8, changepoint_prior_scale: 0.3999999999999999, season_prior_scale: 0.05623413251903491\n"
     ]
    },
    {
     "name": "stderr",
     "output_type": "stream",
     "text": [
      "INFO:fbprophet:Disabling daily seasonality. Run prophet with daily_seasonality=True to override this.\n"
     ]
    },
    {
     "name": "stdout",
     "output_type": "stream",
     "text": [
      "Current MAPE: 17.1737096941371\n",
      "Current Params: \n",
      "changepoint_range: 0.8, changepoint_prior_scale: 0.3999999999999999, season_prior_scale: 0.31622776601683794\n"
     ]
    },
    {
     "name": "stderr",
     "output_type": "stream",
     "text": [
      "INFO:fbprophet:Disabling daily seasonality. Run prophet with daily_seasonality=True to override this.\n"
     ]
    },
    {
     "name": "stdout",
     "output_type": "stream",
     "text": [
      "Current MAPE: 16.9795604696846\n",
      "Current Params: \n",
      "changepoint_range: 0.8, changepoint_prior_scale: 0.3999999999999999, season_prior_scale: 1.7782794100389228\n"
     ]
    },
    {
     "name": "stderr",
     "output_type": "stream",
     "text": [
      "INFO:fbprophet:Disabling daily seasonality. Run prophet with daily_seasonality=True to override this.\n"
     ]
    },
    {
     "name": "stdout",
     "output_type": "stream",
     "text": [
      "Current MAPE: 16.421422678964493\n",
      "Current Params: \n",
      "changepoint_range: 0.8, changepoint_prior_scale: 0.3999999999999999, season_prior_scale: 10.0\n"
     ]
    },
    {
     "name": "stderr",
     "output_type": "stream",
     "text": [
      "INFO:fbprophet:Disabling daily seasonality. Run prophet with daily_seasonality=True to override this.\n"
     ]
    },
    {
     "name": "stdout",
     "output_type": "stream",
     "text": [
      "Current MAPE: 16.000870280066422\n",
      "Current Params: \n",
      "changepoint_range: 0.8, changepoint_prior_scale: 0.8, season_prior_scale: 0.01\n"
     ]
    },
    {
     "name": "stderr",
     "output_type": "stream",
     "text": [
      "INFO:fbprophet:Disabling daily seasonality. Run prophet with daily_seasonality=True to override this.\n"
     ]
    },
    {
     "name": "stdout",
     "output_type": "stream",
     "text": [
      "Current MAPE: 11.582572714886167\n",
      "Current Params: \n",
      "changepoint_range: 0.8, changepoint_prior_scale: 0.8, season_prior_scale: 0.05623413251903491\n"
     ]
    },
    {
     "name": "stderr",
     "output_type": "stream",
     "text": [
      "INFO:fbprophet:Disabling daily seasonality. Run prophet with daily_seasonality=True to override this.\n"
     ]
    },
    {
     "name": "stdout",
     "output_type": "stream",
     "text": [
      "Current MAPE: 18.04174693407746\n",
      "Current Params: \n",
      "changepoint_range: 0.8, changepoint_prior_scale: 0.8, season_prior_scale: 0.31622776601683794\n"
     ]
    },
    {
     "name": "stderr",
     "output_type": "stream",
     "text": [
      "INFO:fbprophet:Disabling daily seasonality. Run prophet with daily_seasonality=True to override this.\n"
     ]
    },
    {
     "name": "stdout",
     "output_type": "stream",
     "text": [
      "Current MAPE: 18.835702428685668\n",
      "Current Params: \n",
      "changepoint_range: 0.8, changepoint_prior_scale: 0.8, season_prior_scale: 1.7782794100389228\n"
     ]
    },
    {
     "name": "stderr",
     "output_type": "stream",
     "text": [
      "INFO:fbprophet:Disabling daily seasonality. Run prophet with daily_seasonality=True to override this.\n"
     ]
    },
    {
     "name": "stdout",
     "output_type": "stream",
     "text": [
      "Current MAPE: 18.40516435440635\n",
      "Current Params: \n",
      "changepoint_range: 0.8, changepoint_prior_scale: 0.8, season_prior_scale: 10.0\n"
     ]
    },
    {
     "name": "stderr",
     "output_type": "stream",
     "text": [
      "INFO:fbprophet:Disabling daily seasonality. Run prophet with daily_seasonality=True to override this.\n"
     ]
    },
    {
     "name": "stdout",
     "output_type": "stream",
     "text": [
      "Current MAPE: 18.614569762784555\n",
      "Current Params: \n",
      "changepoint_range: 0.8437742913606598, changepoint_prior_scale: 0.049999999999999996, season_prior_scale: 0.01\n"
     ]
    },
    {
     "name": "stderr",
     "output_type": "stream",
     "text": [
      "INFO:fbprophet:Disabling daily seasonality. Run prophet with daily_seasonality=True to override this.\n"
     ]
    },
    {
     "name": "stdout",
     "output_type": "stream",
     "text": [
      "Current MAPE: 8.649585535890992\n",
      "Current Params: \n",
      "changepoint_range: 0.8437742913606598, changepoint_prior_scale: 0.049999999999999996, season_prior_scale: 0.05623413251903491\n"
     ]
    },
    {
     "name": "stderr",
     "output_type": "stream",
     "text": [
      "INFO:fbprophet:Disabling daily seasonality. Run prophet with daily_seasonality=True to override this.\n"
     ]
    },
    {
     "name": "stdout",
     "output_type": "stream",
     "text": [
      "Current MAPE: 8.471827048686507\n",
      "Current Params: \n",
      "changepoint_range: 0.8437742913606598, changepoint_prior_scale: 0.049999999999999996, season_prior_scale: 0.31622776601683794\n"
     ]
    },
    {
     "name": "stderr",
     "output_type": "stream",
     "text": [
      "INFO:fbprophet:Disabling daily seasonality. Run prophet with daily_seasonality=True to override this.\n"
     ]
    },
    {
     "name": "stdout",
     "output_type": "stream",
     "text": [
      "Current MAPE: 8.386844182303241\n",
      "Current Params: \n",
      "changepoint_range: 0.8437742913606598, changepoint_prior_scale: 0.049999999999999996, season_prior_scale: 1.7782794100389228\n"
     ]
    },
    {
     "name": "stderr",
     "output_type": "stream",
     "text": [
      "INFO:fbprophet:Disabling daily seasonality. Run prophet with daily_seasonality=True to override this.\n"
     ]
    },
    {
     "name": "stdout",
     "output_type": "stream",
     "text": [
      "Current MAPE: 8.394742155794944\n",
      "Current Params: \n",
      "changepoint_range: 0.8437742913606598, changepoint_prior_scale: 0.049999999999999996, season_prior_scale: 10.0\n"
     ]
    },
    {
     "name": "stderr",
     "output_type": "stream",
     "text": [
      "INFO:fbprophet:Disabling daily seasonality. Run prophet with daily_seasonality=True to override this.\n"
     ]
    },
    {
     "name": "stdout",
     "output_type": "stream",
     "text": [
      "Current MAPE: 8.441260063760133\n",
      "Current Params: \n",
      "changepoint_range: 0.8437742913606598, changepoint_prior_scale: 0.1, season_prior_scale: 0.01\n"
     ]
    },
    {
     "name": "stderr",
     "output_type": "stream",
     "text": [
      "INFO:fbprophet:Disabling daily seasonality. Run prophet with daily_seasonality=True to override this.\n"
     ]
    },
    {
     "name": "stdout",
     "output_type": "stream",
     "text": [
      "Current MAPE: 7.573274128196785\n",
      "Current Params: \n",
      "changepoint_range: 0.8437742913606598, changepoint_prior_scale: 0.1, season_prior_scale: 0.05623413251903491\n"
     ]
    },
    {
     "name": "stderr",
     "output_type": "stream",
     "text": [
      "INFO:fbprophet:Disabling daily seasonality. Run prophet with daily_seasonality=True to override this.\n"
     ]
    },
    {
     "name": "stdout",
     "output_type": "stream",
     "text": [
      "Current MAPE: 6.210433008038299\n",
      "Current Params: \n",
      "changepoint_range: 0.8437742913606598, changepoint_prior_scale: 0.1, season_prior_scale: 0.31622776601683794\n"
     ]
    },
    {
     "name": "stderr",
     "output_type": "stream",
     "text": [
      "INFO:fbprophet:Disabling daily seasonality. Run prophet with daily_seasonality=True to override this.\n"
     ]
    },
    {
     "name": "stdout",
     "output_type": "stream",
     "text": [
      "Current MAPE: 4.148706389741998\n",
      "Current Params: \n",
      "changepoint_range: 0.8437742913606598, changepoint_prior_scale: 0.1, season_prior_scale: 1.7782794100389228\n"
     ]
    },
    {
     "name": "stderr",
     "output_type": "stream",
     "text": [
      "INFO:fbprophet:Disabling daily seasonality. Run prophet with daily_seasonality=True to override this.\n"
     ]
    },
    {
     "name": "stdout",
     "output_type": "stream",
     "text": [
      "Current MAPE: 6.788522149903087\n",
      "Current Params: \n",
      "changepoint_range: 0.8437742913606598, changepoint_prior_scale: 0.1, season_prior_scale: 10.0\n"
     ]
    },
    {
     "name": "stderr",
     "output_type": "stream",
     "text": [
      "INFO:fbprophet:Disabling daily seasonality. Run prophet with daily_seasonality=True to override this.\n"
     ]
    },
    {
     "name": "stdout",
     "output_type": "stream",
     "text": [
      "Current MAPE: 5.614025804427024\n",
      "Current Params: \n",
      "changepoint_range: 0.8437742913606598, changepoint_prior_scale: 0.19999999999999998, season_prior_scale: 0.01\n"
     ]
    },
    {
     "name": "stderr",
     "output_type": "stream",
     "text": [
      "INFO:fbprophet:Disabling daily seasonality. Run prophet with daily_seasonality=True to override this.\n"
     ]
    },
    {
     "name": "stdout",
     "output_type": "stream",
     "text": [
      "Current MAPE: 3.477972531700414\n",
      "Current Params: \n",
      "changepoint_range: 0.8437742913606598, changepoint_prior_scale: 0.19999999999999998, season_prior_scale: 0.05623413251903491\n"
     ]
    },
    {
     "name": "stderr",
     "output_type": "stream",
     "text": [
      "INFO:fbprophet:Disabling daily seasonality. Run prophet with daily_seasonality=True to override this.\n"
     ]
    },
    {
     "name": "stdout",
     "output_type": "stream",
     "text": [
      "Current MAPE: 6.529762805741569\n",
      "Current Params: \n",
      "changepoint_range: 0.8437742913606598, changepoint_prior_scale: 0.19999999999999998, season_prior_scale: 0.31622776601683794\n"
     ]
    },
    {
     "name": "stderr",
     "output_type": "stream",
     "text": [
      "INFO:fbprophet:Disabling daily seasonality. Run prophet with daily_seasonality=True to override this.\n"
     ]
    },
    {
     "name": "stdout",
     "output_type": "stream",
     "text": [
      "Current MAPE: 7.257481873545681\n",
      "Current Params: \n",
      "changepoint_range: 0.8437742913606598, changepoint_prior_scale: 0.19999999999999998, season_prior_scale: 1.7782794100389228\n"
     ]
    },
    {
     "name": "stderr",
     "output_type": "stream",
     "text": [
      "INFO:fbprophet:Disabling daily seasonality. Run prophet with daily_seasonality=True to override this.\n"
     ]
    },
    {
     "name": "stdout",
     "output_type": "stream",
     "text": [
      "Current MAPE: 7.263955518780208\n",
      "Current Params: \n",
      "changepoint_range: 0.8437742913606598, changepoint_prior_scale: 0.19999999999999998, season_prior_scale: 10.0\n"
     ]
    },
    {
     "name": "stderr",
     "output_type": "stream",
     "text": [
      "INFO:fbprophet:Disabling daily seasonality. Run prophet with daily_seasonality=True to override this.\n"
     ]
    },
    {
     "name": "stdout",
     "output_type": "stream",
     "text": [
      "Current MAPE: 7.485605557806918\n",
      "Current Params: \n",
      "changepoint_range: 0.8437742913606598, changepoint_prior_scale: 0.3999999999999999, season_prior_scale: 0.01\n"
     ]
    },
    {
     "name": "stderr",
     "output_type": "stream",
     "text": [
      "INFO:fbprophet:Disabling daily seasonality. Run prophet with daily_seasonality=True to override this.\n"
     ]
    },
    {
     "name": "stdout",
     "output_type": "stream",
     "text": [
      "Current MAPE: 4.951640284795697\n",
      "Current Params: \n",
      "changepoint_range: 0.8437742913606598, changepoint_prior_scale: 0.3999999999999999, season_prior_scale: 0.05623413251903491\n"
     ]
    },
    {
     "name": "stderr",
     "output_type": "stream",
     "text": [
      "INFO:fbprophet:Disabling daily seasonality. Run prophet with daily_seasonality=True to override this.\n"
     ]
    },
    {
     "name": "stdout",
     "output_type": "stream",
     "text": [
      "Current MAPE: 11.591533069253149\n",
      "Current Params: \n",
      "changepoint_range: 0.8437742913606598, changepoint_prior_scale: 0.3999999999999999, season_prior_scale: 0.31622776601683794\n"
     ]
    },
    {
     "name": "stderr",
     "output_type": "stream",
     "text": [
      "INFO:fbprophet:Disabling daily seasonality. Run prophet with daily_seasonality=True to override this.\n"
     ]
    },
    {
     "name": "stdout",
     "output_type": "stream",
     "text": [
      "Current MAPE: 11.660907583078037\n",
      "Current Params: \n",
      "changepoint_range: 0.8437742913606598, changepoint_prior_scale: 0.3999999999999999, season_prior_scale: 1.7782794100389228\n"
     ]
    },
    {
     "name": "stderr",
     "output_type": "stream",
     "text": [
      "INFO:fbprophet:Disabling daily seasonality. Run prophet with daily_seasonality=True to override this.\n"
     ]
    },
    {
     "name": "stdout",
     "output_type": "stream",
     "text": [
      "Current MAPE: 11.758977857103845\n",
      "Current Params: \n",
      "changepoint_range: 0.8437742913606598, changepoint_prior_scale: 0.3999999999999999, season_prior_scale: 10.0\n"
     ]
    },
    {
     "name": "stderr",
     "output_type": "stream",
     "text": [
      "INFO:fbprophet:Disabling daily seasonality. Run prophet with daily_seasonality=True to override this.\n"
     ]
    },
    {
     "name": "stdout",
     "output_type": "stream",
     "text": [
      "Current MAPE: 12.097550615911018\n",
      "Current Params: \n",
      "changepoint_range: 0.8437742913606598, changepoint_prior_scale: 0.8, season_prior_scale: 0.01\n"
     ]
    },
    {
     "name": "stderr",
     "output_type": "stream",
     "text": [
      "INFO:fbprophet:Disabling daily seasonality. Run prophet with daily_seasonality=True to override this.\n"
     ]
    },
    {
     "name": "stdout",
     "output_type": "stream",
     "text": [
      "Current MAPE: 4.623074592975498\n",
      "Current Params: \n",
      "changepoint_range: 0.8437742913606598, changepoint_prior_scale: 0.8, season_prior_scale: 0.05623413251903491\n"
     ]
    },
    {
     "name": "stderr",
     "output_type": "stream",
     "text": [
      "INFO:fbprophet:Disabling daily seasonality. Run prophet with daily_seasonality=True to override this.\n"
     ]
    },
    {
     "name": "stdout",
     "output_type": "stream",
     "text": [
      "Current MAPE: 14.624625820038448\n",
      "Current Params: \n",
      "changepoint_range: 0.8437742913606598, changepoint_prior_scale: 0.8, season_prior_scale: 0.31622776601683794\n"
     ]
    },
    {
     "name": "stderr",
     "output_type": "stream",
     "text": [
      "INFO:fbprophet:Disabling daily seasonality. Run prophet with daily_seasonality=True to override this.\n"
     ]
    },
    {
     "name": "stdout",
     "output_type": "stream",
     "text": [
      "Current MAPE: 14.049280454020455\n",
      "Current Params: \n",
      "changepoint_range: 0.8437742913606598, changepoint_prior_scale: 0.8, season_prior_scale: 1.7782794100389228\n"
     ]
    },
    {
     "name": "stderr",
     "output_type": "stream",
     "text": [
      "INFO:fbprophet:Disabling daily seasonality. Run prophet with daily_seasonality=True to override this.\n"
     ]
    },
    {
     "name": "stdout",
     "output_type": "stream",
     "text": [
      "Current MAPE: 14.033287009775743\n",
      "Current Params: \n",
      "changepoint_range: 0.8437742913606598, changepoint_prior_scale: 0.8, season_prior_scale: 10.0\n"
     ]
    },
    {
     "name": "stderr",
     "output_type": "stream",
     "text": [
      "INFO:fbprophet:Disabling daily seasonality. Run prophet with daily_seasonality=True to override this.\n"
     ]
    },
    {
     "name": "stdout",
     "output_type": "stream",
     "text": [
      "Current MAPE: 14.227088039340321\n",
      "Current Params: \n",
      "changepoint_range: 0.8899438184514796, changepoint_prior_scale: 0.049999999999999996, season_prior_scale: 0.01\n"
     ]
    },
    {
     "name": "stderr",
     "output_type": "stream",
     "text": [
      "INFO:fbprophet:Disabling daily seasonality. Run prophet with daily_seasonality=True to override this.\n"
     ]
    },
    {
     "name": "stdout",
     "output_type": "stream",
     "text": [
      "Current MAPE: 9.939863943693005\n",
      "Current Params: \n",
      "changepoint_range: 0.8899438184514796, changepoint_prior_scale: 0.049999999999999996, season_prior_scale: 0.05623413251903491\n"
     ]
    },
    {
     "name": "stderr",
     "output_type": "stream",
     "text": [
      "INFO:fbprophet:Disabling daily seasonality. Run prophet with daily_seasonality=True to override this.\n"
     ]
    },
    {
     "name": "stdout",
     "output_type": "stream",
     "text": [
      "Current MAPE: 9.558654911171097\n",
      "Current Params: \n",
      "changepoint_range: 0.8899438184514796, changepoint_prior_scale: 0.049999999999999996, season_prior_scale: 0.31622776601683794\n"
     ]
    },
    {
     "name": "stderr",
     "output_type": "stream",
     "text": [
      "INFO:fbprophet:Disabling daily seasonality. Run prophet with daily_seasonality=True to override this.\n"
     ]
    },
    {
     "name": "stdout",
     "output_type": "stream",
     "text": [
      "Current MAPE: 9.719427934626548\n",
      "Current Params: \n",
      "changepoint_range: 0.8899438184514796, changepoint_prior_scale: 0.049999999999999996, season_prior_scale: 1.7782794100389228\n"
     ]
    },
    {
     "name": "stderr",
     "output_type": "stream",
     "text": [
      "INFO:fbprophet:Disabling daily seasonality. Run prophet with daily_seasonality=True to override this.\n"
     ]
    },
    {
     "name": "stdout",
     "output_type": "stream",
     "text": [
      "Current MAPE: 9.73062217518074\n",
      "Current Params: \n",
      "changepoint_range: 0.8899438184514796, changepoint_prior_scale: 0.049999999999999996, season_prior_scale: 10.0\n"
     ]
    },
    {
     "name": "stderr",
     "output_type": "stream",
     "text": [
      "INFO:fbprophet:Disabling daily seasonality. Run prophet with daily_seasonality=True to override this.\n"
     ]
    },
    {
     "name": "stdout",
     "output_type": "stream",
     "text": [
      "Current MAPE: 9.746478368521416\n",
      "Current Params: \n",
      "changepoint_range: 0.8899438184514796, changepoint_prior_scale: 0.1, season_prior_scale: 0.01\n"
     ]
    },
    {
     "name": "stderr",
     "output_type": "stream",
     "text": [
      "INFO:fbprophet:Disabling daily seasonality. Run prophet with daily_seasonality=True to override this.\n"
     ]
    },
    {
     "name": "stdout",
     "output_type": "stream",
     "text": [
      "Current MAPE: 9.723835437930203\n",
      "Current Params: \n",
      "changepoint_range: 0.8899438184514796, changepoint_prior_scale: 0.1, season_prior_scale: 0.05623413251903491\n"
     ]
    },
    {
     "name": "stderr",
     "output_type": "stream",
     "text": [
      "INFO:fbprophet:Disabling daily seasonality. Run prophet with daily_seasonality=True to override this.\n"
     ]
    },
    {
     "name": "stdout",
     "output_type": "stream",
     "text": [
      "Current MAPE: 9.454867694353657\n",
      "Current Params: \n",
      "changepoint_range: 0.8899438184514796, changepoint_prior_scale: 0.1, season_prior_scale: 0.31622776601683794\n"
     ]
    },
    {
     "name": "stderr",
     "output_type": "stream",
     "text": [
      "INFO:fbprophet:Disabling daily seasonality. Run prophet with daily_seasonality=True to override this.\n"
     ]
    },
    {
     "name": "stdout",
     "output_type": "stream",
     "text": [
      "Current MAPE: 9.46334729923335\n",
      "Current Params: \n",
      "changepoint_range: 0.8899438184514796, changepoint_prior_scale: 0.1, season_prior_scale: 1.7782794100389228\n"
     ]
    },
    {
     "name": "stderr",
     "output_type": "stream",
     "text": [
      "INFO:fbprophet:Disabling daily seasonality. Run prophet with daily_seasonality=True to override this.\n"
     ]
    },
    {
     "name": "stdout",
     "output_type": "stream",
     "text": [
      "Current MAPE: 9.509285516978624\n",
      "Current Params: \n",
      "changepoint_range: 0.8899438184514796, changepoint_prior_scale: 0.1, season_prior_scale: 10.0\n"
     ]
    },
    {
     "name": "stderr",
     "output_type": "stream",
     "text": [
      "INFO:fbprophet:Disabling daily seasonality. Run prophet with daily_seasonality=True to override this.\n"
     ]
    },
    {
     "name": "stdout",
     "output_type": "stream",
     "text": [
      "Current MAPE: 9.515315486124246\n",
      "Current Params: \n",
      "changepoint_range: 0.8899438184514796, changepoint_prior_scale: 0.19999999999999998, season_prior_scale: 0.01\n"
     ]
    },
    {
     "name": "stderr",
     "output_type": "stream",
     "text": [
      "INFO:fbprophet:Disabling daily seasonality. Run prophet with daily_seasonality=True to override this.\n"
     ]
    },
    {
     "name": "stdout",
     "output_type": "stream",
     "text": [
      "Current MAPE: 3.715353071800244\n",
      "Current Params: \n",
      "changepoint_range: 0.8899438184514796, changepoint_prior_scale: 0.19999999999999998, season_prior_scale: 0.05623413251903491\n"
     ]
    },
    {
     "name": "stderr",
     "output_type": "stream",
     "text": [
      "INFO:fbprophet:Disabling daily seasonality. Run prophet with daily_seasonality=True to override this.\n"
     ]
    },
    {
     "name": "stdout",
     "output_type": "stream",
     "text": [
      "Current MAPE: 2.72905494360751\n",
      "Current Params: \n",
      "changepoint_range: 0.8899438184514796, changepoint_prior_scale: 0.19999999999999998, season_prior_scale: 0.31622776601683794\n"
     ]
    },
    {
     "name": "stderr",
     "output_type": "stream",
     "text": [
      "INFO:fbprophet:Disabling daily seasonality. Run prophet with daily_seasonality=True to override this.\n"
     ]
    },
    {
     "name": "stdout",
     "output_type": "stream",
     "text": [
      "Current MAPE: 2.9018300123897065\n",
      "Current Params: \n",
      "changepoint_range: 0.8899438184514796, changepoint_prior_scale: 0.19999999999999998, season_prior_scale: 1.7782794100389228\n"
     ]
    },
    {
     "name": "stderr",
     "output_type": "stream",
     "text": [
      "INFO:fbprophet:Disabling daily seasonality. Run prophet with daily_seasonality=True to override this.\n"
     ]
    },
    {
     "name": "stdout",
     "output_type": "stream",
     "text": [
      "Current MAPE: 2.840642141307523\n",
      "Current Params: \n",
      "changepoint_range: 0.8899438184514796, changepoint_prior_scale: 0.19999999999999998, season_prior_scale: 10.0\n"
     ]
    },
    {
     "name": "stderr",
     "output_type": "stream",
     "text": [
      "INFO:fbprophet:Disabling daily seasonality. Run prophet with daily_seasonality=True to override this.\n"
     ]
    },
    {
     "name": "stdout",
     "output_type": "stream",
     "text": [
      "Current MAPE: 2.7831440159218404\n",
      "Current Params: \n",
      "changepoint_range: 0.8899438184514796, changepoint_prior_scale: 0.3999999999999999, season_prior_scale: 0.01\n"
     ]
    },
    {
     "name": "stderr",
     "output_type": "stream",
     "text": [
      "INFO:fbprophet:Disabling daily seasonality. Run prophet with daily_seasonality=True to override this.\n"
     ]
    },
    {
     "name": "stdout",
     "output_type": "stream",
     "text": [
      "Current MAPE: 3.863657594590349\n",
      "Current Params: \n",
      "changepoint_range: 0.8899438184514796, changepoint_prior_scale: 0.3999999999999999, season_prior_scale: 0.05623413251903491\n"
     ]
    },
    {
     "name": "stderr",
     "output_type": "stream",
     "text": [
      "INFO:fbprophet:Disabling daily seasonality. Run prophet with daily_seasonality=True to override this.\n"
     ]
    },
    {
     "name": "stdout",
     "output_type": "stream",
     "text": [
      "Current MAPE: 9.030621408981219\n",
      "Current Params: \n",
      "changepoint_range: 0.8899438184514796, changepoint_prior_scale: 0.3999999999999999, season_prior_scale: 0.31622776601683794\n"
     ]
    },
    {
     "name": "stderr",
     "output_type": "stream",
     "text": [
      "INFO:fbprophet:Disabling daily seasonality. Run prophet with daily_seasonality=True to override this.\n"
     ]
    },
    {
     "name": "stdout",
     "output_type": "stream",
     "text": [
      "Current MAPE: 9.604099196479867\n",
      "Current Params: \n",
      "changepoint_range: 0.8899438184514796, changepoint_prior_scale: 0.3999999999999999, season_prior_scale: 1.7782794100389228\n"
     ]
    },
    {
     "name": "stderr",
     "output_type": "stream",
     "text": [
      "INFO:fbprophet:Disabling daily seasonality. Run prophet with daily_seasonality=True to override this.\n"
     ]
    },
    {
     "name": "stdout",
     "output_type": "stream",
     "text": [
      "Current MAPE: 9.640903586493334\n",
      "Current Params: \n",
      "changepoint_range: 0.8899438184514796, changepoint_prior_scale: 0.3999999999999999, season_prior_scale: 10.0\n"
     ]
    },
    {
     "name": "stderr",
     "output_type": "stream",
     "text": [
      "INFO:fbprophet:Disabling daily seasonality. Run prophet with daily_seasonality=True to override this.\n"
     ]
    },
    {
     "name": "stdout",
     "output_type": "stream",
     "text": [
      "Current MAPE: 9.297942950343364\n",
      "Current Params: \n",
      "changepoint_range: 0.8899438184514796, changepoint_prior_scale: 0.8, season_prior_scale: 0.01\n"
     ]
    },
    {
     "name": "stderr",
     "output_type": "stream",
     "text": [
      "INFO:fbprophet:Disabling daily seasonality. Run prophet with daily_seasonality=True to override this.\n"
     ]
    },
    {
     "name": "stdout",
     "output_type": "stream",
     "text": [
      "Current MAPE: 6.251467666385754\n",
      "Current Params: \n",
      "changepoint_range: 0.8899438184514796, changepoint_prior_scale: 0.8, season_prior_scale: 0.05623413251903491\n"
     ]
    },
    {
     "name": "stderr",
     "output_type": "stream",
     "text": [
      "INFO:fbprophet:Disabling daily seasonality. Run prophet with daily_seasonality=True to override this.\n"
     ]
    },
    {
     "name": "stdout",
     "output_type": "stream",
     "text": [
      "Current MAPE: 14.676738959060613\n",
      "Current Params: \n",
      "changepoint_range: 0.8899438184514796, changepoint_prior_scale: 0.8, season_prior_scale: 0.31622776601683794\n"
     ]
    },
    {
     "name": "stderr",
     "output_type": "stream",
     "text": [
      "INFO:fbprophet:Disabling daily seasonality. Run prophet with daily_seasonality=True to override this.\n"
     ]
    },
    {
     "name": "stdout",
     "output_type": "stream",
     "text": [
      "Current MAPE: 16.037562772334212\n",
      "Current Params: \n",
      "changepoint_range: 0.8899438184514796, changepoint_prior_scale: 0.8, season_prior_scale: 1.7782794100389228\n"
     ]
    },
    {
     "name": "stderr",
     "output_type": "stream",
     "text": [
      "INFO:fbprophet:Disabling daily seasonality. Run prophet with daily_seasonality=True to override this.\n"
     ]
    },
    {
     "name": "stdout",
     "output_type": "stream",
     "text": [
      "Current MAPE: 14.59799587555456\n",
      "Current Params: \n",
      "changepoint_range: 0.8899438184514796, changepoint_prior_scale: 0.8, season_prior_scale: 10.0\n"
     ]
    },
    {
     "name": "stderr",
     "output_type": "stream",
     "text": [
      "INFO:fbprophet:Disabling daily seasonality. Run prophet with daily_seasonality=True to override this.\n"
     ]
    },
    {
     "name": "stdout",
     "output_type": "stream",
     "text": [
      "Current MAPE: 13.663722208754596\n",
      "Current Params: \n",
      "changepoint_range: 0.938639643455871, changepoint_prior_scale: 0.049999999999999996, season_prior_scale: 0.01\n"
     ]
    },
    {
     "name": "stderr",
     "output_type": "stream",
     "text": [
      "INFO:fbprophet:Disabling daily seasonality. Run prophet with daily_seasonality=True to override this.\n"
     ]
    },
    {
     "name": "stdout",
     "output_type": "stream",
     "text": [
      "Current MAPE: 2.949960850694057\n",
      "Current Params: \n",
      "changepoint_range: 0.938639643455871, changepoint_prior_scale: 0.049999999999999996, season_prior_scale: 0.05623413251903491\n"
     ]
    },
    {
     "name": "stderr",
     "output_type": "stream",
     "text": [
      "INFO:fbprophet:Disabling daily seasonality. Run prophet with daily_seasonality=True to override this.\n"
     ]
    },
    {
     "name": "stdout",
     "output_type": "stream",
     "text": [
      "Current MAPE: 3.128480348771155\n",
      "Current Params: \n",
      "changepoint_range: 0.938639643455871, changepoint_prior_scale: 0.049999999999999996, season_prior_scale: 0.31622776601683794\n"
     ]
    },
    {
     "name": "stderr",
     "output_type": "stream",
     "text": [
      "INFO:fbprophet:Disabling daily seasonality. Run prophet with daily_seasonality=True to override this.\n"
     ]
    },
    {
     "name": "stdout",
     "output_type": "stream",
     "text": [
      "Current MAPE: 2.735344247435663\n",
      "Current Params: \n",
      "changepoint_range: 0.938639643455871, changepoint_prior_scale: 0.049999999999999996, season_prior_scale: 1.7782794100389228\n"
     ]
    },
    {
     "name": "stderr",
     "output_type": "stream",
     "text": [
      "INFO:fbprophet:Disabling daily seasonality. Run prophet with daily_seasonality=True to override this.\n"
     ]
    },
    {
     "name": "stdout",
     "output_type": "stream",
     "text": [
      "Current MAPE: 3.0063939282505086\n",
      "Current Params: \n",
      "changepoint_range: 0.938639643455871, changepoint_prior_scale: 0.049999999999999996, season_prior_scale: 10.0\n"
     ]
    },
    {
     "name": "stderr",
     "output_type": "stream",
     "text": [
      "INFO:fbprophet:Disabling daily seasonality. Run prophet with daily_seasonality=True to override this.\n"
     ]
    },
    {
     "name": "stdout",
     "output_type": "stream",
     "text": [
      "Current MAPE: 2.824552144706565\n",
      "Current Params: \n",
      "changepoint_range: 0.938639643455871, changepoint_prior_scale: 0.1, season_prior_scale: 0.01\n"
     ]
    },
    {
     "name": "stderr",
     "output_type": "stream",
     "text": [
      "INFO:fbprophet:Disabling daily seasonality. Run prophet with daily_seasonality=True to override this.\n"
     ]
    },
    {
     "name": "stdout",
     "output_type": "stream",
     "text": [
      "Current MAPE: 3.8630957023114054\n",
      "Current Params: \n",
      "changepoint_range: 0.938639643455871, changepoint_prior_scale: 0.1, season_prior_scale: 0.05623413251903491\n"
     ]
    },
    {
     "name": "stderr",
     "output_type": "stream",
     "text": [
      "INFO:fbprophet:Disabling daily seasonality. Run prophet with daily_seasonality=True to override this.\n"
     ]
    },
    {
     "name": "stdout",
     "output_type": "stream",
     "text": [
      "Current MAPE: 3.998946878634444\n",
      "Current Params: \n",
      "changepoint_range: 0.938639643455871, changepoint_prior_scale: 0.1, season_prior_scale: 0.31622776601683794\n"
     ]
    },
    {
     "name": "stderr",
     "output_type": "stream",
     "text": [
      "INFO:fbprophet:Disabling daily seasonality. Run prophet with daily_seasonality=True to override this.\n"
     ]
    },
    {
     "name": "stdout",
     "output_type": "stream",
     "text": [
      "Current MAPE: 4.2056036802286885\n",
      "Current Params: \n",
      "changepoint_range: 0.938639643455871, changepoint_prior_scale: 0.1, season_prior_scale: 1.7782794100389228\n"
     ]
    },
    {
     "name": "stderr",
     "output_type": "stream",
     "text": [
      "INFO:fbprophet:Disabling daily seasonality. Run prophet with daily_seasonality=True to override this.\n"
     ]
    },
    {
     "name": "stdout",
     "output_type": "stream",
     "text": [
      "Current MAPE: 4.092116235402495\n",
      "Current Params: \n",
      "changepoint_range: 0.938639643455871, changepoint_prior_scale: 0.1, season_prior_scale: 10.0\n"
     ]
    },
    {
     "name": "stderr",
     "output_type": "stream",
     "text": [
      "INFO:fbprophet:Disabling daily seasonality. Run prophet with daily_seasonality=True to override this.\n"
     ]
    },
    {
     "name": "stdout",
     "output_type": "stream",
     "text": [
      "Current MAPE: 4.0915590637467725\n",
      "Current Params: \n",
      "changepoint_range: 0.938639643455871, changepoint_prior_scale: 0.19999999999999998, season_prior_scale: 0.01\n"
     ]
    },
    {
     "name": "stderr",
     "output_type": "stream",
     "text": [
      "INFO:fbprophet:Disabling daily seasonality. Run prophet with daily_seasonality=True to override this.\n"
     ]
    },
    {
     "name": "stdout",
     "output_type": "stream",
     "text": [
      "Current MAPE: 6.349499128900044\n",
      "Current Params: \n",
      "changepoint_range: 0.938639643455871, changepoint_prior_scale: 0.19999999999999998, season_prior_scale: 0.05623413251903491\n"
     ]
    },
    {
     "name": "stderr",
     "output_type": "stream",
     "text": [
      "INFO:fbprophet:Disabling daily seasonality. Run prophet with daily_seasonality=True to override this.\n"
     ]
    },
    {
     "name": "stdout",
     "output_type": "stream",
     "text": [
      "Current MAPE: 7.932932566308125\n",
      "Current Params: \n",
      "changepoint_range: 0.938639643455871, changepoint_prior_scale: 0.19999999999999998, season_prior_scale: 0.31622776601683794\n"
     ]
    },
    {
     "name": "stderr",
     "output_type": "stream",
     "text": [
      "INFO:fbprophet:Disabling daily seasonality. Run prophet with daily_seasonality=True to override this.\n"
     ]
    },
    {
     "name": "stdout",
     "output_type": "stream",
     "text": [
      "Current MAPE: 7.3524227486842015\n",
      "Current Params: \n",
      "changepoint_range: 0.938639643455871, changepoint_prior_scale: 0.19999999999999998, season_prior_scale: 1.7782794100389228\n"
     ]
    },
    {
     "name": "stderr",
     "output_type": "stream",
     "text": [
      "INFO:fbprophet:Disabling daily seasonality. Run prophet with daily_seasonality=True to override this.\n"
     ]
    },
    {
     "name": "stdout",
     "output_type": "stream",
     "text": [
      "Current MAPE: 7.766132974811163\n",
      "Current Params: \n",
      "changepoint_range: 0.938639643455871, changepoint_prior_scale: 0.19999999999999998, season_prior_scale: 10.0\n"
     ]
    },
    {
     "name": "stderr",
     "output_type": "stream",
     "text": [
      "INFO:fbprophet:Disabling daily seasonality. Run prophet with daily_seasonality=True to override this.\n"
     ]
    },
    {
     "name": "stdout",
     "output_type": "stream",
     "text": [
      "Current MAPE: 7.503380582754869\n",
      "Current Params: \n",
      "changepoint_range: 0.938639643455871, changepoint_prior_scale: 0.3999999999999999, season_prior_scale: 0.01\n"
     ]
    },
    {
     "name": "stderr",
     "output_type": "stream",
     "text": [
      "INFO:fbprophet:Disabling daily seasonality. Run prophet with daily_seasonality=True to override this.\n"
     ]
    },
    {
     "name": "stdout",
     "output_type": "stream",
     "text": [
      "Current MAPE: 8.48130826244164\n",
      "Current Params: \n",
      "changepoint_range: 0.938639643455871, changepoint_prior_scale: 0.3999999999999999, season_prior_scale: 0.05623413251903491\n"
     ]
    },
    {
     "name": "stderr",
     "output_type": "stream",
     "text": [
      "INFO:fbprophet:Disabling daily seasonality. Run prophet with daily_seasonality=True to override this.\n"
     ]
    },
    {
     "name": "stdout",
     "output_type": "stream",
     "text": [
      "Current MAPE: 12.155159565842398\n",
      "Current Params: \n",
      "changepoint_range: 0.938639643455871, changepoint_prior_scale: 0.3999999999999999, season_prior_scale: 0.31622776601683794\n"
     ]
    },
    {
     "name": "stderr",
     "output_type": "stream",
     "text": [
      "INFO:fbprophet:Disabling daily seasonality. Run prophet with daily_seasonality=True to override this.\n"
     ]
    },
    {
     "name": "stdout",
     "output_type": "stream",
     "text": [
      "Current MAPE: 11.216293495933698\n",
      "Current Params: \n",
      "changepoint_range: 0.938639643455871, changepoint_prior_scale: 0.3999999999999999, season_prior_scale: 1.7782794100389228\n"
     ]
    },
    {
     "name": "stderr",
     "output_type": "stream",
     "text": [
      "INFO:fbprophet:Disabling daily seasonality. Run prophet with daily_seasonality=True to override this.\n"
     ]
    },
    {
     "name": "stdout",
     "output_type": "stream",
     "text": [
      "Current MAPE: 12.396879517551042\n",
      "Current Params: \n",
      "changepoint_range: 0.938639643455871, changepoint_prior_scale: 0.3999999999999999, season_prior_scale: 10.0\n"
     ]
    },
    {
     "name": "stderr",
     "output_type": "stream",
     "text": [
      "INFO:fbprophet:Disabling daily seasonality. Run prophet with daily_seasonality=True to override this.\n"
     ]
    },
    {
     "name": "stdout",
     "output_type": "stream",
     "text": [
      "Current MAPE: 12.291984425299418\n",
      "Current Params: \n",
      "changepoint_range: 0.938639643455871, changepoint_prior_scale: 0.8, season_prior_scale: 0.01\n"
     ]
    },
    {
     "name": "stderr",
     "output_type": "stream",
     "text": [
      "INFO:fbprophet:Disabling daily seasonality. Run prophet with daily_seasonality=True to override this.\n"
     ]
    },
    {
     "name": "stdout",
     "output_type": "stream",
     "text": [
      "Current MAPE: 9.129006242114313\n",
      "Current Params: \n",
      "changepoint_range: 0.938639643455871, changepoint_prior_scale: 0.8, season_prior_scale: 0.05623413251903491\n"
     ]
    },
    {
     "name": "stderr",
     "output_type": "stream",
     "text": [
      "INFO:fbprophet:Disabling daily seasonality. Run prophet with daily_seasonality=True to override this.\n"
     ]
    },
    {
     "name": "stdout",
     "output_type": "stream",
     "text": [
      "Current MAPE: 14.545750231270453\n",
      "Current Params: \n",
      "changepoint_range: 0.938639643455871, changepoint_prior_scale: 0.8, season_prior_scale: 0.31622776601683794\n"
     ]
    },
    {
     "name": "stderr",
     "output_type": "stream",
     "text": [
      "INFO:fbprophet:Disabling daily seasonality. Run prophet with daily_seasonality=True to override this.\n"
     ]
    },
    {
     "name": "stdout",
     "output_type": "stream",
     "text": [
      "Current MAPE: 14.160774663768807\n",
      "Current Params: \n",
      "changepoint_range: 0.938639643455871, changepoint_prior_scale: 0.8, season_prior_scale: 1.7782794100389228\n"
     ]
    },
    {
     "name": "stderr",
     "output_type": "stream",
     "text": [
      "INFO:fbprophet:Disabling daily seasonality. Run prophet with daily_seasonality=True to override this.\n"
     ]
    },
    {
     "name": "stdout",
     "output_type": "stream",
     "text": [
      "Current MAPE: 14.733640231189348\n",
      "Current Params: \n",
      "changepoint_range: 0.938639643455871, changepoint_prior_scale: 0.8, season_prior_scale: 10.0\n"
     ]
    },
    {
     "name": "stderr",
     "output_type": "stream",
     "text": [
      "INFO:fbprophet:Disabling daily seasonality. Run prophet with daily_seasonality=True to override this.\n"
     ]
    },
    {
     "name": "stdout",
     "output_type": "stream",
     "text": [
      "Current MAPE: 13.11802277098448\n",
      "Current Params: \n",
      "changepoint_range: 0.99, changepoint_prior_scale: 0.049999999999999996, season_prior_scale: 0.01\n"
     ]
    },
    {
     "name": "stderr",
     "output_type": "stream",
     "text": [
      "INFO:fbprophet:Disabling daily seasonality. Run prophet with daily_seasonality=True to override this.\n"
     ]
    },
    {
     "name": "stdout",
     "output_type": "stream",
     "text": [
      "Current MAPE: 7.450335453877805\n",
      "Current Params: \n",
      "changepoint_range: 0.99, changepoint_prior_scale: 0.049999999999999996, season_prior_scale: 0.05623413251903491\n"
     ]
    },
    {
     "name": "stderr",
     "output_type": "stream",
     "text": [
      "INFO:fbprophet:Disabling daily seasonality. Run prophet with daily_seasonality=True to override this.\n"
     ]
    },
    {
     "name": "stdout",
     "output_type": "stream",
     "text": [
      "Current MAPE: 8.244910866599058\n",
      "Current Params: \n",
      "changepoint_range: 0.99, changepoint_prior_scale: 0.049999999999999996, season_prior_scale: 0.31622776601683794\n"
     ]
    },
    {
     "name": "stderr",
     "output_type": "stream",
     "text": [
      "INFO:fbprophet:Disabling daily seasonality. Run prophet with daily_seasonality=True to override this.\n"
     ]
    },
    {
     "name": "stdout",
     "output_type": "stream",
     "text": [
      "Current MAPE: 7.430149628193851\n",
      "Current Params: \n",
      "changepoint_range: 0.99, changepoint_prior_scale: 0.049999999999999996, season_prior_scale: 1.7782794100389228\n"
     ]
    },
    {
     "name": "stderr",
     "output_type": "stream",
     "text": [
      "INFO:fbprophet:Disabling daily seasonality. Run prophet with daily_seasonality=True to override this.\n"
     ]
    },
    {
     "name": "stdout",
     "output_type": "stream",
     "text": [
      "Current MAPE: 8.524411522186492\n",
      "Current Params: \n",
      "changepoint_range: 0.99, changepoint_prior_scale: 0.049999999999999996, season_prior_scale: 10.0\n"
     ]
    },
    {
     "name": "stderr",
     "output_type": "stream",
     "text": [
      "INFO:fbprophet:Disabling daily seasonality. Run prophet with daily_seasonality=True to override this.\n"
     ]
    },
    {
     "name": "stdout",
     "output_type": "stream",
     "text": [
      "Current MAPE: 8.838879255771829\n",
      "Current Params: \n",
      "changepoint_range: 0.99, changepoint_prior_scale: 0.1, season_prior_scale: 0.01\n"
     ]
    },
    {
     "name": "stderr",
     "output_type": "stream",
     "text": [
      "INFO:fbprophet:Disabling daily seasonality. Run prophet with daily_seasonality=True to override this.\n"
     ]
    },
    {
     "name": "stdout",
     "output_type": "stream",
     "text": [
      "Current MAPE: 16.261077637756465\n",
      "Current Params: \n",
      "changepoint_range: 0.99, changepoint_prior_scale: 0.1, season_prior_scale: 0.05623413251903491\n"
     ]
    },
    {
     "name": "stderr",
     "output_type": "stream",
     "text": [
      "INFO:fbprophet:Disabling daily seasonality. Run prophet with daily_seasonality=True to override this.\n"
     ]
    },
    {
     "name": "stdout",
     "output_type": "stream",
     "text": [
      "Current MAPE: 16.12340553005838\n",
      "Current Params: \n",
      "changepoint_range: 0.99, changepoint_prior_scale: 0.1, season_prior_scale: 0.31622776601683794\n"
     ]
    },
    {
     "name": "stderr",
     "output_type": "stream",
     "text": [
      "INFO:fbprophet:Disabling daily seasonality. Run prophet with daily_seasonality=True to override this.\n"
     ]
    },
    {
     "name": "stdout",
     "output_type": "stream",
     "text": [
      "Current MAPE: 16.15821324017287\n",
      "Current Params: \n",
      "changepoint_range: 0.99, changepoint_prior_scale: 0.1, season_prior_scale: 1.7782794100389228\n"
     ]
    },
    {
     "name": "stderr",
     "output_type": "stream",
     "text": [
      "INFO:fbprophet:Disabling daily seasonality. Run prophet with daily_seasonality=True to override this.\n"
     ]
    },
    {
     "name": "stdout",
     "output_type": "stream",
     "text": [
      "Current MAPE: 17.001973467606852\n",
      "Current Params: \n",
      "changepoint_range: 0.99, changepoint_prior_scale: 0.1, season_prior_scale: 10.0\n"
     ]
    },
    {
     "name": "stderr",
     "output_type": "stream",
     "text": [
      "INFO:fbprophet:Disabling daily seasonality. Run prophet with daily_seasonality=True to override this.\n"
     ]
    },
    {
     "name": "stdout",
     "output_type": "stream",
     "text": [
      "Current MAPE: 15.982204942395997\n",
      "Current Params: \n",
      "changepoint_range: 0.99, changepoint_prior_scale: 0.19999999999999998, season_prior_scale: 0.01\n"
     ]
    },
    {
     "name": "stderr",
     "output_type": "stream",
     "text": [
      "INFO:fbprophet:Disabling daily seasonality. Run prophet with daily_seasonality=True to override this.\n"
     ]
    },
    {
     "name": "stdout",
     "output_type": "stream",
     "text": [
      "Current MAPE: 18.725019631397288\n",
      "Current Params: \n",
      "changepoint_range: 0.99, changepoint_prior_scale: 0.19999999999999998, season_prior_scale: 0.05623413251903491\n"
     ]
    },
    {
     "name": "stderr",
     "output_type": "stream",
     "text": [
      "INFO:fbprophet:Disabling daily seasonality. Run prophet with daily_seasonality=True to override this.\n"
     ]
    },
    {
     "name": "stdout",
     "output_type": "stream",
     "text": [
      "Current MAPE: 19.037746693625166\n",
      "Current Params: \n",
      "changepoint_range: 0.99, changepoint_prior_scale: 0.19999999999999998, season_prior_scale: 0.31622776601683794\n"
     ]
    },
    {
     "name": "stderr",
     "output_type": "stream",
     "text": [
      "INFO:fbprophet:Disabling daily seasonality. Run prophet with daily_seasonality=True to override this.\n"
     ]
    },
    {
     "name": "stdout",
     "output_type": "stream",
     "text": [
      "Current MAPE: 19.50440359094205\n",
      "Current Params: \n",
      "changepoint_range: 0.99, changepoint_prior_scale: 0.19999999999999998, season_prior_scale: 1.7782794100389228\n"
     ]
    },
    {
     "name": "stderr",
     "output_type": "stream",
     "text": [
      "INFO:fbprophet:Disabling daily seasonality. Run prophet with daily_seasonality=True to override this.\n"
     ]
    },
    {
     "name": "stdout",
     "output_type": "stream",
     "text": [
      "Current MAPE: 18.985230879174132\n",
      "Current Params: \n",
      "changepoint_range: 0.99, changepoint_prior_scale: 0.19999999999999998, season_prior_scale: 10.0\n"
     ]
    },
    {
     "name": "stderr",
     "output_type": "stream",
     "text": [
      "INFO:fbprophet:Disabling daily seasonality. Run prophet with daily_seasonality=True to override this.\n"
     ]
    },
    {
     "name": "stdout",
     "output_type": "stream",
     "text": [
      "Current MAPE: 19.669307542066086\n",
      "Current Params: \n",
      "changepoint_range: 0.99, changepoint_prior_scale: 0.3999999999999999, season_prior_scale: 0.01\n"
     ]
    },
    {
     "name": "stderr",
     "output_type": "stream",
     "text": [
      "INFO:fbprophet:Disabling daily seasonality. Run prophet with daily_seasonality=True to override this.\n"
     ]
    },
    {
     "name": "stdout",
     "output_type": "stream",
     "text": [
      "Current MAPE: 10.88684937432424\n",
      "Current Params: \n",
      "changepoint_range: 0.99, changepoint_prior_scale: 0.3999999999999999, season_prior_scale: 0.05623413251903491\n"
     ]
    },
    {
     "name": "stderr",
     "output_type": "stream",
     "text": [
      "INFO:fbprophet:Disabling daily seasonality. Run prophet with daily_seasonality=True to override this.\n"
     ]
    },
    {
     "name": "stdout",
     "output_type": "stream",
     "text": [
      "Current MAPE: 10.674306189656074\n",
      "Current Params: \n",
      "changepoint_range: 0.99, changepoint_prior_scale: 0.3999999999999999, season_prior_scale: 0.31622776601683794\n"
     ]
    },
    {
     "name": "stderr",
     "output_type": "stream",
     "text": [
      "INFO:fbprophet:Disabling daily seasonality. Run prophet with daily_seasonality=True to override this.\n"
     ]
    },
    {
     "name": "stdout",
     "output_type": "stream",
     "text": [
      "Current MAPE: 10.77456206438456\n",
      "Current Params: \n",
      "changepoint_range: 0.99, changepoint_prior_scale: 0.3999999999999999, season_prior_scale: 1.7782794100389228\n"
     ]
    },
    {
     "name": "stderr",
     "output_type": "stream",
     "text": [
      "INFO:fbprophet:Disabling daily seasonality. Run prophet with daily_seasonality=True to override this.\n"
     ]
    },
    {
     "name": "stdout",
     "output_type": "stream",
     "text": [
      "Current MAPE: 11.018986337768458\n",
      "Current Params: \n",
      "changepoint_range: 0.99, changepoint_prior_scale: 0.3999999999999999, season_prior_scale: 10.0\n"
     ]
    },
    {
     "name": "stderr",
     "output_type": "stream",
     "text": [
      "INFO:fbprophet:Disabling daily seasonality. Run prophet with daily_seasonality=True to override this.\n"
     ]
    },
    {
     "name": "stdout",
     "output_type": "stream",
     "text": [
      "Current MAPE: 8.422986705292079\n",
      "Current Params: \n",
      "changepoint_range: 0.99, changepoint_prior_scale: 0.8, season_prior_scale: 0.01\n"
     ]
    },
    {
     "name": "stderr",
     "output_type": "stream",
     "text": [
      "INFO:fbprophet:Disabling daily seasonality. Run prophet with daily_seasonality=True to override this.\n"
     ]
    },
    {
     "name": "stdout",
     "output_type": "stream",
     "text": [
      "Current MAPE: 3.0342539455926727\n",
      "Current Params: \n",
      "changepoint_range: 0.99, changepoint_prior_scale: 0.8, season_prior_scale: 0.05623413251903491\n"
     ]
    },
    {
     "name": "stderr",
     "output_type": "stream",
     "text": [
      "INFO:fbprophet:Disabling daily seasonality. Run prophet with daily_seasonality=True to override this.\n"
     ]
    },
    {
     "name": "stdout",
     "output_type": "stream",
     "text": [
      "Current MAPE: 2.9796692497211694\n",
      "Current Params: \n",
      "changepoint_range: 0.99, changepoint_prior_scale: 0.8, season_prior_scale: 0.31622776601683794\n"
     ]
    },
    {
     "name": "stderr",
     "output_type": "stream",
     "text": [
      "INFO:fbprophet:Disabling daily seasonality. Run prophet with daily_seasonality=True to override this.\n"
     ]
    },
    {
     "name": "stdout",
     "output_type": "stream",
     "text": [
      "Current MAPE: 2.795153726752953\n",
      "Current Params: \n",
      "changepoint_range: 0.99, changepoint_prior_scale: 0.8, season_prior_scale: 1.7782794100389228\n"
     ]
    },
    {
     "name": "stderr",
     "output_type": "stream",
     "text": [
      "INFO:fbprophet:Disabling daily seasonality. Run prophet with daily_seasonality=True to override this.\n"
     ]
    },
    {
     "name": "stdout",
     "output_type": "stream",
     "text": [
      "Current MAPE: 2.589036722375271\n",
      "Current Params: \n",
      "changepoint_range: 0.99, changepoint_prior_scale: 0.8, season_prior_scale: 10.0\n",
      "Current MAPE: 2.4439448292575783\n"
     ]
    }
   ],
   "source": [
    "turn_params = []\n",
    "model = None\n",
    "for cp_range in changepoint_ranges:\n",
    "    for cp_prior_scale in changepoint_prior_scales:\n",
    "        for sea_prior_scale in seasonality_prior_scales:\n",
    "            \n",
    "            print(f\"Current Params: \\nchangepoint_range: {cp_range}, changepoint_prior_scale: {cp_prior_scale}, season_prior_scale: {sea_prior_scale}\")\n",
    "            x_train_gridSearch = x_train.copy()\n",
    "            y_trues, y_preds = [], []\n",
    "            params = {\n",
    "                \"changepoint_range\": cp_range,\n",
    "                \"changepoint_prior_scale\": cp_prior_scale,\n",
    "                \"seasonality_prior_scale\": sea_prior_scale\n",
    "            }\n",
    "            \n",
    "            model = Prophet(**params).fit(x_train_gridSearch)\n",
    "            y_trues.extend(x_valid[\"y\"].values)\n",
    "            future_need_predict = df_future_valid.copy()\n",
    "            predict_df = model.predict(future_need_predict)\n",
    "            y_preds.extend(predict_df['yhat'].values)\n",
    "                \n",
    "            current_MAPE = MAPE_range(y_trues, y_preds)\n",
    "            print(\"Current MAPE:\", current_MAPE)\n",
    "            \n",
    "            turn_params.append({\n",
    "                \"MAPE\": current_MAPE, \n",
    "                \"changepoint_range\": cp_range,\n",
    "                \"changepoint_prior_scale\": cp_prior_scale,\n",
    "                \"seasonality_prior_scale\": sea_prior_scale\n",
    "            })\n",
    "            \n",
    "                "
   ]
  },
  {
   "cell_type": "markdown",
   "metadata": {},
   "source": [
    "## Testing model"
   ]
  },
  {
   "cell_type": "code",
   "execution_count": 62,
   "metadata": {},
   "outputs": [
    {
     "name": "stderr",
     "output_type": "stream",
     "text": [
      "INFO:fbprophet:Disabling daily seasonality. Run prophet with daily_seasonality=True to override this.\n"
     ]
    },
    {
     "name": "stdout",
     "output_type": "stream",
     "text": [
      "MAPE of final model: 2.4515605813398578\n"
     ]
    },
    {
     "data": {
      "image/png": "[encoded data removed]",
      "text/plain": [
       "<Figure size 1584x360 with 1 Axes>"
      ]
     },
     "metadata": {
      "needs_background": "light"
     },
     "output_type": "display_data"
    },
    {
     "name": "stdout",
     "output_type": "stream",
     "text": [
      "Best Parameters: {'changepoint_range': 0.99, 'changepoint_prior_scale': 0.19999999999999998, 'seasonality_prior_scale': 10.0}\n"
     ]
    }
   ],
   "source": [
    "y_trues, y_preds = [], []\n",
    "\n",
    "# select best params here...\n",
    "best_params = sorted(turn_params, key=lambda item: item[\"MAPE\"])[-1]\n",
    "\n",
    "params = {\n",
    "    \"changepoint_range\": float(best_params[\"changepoint_range\"]),\n",
    "    \"changepoint_prior_scale\": float(best_params[\"changepoint_prior_scale\"]),\n",
    "    \"seasonality_prior_scale\": float(best_params[\"seasonality_prior_scale\"])\n",
    "}\n",
    "\n",
    "x_train_clone = x_train.copy()\n",
    "x_train_clone = x_train_clone.append(x_valid, ignore_index = True)\n",
    "\n",
    "model_final = Prophet(**params).fit(x_train_clone)   \n",
    "y_trues.extend(x_test[\"y\"].values)\n",
    "future_need_predict = df_future_test.copy()\n",
    "predict_df = model_final.predict(future_need_predict)\n",
    "y_preds.extend(predict_df['yhat'].values)\n",
    "\n",
    "print(\"MAPE of final model:\", MAPE_range(y_trues, y_preds))\n",
    "\n",
    "plt.plot(np.arange(len(y_trues)), y_trues, color=\"blue\", label=\"True values\")\n",
    "plt.plot(np.arange(len(y_preds)), y_preds, color=\"red\", label=\"Predict values\")\n",
    "plt.legend()\n",
    "plt.savefig(\"Prophet predict 30 days.png\")\n",
    "plt.show()\n",
    "\n",
    "print(\"Best Parameters:\", params)"
   ]
  },
  {
   "cell_type": "code",
   "execution_count": 22,
   "metadata": {},
   "outputs": [
    {
     "name": "stderr",
     "output_type": "stream",
     "text": [
      "INFO:fbprophet:Disabling daily seasonality. Run prophet with daily_seasonality=True to override this.\n"
     ]
    }
   ],
   "source": [
    "best_params = {\n",
    "    'changepoint_range': 0.99, \n",
    "    'changepoint_prior_scale': 0.19999999999999998, \n",
    "    'seasonality_prior_scale': 10.0\n",
    "}\n",
    "\n",
    "params = {\n",
    "    \"changepoint_range\": float(best_params[\"changepoint_range\"]),\n",
    "    \"changepoint_prior_scale\": float(best_params[\"changepoint_prior_scale\"]),\n",
    "    \"seasonality_prior_scale\": float(best_params[\"seasonality_prior_scale\"])\n",
    "}\n",
    "\n",
    "x_train_clone = x_train.copy()\n",
    "x_train_clone = x_train_clone.append(x_valid, ignore_index = True)\n",
    "x_train_clone = x_train_clone.append(x_test, ignore_index = True)\n",
    "model_final = Prophet(**params).fit(x_train_clone)   "
   ]
  },
  {
   "cell_type": "code",
   "execution_count": 23,
   "metadata": {},
   "outputs": [],
   "source": [
    "with open(\"ProphetModel.txt\", \"wb\") as f:\n",
    "  pickle.dump(model_final, f)\n",
    "\n",
    "# with open(\"ProphetModel.txt\", \"rb\") as f:\n",
    "#     fresh_model = pickle.load(f)\n",
    "#     fresh_predict = fresh_model.predict(future_need_predict)\n",
    "#     print(fresh_predict[\"yhat\"].values)"
   ]
  },
  {
   "cell_type": "code",
   "execution_count": 49,
   "metadata": {},
   "outputs": [
    {
     "data": {
      "text/plain": [
       "-1.9661128563728327"
      ]
     },
     "execution_count": 49,
     "metadata": {},
     "output_type": "execute_result"
    }
   ],
   "source": [
    "# Chỉ sử dụng khi không turn mô hình:\n",
    "best_params_after_turn = {'changepoint_range': 0.99, 'changepoint_prior_scale': 0.19999999999999998, 'seasonality_prior_scale': 10.0}\n",
    "y_trues, y_preds = [], []\n",
    "\n",
    "params = {\n",
    "    \"changepoint_range\": float(best_params_after_turn[\"changepoint_range\"]),\n",
    "    \"changepoint_prior_scale\": float(best_params_after_turn[\"changepoint_prior_scale\"]),\n",
    "    \"seasonality_prior_scale\": float(best_params_after_turn[\"seasonality_prior_scale\"])\n",
    "}\n",
    "\n",
    "x_train_clone = x_train.copy()\n",
    "x_train_clone = x_train_clone.append(x_valid, ignore_index = True)\n",
    "\n",
    "model_final = Prophet(**params).fit(x_train_clone)   \n",
    "y_trues.extend(x_test[\"y\"].values)\n",
    "future_need_predict = df_future_test.copy()\n",
    "predict_df = model_final.predict(future_need_predict)\n",
    "y_preds.extend(predict_df['yhat'].values)\n",
    "\n",
    "print(\"MAPE of final model:\", MAPE_range(y_trues, y_preds))\n",
    "\n",
    "plt.plot(np.arange(len(y_trues)), y_trues, color=\"blue\", label=\"True values\")\n",
    "plt.plot(np.arange(len(y_preds)), y_preds, color=\"red\", label=\"Predict values\")\n",
    "plt.legend()\n",
    "plt.show()\n",
    "plt.savefig(\"Prophet predict 30 days.png\")"
   ]
  },
  {
   "cell_type": "code",
   "execution_count": 85,
   "metadata": {},
   "outputs": [
    {
     "name": "stdout",
     "output_type": "stream",
     "text": [
      "[{'value': 52.44295341314201, 'time': '11/05/2020, 00:00:00'}, {'value': 52.54687438772051, 'time': '11/06/2020, 00:00:00'}, {'value': 52.726994793837186, 'time': '11/09/2020, 00:00:00'}, {'value': 52.88894572535741, 'time': '11/10/2020, 00:00:00'}, {'value': 53.017416498951455, 'time': '11/11/2020, 00:00:00'}, {'value': 53.12226959927759, 'time': '11/12/2020, 00:00:00'}, {'value': 53.21256541371406, 'time': '11/13/2020, 00:00:00'}, {'value': 53.3303914183466, 'time': '11/16/2020, 00:00:00'}, {'value': 53.466126001832244, 'time': '11/17/2020, 00:00:00'}, {'value': 53.56653654573337, 'time': '11/18/2020, 00:00:00'}, {'value': 53.64201455405966, 'time': '11/19/2020, 00:00:00'}, {'value': 53.70213572292777, 'time': '11/20/2020, 00:00:00'}, {'value': 53.729424236831676, 'time': '11/23/2020, 00:00:00'}, {'value': 53.83640494043638, 'time': '11/24/2020, 00:00:00'}, {'value': 53.90939271480176, 'time': '11/25/2020, 00:00:00'}, {'value': 53.959087935335, 'time': '11/26/2020, 00:00:00'}, {'value': 53.995333360197726, 'time': '11/27/2020, 00:00:00'}, {'value': 53.964516376008824, 'time': '11/30/2020, 00:00:00'}, {'value': 54.057152217745745, 'time': '12/01/2020, 00:00:00'}, {'value': 54.11848973882426, 'time': '12/02/2020, 00:00:00'}, {'value': 54.15930238277795, 'time': '12/03/2020, 00:00:00'}, {'value': 54.18948732706081, 'time': '12/04/2020, 00:00:00'}, {'value': 54.15775990106057, 'time': '12/07/2020, 00:00:00'}, {'value': 54.255912040974344, 'time': '12/08/2020, 00:00:00'}, {'value': 54.325687502225485, 'time': '12/09/2020, 00:00:00'}, {'value': 54.37785555072007, 'time': '12/10/2020, 00:00:00'}, {'value': 54.42230019906564, 'time': '12/11/2020, 00:00:00'}, {'value': 54.450455537675886, 'time': '12/14/2020, 00:00:00'}, {'value': 54.57407304374969, 'time': '12/15/2020, 00:00:00'}, {'value': 54.67190739638808, 'time': '12/16/2020, 00:00:00'}]\n"
     ]
    }
   ],
   "source": [
    "predict_dict = []\n",
    "for i in range(len(predict_df)):\n",
    "    predict_dict.append({\"value\": predict_df.loc[i, \"yhat\"], \"time\": predict_df.loc[i, \"ds\"].strftime(\"%m/%d/%Y, %H:%M:%S\")})\n",
    "print(predict_dict)"
   ]
  },
  {
   "cell_type": "code",
   "execution_count": null,
   "metadata": {},
   "outputs": [],
   "source": []
  },
  {
   "cell_type": "code",
   "execution_count": 1,
   "metadata": {},
   "outputs": [
    {
     "data": {
      "text/plain": [
       "\"[{'value': 10, 'time': '10/2/3 3:2:2'}]\""
      ]
     },
     "execution_count": 1,
     "metadata": {},
     "output_type": "execute_result"
    }
   ],
   "source": [
    "a = [{\"value\": 10, \"time\": \"10/2/3 3:2:2\"}]\n",
    "str(a)"
   ]
  },
  {
   "cell_type": "code",
   "execution_count": 21,
   "metadata": {},
   "outputs": [
    {
     "name": "stderr",
     "output_type": "stream",
     "text": [
      "C:\\Users\\manvd1\\Anaconda3\\envs\\learningspace\\lib\\site-packages\\vnquant-0.0.2-py3.7.egg\\vnquant\\DataLoader.py:210: FutureWarning: Columnar iteration over characters will be deprecated in future releases.\n",
      "  stock_data['change_perc1'], stock_data['change_perc2'] = stock_data.change_perc.apply(utils.split_change_col).str\n",
      "2020-12-27 17:34:41,178 : INFO : data FPT from 2018-02-02 to 2020-12-27 have already cloned!\n"
     ]
    },
    {
     "data": {
      "text/html": [
       "<div>\n",
       "<style scoped>\n",
       "    .dataframe tbody tr th:only-of-type {\n",
       "        vertical-align: middle;\n",
       "    }\n",
       "\n",
       "    .dataframe tbody tr th {\n",
       "        vertical-align: top;\n",
       "    }\n",
       "\n",
       "    .dataframe thead tr th {\n",
       "        text-align: left;\n",
       "    }\n",
       "\n",
       "    .dataframe thead tr:last-of-type th {\n",
       "        text-align: right;\n",
       "    }\n",
       "</style>\n",
       "<table border=\"1\" class=\"dataframe\">\n",
       "  <thead>\n",
       "    <tr>\n",
       "      <th>Attributes</th>\n",
       "      <th>high</th>\n",
       "      <th>low</th>\n",
       "      <th>open</th>\n",
       "      <th>close</th>\n",
       "      <th>adjust</th>\n",
       "      <th>volume</th>\n",
       "    </tr>\n",
       "    <tr>\n",
       "      <th>Symbols</th>\n",
       "      <th>FPT</th>\n",
       "      <th>FPT</th>\n",
       "      <th>FPT</th>\n",
       "      <th>FPT</th>\n",
       "      <th>FPT</th>\n",
       "      <th>FPT</th>\n",
       "    </tr>\n",
       "    <tr>\n",
       "      <th>date</th>\n",
       "      <th></th>\n",
       "      <th></th>\n",
       "      <th></th>\n",
       "      <th></th>\n",
       "      <th></th>\n",
       "      <th></th>\n",
       "    </tr>\n",
       "  </thead>\n",
       "  <tbody>\n",
       "    <tr>\n",
       "      <th>2020-12-21</th>\n",
       "      <td>57.8</td>\n",
       "      <td>57.1</td>\n",
       "      <td>57.3</td>\n",
       "      <td>57.5</td>\n",
       "      <td>57.5</td>\n",
       "      <td>2361390</td>\n",
       "    </tr>\n",
       "    <tr>\n",
       "      <th>2020-12-22</th>\n",
       "      <td>58.5</td>\n",
       "      <td>57.1</td>\n",
       "      <td>57.4</td>\n",
       "      <td>58.1</td>\n",
       "      <td>58.1</td>\n",
       "      <td>2576390</td>\n",
       "    </tr>\n",
       "    <tr>\n",
       "      <th>2020-12-23</th>\n",
       "      <td>58.6</td>\n",
       "      <td>57.2</td>\n",
       "      <td>58.3</td>\n",
       "      <td>57.5</td>\n",
       "      <td>57.5</td>\n",
       "      <td>2941420</td>\n",
       "    </tr>\n",
       "    <tr>\n",
       "      <th>2020-12-24</th>\n",
       "      <td>57.8</td>\n",
       "      <td>56.4</td>\n",
       "      <td>57.5</td>\n",
       "      <td>57.0</td>\n",
       "      <td>57.0</td>\n",
       "      <td>2386210</td>\n",
       "    </tr>\n",
       "    <tr>\n",
       "      <th>2020-12-25</th>\n",
       "      <td>57.6</td>\n",
       "      <td>56.6</td>\n",
       "      <td>57.0</td>\n",
       "      <td>57.6</td>\n",
       "      <td>57.6</td>\n",
       "      <td>1625110</td>\n",
       "    </tr>\n",
       "  </tbody>\n",
       "</table>\n",
       "</div>"
      ],
      "text/plain": [
       "Attributes  high   low  open close adjust   volume\n",
       "Symbols      FPT   FPT   FPT   FPT    FPT      FPT\n",
       "date                                              \n",
       "2020-12-21  57.8  57.1  57.3  57.5   57.5  2361390\n",
       "2020-12-22  58.5  57.1  57.4  58.1   58.1  2576390\n",
       "2020-12-23  58.6  57.2  58.3  57.5   57.5  2941420\n",
       "2020-12-24  57.8  56.4  57.5  57.0   57.0  2386210\n",
       "2020-12-25  57.6  56.6  57.0  57.6   57.6  1625110"
      ]
     },
     "execution_count": 21,
     "metadata": {},
     "output_type": "execute_result"
    }
   ],
   "source": [
    "import vnquant.DataLoader as web\n",
    "loader = web.DataLoader('FPT', '2018-02-02','2020-12-27')\n",
    "data = loader.download()\n",
    "data.tail()"
   ]
  },
  {
   "cell_type": "code",
   "execution_count": 22,
   "metadata": {},
   "outputs": [],
   "source": [
    "data.columns = [\"high\", \"low\", \"open\", \"close\", \"adjust\", \"volume\"]"
   ]
  },
  {
   "cell_type": "code",
   "execution_count": 23,
   "metadata": {},
   "outputs": [],
   "source": [
    "data.reset_index(drop=False, inplace=True)"
   ]
  },
  {
   "cell_type": "code",
   "execution_count": 25,
   "metadata": {},
   "outputs": [
    {
     "data": {
      "text/html": [
       "<div>\n",
       "<style scoped>\n",
       "    .dataframe tbody tr th:only-of-type {\n",
       "        vertical-align: middle;\n",
       "    }\n",
       "\n",
       "    .dataframe tbody tr th {\n",
       "        vertical-align: top;\n",
       "    }\n",
       "\n",
       "    .dataframe thead th {\n",
       "        text-align: right;\n",
       "    }\n",
       "</style>\n",
       "<table border=\"1\" class=\"dataframe\">\n",
       "  <thead>\n",
       "    <tr style=\"text-align: right;\">\n",
       "      <th></th>\n",
       "      <th>date</th>\n",
       "      <th>high</th>\n",
       "      <th>low</th>\n",
       "      <th>open</th>\n",
       "      <th>close</th>\n",
       "      <th>adjust</th>\n",
       "      <th>volume</th>\n",
       "    </tr>\n",
       "  </thead>\n",
       "  <tbody>\n",
       "    <tr>\n",
       "      <th>719</th>\n",
       "      <td>2020-12-21</td>\n",
       "      <td>57.8</td>\n",
       "      <td>57.1</td>\n",
       "      <td>57.3</td>\n",
       "      <td>57.5</td>\n",
       "      <td>57.5</td>\n",
       "      <td>2361390</td>\n",
       "    </tr>\n",
       "    <tr>\n",
       "      <th>720</th>\n",
       "      <td>2020-12-22</td>\n",
       "      <td>58.5</td>\n",
       "      <td>57.1</td>\n",
       "      <td>57.4</td>\n",
       "      <td>58.1</td>\n",
       "      <td>58.1</td>\n",
       "      <td>2576390</td>\n",
       "    </tr>\n",
       "    <tr>\n",
       "      <th>721</th>\n",
       "      <td>2020-12-23</td>\n",
       "      <td>58.6</td>\n",
       "      <td>57.2</td>\n",
       "      <td>58.3</td>\n",
       "      <td>57.5</td>\n",
       "      <td>57.5</td>\n",
       "      <td>2941420</td>\n",
       "    </tr>\n",
       "    <tr>\n",
       "      <th>722</th>\n",
       "      <td>2020-12-24</td>\n",
       "      <td>57.8</td>\n",
       "      <td>56.4</td>\n",
       "      <td>57.5</td>\n",
       "      <td>57.0</td>\n",
       "      <td>57.0</td>\n",
       "      <td>2386210</td>\n",
       "    </tr>\n",
       "    <tr>\n",
       "      <th>723</th>\n",
       "      <td>2020-12-25</td>\n",
       "      <td>57.6</td>\n",
       "      <td>56.6</td>\n",
       "      <td>57.0</td>\n",
       "      <td>57.6</td>\n",
       "      <td>57.6</td>\n",
       "      <td>1625110</td>\n",
       "    </tr>\n",
       "  </tbody>\n",
       "</table>\n",
       "</div>"
      ],
      "text/plain": [
       "          date  high   low  open  close  adjust   volume\n",
       "719 2020-12-21  57.8  57.1  57.3   57.5    57.5  2361390\n",
       "720 2020-12-22  58.5  57.1  57.4   58.1    58.1  2576390\n",
       "721 2020-12-23  58.6  57.2  58.3   57.5    57.5  2941420\n",
       "722 2020-12-24  57.8  56.4  57.5   57.0    57.0  2386210\n",
       "723 2020-12-25  57.6  56.6  57.0   57.6    57.6  1625110"
      ]
     },
     "execution_count": 25,
     "metadata": {},
     "output_type": "execute_result"
    }
   ],
   "source": [
    "data.tail()"
   ]
  },
  {
   "cell_type": "code",
   "execution_count": null,
   "metadata": {},
   "outputs": [],
   "source": []
  }
 ],
 "metadata": {
  "kernelspec": {
   "display_name": "Python 3",
   "language": "python",
   "name": "python3"
  },
  "language_info": {
   "codemirror_mode": {
    "name": "ipython",
    "version": 3
   },
   "file_extension": ".py",
   "mimetype": "text/x-python",
   "name": "python",
   "nbconvert_exporter": "python",
   "pygments_lexer": "ipython3",
   "version": "3.7.9"
  }
 },
 "nbformat": 4,
 "nbformat_minor": 4
}
