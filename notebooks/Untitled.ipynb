{
 "cells": [
  {
   "cell_type": "code",
   "execution_count": 1,
   "metadata": {},
   "outputs": [],
   "source": [
    "import numpy as np"
   ]
  },
  {
   "cell_type": "code",
   "execution_count": 2,
   "metadata": {},
   "outputs": [
    {
     "data": {
      "text/plain": [
       "-113.00000000000003"
      ]
     },
     "execution_count": 2,
     "metadata": {},
     "output_type": "execute_result"
    }
   ],
   "source": [
    "a = np.array([1, -2, 4, -5, 3, -1, 3, 4, 1]).reshape(3,3)\n",
    "np.linalg.det(a)"
   ]
  },
  {
   "cell_type": "code",
   "execution_count": 3,
   "metadata": {},
   "outputs": [
    {
     "data": {
      "text/plain": [
       "89400"
      ]
     },
     "execution_count": 3,
     "metadata": {},
     "output_type": "execute_result"
    }
   ],
   "source": [
    "28*28*100+ 100*100+100*10\n"
   ]
  },
  {
   "cell_type": "code",
   "execution_count": 6,
   "metadata": {},
   "outputs": [
    {
     "data": {
      "text/plain": [
       "2.3025850929940455"
      ]
     },
     "execution_count": 6,
     "metadata": {},
     "output_type": "execute_result"
    }
   ],
   "source": [
    "-np.log(1/10)"
   ]
  },
  {
   "cell_type": "code",
   "execution_count": 7,
   "metadata": {},
   "outputs": [],
   "source": [
    "def readData():\n",
    "    data = ['<s> hoc sinh hoc sinh hoc </s> <s> sinh hoc la mot mon khoa hoc </s> <s> hoc sinh hoc khoa hoc </s>']\n",
    "    dat=[]\n",
    "    for i in range(len(data)):\n",
    "        for word in data[i].split():\n",
    "            dat.append(word)\n",
    "    print(dat)\n",
    "    return dat\n",
    "\n",
    "def createBigram(data):\n",
    "   listOfBigrams = []\n",
    "   bigramCounts = {}\n",
    "   unigramCounts = {}\n",
    "   for i in range(len(data)-1):\n",
    "      if i < len(data) - 1 and data[i+1].islower():\n",
    "\n",
    "         listOfBigrams.append((data[i], data[i + 1]))\n",
    "\n",
    "         if (data[i], data[i+1]) in bigramCounts:\n",
    "            bigramCounts[(data[i], data[i + 1])] += 1\n",
    "         else:\n",
    "            bigramCounts[(data[i], data[i + 1])] = 1\n",
    "\n",
    "      if data[i] in unigramCounts:\n",
    "         unigramCounts[data[i]] += 1\n",
    "      else:\n",
    "         unigramCounts[data[i]] = 1\n",
    "   return listOfBigrams, unigramCounts, bigramCounts\n",
    "\n",
    "\n",
    "def calcBigramProb(listOfBigrams, unigramCounts, bigramCounts):\n",
    "    listOfProb = {}\n",
    "    for bigram in listOfBigrams:\n",
    "        word1 = bigram[0]\n",
    "        word2 = bigram[1]\n",
    "        listOfProb[bigram] = (bigramCounts.get(bigram))/(unigramCounts.get(word1))\n",
    "    return listOfProb\n"
   ]
  },
  {
   "cell_type": "code",
   "execution_count": 11,
   "metadata": {},
   "outputs": [
    {
     "name": "stdout",
     "output_type": "stream",
     "text": [
      "['<s>', 'hoc', 'sinh', 'hoc', 'sinh', 'hoc', '</s>', '<s>', 'sinh', 'hoc', 'la', 'mot', 'mon', 'khoa', 'hoc', '</s>', '<s>', 'hoc', 'sinh', 'hoc', 'khoa', 'hoc', '</s>']\n",
      "\n",
      " All the possible Bigrams are \n",
      "[('<s>', 'hoc'), ('hoc', 'sinh'), ('sinh', 'hoc'), ('hoc', 'sinh'), ('sinh', 'hoc'), ('hoc', '</s>'), ('</s>', '<s>'), ('<s>', 'sinh'), ('sinh', 'hoc'), ('hoc', 'la'), ('la', 'mot'), ('mot', 'mon'), ('mon', 'khoa'), ('khoa', 'hoc'), ('hoc', '</s>'), ('</s>', '<s>'), ('<s>', 'hoc'), ('hoc', 'sinh'), ('sinh', 'hoc'), ('hoc', 'khoa'), ('khoa', 'hoc'), ('hoc', '</s>')]\n",
      "\n",
      " Bigrams along with their frequency \n",
      "{('<s>', 'hoc'): 2, ('hoc', 'sinh'): 3, ('sinh', 'hoc'): 4, ('hoc', '</s>'): 3, ('</s>', '<s>'): 2, ('<s>', 'sinh'): 1, ('hoc', 'la'): 1, ('la', 'mot'): 1, ('mot', 'mon'): 1, ('mon', 'khoa'): 1, ('khoa', 'hoc'): 2, ('hoc', 'khoa'): 1}\n",
      "\n",
      " Unigrams along with their frequency \n",
      "{'<s>': 3, 'hoc': 8, 'sinh': 4, '</s>': 2, 'la': 1, 'mot': 1, 'mon': 1, 'khoa': 2}\n",
      "\n",
      " Bigrams along with their probability \n",
      "{('<s>', 'hoc'): 0.6666666666666666, ('hoc', 'sinh'): 0.375, ('sinh', 'hoc'): 1.0, ('hoc', '</s>'): 0.375, ('</s>', '<s>'): 1.0, ('<s>', 'sinh'): 0.3333333333333333, ('hoc', 'la'): 0.125, ('la', 'mot'): 1.0, ('mot', 'mon'): 1.0, ('mon', 'khoa'): 1.0, ('khoa', 'hoc'): 1.0, ('hoc', 'khoa'): 0.125}\n",
      "\n",
      " The bigrams in given sentence are \n",
      "[]\n",
      "\n",
      "Probablility of sentence \" hoc \" = 1\n"
     ]
    }
   ],
   "source": [
    "data = readData()\n",
    "listOfBigrams, unigramCounts, bigramCounts = createBigram(data)\n",
    "\n",
    "print(\"\\n All the possible Bigrams are \")\n",
    "print(listOfBigrams)\n",
    "\n",
    "print(\"\\n Bigrams along with their frequency \")\n",
    "print(bigramCounts)\n",
    "\n",
    "print(\"\\n Unigrams along with their frequency \")\n",
    "print(unigramCounts)\n",
    "\n",
    "bigramProb = calcBigramProb(listOfBigrams, unigramCounts, bigramCounts)\n",
    "\n",
    "print(\"\\n Bigrams along with their probability \")\n",
    "print(bigramProb)\n",
    "inputList=\"hoc\"\n",
    "splt=inputList.split()\n",
    "outputProb1 = 1\n",
    "bilist=[]\n",
    "bigrm=[]\n",
    "\n",
    "for i in range(len(splt) - 1):\n",
    "    if i < len(splt) - 1:\n",
    "\n",
    "        bilist.append((splt[i], splt[i + 1]))\n",
    "\n",
    "print(\"\\n The bigrams in given sentence are \")\n",
    "print(bilist)\n",
    "for i in range(len(bilist)):\n",
    "    if bilist[i] in bigramProb:\n",
    "\n",
    "        outputProb1 *= bigramProb[bilist[i]]\n",
    "    else:\n",
    "\n",
    "        outputProb1 *= 0\n",
    "print('\\n' + 'Probablility of sentence \\\"', inputList , '\\\" = ' + str(outputProb1))\n",
    "\n"
   ]
  },
  {
   "cell_type": "code",
   "execution_count": 18,
   "metadata": {},
   "outputs": [
    {
     "data": {
      "text/plain": [
       "22"
      ]
     },
     "execution_count": 18,
     "metadata": {},
     "output_type": "execute_result"
    }
   ],
   "source": [
    "import pandas as pd\n",
    "pd.Series(listOfBigrams).value_counts().sum()"
   ]
  },
  {
   "cell_type": "code",
   "execution_count": 19,
   "metadata": {},
   "outputs": [
    {
     "data": {
      "text/plain": [
       "0.18181818181818182"
      ]
     },
     "execution_count": 19,
     "metadata": {},
     "output_type": "execute_result"
    }
   ],
   "source": [
    "4/22"
   ]
  },
  {
   "cell_type": "code",
   "execution_count": 21,
   "metadata": {},
   "outputs": [
    {
     "data": {
      "text/plain": [
       "768000000"
      ]
     },
     "execution_count": 21,
     "metadata": {},
     "output_type": "execute_result"
    }
   ],
   "source": [
    "12000*64*1000"
   ]
  },
  {
   "cell_type": "code",
   "execution_count": 23,
   "metadata": {},
   "outputs": [
    {
     "data": {
      "text/plain": [
       "1"
      ]
     },
     "execution_count": 23,
     "metadata": {},
     "output_type": "execute_result"
    }
   ],
   "source": [
    "'furuike ya'.count(i)"
   ]
  },
  {
   "cell_type": "code",
   "execution_count": 27,
   "metadata": {},
   "outputs": [
    {
     "data": {
      "text/plain": [
       "5"
      ]
     },
     "execution_count": 27,
     "metadata": {},
     "output_type": "execute_result"
    }
   ],
   "source": [
    "def dem_nguyen_am(string):\n",
    "    return sum([string.count(i) for i in ['a', 'e', 'u', 'i', 'o']])\n",
    "dem_nguyen_am('furuike ya')    "
   ]
  },
  {
   "cell_type": "code",
   "execution_count": 29,
   "metadata": {},
   "outputs": [
    {
     "data": {
      "text/plain": [
       "False"
      ]
     },
     "execution_count": 29,
     "metadata": {},
     "output_type": "execute_result"
    }
   ],
   "source": [
    "[1,2,3] is [1,2,3]"
   ]
  },
  {
   "cell_type": "code",
   "execution_count": 84,
   "metadata": {},
   "outputs": [],
   "source": [
    "s = '1024 512 64 512 512'"
   ]
  },
  {
   "cell_type": "code",
   "execution_count": 85,
   "metadata": {},
   "outputs": [],
   "source": [
    "numbers = np.array(list(map(int, s.split())))"
   ]
  },
  {
   "cell_type": "code",
   "execution_count": 87,
   "metadata": {},
   "outputs": [
    {
     "data": {
      "text/plain": [
       "array([1024, 1024,   64, 1024,  512])"
      ]
     },
     "execution_count": 87,
     "metadata": {},
     "output_type": "execute_result"
    }
   ],
   "source": [
    "u_num = 512\n",
    "indices = np.where(numbers == u_num)[0] \n",
    "if len(indices) >= 2:\n",
    "    numbers[indices[:2]] = 2*u_num\n",
    "    print(numbers[indices[1]])\n",
    "    np.delete(numbers, np.where(numbers == 2*u_num))\n",
    "numbers"
   ]
  },
  {
   "cell_type": "code",
   "execution_count": 62,
   "metadata": {},
   "outputs": [
    {
     "name": "stdout",
     "output_type": "stream",
     "text": [
      "[1024  512  128  512  512]\n",
      "[1024 1024  128 1024  512]\n",
      "[2048 2048  128 1024  512]\n"
     ]
    }
   ],
   "source": [
    "for u_num in np.unique(numbers):\n",
    "    indices = np.where(numbers == u_num)[0] \n",
    "    if len(indices) >= 2:\n",
    "        numbers[indices[:2]] = 2*u_num\n",
    "    print(numbers)\n"
   ]
  },
  {
   "cell_type": "code",
   "execution_count": null,
   "metadata": {},
   "outputs": [],
   "source": []
  },
  {
   "cell_type": "code",
   "execution_count": 58,
   "metadata": {},
   "outputs": [
    {
     "data": {
      "text/plain": [
       "array([2048,  256,  256,  128, 2048])"
      ]
     },
     "execution_count": 58,
     "metadata": {},
     "output_type": "execute_result"
    }
   ],
   "source": [
    "numbers"
   ]
  },
  {
   "cell_type": "code",
   "execution_count": null,
   "metadata": {},
   "outputs": [],
   "source": []
  }
 ],
 "metadata": {
  "kernelspec": {
   "display_name": "Python 3",
   "language": "python",
   "name": "python3"
  },
  "language_info": {
   "codemirror_mode": {
    "name": "ipython",
    "version": 3
   },
   "file_extension": ".py",
   "mimetype": "text/x-python",
   "name": "python",
   "nbconvert_exporter": "python",
   "pygments_lexer": "ipython3",
   "version": "3.7.9"
  }
 },
 "nbformat": 4,
 "nbformat_minor": 4
}
