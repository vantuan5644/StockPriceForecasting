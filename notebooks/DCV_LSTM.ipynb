{
 "cells": [
  {
   "cell_type": "code",
   "execution_count": 2,
   "metadata": {},
   "outputs": [],
   "source": [
    "import numpy as np\n",
    "import matplotlib.pyplot as plt\n",
    "import pandas as pd\n",
    "\n",
    "from sklearn.preprocessing import MinMaxScaler\n",
    "from sklearn.preprocessing import LabelEncoder\n",
    "from sklearn.metrics import mean_squared_error\n",
    "from keras.models import Sequential\n",
    "from keras.layers import Dense\n",
    "from keras.layers import LSTM"
   ]
  },
  {
   "cell_type": "code",
   "execution_count": 3,
   "metadata": {},
   "outputs": [
    {
     "data": {
      "text/html": [
       "<div>\n",
       "<style scoped>\n",
       "    .dataframe tbody tr th:only-of-type {\n",
       "        vertical-align: middle;\n",
       "    }\n",
       "\n",
       "    .dataframe tbody tr th {\n",
       "        vertical-align: top;\n",
       "    }\n",
       "\n",
       "    .dataframe thead th {\n",
       "        text-align: right;\n",
       "    }\n",
       "</style>\n",
       "<table border=\"1\" class=\"dataframe\">\n",
       "  <thead>\n",
       "    <tr style=\"text-align: right;\">\n",
       "      <th></th>\n",
       "      <th>Ticker</th>\n",
       "      <th>Open</th>\n",
       "      <th>High</th>\n",
       "      <th>Low</th>\n",
       "      <th>Close</th>\n",
       "      <th>Volume</th>\n",
       "    </tr>\n",
       "    <tr>\n",
       "      <th>DateTime</th>\n",
       "      <th></th>\n",
       "      <th></th>\n",
       "      <th></th>\n",
       "      <th></th>\n",
       "      <th></th>\n",
       "      <th></th>\n",
       "    </tr>\n",
       "  </thead>\n",
       "  <tbody>\n",
       "    <tr>\n",
       "      <th>2006-12-13</th>\n",
       "      <td>FPT</td>\n",
       "      <td>22.5807</td>\n",
       "      <td>22.5807</td>\n",
       "      <td>22.5807</td>\n",
       "      <td>22.5807</td>\n",
       "      <td>83530</td>\n",
       "    </tr>\n",
       "    <tr>\n",
       "      <th>2006-12-14</th>\n",
       "      <td>FPT</td>\n",
       "      <td>23.7097</td>\n",
       "      <td>23.7097</td>\n",
       "      <td>23.7097</td>\n",
       "      <td>23.7097</td>\n",
       "      <td>280710</td>\n",
       "    </tr>\n",
       "    <tr>\n",
       "      <th>2006-12-15</th>\n",
       "      <td>FPT</td>\n",
       "      <td>24.8952</td>\n",
       "      <td>24.8952</td>\n",
       "      <td>24.8952</td>\n",
       "      <td>24.8952</td>\n",
       "      <td>265300</td>\n",
       "    </tr>\n",
       "    <tr>\n",
       "      <th>2006-12-18</th>\n",
       "      <td>FPT</td>\n",
       "      <td>26.1371</td>\n",
       "      <td>26.1371</td>\n",
       "      <td>26.1371</td>\n",
       "      <td>26.1372</td>\n",
       "      <td>215790</td>\n",
       "    </tr>\n",
       "    <tr>\n",
       "      <th>2006-12-19</th>\n",
       "      <td>FPT</td>\n",
       "      <td>27.4356</td>\n",
       "      <td>27.4356</td>\n",
       "      <td>27.4356</td>\n",
       "      <td>27.4356</td>\n",
       "      <td>137520</td>\n",
       "    </tr>\n",
       "  </tbody>\n",
       "</table>\n",
       "</div>"
      ],
      "text/plain": [
       "           Ticker     Open     High      Low    Close  Volume\n",
       "DateTime                                                     \n",
       "2006-12-13    FPT  22.5807  22.5807  22.5807  22.5807   83530\n",
       "2006-12-14    FPT  23.7097  23.7097  23.7097  23.7097  280710\n",
       "2006-12-15    FPT  24.8952  24.8952  24.8952  24.8952  265300\n",
       "2006-12-18    FPT  26.1371  26.1371  26.1371  26.1372  215790\n",
       "2006-12-19    FPT  27.4356  27.4356  27.4356  27.4356  137520"
      ]
     },
     "execution_count": 3,
     "metadata": {},
     "output_type": "execute_result"
    }
   ],
   "source": [
    "df_fpt= pd.read_csv('dataset/excel_fpt.csv')\n",
    "columns = [i.replace('<', '').replace('>', '') for i in df_fpt.columns]\n",
    "columns[1] = 'DateTime'\n",
    "df_fpt.rename(columns = {df_fpt.columns[i]: columns[i] for i in range(len(df_fpt.columns))}, inplace = True)\n",
    "df_fpt['DateTime'] = pd.to_datetime(df_fpt['DateTime'], format='%Y%m%d', errors='ignore')\n",
    "df_fpt = df_fpt.set_index('DateTime')\n",
    "df_fpt = df_fpt.sort_index()\n",
    "df_fpt.head()"
   ]
  },
  {
   "cell_type": "markdown",
   "metadata": {},
   "source": [
    "# CLOSE DIFF"
   ]
  },
  {
   "cell_type": "code",
   "execution_count": null,
   "metadata": {},
   "outputs": [],
   "source": [
    "df = df_fpt.copy()\n",
    "df['Close_diff_1'] = df['Close']-df.shift()['Close']\n",
    "df['Close_diff_3'] = df['Close']-df.shift(2)['Close']\n",
    "df['Close_diff_4'] = df['Close']-df.shift(3)['Close']\n",
    "df['Close_diff_5'] = df['Close']-df.shift(4)['Close']\n",
    "df['Close_diff_6'] = df['Close']-df.shift(5)['Close']\n",
    "df['Close_diff_7'] = df['Close']-df.shift(6)['Close']\n",
    "\n",
    "df.head()"
   ]
  },
  {
   "cell_type": "code",
   "execution_count": null,
   "metadata": {},
   "outputs": [],
   "source": [
    "df = df[['Close_diff_1','Close_diff_3','Close_diff_4','Close_diff_5','Close_diff_6','Close_diff_7']]\n",
    "df = df.dropna()\n",
    "y_train = df[['Close_diff_1']]['2007-01-01':'2017-01-01'].to_numpy()\n",
    "y_test = df[['Close_diff_1']]['2017-01-01':].to_numpy()\n",
    "x_train = df[['Close_diff_3','Close_diff_4','Close_diff_5','Close_diff_6','Close_diff_7']]['2007-01-01':'2017-01-01'].to_numpy()\n",
    "x_test = df[['Close_diff_3','Close_diff_4','Close_diff_5','Close_diff_6','Close_diff_7']]['2017-01-01':].to_numpy()\n",
    "# print(x_train)\n",
    "\n",
    "print(\"Train: {}\\t Test: {}\".format(len(x_train), len(x_test)))\n",
    "print(\"Shape:\", x_train.shape, y_train.shape)"
   ]
  },
  {
   "cell_type": "code",
   "execution_count": null,
   "metadata": {},
   "outputs": [],
   "source": [
    "# reshape input to be 3D [samples, timesteps, features]\n",
    "train_X = x_train.reshape((x_train.shape[0], 1, x_train.shape[1]))\n",
    "test_X = x_test.reshape((x_test.shape[0], 1, x_test.shape[1]))\n",
    "print(\"Shape:\", train_X.shape, y_train.shape)"
   ]
  },
  {
   "cell_type": "code",
   "execution_count": null,
   "metadata": {},
   "outputs": [],
   "source": [
    "# design network\n",
    "model = Sequential()\n",
    "model.add(LSTM(50, input_shape=(train_X.shape[1], train_X.shape[2])))\n",
    "model.add(Dense(1))\n",
    "model.compile(loss='mae', optimizer='adam')\n"
   ]
  },
  {
   "cell_type": "code",
   "execution_count": null,
   "metadata": {},
   "outputs": [],
   "source": [
    "model.summary()"
   ]
  },
  {
   "cell_type": "code",
   "execution_count": null,
   "metadata": {},
   "outputs": [],
   "source": [
    "history = model.fit(train_X, y_train, epochs=50, batch_size=72, verbose=1, shuffle=False)\n",
    "# plot history\n",
    "pyplot.plot(history.history['loss'], label='train')\n",
    "# pyplot.plot(history.history['val_loss'], label='test')\n",
    "pyplot.legend()\n",
    "pyplot.show()"
   ]
  },
  {
   "cell_type": "code",
   "execution_count": null,
   "metadata": {},
   "outputs": [],
   "source": [
    "yhat = model.predict(test_X)\n",
    "rmse = sqrt(mean_squared_error(y_test, yhat))\n",
    "print('Test RMSE: %.3f' % rmse)"
   ]
  },
  {
   "cell_type": "markdown",
   "metadata": {},
   "source": [
    "# Single LSTM "
   ]
  },
  {
   "cell_type": "code",
   "execution_count": 18,
   "metadata": {},
   "outputs": [
    {
     "name": "stdout",
     "output_type": "stream",
     "text": [
      "    DateTime Ticker     Open     High      Low    Close  Volume\n",
      "0 2006-12-13    FPT  22.5807  22.5807  22.5807  22.5807   83530\n",
      "1 2006-12-14    FPT  23.7097  23.7097  23.7097  23.7097  280710\n",
      "2 2006-12-15    FPT  24.8952  24.8952  24.8952  24.8952  265300\n",
      "3 2006-12-18    FPT  26.1371  26.1371  26.1371  26.1372  215790\n",
      "4 2006-12-19    FPT  27.4356  27.4356  27.4356  27.4356  137520\n",
      "(3490, 1)\n"
     ]
    }
   ],
   "source": [
    "df_fpt = df_fpt.sort_values('DateTime')\n",
    "df_fpt.reset_index(inplace=True)\n",
    "print(df_fpt.head())\n",
    "close_prices = df_fpt.iloc[:, 4:5].values\n",
    "print(close_prices.shape)"
   ]
  },
  {
   "cell_type": "code",
   "execution_count": 19,
   "metadata": {},
   "outputs": [
    {
     "data": {
      "image/png": "[encoded data removed]",
      "text/plain": [
       "<Figure size 1296x648 with 1 Axes>"
      ]
     },
     "metadata": {
      "needs_background": "light"
     },
     "output_type": "display_data"
    }
   ],
   "source": [
    "plt.figure(figsize = (18,9))\n",
    "plt.plot(range(df_fpt.shape[0]),(df_fpt['Close']))\n",
    "plt.xticks(range(0,df_fpt.shape[0],500),df_fpt['DateTime'].loc[::500],rotation=45)\n",
    "plt.xlabel('Date',fontsize=18)\n",
    "plt.ylabel('Close Price',fontsize=18)\n",
    "plt.show()"
   ]
  },
  {
   "cell_type": "code",
   "execution_count": 20,
   "metadata": {},
   "outputs": [
    {
     "data": {
      "image/png": "[encoded data removed]",
      "text/plain": [
       "<Figure size 432x288 with 1 Axes>"
      ]
     },
     "metadata": {
      "needs_background": "light"
     },
     "output_type": "display_data"
    }
   ],
   "source": [
    "import statsmodels.api as sm\n",
    "tmp = sm.graphics.tsa.plot_acf(df_fpt['Close'], lags=500)"
   ]
  },
  {
   "cell_type": "code",
   "execution_count": 21,
   "metadata": {},
   "outputs": [
    {
     "name": "stdout",
     "output_type": "stream",
     "text": [
      "(2970, 20) (2970,)\n",
      "[[22.5807 23.7097 24.8952 ... 27.6613 27.6614 27.6614]\n",
      " [23.7097 24.8952 26.1371 ... 27.6614 27.6614 28.2259]\n",
      " [24.8952 26.1371 27.4356 ... 27.6614 28.2259 29.6372]\n",
      " ...\n",
      " [30.4589 30.8606 31.2623 ... 32.2849 32.0658 32.1754]\n",
      " [30.8606 31.2623 31.2989 ... 32.0658 32.1754 32.504 ]\n",
      " [31.2623 31.2989 31.1893 ... 32.1754 32.504  32.2119]] [28.2259 29.6372 30.2017 ... 32.504  32.2119 31.4084]\n"
     ]
    }
   ],
   "source": [
    "X_train = []\n",
    "y_train = []\n",
    "timestamp = 20\n",
    "for i in range(timestamp, len(close_prices)-500):\n",
    "    X_train.append(close_prices[i-timestamp:i, 0])\n",
    "    y_train.append(close_prices[i, 0])\n",
    "X_train, y_train = np.array(X_train), np.array(y_train)\n",
    "\n",
    "print(X_train.shape, y_train.shape)\n",
    "print(X_train, y_train)"
   ]
  },
  {
   "cell_type": "code",
   "execution_count": 22,
   "metadata": {},
   "outputs": [
    {
     "data": {
      "image/png": "[encoded data removed]",
      "text/plain": [
       "<Figure size 432x288 with 1 Axes>"
      ]
     },
     "metadata": {
      "needs_background": "light"
     },
     "output_type": "display_data"
    }
   ],
   "source": [
    "plt.plot(close_prices[:-200], color = 'black', label = 'FPT Stock Price train')\n",
    "# plt.plot(predicted_stock_price, color = 'green', label = 'Predicted FPT Stock Price')\n",
    "plt.title('FPT Stock Price Prediction')\n",
    "plt.xlabel('Time')\n",
    "plt.ylabel('FPT Stock Price')\n",
    "plt.legend()\n",
    "plt.show()\n"
   ]
  },
  {
   "cell_type": "code",
   "execution_count": 23,
   "metadata": {},
   "outputs": [],
   "source": [
    "from sklearn.preprocessing import MinMaxScaler\n",
    "sc = MinMaxScaler(feature_range = (0, 1))\n",
    "sc.fit(X_train)\n",
    "x_train = sc.fit_transform(X_train)\n",
    "y_train = sc.fit_transform(y_train.reshape(-1,1))\n",
    "x_train = np.reshape(x_train, (x_train.shape[0], x_train.shape[1], 1))"
   ]
  },
  {
   "cell_type": "code",
   "execution_count": 35,
   "metadata": {},
   "outputs": [],
   "source": [
    "from keras.models import Sequential\n",
    "from keras.layers import Dense\n",
    "from keras.layers import LSTM\n",
    "from keras.layers import Dropout\n",
    "\n",
    "model = Sequential()\n",
    "\n",
    "model.add(LSTM(units = 50, return_sequences = True, input_shape = (x_train.shape[1], 1)))\n",
    "model.add(Dropout(0.2))\n",
    "\n",
    "model.add(LSTM(units = 50, return_sequences = True))\n",
    "model.add(Dropout(0.2))\n",
    "\n",
    "model.add(LSTM(units = 50, return_sequences = True))\n",
    "model.add(Dropout(0.2))\n",
    "\n",
    "model.add(LSTM(units = 50))\n",
    "model.add(Dropout(0.2))\n",
    "\n",
    "model.add(Dense(units = 1))\n",
    "\n",
    "model.compile(optimizer = 'adam', loss = 'mean_squared_error')\n",
    "\n",
    "# model.fit(x_train, y_train, epochs = 25, batch_size = 32)\n",
    "\n"
   ]
  },
  {
   "cell_type": "code",
   "execution_count": 147,
   "metadata": {},
   "outputs": [
    {
     "name": "stdout",
     "output_type": "stream",
     "text": [
      "Saved model to disk\n"
     ]
    }
   ],
   "source": [
    "model_json = model.to_json()\n",
    "with open(\"model.json\", \"w\") as json_file:\n",
    "    json_file.write(model_json)\n",
    "\n",
    "model.save_weights(\"model.h5\")\n",
    "print(\"Saved model to disk\")"
   ]
  },
  {
   "cell_type": "code",
   "execution_count": 38,
   "metadata": {},
   "outputs": [],
   "source": [
    "model.load_weights('model.h5')\n"
   ]
  },
  {
   "cell_type": "code",
   "execution_count": 39,
   "metadata": {},
   "outputs": [
    {
     "name": "stdout",
     "output_type": "stream",
     "text": [
      "(480, 20, 1)\n"
     ]
    }
   ],
   "source": [
    "test = close_prices[len(close_prices)-500:].reshape(-1,1)\n",
    "# print(len(test))\n",
    "inputs = sc.fit_transform(test)\n",
    "# print(np.array([inputs[i-7:i, 0]]).shape)\n",
    "# X_test = np.array([inputs[:7, 0]]).reshape(1,7,1)\n",
    "# print(X_test.shape)\n",
    "# predicted_stock_price = []\n",
    "# k = 1\n",
    "# for i in range(7,100):\n",
    "#     y_pred = model.predict(X_test)\n",
    "#     predicted_stock_price.append(y_pred)\n",
    "#     print(\"GT:\",inputs[k:k+7])\n",
    "#     X_test = np.concatenate((X_test[0,1:,0],y_pred[0])).reshape(1,7,1)\n",
    "#     print(\"Pred:\",X_test[0,:,0])\n",
    "#     k += 1\n",
    "# print(X_test.shape)\n",
    "X_test = []\n",
    "for i in range(timestamp, len(inputs)):\n",
    "    X_test.append(inputs[i-timestamp:i, 0])\n",
    "X_test = np.array(X_test)\n",
    "X_test = np.reshape(X_test, (X_test.shape[0], X_test.shape[1], 1))\n",
    "print(X_test.shape)"
   ]
  },
  {
   "cell_type": "code",
   "execution_count": 40,
   "metadata": {},
   "outputs": [],
   "source": [
    "# print(len(predicted_stock_price))\n",
    "# predicted_stock_price = np.array(predicted_stock_price).reshape(993,1)\n",
    "# print(np.array(predicted_stock_price).shape)"
   ]
  },
  {
   "cell_type": "code",
   "execution_count": 41,
   "metadata": {},
   "outputs": [
    {
     "data": {
      "text/plain": [
       "500"
      ]
     },
     "execution_count": 41,
     "metadata": {},
     "output_type": "execute_result"
    }
   ],
   "source": [
    "predicted_stock_price = model.predict(X_test)\n",
    "predicted_stock_price = sc.inverse_transform(predicted_stock_price)\n",
    "# predicted_stock_price = np.insert(predicted_stock_price, 0,0)\n",
    "# print(test[:60].shape,predicted_stock_price.shape)\n",
    "predicted_stock_price = np.concatenate((test[:timestamp],predicted_stock_price))\n",
    "len(predicted_stock_price)\n",
    "# print(predicted_stock_price)"
   ]
  },
  {
   "cell_type": "code",
   "execution_count": 42,
   "metadata": {},
   "outputs": [
    {
     "name": "stdout",
     "output_type": "stream",
     "text": [
      "500\n",
      "500\n"
     ]
    },
    {
     "data": {
      "image/png": "[encoded data removed]",
      "text/plain": [
       "<Figure size 432x288 with 1 Axes>"
      ]
     },
     "metadata": {
      "needs_background": "light"
     },
     "output_type": "display_data"
    }
   ],
   "source": [
    "real_stock_price = test\n",
    "print(len(predicted_stock_price))\n",
    "print(len(real_stock_price))\n",
    "plt.plot(real_stock_price[:27], color = 'black', label = 'FPT Stock Price')\n",
    "plt.plot(predicted_stock_price[:27], color = 'green', label = 'Predicted FPT Stock Price')\n",
    "plt.title('FPT Stock Price Prediction')\n",
    "plt.xlabel('Time')\n",
    "plt.ylabel('FPT Stock Price')\n",
    "plt.legend()\n",
    "plt.show()\n"
   ]
  },
  {
   "cell_type": "code",
   "execution_count": 43,
   "metadata": {},
   "outputs": [
    {
     "data": {
      "text/plain": [
       "2.458837422848151"
      ]
     },
     "execution_count": 43,
     "metadata": {},
     "output_type": "execute_result"
    }
   ],
   "source": [
    "# predict 7 ngay dau tien cua 30 ngay test\n",
    "def MAPE(y_true, y_pred):\n",
    "    error = np.abs(y_true - y_pred) / y_true\n",
    "#     error.replace([np.inf, -np.inf], np.nan, inplace=True)\n",
    "    error = error[~np.isnan(error)]\n",
    "\n",
    "    return np.mean(error) * 100\n",
    "MAPE(real_stock_price,predicted_stock_price)"
   ]
  },
  {
   "cell_type": "markdown",
   "metadata": {},
   "source": [
    "# Multi Step Forecasting LSTM"
   ]
  },
  {
   "cell_type": "code",
   "execution_count": 90,
   "metadata": {},
   "outputs": [
    {
     "data": {
      "text/html": [
       "<div>\n",
       "<style scoped>\n",
       "    .dataframe tbody tr th:only-of-type {\n",
       "        vertical-align: middle;\n",
       "    }\n",
       "\n",
       "    .dataframe tbody tr th {\n",
       "        vertical-align: top;\n",
       "    }\n",
       "\n",
       "    .dataframe thead th {\n",
       "        text-align: right;\n",
       "    }\n",
       "</style>\n",
       "<table border=\"1\" class=\"dataframe\">\n",
       "  <thead>\n",
       "    <tr style=\"text-align: right;\">\n",
       "      <th></th>\n",
       "      <th>Ticker</th>\n",
       "      <th>Open</th>\n",
       "      <th>High</th>\n",
       "      <th>Low</th>\n",
       "      <th>Close</th>\n",
       "      <th>Volume</th>\n",
       "    </tr>\n",
       "    <tr>\n",
       "      <th>DateTime</th>\n",
       "      <th></th>\n",
       "      <th></th>\n",
       "      <th></th>\n",
       "      <th></th>\n",
       "      <th></th>\n",
       "      <th></th>\n",
       "    </tr>\n",
       "  </thead>\n",
       "  <tbody>\n",
       "    <tr>\n",
       "      <th>2006-12-13</th>\n",
       "      <td>FPT</td>\n",
       "      <td>22.5807</td>\n",
       "      <td>22.5807</td>\n",
       "      <td>22.5807</td>\n",
       "      <td>22.5807</td>\n",
       "      <td>83530</td>\n",
       "    </tr>\n",
       "    <tr>\n",
       "      <th>2006-12-14</th>\n",
       "      <td>FPT</td>\n",
       "      <td>23.7097</td>\n",
       "      <td>23.7097</td>\n",
       "      <td>23.7097</td>\n",
       "      <td>23.7097</td>\n",
       "      <td>280710</td>\n",
       "    </tr>\n",
       "    <tr>\n",
       "      <th>2006-12-15</th>\n",
       "      <td>FPT</td>\n",
       "      <td>24.8952</td>\n",
       "      <td>24.8952</td>\n",
       "      <td>24.8952</td>\n",
       "      <td>24.8952</td>\n",
       "      <td>265300</td>\n",
       "    </tr>\n",
       "    <tr>\n",
       "      <th>2006-12-18</th>\n",
       "      <td>FPT</td>\n",
       "      <td>26.1371</td>\n",
       "      <td>26.1371</td>\n",
       "      <td>26.1371</td>\n",
       "      <td>26.1372</td>\n",
       "      <td>215790</td>\n",
       "    </tr>\n",
       "    <tr>\n",
       "      <th>2006-12-19</th>\n",
       "      <td>FPT</td>\n",
       "      <td>27.4356</td>\n",
       "      <td>27.4356</td>\n",
       "      <td>27.4356</td>\n",
       "      <td>27.4356</td>\n",
       "      <td>137520</td>\n",
       "    </tr>\n",
       "  </tbody>\n",
       "</table>\n",
       "</div>"
      ],
      "text/plain": [
       "           Ticker     Open     High      Low    Close  Volume\n",
       "DateTime                                                     \n",
       "2006-12-13    FPT  22.5807  22.5807  22.5807  22.5807   83530\n",
       "2006-12-14    FPT  23.7097  23.7097  23.7097  23.7097  280710\n",
       "2006-12-15    FPT  24.8952  24.8952  24.8952  24.8952  265300\n",
       "2006-12-18    FPT  26.1371  26.1371  26.1371  26.1372  215790\n",
       "2006-12-19    FPT  27.4356  27.4356  27.4356  27.4356  137520"
      ]
     },
     "execution_count": 90,
     "metadata": {},
     "output_type": "execute_result"
    }
   ],
   "source": [
    "df_fpt= pd.read_csv('dataset/excel_fpt.csv')\n",
    "columns = [i.replace('<', '').replace('>', '') for i in df_fpt.columns]\n",
    "columns[1] = 'DateTime'\n",
    "df_fpt.rename(columns = {df_fpt.columns[i]: columns[i] for i in range(len(df_fpt.columns))}, inplace = True)\n",
    "df_fpt['DateTime'] = pd.to_datetime(df_fpt['DateTime'], format='%Y%m%d', errors='ignore')\n",
    "df_fpt = df_fpt.set_index('DateTime')\n",
    "df_fpt = df_fpt.sort_index()\n",
    "df_fpt.head()"
   ]
  },
  {
   "cell_type": "code",
   "execution_count": 91,
   "metadata": {},
   "outputs": [
    {
     "name": "stdout",
     "output_type": "stream",
     "text": [
      "              Close\n",
      "DateTime           \n",
      "2006-12-13  22.5807\n",
      "2006-12-14  23.7097\n",
      "2006-12-15  24.8952\n",
      "2006-12-18  26.1372\n",
      "2006-12-19  27.4356\n",
      "...             ...\n",
      "2020-12-10  56.5000\n",
      "2020-12-11  57.0000\n",
      "2020-12-14  57.2000\n",
      "2020-12-15  56.7000\n",
      "2020-12-16  57.1000\n",
      "\n",
      "[3490 rows x 1 columns]\n"
     ]
    }
   ],
   "source": [
    "df_fpt = df_fpt.sort_values('DateTime')\n",
    "# df_fpt.reset_index(inplace=True)\n",
    "close_prices = df_fpt.iloc[:, 4:5]\n",
    "print(close_prices)"
   ]
  },
  {
   "cell_type": "code",
   "execution_count": 92,
   "metadata": {},
   "outputs": [],
   "source": [
    "def series_to_supervised(data, n_in=1, n_out=1, dropnan=True):\n",
    "\tn_vars = 1 if type(data) is list else data.shape[1]\n",
    "\tdf = pd.DataFrame(data)\n",
    "\tcols, names = list(), list()\n",
    "\t# input sequence (t-n, ... t-1)\n",
    "\tfor i in range(n_in, 0, -1):\n",
    "\t\tcols.append(df.shift(i))\n",
    "\t\tnames += [('var%d(t-%d)' % (j+1, i)) for j in range(n_vars)]\n",
    "\t# forecast sequence (t, t+1, ... t+n)\n",
    "\tfor i in range(0, n_out):\n",
    "\t\tcols.append(df.shift(-i))\n",
    "\t\tif i == 0:\n",
    "\t\t\tnames += [('var%d(t)' % (j+1)) for j in range(n_vars)]\n",
    "\t\telse:\n",
    "\t\t\tnames += [('var%d(t+%d)' % (j+1, i)) for j in range(n_vars)]\n",
    "\t# put it all together\n",
    "\tagg = pd.concat(cols, axis=1)\n",
    "\tagg.columns = names\n",
    "\t# drop rows with NaN values\n",
    "\tif dropnan:\n",
    "\t\tagg.dropna(inplace=True)\n",
    "\treturn agg"
   ]
  },
  {
   "cell_type": "code",
   "execution_count": 93,
   "metadata": {},
   "outputs": [],
   "source": [
    "# transform series into train and test sets for supervised learning\n",
    "def prepare_data(series, n_test, n_lag, n_seq):\n",
    "\t# extract raw values\n",
    "\traw_values = series.values\n",
    "\traw_values = raw_values.reshape(len(raw_values), 1)\n",
    "\t# transform into supervised learning problem X, y\n",
    "\tsupervised = series_to_supervised(raw_values, n_lag, n_seq)\n",
    "\tprint(supervised)\n",
    "\tsupervised_values = supervised.values\n",
    "\t# split into train and test sets\n",
    "\ttrain, test = supervised_values[0:-n_test], supervised_values[-n_test:]\n",
    "\treturn train, test\n"
   ]
  },
  {
   "cell_type": "code",
   "execution_count": 94,
   "metadata": {},
   "outputs": [
    {
     "name": "stdout",
     "output_type": "stream",
     "text": [
      "      var1(t-60)  var1(t-59)  var1(t-58)  var1(t-57)  var1(t-56)  var1(t-55)  \\\n",
      "60       22.5807     23.7097     24.8952     26.1372     27.4356     28.7904   \n",
      "61       23.7097     24.8952     26.1372     27.4356     28.7904     27.3791   \n",
      "62       24.8952     26.1372     27.4356     28.7904     27.3791     26.0243   \n",
      "63       26.1372     27.4356     28.7904     27.3791     26.0243     24.7259   \n",
      "64       27.4356     28.7904     27.3791     26.0243     24.7259     25.9114   \n",
      "...          ...         ...         ...         ...         ...         ...   \n",
      "3456     45.8195     46.1132     46.2111     46.0153     46.5048     46.9454   \n",
      "3457     46.1132     46.2111     46.0153     46.5048     46.9454     46.7985   \n",
      "3458     46.2111     46.0153     46.5048     46.9454     46.7985     47.0000   \n",
      "3459     46.0153     46.5048     46.9454     46.7985     47.0000     46.8500   \n",
      "3460     46.5048     46.9454     46.7985     47.0000     46.8500     46.8500   \n",
      "\n",
      "      var1(t-54)  var1(t-53)  var1(t-52)  var1(t-51)  ...  var1(t+20)  \\\n",
      "60       27.3791     26.0243     24.7259     25.9114  ...     29.3813   \n",
      "61       26.0243     24.7259     25.9114     27.0969  ...     29.6639   \n",
      "62       24.7259     25.9114     27.0969     27.0969  ...     29.0988   \n",
      "63       25.9114     27.0969     27.0969     25.9678  ...     29.3813   \n",
      "64       27.0969     27.0969     25.9678     24.8388  ...     28.5338   \n",
      "...          ...         ...         ...         ...  ...         ...   \n",
      "3456     46.7985     47.0000     46.8500     46.8500  ...     56.2000   \n",
      "3457     47.0000     46.8500     46.8500     47.0500  ...     55.4000   \n",
      "3458     46.8500     46.8500     47.0500     47.4000  ...     55.2000   \n",
      "3459     46.8500     47.0500     47.4000     48.4500  ...     55.6000   \n",
      "3460     47.0500     47.4000     48.4500     48.8500  ...     55.6000   \n",
      "\n",
      "      var1(t+21)  var1(t+22)  var1(t+23)  var1(t+24)  var1(t+25)  var1(t+26)  \\\n",
      "60       29.6639     29.0988     29.3813     28.5338     27.1212     25.7652   \n",
      "61       29.0988     29.3813     28.5338     27.1212     25.7652     24.5221   \n",
      "62       29.3813     28.5338     27.1212     25.7652     24.5221     24.0136   \n",
      "63       28.5338     27.1212     25.7652     24.5221     24.0136     24.4656   \n",
      "64       27.1212     25.7652     24.5221     24.0136     24.4656     24.9741   \n",
      "...          ...         ...         ...         ...         ...         ...   \n",
      "3456     55.4000     55.2000     55.6000     55.6000     55.7000     55.7000   \n",
      "3457     55.2000     55.6000     55.6000     55.7000     55.7000     56.2000   \n",
      "3458     55.6000     55.6000     55.7000     55.7000     56.2000     57.5000   \n",
      "3459     55.6000     55.7000     55.7000     56.2000     57.5000     56.5000   \n",
      "3460     55.7000     55.7000     56.2000     57.5000     56.5000     57.0000   \n",
      "\n",
      "      var1(t+27)  var1(t+28)  var1(t+29)  \n",
      "60       24.5221     24.0136     24.4656  \n",
      "61       24.0136     24.4656     24.9741  \n",
      "62       24.4656     24.9741     26.2172  \n",
      "63       24.9741     26.2172     27.5168  \n",
      "64       26.2172     27.5168     28.2513  \n",
      "...          ...         ...         ...  \n",
      "3456     56.2000     57.5000     56.5000  \n",
      "3457     57.5000     56.5000     57.0000  \n",
      "3458     56.5000     57.0000     57.2000  \n",
      "3459     57.0000     57.2000     56.7000  \n",
      "3460     57.2000     56.7000     57.1000  \n",
      "\n",
      "[3401 rows x 90 columns]\n",
      "[[22.5807 23.7097 24.8952 ... 24.5221 24.0136 24.4656]\n",
      " [23.7097 24.8952 26.1372 ... 24.0136 24.4656 24.9741]\n",
      " [24.8952 26.1372 27.4356 ... 24.4656 24.9741 26.2172]\n",
      " ...\n",
      " [47.0512 47.1347 48.639  ... 46.0483 46.5497 46.7169]\n",
      " [47.1347 48.639  48.4719 ... 46.5497 46.7169 46.3826]\n",
      " [48.639  48.4719 48.5555 ... 46.7169 46.3826 45.6304]]\n",
      "Train: (3201, 90), Test: (200, 90)\n"
     ]
    }
   ],
   "source": [
    "n_lag = 60\n",
    "n_seq = 30\n",
    "n_test = 200\n",
    "train, test = prepare_data(close_prices, n_test, n_lag, n_seq)\n",
    "print(train)\n",
    "print('Train: %s, Test: %s' % (train.shape, test.shape))"
   ]
  },
  {
   "cell_type": "code",
   "execution_count": 95,
   "metadata": {},
   "outputs": [],
   "source": [
    "# make a persistence forecast\n",
    "def persistence(last_ob, n_seq):\n",
    "\treturn [last_ob for i in range(n_seq)]"
   ]
  },
  {
   "cell_type": "code",
   "execution_count": 96,
   "metadata": {},
   "outputs": [],
   "source": [
    "# evaluate the persistence model\n",
    "def make_forecasts(train, test, n_lag, n_seq):\n",
    "\tforecasts = list()\n",
    "\tfor i in range(len(test)):\n",
    "\t\tX, y = test[i, 0:n_lag], test[i, n_lag:]\n",
    "\t\t# make forecast\n",
    "\t\tforecast = persistence(X[-1], n_seq)\n",
    "\t\t# store the forecast\n",
    "\t\tforecasts.append(forecast)\n",
    "\treturn forecasts"
   ]
  },
  {
   "cell_type": "code",
   "execution_count": 97,
   "metadata": {
    "collapsed": true,
    "jupyter": {
     "outputs_hidden": true
    }
   },
   "outputs": [
    {
     "name": "stdout",
     "output_type": "stream",
     "text": [
      "[[48.1376, 48.1376, 48.1376, 48.1376, 48.1376, 48.1376, 48.1376, 48.1376, 48.1376, 48.1376, 48.1376, 48.1376, 48.1376, 48.1376, 48.1376, 48.1376, 48.1376, 48.1376, 48.1376, 48.1376, 48.1376, 48.1376, 48.1376, 48.1376, 48.1376, 48.1376, 48.1376, 48.1376, 48.1376, 48.1376], [47.9704, 47.9704, 47.9704, 47.9704, 47.9704, 47.9704, 47.9704, 47.9704, 47.9704, 47.9704, 47.9704, 47.9704, 47.9704, 47.9704, 47.9704, 47.9704, 47.9704, 47.9704, 47.9704, 47.9704, 47.9704, 47.9704, 47.9704, 47.9704, 47.9704, 47.9704, 47.9704, 47.9704, 47.9704, 47.9704], [46.3826, 46.3826, 46.3826, 46.3826, 46.3826, 46.3826, 46.3826, 46.3826, 46.3826, 46.3826, 46.3826, 46.3826, 46.3826, 46.3826, 46.3826, 46.3826, 46.3826, 46.3826, 46.3826, 46.3826, 46.3826, 46.3826, 46.3826, 46.3826, 46.3826, 46.3826, 46.3826, 46.3826, 46.3826, 46.3826], [47.2183, 47.2183, 47.2183, 47.2183, 47.2183, 47.2183, 47.2183, 47.2183, 47.2183, 47.2183, 47.2183, 47.2183, 47.2183, 47.2183, 47.2183, 47.2183, 47.2183, 47.2183, 47.2183, 47.2183, 47.2183, 47.2183, 47.2183, 47.2183, 47.2183, 47.2183, 47.2183, 47.2183, 47.2183, 47.2183], [45.714, 45.714, 45.714, 45.714, 45.714, 45.714, 45.714, 45.714, 45.714, 45.714, 45.714, 45.714, 45.714, 45.714, 45.714, 45.714, 45.714, 45.714, 45.714, 45.714, 45.714, 45.714, 45.714, 45.714, 45.714, 45.714, 45.714, 45.714, 45.714, 45.714], [43.4575, 43.4575, 43.4575, 43.4575, 43.4575, 43.4575, 43.4575, 43.4575, 43.4575, 43.4575, 43.4575, 43.4575, 43.4575, 43.4575, 43.4575, 43.4575, 43.4575, 43.4575, 43.4575, 43.4575, 43.4575, 43.4575, 43.4575, 43.4575, 43.4575, 43.4575, 43.4575, 43.4575, 43.4575, 43.4575], [43.0397, 43.0397, 43.0397, 43.0397, 43.0397, 43.0397, 43.0397, 43.0397, 43.0397, 43.0397, 43.0397, 43.0397, 43.0397, 43.0397, 43.0397, 43.0397, 43.0397, 43.0397, 43.0397, 43.0397, 43.0397, 43.0397, 43.0397, 43.0397, 43.0397, 43.0397, 43.0397, 43.0397, 43.0397, 43.0397], [43.2904, 43.2904, 43.2904, 43.2904, 43.2904, 43.2904, 43.2904, 43.2904, 43.2904, 43.2904, 43.2904, 43.2904, 43.2904, 43.2904, 43.2904, 43.2904, 43.2904, 43.2904, 43.2904, 43.2904, 43.2904, 43.2904, 43.2904, 43.2904, 43.2904, 43.2904, 43.2904, 43.2904, 43.2904, 43.2904], [43.4575, 43.4575, 43.4575, 43.4575, 43.4575, 43.4575, 43.4575, 43.4575, 43.4575, 43.4575, 43.4575, 43.4575, 43.4575, 43.4575, 43.4575, 43.4575, 43.4575, 43.4575, 43.4575, 43.4575, 43.4575, 43.4575, 43.4575, 43.4575, 43.4575, 43.4575, 43.4575, 43.4575, 43.4575, 43.4575], [44.7947, 44.7947, 44.7947, 44.7947, 44.7947, 44.7947, 44.7947, 44.7947, 44.7947, 44.7947, 44.7947, 44.7947, 44.7947, 44.7947, 44.7947, 44.7947, 44.7947, 44.7947, 44.7947, 44.7947, 44.7947, 44.7947, 44.7947, 44.7947, 44.7947, 44.7947, 44.7947, 44.7947, 44.7947, 44.7947], [44.544, 44.544, 44.544, 44.544, 44.544, 44.544, 44.544, 44.544, 44.544, 44.544, 44.544, 44.544, 44.544, 44.544, 44.544, 44.544, 44.544, 44.544, 44.544, 44.544, 44.544, 44.544, 44.544, 44.544, 44.544, 44.544, 44.544, 44.544, 44.544, 44.544], [43.959, 43.959, 43.959, 43.959, 43.959, 43.959, 43.959, 43.959, 43.959, 43.959, 43.959, 43.959, 43.959, 43.959, 43.959, 43.959, 43.959, 43.959, 43.959, 43.959, 43.959, 43.959, 43.959, 43.959, 43.959, 43.959, 43.959, 43.959, 43.959, 43.959], [44.7947, 44.7947, 44.7947, 44.7947, 44.7947, 44.7947, 44.7947, 44.7947, 44.7947, 44.7947, 44.7947, 44.7947, 44.7947, 44.7947, 44.7947, 44.7947, 44.7947, 44.7947, 44.7947, 44.7947, 44.7947, 44.7947, 44.7947, 44.7947, 44.7947, 44.7947, 44.7947, 44.7947, 44.7947, 44.7947], [45.2126, 45.2126, 45.2126, 45.2126, 45.2126, 45.2126, 45.2126, 45.2126, 45.2126, 45.2126, 45.2126, 45.2126, 45.2126, 45.2126, 45.2126, 45.2126, 45.2126, 45.2126, 45.2126, 45.2126, 45.2126, 45.2126, 45.2126, 45.2126, 45.2126, 45.2126, 45.2126, 45.2126, 45.2126, 45.2126], [45.3797, 45.3797, 45.3797, 45.3797, 45.3797, 45.3797, 45.3797, 45.3797, 45.3797, 45.3797, 45.3797, 45.3797, 45.3797, 45.3797, 45.3797, 45.3797, 45.3797, 45.3797, 45.3797, 45.3797, 45.3797, 45.3797, 45.3797, 45.3797, 45.3797, 45.3797, 45.3797, 45.3797, 45.3797, 45.3797], [45.5469, 45.5469, 45.5469, 45.5469, 45.5469, 45.5469, 45.5469, 45.5469, 45.5469, 45.5469, 45.5469, 45.5469, 45.5469, 45.5469, 45.5469, 45.5469, 45.5469, 45.5469, 45.5469, 45.5469, 45.5469, 45.5469, 45.5469, 45.5469, 45.5469, 45.5469, 45.5469, 45.5469, 45.5469, 45.5469], [45.2961, 45.2961, 45.2961, 45.2961, 45.2961, 45.2961, 45.2961, 45.2961, 45.2961, 45.2961, 45.2961, 45.2961, 45.2961, 45.2961, 45.2961, 45.2961, 45.2961, 45.2961, 45.2961, 45.2961, 45.2961, 45.2961, 45.2961, 45.2961, 45.2961, 45.2961, 45.2961, 45.2961, 45.2961, 45.2961], [46.8004, 46.8004, 46.8004, 46.8004, 46.8004, 46.8004, 46.8004, 46.8004, 46.8004, 46.8004, 46.8004, 46.8004, 46.8004, 46.8004, 46.8004, 46.8004, 46.8004, 46.8004, 46.8004, 46.8004, 46.8004, 46.8004, 46.8004, 46.8004, 46.8004, 46.8004, 46.8004, 46.8004, 46.8004, 46.8004], [46.5497, 46.5497, 46.5497, 46.5497, 46.5497, 46.5497, 46.5497, 46.5497, 46.5497, 46.5497, 46.5497, 46.5497, 46.5497, 46.5497, 46.5497, 46.5497, 46.5497, 46.5497, 46.5497, 46.5497, 46.5497, 46.5497, 46.5497, 46.5497, 46.5497, 46.5497, 46.5497, 46.5497, 46.5497, 46.5497], [46.6333, 46.6333, 46.6333, 46.6333, 46.6333, 46.6333, 46.6333, 46.6333, 46.6333, 46.6333, 46.6333, 46.6333, 46.6333, 46.6333, 46.6333, 46.6333, 46.6333, 46.6333, 46.6333, 46.6333, 46.6333, 46.6333, 46.6333, 46.6333, 46.6333, 46.6333, 46.6333, 46.6333, 46.6333, 46.6333], [45.714, 45.714, 45.714, 45.714, 45.714, 45.714, 45.714, 45.714, 45.714, 45.714, 45.714, 45.714, 45.714, 45.714, 45.714, 45.714, 45.714, 45.714, 45.714, 45.714, 45.714, 45.714, 45.714, 45.714, 45.714, 45.714, 45.714, 45.714, 45.714, 45.714], [43.8754, 43.8754, 43.8754, 43.8754, 43.8754, 43.8754, 43.8754, 43.8754, 43.8754, 43.8754, 43.8754, 43.8754, 43.8754, 43.8754, 43.8754, 43.8754, 43.8754, 43.8754, 43.8754, 43.8754, 43.8754, 43.8754, 43.8754, 43.8754, 43.8754, 43.8754, 43.8754, 43.8754, 43.8754, 43.8754], [45.129, 45.129, 45.129, 45.129, 45.129, 45.129, 45.129, 45.129, 45.129, 45.129, 45.129, 45.129, 45.129, 45.129, 45.129, 45.129, 45.129, 45.129, 45.129, 45.129, 45.129, 45.129, 45.129, 45.129, 45.129, 45.129, 45.129, 45.129, 45.129, 45.129], [45.9647, 45.9647, 45.9647, 45.9647, 45.9647, 45.9647, 45.9647, 45.9647, 45.9647, 45.9647, 45.9647, 45.9647, 45.9647, 45.9647, 45.9647, 45.9647, 45.9647, 45.9647, 45.9647, 45.9647, 45.9647, 45.9647, 45.9647, 45.9647, 45.9647, 45.9647, 45.9647, 45.9647, 45.9647, 45.9647], [46.8004, 46.8004, 46.8004, 46.8004, 46.8004, 46.8004, 46.8004, 46.8004, 46.8004, 46.8004, 46.8004, 46.8004, 46.8004, 46.8004, 46.8004, 46.8004, 46.8004, 46.8004, 46.8004, 46.8004, 46.8004, 46.8004, 46.8004, 46.8004, 46.8004, 46.8004, 46.8004, 46.8004, 46.8004, 46.8004], [46.0483, 46.0483, 46.0483, 46.0483, 46.0483, 46.0483, 46.0483, 46.0483, 46.0483, 46.0483, 46.0483, 46.0483, 46.0483, 46.0483, 46.0483, 46.0483, 46.0483, 46.0483, 46.0483, 46.0483, 46.0483, 46.0483, 46.0483, 46.0483, 46.0483, 46.0483, 46.0483, 46.0483, 46.0483, 46.0483], [46.5497, 46.5497, 46.5497, 46.5497, 46.5497, 46.5497, 46.5497, 46.5497, 46.5497, 46.5497, 46.5497, 46.5497, 46.5497, 46.5497, 46.5497, 46.5497, 46.5497, 46.5497, 46.5497, 46.5497, 46.5497, 46.5497, 46.5497, 46.5497, 46.5497, 46.5497, 46.5497, 46.5497, 46.5497, 46.5497], [46.7169, 46.7169, 46.7169, 46.7169, 46.7169, 46.7169, 46.7169, 46.7169, 46.7169, 46.7169, 46.7169, 46.7169, 46.7169, 46.7169, 46.7169, 46.7169, 46.7169, 46.7169, 46.7169, 46.7169, 46.7169, 46.7169, 46.7169, 46.7169, 46.7169, 46.7169, 46.7169, 46.7169, 46.7169, 46.7169], [46.3826, 46.3826, 46.3826, 46.3826, 46.3826, 46.3826, 46.3826, 46.3826, 46.3826, 46.3826, 46.3826, 46.3826, 46.3826, 46.3826, 46.3826, 46.3826, 46.3826, 46.3826, 46.3826, 46.3826, 46.3826, 46.3826, 46.3826, 46.3826, 46.3826, 46.3826, 46.3826, 46.3826, 46.3826, 46.3826], [45.6304, 45.6304, 45.6304, 45.6304, 45.6304, 45.6304, 45.6304, 45.6304, 45.6304, 45.6304, 45.6304, 45.6304, 45.6304, 45.6304, 45.6304, 45.6304, 45.6304, 45.6304, 45.6304, 45.6304, 45.6304, 45.6304, 45.6304, 45.6304, 45.6304, 45.6304, 45.6304, 45.6304, 45.6304, 45.6304], [45.129, 45.129, 45.129, 45.129, 45.129, 45.129, 45.129, 45.129, 45.129, 45.129, 45.129, 45.129, 45.129, 45.129, 45.129, 45.129, 45.129, 45.129, 45.129, 45.129, 45.129, 45.129, 45.129, 45.129, 45.129, 45.129, 45.129, 45.129, 45.129, 45.129], [42.0368, 42.0368, 42.0368, 42.0368, 42.0368, 42.0368, 42.0368, 42.0368, 42.0368, 42.0368, 42.0368, 42.0368, 42.0368, 42.0368, 42.0368, 42.0368, 42.0368, 42.0368, 42.0368, 42.0368, 42.0368, 42.0368, 42.0368, 42.0368, 42.0368, 42.0368, 42.0368, 42.0368, 42.0368, 42.0368], [43.2068, 43.2068, 43.2068, 43.2068, 43.2068, 43.2068, 43.2068, 43.2068, 43.2068, 43.2068, 43.2068, 43.2068, 43.2068, 43.2068, 43.2068, 43.2068, 43.2068, 43.2068, 43.2068, 43.2068, 43.2068, 43.2068, 43.2068, 43.2068, 43.2068, 43.2068, 43.2068, 43.2068, 43.2068, 43.2068], [42.4547, 42.4547, 42.4547, 42.4547, 42.4547, 42.4547, 42.4547, 42.4547, 42.4547, 42.4547, 42.4547, 42.4547, 42.4547, 42.4547, 42.4547, 42.4547, 42.4547, 42.4547, 42.4547, 42.4547, 42.4547, 42.4547, 42.4547, 42.4547, 42.4547, 42.4547, 42.4547, 42.4547, 42.4547, 42.4547], [40.1982, 40.1982, 40.1982, 40.1982, 40.1982, 40.1982, 40.1982, 40.1982, 40.1982, 40.1982, 40.1982, 40.1982, 40.1982, 40.1982, 40.1982, 40.1982, 40.1982, 40.1982, 40.1982, 40.1982, 40.1982, 40.1982, 40.1982, 40.1982, 40.1982, 40.1982, 40.1982, 40.1982, 40.1982, 40.1982], [40.24, 40.24, 40.24, 40.24, 40.24, 40.24, 40.24, 40.24, 40.24, 40.24, 40.24, 40.24, 40.24, 40.24, 40.24, 40.24, 40.24, 40.24, 40.24, 40.24, 40.24, 40.24, 40.24, 40.24, 40.24, 40.24, 40.24, 40.24, 40.24, 40.24], [39.7804, 39.7804, 39.7804, 39.7804, 39.7804, 39.7804, 39.7804, 39.7804, 39.7804, 39.7804, 39.7804, 39.7804, 39.7804, 39.7804, 39.7804, 39.7804, 39.7804, 39.7804, 39.7804, 39.7804, 39.7804, 39.7804, 39.7804, 39.7804, 39.7804, 39.7804, 39.7804, 39.7804, 39.7804, 39.7804], [40.5325, 40.5325, 40.5325, 40.5325, 40.5325, 40.5325, 40.5325, 40.5325, 40.5325, 40.5325, 40.5325, 40.5325, 40.5325, 40.5325, 40.5325, 40.5325, 40.5325, 40.5325, 40.5325, 40.5325, 40.5325, 40.5325, 40.5325, 40.5325, 40.5325, 40.5325, 40.5325, 40.5325, 40.5325, 40.5325], [40.4489, 40.4489, 40.4489, 40.4489, 40.4489, 40.4489, 40.4489, 40.4489, 40.4489, 40.4489, 40.4489, 40.4489, 40.4489, 40.4489, 40.4489, 40.4489, 40.4489, 40.4489, 40.4489, 40.4489, 40.4489, 40.4489, 40.4489, 40.4489, 40.4489, 40.4489, 40.4489, 40.4489, 40.4489, 40.4489], [39.8639, 39.8639, 39.8639, 39.8639, 39.8639, 39.8639, 39.8639, 39.8639, 39.8639, 39.8639, 39.8639, 39.8639, 39.8639, 39.8639, 39.8639, 39.8639, 39.8639, 39.8639, 39.8639, 39.8639, 39.8639, 39.8639, 39.8639, 39.8639, 39.8639, 39.8639, 39.8639, 39.8639, 39.8639, 39.8639], [39.8639, 39.8639, 39.8639, 39.8639, 39.8639, 39.8639, 39.8639, 39.8639, 39.8639, 39.8639, 39.8639, 39.8639, 39.8639, 39.8639, 39.8639, 39.8639, 39.8639, 39.8639, 39.8639, 39.8639, 39.8639, 39.8639, 39.8639, 39.8639, 39.8639, 39.8639, 39.8639, 39.8639, 39.8639, 39.8639], [37.1061, 37.1061, 37.1061, 37.1061, 37.1061, 37.1061, 37.1061, 37.1061, 37.1061, 37.1061, 37.1061, 37.1061, 37.1061, 37.1061, 37.1061, 37.1061, 37.1061, 37.1061, 37.1061, 37.1061, 37.1061, 37.1061, 37.1061, 37.1061, 37.1061, 37.1061, 37.1061, 37.1061, 37.1061, 37.1061], [37.1896, 37.1896, 37.1896, 37.1896, 37.1896, 37.1896, 37.1896, 37.1896, 37.1896, 37.1896, 37.1896, 37.1896, 37.1896, 37.1896, 37.1896, 37.1896, 37.1896, 37.1896, 37.1896, 37.1896, 37.1896, 37.1896, 37.1896, 37.1896, 37.1896, 37.1896, 37.1896, 37.1896, 37.1896, 37.1896], [38.4432, 38.4432, 38.4432, 38.4432, 38.4432, 38.4432, 38.4432, 38.4432, 38.4432, 38.4432, 38.4432, 38.4432, 38.4432, 38.4432, 38.4432, 38.4432, 38.4432, 38.4432, 38.4432, 38.4432, 38.4432, 38.4432, 38.4432, 38.4432, 38.4432, 38.4432, 38.4432, 38.4432, 38.4432, 38.4432], [36.9389, 36.9389, 36.9389, 36.9389, 36.9389, 36.9389, 36.9389, 36.9389, 36.9389, 36.9389, 36.9389, 36.9389, 36.9389, 36.9389, 36.9389, 36.9389, 36.9389, 36.9389, 36.9389, 36.9389, 36.9389, 36.9389, 36.9389, 36.9389, 36.9389, 36.9389, 36.9389, 36.9389, 36.9389, 36.9389], [36.0196, 36.0196, 36.0196, 36.0196, 36.0196, 36.0196, 36.0196, 36.0196, 36.0196, 36.0196, 36.0196, 36.0196, 36.0196, 36.0196, 36.0196, 36.0196, 36.0196, 36.0196, 36.0196, 36.0196, 36.0196, 36.0196, 36.0196, 36.0196, 36.0196, 36.0196, 36.0196, 36.0196, 36.0196, 36.0196], [33.7632, 33.7632, 33.7632, 33.7632, 33.7632, 33.7632, 33.7632, 33.7632, 33.7632, 33.7632, 33.7632, 33.7632, 33.7632, 33.7632, 33.7632, 33.7632, 33.7632, 33.7632, 33.7632, 33.7632, 33.7632, 33.7632, 33.7632, 33.7632, 33.7632, 33.7632, 33.7632, 33.7632, 33.7632, 33.7632], [34.3482, 34.3482, 34.3482, 34.3482, 34.3482, 34.3482, 34.3482, 34.3482, 34.3482, 34.3482, 34.3482, 34.3482, 34.3482, 34.3482, 34.3482, 34.3482, 34.3482, 34.3482, 34.3482, 34.3482, 34.3482, 34.3482, 34.3482, 34.3482, 34.3482, 34.3482, 34.3482, 34.3482, 34.3482, 34.3482], [35.351, 35.351, 35.351, 35.351, 35.351, 35.351, 35.351, 35.351, 35.351, 35.351, 35.351, 35.351, 35.351, 35.351, 35.351, 35.351, 35.351, 35.351, 35.351, 35.351, 35.351, 35.351, 35.351, 35.351, 35.351, 35.351, 35.351, 35.351, 35.351, 35.351], [37.2732, 37.2732, 37.2732, 37.2732, 37.2732, 37.2732, 37.2732, 37.2732, 37.2732, 37.2732, 37.2732, 37.2732, 37.2732, 37.2732, 37.2732, 37.2732, 37.2732, 37.2732, 37.2732, 37.2732, 37.2732, 37.2732, 37.2732, 37.2732, 37.2732, 37.2732, 37.2732, 37.2732, 37.2732, 37.2732], [39.6968, 39.6968, 39.6968, 39.6968, 39.6968, 39.6968, 39.6968, 39.6968, 39.6968, 39.6968, 39.6968, 39.6968, 39.6968, 39.6968, 39.6968, 39.6968, 39.6968, 39.6968, 39.6968, 39.6968, 39.6968, 39.6968, 39.6968, 39.6968, 39.6968, 39.6968, 39.6968, 39.6968, 39.6968, 39.6968], [39.5297, 39.5297, 39.5297, 39.5297, 39.5297, 39.5297, 39.5297, 39.5297, 39.5297, 39.5297, 39.5297, 39.5297, 39.5297, 39.5297, 39.5297, 39.5297, 39.5297, 39.5297, 39.5297, 39.5297, 39.5297, 39.5297, 39.5297, 39.5297, 39.5297, 39.5297, 39.5297, 39.5297, 39.5297, 39.5297], [39.1536, 39.1536, 39.1536, 39.1536, 39.1536, 39.1536, 39.1536, 39.1536, 39.1536, 39.1536, 39.1536, 39.1536, 39.1536, 39.1536, 39.1536, 39.1536, 39.1536, 39.1536, 39.1536, 39.1536, 39.1536, 39.1536, 39.1536, 39.1536, 39.1536, 39.1536, 39.1536, 39.1536, 39.1536, 39.1536], [39.1536, 39.1536, 39.1536, 39.1536, 39.1536, 39.1536, 39.1536, 39.1536, 39.1536, 39.1536, 39.1536, 39.1536, 39.1536, 39.1536, 39.1536, 39.1536, 39.1536, 39.1536, 39.1536, 39.1536, 39.1536, 39.1536, 39.1536, 39.1536, 39.1536, 39.1536, 39.1536, 39.1536, 39.1536, 39.1536], [38.7775, 38.7775, 38.7775, 38.7775, 38.7775, 38.7775, 38.7775, 38.7775, 38.7775, 38.7775, 38.7775, 38.7775, 38.7775, 38.7775, 38.7775, 38.7775, 38.7775, 38.7775, 38.7775, 38.7775, 38.7775, 38.7775, 38.7775, 38.7775, 38.7775, 38.7775, 38.7775, 38.7775, 38.7775, 38.7775], [38.8611, 38.8611, 38.8611, 38.8611, 38.8611, 38.8611, 38.8611, 38.8611, 38.8611, 38.8611, 38.8611, 38.8611, 38.8611, 38.8611, 38.8611, 38.8611, 38.8611, 38.8611, 38.8611, 38.8611, 38.8611, 38.8611, 38.8611, 38.8611, 38.8611, 38.8611, 38.8611, 38.8611, 38.8611, 38.8611], [41.3682, 41.3682, 41.3682, 41.3682, 41.3682, 41.3682, 41.3682, 41.3682, 41.3682, 41.3682, 41.3682, 41.3682, 41.3682, 41.3682, 41.3682, 41.3682, 41.3682, 41.3682, 41.3682, 41.3682, 41.3682, 41.3682, 41.3682, 41.3682, 41.3682, 41.3682, 41.3682, 41.3682, 41.3682, 41.3682], [41.8697, 41.8697, 41.8697, 41.8697, 41.8697, 41.8697, 41.8697, 41.8697, 41.8697, 41.8697, 41.8697, 41.8697, 41.8697, 41.8697, 41.8697, 41.8697, 41.8697, 41.8697, 41.8697, 41.8697, 41.8697, 41.8697, 41.8697, 41.8697, 41.8697, 41.8697, 41.8697, 41.8697, 41.8697, 41.8697], [42.0368, 42.0368, 42.0368, 42.0368, 42.0368, 42.0368, 42.0368, 42.0368, 42.0368, 42.0368, 42.0368, 42.0368, 42.0368, 42.0368, 42.0368, 42.0368, 42.0368, 42.0368, 42.0368, 42.0368, 42.0368, 42.0368, 42.0368, 42.0368, 42.0368, 42.0368, 42.0368, 42.0368, 42.0368, 42.0368], [42.789, 42.789, 42.789, 42.789, 42.789, 42.789, 42.789, 42.789, 42.789, 42.789, 42.789, 42.789, 42.789, 42.789, 42.789, 42.789, 42.789, 42.789, 42.789, 42.789, 42.789, 42.789, 42.789, 42.789, 42.789, 42.789, 42.789, 42.789, 42.789, 42.789], [42.8725, 42.8725, 42.8725, 42.8725, 42.8725, 42.8725, 42.8725, 42.8725, 42.8725, 42.8725, 42.8725, 42.8725, 42.8725, 42.8725, 42.8725, 42.8725, 42.8725, 42.8725, 42.8725, 42.8725, 42.8725, 42.8725, 42.8725, 42.8725, 42.8725, 42.8725, 42.8725, 42.8725, 42.8725, 42.8725], [41.2011, 41.2011, 41.2011, 41.2011, 41.2011, 41.2011, 41.2011, 41.2011, 41.2011, 41.2011, 41.2011, 41.2011, 41.2011, 41.2011, 41.2011, 41.2011, 41.2011, 41.2011, 41.2011, 41.2011, 41.2011, 41.2011, 41.2011, 41.2011, 41.2011, 41.2011, 41.2011, 41.2011, 41.2011, 41.2011], [42.7054, 42.7054, 42.7054, 42.7054, 42.7054, 42.7054, 42.7054, 42.7054, 42.7054, 42.7054, 42.7054, 42.7054, 42.7054, 42.7054, 42.7054, 42.7054, 42.7054, 42.7054, 42.7054, 42.7054, 42.7054, 42.7054, 42.7054, 42.7054, 42.7054, 42.7054, 42.7054, 42.7054, 42.7054, 42.7054], [42.6218, 42.6218, 42.6218, 42.6218, 42.6218, 42.6218, 42.6218, 42.6218, 42.6218, 42.6218, 42.6218, 42.6218, 42.6218, 42.6218, 42.6218, 42.6218, 42.6218, 42.6218, 42.6218, 42.6218, 42.6218, 42.6218, 42.6218, 42.6218, 42.6218, 42.6218, 42.6218, 42.6218, 42.6218, 42.6218], [42.6218, 42.6218, 42.6218, 42.6218, 42.6218, 42.6218, 42.6218, 42.6218, 42.6218, 42.6218, 42.6218, 42.6218, 42.6218, 42.6218, 42.6218, 42.6218, 42.6218, 42.6218, 42.6218, 42.6218, 42.6218, 42.6218, 42.6218, 42.6218, 42.6218, 42.6218, 42.6218, 42.6218, 42.6218, 42.6218], [42.3711, 42.3711, 42.3711, 42.3711, 42.3711, 42.3711, 42.3711, 42.3711, 42.3711, 42.3711, 42.3711, 42.3711, 42.3711, 42.3711, 42.3711, 42.3711, 42.3711, 42.3711, 42.3711, 42.3711, 42.3711, 42.3711, 42.3711, 42.3711, 42.3711, 42.3711, 42.3711, 42.3711, 42.3711, 42.3711], [42.3711, 42.3711, 42.3711, 42.3711, 42.3711, 42.3711, 42.3711, 42.3711, 42.3711, 42.3711, 42.3711, 42.3711, 42.3711, 42.3711, 42.3711, 42.3711, 42.3711, 42.3711, 42.3711, 42.3711, 42.3711, 42.3711, 42.3711, 42.3711, 42.3711, 42.3711, 42.3711, 42.3711, 42.3711, 42.3711], [42.4547, 42.4547, 42.4547, 42.4547, 42.4547, 42.4547, 42.4547, 42.4547, 42.4547, 42.4547, 42.4547, 42.4547, 42.4547, 42.4547, 42.4547, 42.4547, 42.4547, 42.4547, 42.4547, 42.4547, 42.4547, 42.4547, 42.4547, 42.4547, 42.4547, 42.4547, 42.4547, 42.4547, 42.4547, 42.4547], [42.204, 42.204, 42.204, 42.204, 42.204, 42.204, 42.204, 42.204, 42.204, 42.204, 42.204, 42.204, 42.204, 42.204, 42.204, 42.204, 42.204, 42.204, 42.204, 42.204, 42.204, 42.204, 42.204, 42.204, 42.204, 42.204, 42.204, 42.204, 42.204, 42.204], [42.5383, 42.5383, 42.5383, 42.5383, 42.5383, 42.5383, 42.5383, 42.5383, 42.5383, 42.5383, 42.5383, 42.5383, 42.5383, 42.5383, 42.5383, 42.5383, 42.5383, 42.5383, 42.5383, 42.5383, 42.5383, 42.5383, 42.5383, 42.5383, 42.5383, 42.5383, 42.5383, 42.5383, 42.5383, 42.5383], [44.2097, 44.2097, 44.2097, 44.2097, 44.2097, 44.2097, 44.2097, 44.2097, 44.2097, 44.2097, 44.2097, 44.2097, 44.2097, 44.2097, 44.2097, 44.2097, 44.2097, 44.2097, 44.2097, 44.2097, 44.2097, 44.2097, 44.2097, 44.2097, 44.2097, 44.2097, 44.2097, 44.2097, 44.2097, 44.2097], [44.7111, 44.7111, 44.7111, 44.7111, 44.7111, 44.7111, 44.7111, 44.7111, 44.7111, 44.7111, 44.7111, 44.7111, 44.7111, 44.7111, 44.7111, 44.7111, 44.7111, 44.7111, 44.7111, 44.7111, 44.7111, 44.7111, 44.7111, 44.7111, 44.7111, 44.7111, 44.7111, 44.7111, 44.7111, 44.7111], [44.8783, 44.8783, 44.8783, 44.8783, 44.8783, 44.8783, 44.8783, 44.8783, 44.8783, 44.8783, 44.8783, 44.8783, 44.8783, 44.8783, 44.8783, 44.8783, 44.8783, 44.8783, 44.8783, 44.8783, 44.8783, 44.8783, 44.8783, 44.8783, 44.8783, 44.8783, 44.8783, 44.8783, 44.8783, 44.8783], [45.129, 45.129, 45.129, 45.129, 45.129, 45.129, 45.129, 45.129, 45.129, 45.129, 45.129, 45.129, 45.129, 45.129, 45.129, 45.129, 45.129, 45.129, 45.129, 45.129, 45.129, 45.129, 45.129, 45.129, 45.129, 45.129, 45.129, 45.129, 45.129, 45.129], [45.4633, 45.4633, 45.4633, 45.4633, 45.4633, 45.4633, 45.4633, 45.4633, 45.4633, 45.4633, 45.4633, 45.4633, 45.4633, 45.4633, 45.4633, 45.4633, 45.4633, 45.4633, 45.4633, 45.4633, 45.4633, 45.4633, 45.4633, 45.4633, 45.4633, 45.4633, 45.4633, 45.4633, 45.4633, 45.4633], [48.316, 48.316, 48.316, 48.316, 48.316, 48.316, 48.316, 48.316, 48.316, 48.316, 48.316, 48.316, 48.316, 48.316, 48.316, 48.316, 48.316, 48.316, 48.316, 48.316, 48.316, 48.316, 48.316, 48.316, 48.316, 48.316, 48.316, 48.316, 48.316, 48.316], [47.6797, 47.6797, 47.6797, 47.6797, 47.6797, 47.6797, 47.6797, 47.6797, 47.6797, 47.6797, 47.6797, 47.6797, 47.6797, 47.6797, 47.6797, 47.6797, 47.6797, 47.6797, 47.6797, 47.6797, 47.6797, 47.6797, 47.6797, 47.6797, 47.6797, 47.6797, 47.6797, 47.6797, 47.6797, 47.6797], [46.9943, 46.9943, 46.9943, 46.9943, 46.9943, 46.9943, 46.9943, 46.9943, 46.9943, 46.9943, 46.9943, 46.9943, 46.9943, 46.9943, 46.9943, 46.9943, 46.9943, 46.9943, 46.9943, 46.9943, 46.9943, 46.9943, 46.9943, 46.9943, 46.9943, 46.9943, 46.9943, 46.9943, 46.9943, 46.9943], [47.337, 47.337, 47.337, 47.337, 47.337, 47.337, 47.337, 47.337, 47.337, 47.337, 47.337, 47.337, 47.337, 47.337, 47.337, 47.337, 47.337, 47.337, 47.337, 47.337, 47.337, 47.337, 47.337, 47.337, 47.337, 47.337, 47.337, 47.337, 47.337, 47.337], [48.2181, 48.2181, 48.2181, 48.2181, 48.2181, 48.2181, 48.2181, 48.2181, 48.2181, 48.2181, 48.2181, 48.2181, 48.2181, 48.2181, 48.2181, 48.2181, 48.2181, 48.2181, 48.2181, 48.2181, 48.2181, 48.2181, 48.2181, 48.2181, 48.2181, 48.2181, 48.2181, 48.2181, 48.2181, 48.2181], [47.8755, 47.8755, 47.8755, 47.8755, 47.8755, 47.8755, 47.8755, 47.8755, 47.8755, 47.8755, 47.8755, 47.8755, 47.8755, 47.8755, 47.8755, 47.8755, 47.8755, 47.8755, 47.8755, 47.8755, 47.8755, 47.8755, 47.8755, 47.8755, 47.8755, 47.8755, 47.8755, 47.8755, 47.8755, 47.8755], [48.2671, 48.2671, 48.2671, 48.2671, 48.2671, 48.2671, 48.2671, 48.2671, 48.2671, 48.2671, 48.2671, 48.2671, 48.2671, 48.2671, 48.2671, 48.2671, 48.2671, 48.2671, 48.2671, 48.2671, 48.2671, 48.2671, 48.2671, 48.2671, 48.2671, 48.2671, 48.2671, 48.2671, 48.2671, 48.2671], [47.4349, 47.4349, 47.4349, 47.4349, 47.4349, 47.4349, 47.4349, 47.4349, 47.4349, 47.4349, 47.4349, 47.4349, 47.4349, 47.4349, 47.4349, 47.4349, 47.4349, 47.4349, 47.4349, 47.4349, 47.4349, 47.4349, 47.4349, 47.4349, 47.4349, 47.4349, 47.4349, 47.4349, 47.4349, 47.4349], [47.4349, 47.4349, 47.4349, 47.4349, 47.4349, 47.4349, 47.4349, 47.4349, 47.4349, 47.4349, 47.4349, 47.4349, 47.4349, 47.4349, 47.4349, 47.4349, 47.4349, 47.4349, 47.4349, 47.4349, 47.4349, 47.4349, 47.4349, 47.4349, 47.4349, 47.4349, 47.4349, 47.4349, 47.4349, 47.4349], [47.7776, 47.7776, 47.7776, 47.7776, 47.7776, 47.7776, 47.7776, 47.7776, 47.7776, 47.7776, 47.7776, 47.7776, 47.7776, 47.7776, 47.7776, 47.7776, 47.7776, 47.7776, 47.7776, 47.7776, 47.7776, 47.7776, 47.7776, 47.7776, 47.7776, 47.7776, 47.7776, 47.7776, 47.7776, 47.7776], [46.9943, 46.9943, 46.9943, 46.9943, 46.9943, 46.9943, 46.9943, 46.9943, 46.9943, 46.9943, 46.9943, 46.9943, 46.9943, 46.9943, 46.9943, 46.9943, 46.9943, 46.9943, 46.9943, 46.9943, 46.9943, 46.9943, 46.9943, 46.9943, 46.9943, 46.9943, 46.9943, 46.9943, 46.9943, 46.9943], [46.9943, 46.9943, 46.9943, 46.9943, 46.9943, 46.9943, 46.9943, 46.9943, 46.9943, 46.9943, 46.9943, 46.9943, 46.9943, 46.9943, 46.9943, 46.9943, 46.9943, 46.9943, 46.9943, 46.9943, 46.9943, 46.9943, 46.9943, 46.9943, 46.9943, 46.9943, 46.9943, 46.9943, 46.9943, 46.9943], [46.9454, 46.9454, 46.9454, 46.9454, 46.9454, 46.9454, 46.9454, 46.9454, 46.9454, 46.9454, 46.9454, 46.9454, 46.9454, 46.9454, 46.9454, 46.9454, 46.9454, 46.9454, 46.9454, 46.9454, 46.9454, 46.9454, 46.9454, 46.9454, 46.9454, 46.9454, 46.9454, 46.9454, 46.9454, 46.9454], [47.288, 47.288, 47.288, 47.288, 47.288, 47.288, 47.288, 47.288, 47.288, 47.288, 47.288, 47.288, 47.288, 47.288, 47.288, 47.288, 47.288, 47.288, 47.288, 47.288, 47.288, 47.288, 47.288, 47.288, 47.288, 47.288, 47.288, 47.288, 47.288, 47.288], [46.9943, 46.9943, 46.9943, 46.9943, 46.9943, 46.9943, 46.9943, 46.9943, 46.9943, 46.9943, 46.9943, 46.9943, 46.9943, 46.9943, 46.9943, 46.9943, 46.9943, 46.9943, 46.9943, 46.9943, 46.9943, 46.9943, 46.9943, 46.9943, 46.9943, 46.9943, 46.9943, 46.9943, 46.9943, 46.9943], [47.6307, 47.6307, 47.6307, 47.6307, 47.6307, 47.6307, 47.6307, 47.6307, 47.6307, 47.6307, 47.6307, 47.6307, 47.6307, 47.6307, 47.6307, 47.6307, 47.6307, 47.6307, 47.6307, 47.6307, 47.6307, 47.6307, 47.6307, 47.6307, 47.6307, 47.6307, 47.6307, 47.6307, 47.6307, 47.6307], [47.3859, 47.3859, 47.3859, 47.3859, 47.3859, 47.3859, 47.3859, 47.3859, 47.3859, 47.3859, 47.3859, 47.3859, 47.3859, 47.3859, 47.3859, 47.3859, 47.3859, 47.3859, 47.3859, 47.3859, 47.3859, 47.3859, 47.3859, 47.3859, 47.3859, 47.3859, 47.3859, 47.3859, 47.3859, 47.3859], [47.6797, 47.6797, 47.6797, 47.6797, 47.6797, 47.6797, 47.6797, 47.6797, 47.6797, 47.6797, 47.6797, 47.6797, 47.6797, 47.6797, 47.6797, 47.6797, 47.6797, 47.6797, 47.6797, 47.6797, 47.6797, 47.6797, 47.6797, 47.6797, 47.6797, 47.6797, 47.6797, 47.6797, 47.6797, 47.6797], [48.316, 48.316, 48.316, 48.316, 48.316, 48.316, 48.316, 48.316, 48.316, 48.316, 48.316, 48.316, 48.316, 48.316, 48.316, 48.316, 48.316, 48.316, 48.316, 48.316, 48.316, 48.316, 48.316, 48.316, 48.316, 48.316, 48.316, 48.316, 48.316, 48.316], [47.9244, 47.9244, 47.9244, 47.9244, 47.9244, 47.9244, 47.9244, 47.9244, 47.9244, 47.9244, 47.9244, 47.9244, 47.9244, 47.9244, 47.9244, 47.9244, 47.9244, 47.9244, 47.9244, 47.9244, 47.9244, 47.9244, 47.9244, 47.9244, 47.9244, 47.9244, 47.9244, 47.9244, 47.9244, 47.9244], [47.7776, 47.7776, 47.7776, 47.7776, 47.7776, 47.7776, 47.7776, 47.7776, 47.7776, 47.7776, 47.7776, 47.7776, 47.7776, 47.7776, 47.7776, 47.7776, 47.7776, 47.7776, 47.7776, 47.7776, 47.7776, 47.7776, 47.7776, 47.7776, 47.7776, 47.7776, 47.7776, 47.7776, 47.7776, 47.7776], [45.0362, 45.0362, 45.0362, 45.0362, 45.0362, 45.0362, 45.0362, 45.0362, 45.0362, 45.0362, 45.0362, 45.0362, 45.0362, 45.0362, 45.0362, 45.0362, 45.0362, 45.0362, 45.0362, 45.0362, 45.0362, 45.0362, 45.0362, 45.0362, 45.0362, 45.0362, 45.0362, 45.0362, 45.0362, 45.0362], [46.0153, 46.0153, 46.0153, 46.0153, 46.0153, 46.0153, 46.0153, 46.0153, 46.0153, 46.0153, 46.0153, 46.0153, 46.0153, 46.0153, 46.0153, 46.0153, 46.0153, 46.0153, 46.0153, 46.0153, 46.0153, 46.0153, 46.0153, 46.0153, 46.0153, 46.0153, 46.0153, 46.0153, 46.0153, 46.0153], [45.0362, 45.0362, 45.0362, 45.0362, 45.0362, 45.0362, 45.0362, 45.0362, 45.0362, 45.0362, 45.0362, 45.0362, 45.0362, 45.0362, 45.0362, 45.0362, 45.0362, 45.0362, 45.0362, 45.0362, 45.0362, 45.0362, 45.0362, 45.0362, 45.0362, 45.0362, 45.0362, 45.0362, 45.0362, 45.0362], [45.6237, 45.6237, 45.6237, 45.6237, 45.6237, 45.6237, 45.6237, 45.6237, 45.6237, 45.6237, 45.6237, 45.6237, 45.6237, 45.6237, 45.6237, 45.6237, 45.6237, 45.6237, 45.6237, 45.6237, 45.6237, 45.6237, 45.6237, 45.6237, 45.6237, 45.6237, 45.6237, 45.6237, 45.6237, 45.6237], [45.3789, 45.3789, 45.3789, 45.3789, 45.3789, 45.3789, 45.3789, 45.3789, 45.3789, 45.3789, 45.3789, 45.3789, 45.3789, 45.3789, 45.3789, 45.3789, 45.3789, 45.3789, 45.3789, 45.3789, 45.3789, 45.3789, 45.3789, 45.3789, 45.3789, 45.3789, 45.3789, 45.3789, 45.3789, 45.3789], [45.6237, 45.6237, 45.6237, 45.6237, 45.6237, 45.6237, 45.6237, 45.6237, 45.6237, 45.6237, 45.6237, 45.6237, 45.6237, 45.6237, 45.6237, 45.6237, 45.6237, 45.6237, 45.6237, 45.6237, 45.6237, 45.6237, 45.6237, 45.6237, 45.6237, 45.6237, 45.6237, 45.6237, 45.6237, 45.6237], [46.0153, 46.0153, 46.0153, 46.0153, 46.0153, 46.0153, 46.0153, 46.0153, 46.0153, 46.0153, 46.0153, 46.0153, 46.0153, 46.0153, 46.0153, 46.0153, 46.0153, 46.0153, 46.0153, 46.0153, 46.0153, 46.0153, 46.0153, 46.0153, 46.0153, 46.0153, 46.0153, 46.0153, 46.0153, 46.0153], [46.0153, 46.0153, 46.0153, 46.0153, 46.0153, 46.0153, 46.0153, 46.0153, 46.0153, 46.0153, 46.0153, 46.0153, 46.0153, 46.0153, 46.0153, 46.0153, 46.0153, 46.0153, 46.0153, 46.0153, 46.0153, 46.0153, 46.0153, 46.0153, 46.0153, 46.0153, 46.0153, 46.0153, 46.0153, 46.0153], [46.5537, 46.5537, 46.5537, 46.5537, 46.5537, 46.5537, 46.5537, 46.5537, 46.5537, 46.5537, 46.5537, 46.5537, 46.5537, 46.5537, 46.5537, 46.5537, 46.5537, 46.5537, 46.5537, 46.5537, 46.5537, 46.5537, 46.5537, 46.5537, 46.5537, 46.5537, 46.5537, 46.5537, 46.5537, 46.5537], [46.2111, 46.2111, 46.2111, 46.2111, 46.2111, 46.2111, 46.2111, 46.2111, 46.2111, 46.2111, 46.2111, 46.2111, 46.2111, 46.2111, 46.2111, 46.2111, 46.2111, 46.2111, 46.2111, 46.2111, 46.2111, 46.2111, 46.2111, 46.2111, 46.2111, 46.2111, 46.2111, 46.2111, 46.2111, 46.2111], [45.8195, 45.8195, 45.8195, 45.8195, 45.8195, 45.8195, 45.8195, 45.8195, 45.8195, 45.8195, 45.8195, 45.8195, 45.8195, 45.8195, 45.8195, 45.8195, 45.8195, 45.8195, 45.8195, 45.8195, 45.8195, 45.8195, 45.8195, 45.8195, 45.8195, 45.8195, 45.8195, 45.8195, 45.8195, 45.8195], [45.8684, 45.8684, 45.8684, 45.8684, 45.8684, 45.8684, 45.8684, 45.8684, 45.8684, 45.8684, 45.8684, 45.8684, 45.8684, 45.8684, 45.8684, 45.8684, 45.8684, 45.8684, 45.8684, 45.8684, 45.8684, 45.8684, 45.8684, 45.8684, 45.8684, 45.8684, 45.8684, 45.8684, 45.8684, 45.8684], [45.0852, 45.0852, 45.0852, 45.0852, 45.0852, 45.0852, 45.0852, 45.0852, 45.0852, 45.0852, 45.0852, 45.0852, 45.0852, 45.0852, 45.0852, 45.0852, 45.0852, 45.0852, 45.0852, 45.0852, 45.0852, 45.0852, 45.0852, 45.0852, 45.0852, 45.0852, 45.0852, 45.0852, 45.0852, 45.0852], [44.6936, 44.6936, 44.6936, 44.6936, 44.6936, 44.6936, 44.6936, 44.6936, 44.6936, 44.6936, 44.6936, 44.6936, 44.6936, 44.6936, 44.6936, 44.6936, 44.6936, 44.6936, 44.6936, 44.6936, 44.6936, 44.6936, 44.6936, 44.6936, 44.6936, 44.6936, 44.6936, 44.6936, 44.6936, 44.6936], [45.232, 45.232, 45.232, 45.232, 45.232, 45.232, 45.232, 45.232, 45.232, 45.232, 45.232, 45.232, 45.232, 45.232, 45.232, 45.232, 45.232, 45.232, 45.232, 45.232, 45.232, 45.232, 45.232, 45.232, 45.232, 45.232, 45.232, 45.232, 45.232, 45.232], [45.1831, 45.1831, 45.1831, 45.1831, 45.1831, 45.1831, 45.1831, 45.1831, 45.1831, 45.1831, 45.1831, 45.1831, 45.1831, 45.1831, 45.1831, 45.1831, 45.1831, 45.1831, 45.1831, 45.1831, 45.1831, 45.1831, 45.1831, 45.1831, 45.1831, 45.1831, 45.1831, 45.1831, 45.1831, 45.1831], [45.281, 45.281, 45.281, 45.281, 45.281, 45.281, 45.281, 45.281, 45.281, 45.281, 45.281, 45.281, 45.281, 45.281, 45.281, 45.281, 45.281, 45.281, 45.281, 45.281, 45.281, 45.281, 45.281, 45.281, 45.281, 45.281, 45.281, 45.281, 45.281, 45.281], [45.8195, 45.8195, 45.8195, 45.8195, 45.8195, 45.8195, 45.8195, 45.8195, 45.8195, 45.8195, 45.8195, 45.8195, 45.8195, 45.8195, 45.8195, 45.8195, 45.8195, 45.8195, 45.8195, 45.8195, 45.8195, 45.8195, 45.8195, 45.8195, 45.8195, 45.8195, 45.8195, 45.8195, 45.8195, 45.8195], [46.4558, 46.4558, 46.4558, 46.4558, 46.4558, 46.4558, 46.4558, 46.4558, 46.4558, 46.4558, 46.4558, 46.4558, 46.4558, 46.4558, 46.4558, 46.4558, 46.4558, 46.4558, 46.4558, 46.4558, 46.4558, 46.4558, 46.4558, 46.4558, 46.4558, 46.4558, 46.4558, 46.4558, 46.4558, 46.4558], [46.7006, 46.7006, 46.7006, 46.7006, 46.7006, 46.7006, 46.7006, 46.7006, 46.7006, 46.7006, 46.7006, 46.7006, 46.7006, 46.7006, 46.7006, 46.7006, 46.7006, 46.7006, 46.7006, 46.7006, 46.7006, 46.7006, 46.7006, 46.7006, 46.7006, 46.7006, 46.7006, 46.7006, 46.7006, 46.7006], [47.337, 47.337, 47.337, 47.337, 47.337, 47.337, 47.337, 47.337, 47.337, 47.337, 47.337, 47.337, 47.337, 47.337, 47.337, 47.337, 47.337, 47.337, 47.337, 47.337, 47.337, 47.337, 47.337, 47.337, 47.337, 47.337, 47.337, 47.337, 47.337, 47.337], [46.7985, 46.7985, 46.7985, 46.7985, 46.7985, 46.7985, 46.7985, 46.7985, 46.7985, 46.7985, 46.7985, 46.7985, 46.7985, 46.7985, 46.7985, 46.7985, 46.7985, 46.7985, 46.7985, 46.7985, 46.7985, 46.7985, 46.7985, 46.7985, 46.7985, 46.7985, 46.7985, 46.7985, 46.7985, 46.7985], [47.6307, 47.6307, 47.6307, 47.6307, 47.6307, 47.6307, 47.6307, 47.6307, 47.6307, 47.6307, 47.6307, 47.6307, 47.6307, 47.6307, 47.6307, 47.6307, 47.6307, 47.6307, 47.6307, 47.6307, 47.6307, 47.6307, 47.6307, 47.6307, 47.6307, 47.6307, 47.6307, 47.6307, 47.6307, 47.6307], [47.5328, 47.5328, 47.5328, 47.5328, 47.5328, 47.5328, 47.5328, 47.5328, 47.5328, 47.5328, 47.5328, 47.5328, 47.5328, 47.5328, 47.5328, 47.5328, 47.5328, 47.5328, 47.5328, 47.5328, 47.5328, 47.5328, 47.5328, 47.5328, 47.5328, 47.5328, 47.5328, 47.5328, 47.5328, 47.5328], [47.5818, 47.5818, 47.5818, 47.5818, 47.5818, 47.5818, 47.5818, 47.5818, 47.5818, 47.5818, 47.5818, 47.5818, 47.5818, 47.5818, 47.5818, 47.5818, 47.5818, 47.5818, 47.5818, 47.5818, 47.5818, 47.5818, 47.5818, 47.5818, 47.5818, 47.5818, 47.5818, 47.5818, 47.5818, 47.5818], [47.5818, 47.5818, 47.5818, 47.5818, 47.5818, 47.5818, 47.5818, 47.5818, 47.5818, 47.5818, 47.5818, 47.5818, 47.5818, 47.5818, 47.5818, 47.5818, 47.5818, 47.5818, 47.5818, 47.5818, 47.5818, 47.5818, 47.5818, 47.5818, 47.5818, 47.5818, 47.5818, 47.5818, 47.5818, 47.5818], [47.0922, 47.0922, 47.0922, 47.0922, 47.0922, 47.0922, 47.0922, 47.0922, 47.0922, 47.0922, 47.0922, 47.0922, 47.0922, 47.0922, 47.0922, 47.0922, 47.0922, 47.0922, 47.0922, 47.0922, 47.0922, 47.0922, 47.0922, 47.0922, 47.0922, 47.0922, 47.0922, 47.0922, 47.0922, 47.0922], [46.4069, 46.4069, 46.4069, 46.4069, 46.4069, 46.4069, 46.4069, 46.4069, 46.4069, 46.4069, 46.4069, 46.4069, 46.4069, 46.4069, 46.4069, 46.4069, 46.4069, 46.4069, 46.4069, 46.4069, 46.4069, 46.4069, 46.4069, 46.4069, 46.4069, 46.4069, 46.4069, 46.4069, 46.4069, 46.4069], [46.7985, 46.7985, 46.7985, 46.7985, 46.7985, 46.7985, 46.7985, 46.7985, 46.7985, 46.7985, 46.7985, 46.7985, 46.7985, 46.7985, 46.7985, 46.7985, 46.7985, 46.7985, 46.7985, 46.7985, 46.7985, 46.7985, 46.7985, 46.7985, 46.7985, 46.7985, 46.7985, 46.7985, 46.7985, 46.7985], [46.4069, 46.4069, 46.4069, 46.4069, 46.4069, 46.4069, 46.4069, 46.4069, 46.4069, 46.4069, 46.4069, 46.4069, 46.4069, 46.4069, 46.4069, 46.4069, 46.4069, 46.4069, 46.4069, 46.4069, 46.4069, 46.4069, 46.4069, 46.4069, 46.4069, 46.4069, 46.4069, 46.4069, 46.4069, 46.4069], [46.7496, 46.7496, 46.7496, 46.7496, 46.7496, 46.7496, 46.7496, 46.7496, 46.7496, 46.7496, 46.7496, 46.7496, 46.7496, 46.7496, 46.7496, 46.7496, 46.7496, 46.7496, 46.7496, 46.7496, 46.7496, 46.7496, 46.7496, 46.7496, 46.7496, 46.7496, 46.7496, 46.7496, 46.7496, 46.7496], [44.9383, 44.9383, 44.9383, 44.9383, 44.9383, 44.9383, 44.9383, 44.9383, 44.9383, 44.9383, 44.9383, 44.9383, 44.9383, 44.9383, 44.9383, 44.9383, 44.9383, 44.9383, 44.9383, 44.9383, 44.9383, 44.9383, 44.9383, 44.9383, 44.9383, 44.9383, 44.9383, 44.9383, 44.9383, 44.9383], [42.7844, 42.7844, 42.7844, 42.7844, 42.7844, 42.7844, 42.7844, 42.7844, 42.7844, 42.7844, 42.7844, 42.7844, 42.7844, 42.7844, 42.7844, 42.7844, 42.7844, 42.7844, 42.7844, 42.7844, 42.7844, 42.7844, 42.7844, 42.7844, 42.7844, 42.7844, 42.7844, 42.7844, 42.7844, 42.7844], [44.7425, 44.7425, 44.7425, 44.7425, 44.7425, 44.7425, 44.7425, 44.7425, 44.7425, 44.7425, 44.7425, 44.7425, 44.7425, 44.7425, 44.7425, 44.7425, 44.7425, 44.7425, 44.7425, 44.7425, 44.7425, 44.7425, 44.7425, 44.7425, 44.7425, 44.7425, 44.7425, 44.7425, 44.7425, 44.7425], [43.6166, 43.6166, 43.6166, 43.6166, 43.6166, 43.6166, 43.6166, 43.6166, 43.6166, 43.6166, 43.6166, 43.6166, 43.6166, 43.6166, 43.6166, 43.6166, 43.6166, 43.6166, 43.6166, 43.6166, 43.6166, 43.6166, 43.6166, 43.6166, 43.6166, 43.6166, 43.6166, 43.6166, 43.6166, 43.6166], [44.204, 44.204, 44.204, 44.204, 44.204, 44.204, 44.204, 44.204, 44.204, 44.204, 44.204, 44.204, 44.204, 44.204, 44.204, 44.204, 44.204, 44.204, 44.204, 44.204, 44.204, 44.204, 44.204, 44.204, 44.204, 44.204, 44.204, 44.204, 44.204, 44.204], [43.5677, 43.5677, 43.5677, 43.5677, 43.5677, 43.5677, 43.5677, 43.5677, 43.5677, 43.5677, 43.5677, 43.5677, 43.5677, 43.5677, 43.5677, 43.5677, 43.5677, 43.5677, 43.5677, 43.5677, 43.5677, 43.5677, 43.5677, 43.5677, 43.5677, 43.5677, 43.5677, 43.5677, 43.5677, 43.5677], [44.9383, 44.9383, 44.9383, 44.9383, 44.9383, 44.9383, 44.9383, 44.9383, 44.9383, 44.9383, 44.9383, 44.9383, 44.9383, 44.9383, 44.9383, 44.9383, 44.9383, 44.9383, 44.9383, 44.9383, 44.9383, 44.9383, 44.9383, 44.9383, 44.9383, 44.9383, 44.9383, 44.9383, 44.9383, 44.9383], [45.5747, 45.5747, 45.5747, 45.5747, 45.5747, 45.5747, 45.5747, 45.5747, 45.5747, 45.5747, 45.5747, 45.5747, 45.5747, 45.5747, 45.5747, 45.5747, 45.5747, 45.5747, 45.5747, 45.5747, 45.5747, 45.5747, 45.5747, 45.5747, 45.5747, 45.5747, 45.5747, 45.5747, 45.5747, 45.5747], [46.0153, 46.0153, 46.0153, 46.0153, 46.0153, 46.0153, 46.0153, 46.0153, 46.0153, 46.0153, 46.0153, 46.0153, 46.0153, 46.0153, 46.0153, 46.0153, 46.0153, 46.0153, 46.0153, 46.0153, 46.0153, 46.0153, 46.0153, 46.0153, 46.0153, 46.0153, 46.0153, 46.0153, 46.0153, 46.0153], [45.8195, 45.8195, 45.8195, 45.8195, 45.8195, 45.8195, 45.8195, 45.8195, 45.8195, 45.8195, 45.8195, 45.8195, 45.8195, 45.8195, 45.8195, 45.8195, 45.8195, 45.8195, 45.8195, 45.8195, 45.8195, 45.8195, 45.8195, 45.8195, 45.8195, 45.8195, 45.8195, 45.8195, 45.8195, 45.8195], [46.1132, 46.1132, 46.1132, 46.1132, 46.1132, 46.1132, 46.1132, 46.1132, 46.1132, 46.1132, 46.1132, 46.1132, 46.1132, 46.1132, 46.1132, 46.1132, 46.1132, 46.1132, 46.1132, 46.1132, 46.1132, 46.1132, 46.1132, 46.1132, 46.1132, 46.1132, 46.1132, 46.1132, 46.1132, 46.1132], [46.2111, 46.2111, 46.2111, 46.2111, 46.2111, 46.2111, 46.2111, 46.2111, 46.2111, 46.2111, 46.2111, 46.2111, 46.2111, 46.2111, 46.2111, 46.2111, 46.2111, 46.2111, 46.2111, 46.2111, 46.2111, 46.2111, 46.2111, 46.2111, 46.2111, 46.2111, 46.2111, 46.2111, 46.2111, 46.2111], [46.0153, 46.0153, 46.0153, 46.0153, 46.0153, 46.0153, 46.0153, 46.0153, 46.0153, 46.0153, 46.0153, 46.0153, 46.0153, 46.0153, 46.0153, 46.0153, 46.0153, 46.0153, 46.0153, 46.0153, 46.0153, 46.0153, 46.0153, 46.0153, 46.0153, 46.0153, 46.0153, 46.0153, 46.0153, 46.0153], [46.5048, 46.5048, 46.5048, 46.5048, 46.5048, 46.5048, 46.5048, 46.5048, 46.5048, 46.5048, 46.5048, 46.5048, 46.5048, 46.5048, 46.5048, 46.5048, 46.5048, 46.5048, 46.5048, 46.5048, 46.5048, 46.5048, 46.5048, 46.5048, 46.5048, 46.5048, 46.5048, 46.5048, 46.5048, 46.5048], [46.9454, 46.9454, 46.9454, 46.9454, 46.9454, 46.9454, 46.9454, 46.9454, 46.9454, 46.9454, 46.9454, 46.9454, 46.9454, 46.9454, 46.9454, 46.9454, 46.9454, 46.9454, 46.9454, 46.9454, 46.9454, 46.9454, 46.9454, 46.9454, 46.9454, 46.9454, 46.9454, 46.9454, 46.9454, 46.9454], [46.7985, 46.7985, 46.7985, 46.7985, 46.7985, 46.7985, 46.7985, 46.7985, 46.7985, 46.7985, 46.7985, 46.7985, 46.7985, 46.7985, 46.7985, 46.7985, 46.7985, 46.7985, 46.7985, 46.7985, 46.7985, 46.7985, 46.7985, 46.7985, 46.7985, 46.7985, 46.7985, 46.7985, 46.7985, 46.7985], [47.0, 47.0, 47.0, 47.0, 47.0, 47.0, 47.0, 47.0, 47.0, 47.0, 47.0, 47.0, 47.0, 47.0, 47.0, 47.0, 47.0, 47.0, 47.0, 47.0, 47.0, 47.0, 47.0, 47.0, 47.0, 47.0, 47.0, 47.0, 47.0, 47.0], [46.85, 46.85, 46.85, 46.85, 46.85, 46.85, 46.85, 46.85, 46.85, 46.85, 46.85, 46.85, 46.85, 46.85, 46.85, 46.85, 46.85, 46.85, 46.85, 46.85, 46.85, 46.85, 46.85, 46.85, 46.85, 46.85, 46.85, 46.85, 46.85, 46.85], [46.85, 46.85, 46.85, 46.85, 46.85, 46.85, 46.85, 46.85, 46.85, 46.85, 46.85, 46.85, 46.85, 46.85, 46.85, 46.85, 46.85, 46.85, 46.85, 46.85, 46.85, 46.85, 46.85, 46.85, 46.85, 46.85, 46.85, 46.85, 46.85, 46.85], [47.05, 47.05, 47.05, 47.05, 47.05, 47.05, 47.05, 47.05, 47.05, 47.05, 47.05, 47.05, 47.05, 47.05, 47.05, 47.05, 47.05, 47.05, 47.05, 47.05, 47.05, 47.05, 47.05, 47.05, 47.05, 47.05, 47.05, 47.05, 47.05, 47.05], [47.4, 47.4, 47.4, 47.4, 47.4, 47.4, 47.4, 47.4, 47.4, 47.4, 47.4, 47.4, 47.4, 47.4, 47.4, 47.4, 47.4, 47.4, 47.4, 47.4, 47.4, 47.4, 47.4, 47.4, 47.4, 47.4, 47.4, 47.4, 47.4, 47.4], [48.45, 48.45, 48.45, 48.45, 48.45, 48.45, 48.45, 48.45, 48.45, 48.45, 48.45, 48.45, 48.45, 48.45, 48.45, 48.45, 48.45, 48.45, 48.45, 48.45, 48.45, 48.45, 48.45, 48.45, 48.45, 48.45, 48.45, 48.45, 48.45, 48.45], [48.85, 48.85, 48.85, 48.85, 48.85, 48.85, 48.85, 48.85, 48.85, 48.85, 48.85, 48.85, 48.85, 48.85, 48.85, 48.85, 48.85, 48.85, 48.85, 48.85, 48.85, 48.85, 48.85, 48.85, 48.85, 48.85, 48.85, 48.85, 48.85, 48.85], [48.4, 48.4, 48.4, 48.4, 48.4, 48.4, 48.4, 48.4, 48.4, 48.4, 48.4, 48.4, 48.4, 48.4, 48.4, 48.4, 48.4, 48.4, 48.4, 48.4, 48.4, 48.4, 48.4, 48.4, 48.4, 48.4, 48.4, 48.4, 48.4, 48.4], [49.85, 49.85, 49.85, 49.85, 49.85, 49.85, 49.85, 49.85, 49.85, 49.85, 49.85, 49.85, 49.85, 49.85, 49.85, 49.85, 49.85, 49.85, 49.85, 49.85, 49.85, 49.85, 49.85, 49.85, 49.85, 49.85, 49.85, 49.85, 49.85, 49.85], [49.9, 49.9, 49.9, 49.9, 49.9, 49.9, 49.9, 49.9, 49.9, 49.9, 49.9, 49.9, 49.9, 49.9, 49.9, 49.9, 49.9, 49.9, 49.9, 49.9, 49.9, 49.9, 49.9, 49.9, 49.9, 49.9, 49.9, 49.9, 49.9, 49.9], [49.5, 49.5, 49.5, 49.5, 49.5, 49.5, 49.5, 49.5, 49.5, 49.5, 49.5, 49.5, 49.5, 49.5, 49.5, 49.5, 49.5, 49.5, 49.5, 49.5, 49.5, 49.5, 49.5, 49.5, 49.5, 49.5, 49.5, 49.5, 49.5, 49.5], [49.9, 49.9, 49.9, 49.9, 49.9, 49.9, 49.9, 49.9, 49.9, 49.9, 49.9, 49.9, 49.9, 49.9, 49.9, 49.9, 49.9, 49.9, 49.9, 49.9, 49.9, 49.9, 49.9, 49.9, 49.9, 49.9, 49.9, 49.9, 49.9, 49.9], [50.4, 50.4, 50.4, 50.4, 50.4, 50.4, 50.4, 50.4, 50.4, 50.4, 50.4, 50.4, 50.4, 50.4, 50.4, 50.4, 50.4, 50.4, 50.4, 50.4, 50.4, 50.4, 50.4, 50.4, 50.4, 50.4, 50.4, 50.4, 50.4, 50.4], [50.0, 50.0, 50.0, 50.0, 50.0, 50.0, 50.0, 50.0, 50.0, 50.0, 50.0, 50.0, 50.0, 50.0, 50.0, 50.0, 50.0, 50.0, 50.0, 50.0, 50.0, 50.0, 50.0, 50.0, 50.0, 50.0, 50.0, 50.0, 50.0, 50.0], [48.5, 48.5, 48.5, 48.5, 48.5, 48.5, 48.5, 48.5, 48.5, 48.5, 48.5, 48.5, 48.5, 48.5, 48.5, 48.5, 48.5, 48.5, 48.5, 48.5, 48.5, 48.5, 48.5, 48.5, 48.5, 48.5, 48.5, 48.5, 48.5, 48.5], [49.5, 49.5, 49.5, 49.5, 49.5, 49.5, 49.5, 49.5, 49.5, 49.5, 49.5, 49.5, 49.5, 49.5, 49.5, 49.5, 49.5, 49.5, 49.5, 49.5, 49.5, 49.5, 49.5, 49.5, 49.5, 49.5, 49.5, 49.5, 49.5, 49.5], [49.2, 49.2, 49.2, 49.2, 49.2, 49.2, 49.2, 49.2, 49.2, 49.2, 49.2, 49.2, 49.2, 49.2, 49.2, 49.2, 49.2, 49.2, 49.2, 49.2, 49.2, 49.2, 49.2, 49.2, 49.2, 49.2, 49.2, 49.2, 49.2, 49.2], [49.2, 49.2, 49.2, 49.2, 49.2, 49.2, 49.2, 49.2, 49.2, 49.2, 49.2, 49.2, 49.2, 49.2, 49.2, 49.2, 49.2, 49.2, 49.2, 49.2, 49.2, 49.2, 49.2, 49.2, 49.2, 49.2, 49.2, 49.2, 49.2, 49.2], [49.15, 49.15, 49.15, 49.15, 49.15, 49.15, 49.15, 49.15, 49.15, 49.15, 49.15, 49.15, 49.15, 49.15, 49.15, 49.15, 49.15, 49.15, 49.15, 49.15, 49.15, 49.15, 49.15, 49.15, 49.15, 49.15, 49.15, 49.15, 49.15, 49.15], [49.3, 49.3, 49.3, 49.3, 49.3, 49.3, 49.3, 49.3, 49.3, 49.3, 49.3, 49.3, 49.3, 49.3, 49.3, 49.3, 49.3, 49.3, 49.3, 49.3, 49.3, 49.3, 49.3, 49.3, 49.3, 49.3, 49.3, 49.3, 49.3, 49.3], [50.0, 50.0, 50.0, 50.0, 50.0, 50.0, 50.0, 50.0, 50.0, 50.0, 50.0, 50.0, 50.0, 50.0, 50.0, 50.0, 50.0, 50.0, 50.0, 50.0, 50.0, 50.0, 50.0, 50.0, 50.0, 50.0, 50.0, 50.0, 50.0, 50.0], [50.5, 50.5, 50.5, 50.5, 50.5, 50.5, 50.5, 50.5, 50.5, 50.5, 50.5, 50.5, 50.5, 50.5, 50.5, 50.5, 50.5, 50.5, 50.5, 50.5, 50.5, 50.5, 50.5, 50.5, 50.5, 50.5, 50.5, 50.5, 50.5, 50.5], [50.0, 50.0, 50.0, 50.0, 50.0, 50.0, 50.0, 50.0, 50.0, 50.0, 50.0, 50.0, 50.0, 50.0, 50.0, 50.0, 50.0, 50.0, 50.0, 50.0, 50.0, 50.0, 50.0, 50.0, 50.0, 50.0, 50.0, 50.0, 50.0, 50.0], [51.2, 51.2, 51.2, 51.2, 51.2, 51.2, 51.2, 51.2, 51.2, 51.2, 51.2, 51.2, 51.2, 51.2, 51.2, 51.2, 51.2, 51.2, 51.2, 51.2, 51.2, 51.2, 51.2, 51.2, 51.2, 51.2, 51.2, 51.2, 51.2, 51.2], [51.2, 51.2, 51.2, 51.2, 51.2, 51.2, 51.2, 51.2, 51.2, 51.2, 51.2, 51.2, 51.2, 51.2, 51.2, 51.2, 51.2, 51.2, 51.2, 51.2, 51.2, 51.2, 51.2, 51.2, 51.2, 51.2, 51.2, 51.2, 51.2, 51.2], [51.3, 51.3, 51.3, 51.3, 51.3, 51.3, 51.3, 51.3, 51.3, 51.3, 51.3, 51.3, 51.3, 51.3, 51.3, 51.3, 51.3, 51.3, 51.3, 51.3, 51.3, 51.3, 51.3, 51.3, 51.3, 51.3, 51.3, 51.3, 51.3, 51.3], [51.1, 51.1, 51.1, 51.1, 51.1, 51.1, 51.1, 51.1, 51.1, 51.1, 51.1, 51.1, 51.1, 51.1, 51.1, 51.1, 51.1, 51.1, 51.1, 51.1, 51.1, 51.1, 51.1, 51.1, 51.1, 51.1, 51.1, 51.1, 51.1, 51.1], [50.5, 50.5, 50.5, 50.5, 50.5, 50.5, 50.5, 50.5, 50.5, 50.5, 50.5, 50.5, 50.5, 50.5, 50.5, 50.5, 50.5, 50.5, 50.5, 50.5, 50.5, 50.5, 50.5, 50.5, 50.5, 50.5, 50.5, 50.5, 50.5, 50.5], [50.8, 50.8, 50.8, 50.8, 50.8, 50.8, 50.8, 50.8, 50.8, 50.8, 50.8, 50.8, 50.8, 50.8, 50.8, 50.8, 50.8, 50.8, 50.8, 50.8, 50.8, 50.8, 50.8, 50.8, 50.8, 50.8, 50.8, 50.8, 50.8, 50.8], [51.1, 51.1, 51.1, 51.1, 51.1, 51.1, 51.1, 51.1, 51.1, 51.1, 51.1, 51.1, 51.1, 51.1, 51.1, 51.1, 51.1, 51.1, 51.1, 51.1, 51.1, 51.1, 51.1, 51.1, 51.1, 51.1, 51.1, 51.1, 51.1, 51.1], [50.2, 50.2, 50.2, 50.2, 50.2, 50.2, 50.2, 50.2, 50.2, 50.2, 50.2, 50.2, 50.2, 50.2, 50.2, 50.2, 50.2, 50.2, 50.2, 50.2, 50.2, 50.2, 50.2, 50.2, 50.2, 50.2, 50.2, 50.2, 50.2, 50.2], [50.0, 50.0, 50.0, 50.0, 50.0, 50.0, 50.0, 50.0, 50.0, 50.0, 50.0, 50.0, 50.0, 50.0, 50.0, 50.0, 50.0, 50.0, 50.0, 50.0, 50.0, 50.0, 50.0, 50.0, 50.0, 50.0, 50.0, 50.0, 50.0, 50.0], [50.8, 50.8, 50.8, 50.8, 50.8, 50.8, 50.8, 50.8, 50.8, 50.8, 50.8, 50.8, 50.8, 50.8, 50.8, 50.8, 50.8, 50.8, 50.8, 50.8, 50.8, 50.8, 50.8, 50.8, 50.8, 50.8, 50.8, 50.8, 50.8, 50.8], [50.3, 50.3, 50.3, 50.3, 50.3, 50.3, 50.3, 50.3, 50.3, 50.3, 50.3, 50.3, 50.3, 50.3, 50.3, 50.3, 50.3, 50.3, 50.3, 50.3, 50.3, 50.3, 50.3, 50.3, 50.3, 50.3, 50.3, 50.3, 50.3, 50.3], [50.5, 50.5, 50.5, 50.5, 50.5, 50.5, 50.5, 50.5, 50.5, 50.5, 50.5, 50.5, 50.5, 50.5, 50.5, 50.5, 50.5, 50.5, 50.5, 50.5, 50.5, 50.5, 50.5, 50.5, 50.5, 50.5, 50.5, 50.5, 50.5, 50.5], [50.5, 50.5, 50.5, 50.5, 50.5, 50.5, 50.5, 50.5, 50.5, 50.5, 50.5, 50.5, 50.5, 50.5, 50.5, 50.5, 50.5, 50.5, 50.5, 50.5, 50.5, 50.5, 50.5, 50.5, 50.5, 50.5, 50.5, 50.5, 50.5, 50.5], [50.4, 50.4, 50.4, 50.4, 50.4, 50.4, 50.4, 50.4, 50.4, 50.4, 50.4, 50.4, 50.4, 50.4, 50.4, 50.4, 50.4, 50.4, 50.4, 50.4, 50.4, 50.4, 50.4, 50.4, 50.4, 50.4, 50.4, 50.4, 50.4, 50.4], [51.1, 51.1, 51.1, 51.1, 51.1, 51.1, 51.1, 51.1, 51.1, 51.1, 51.1, 51.1, 51.1, 51.1, 51.1, 51.1, 51.1, 51.1, 51.1, 51.1, 51.1, 51.1, 51.1, 51.1, 51.1, 51.1, 51.1, 51.1, 51.1, 51.1], [50.8, 50.8, 50.8, 50.8, 50.8, 50.8, 50.8, 50.8, 50.8, 50.8, 50.8, 50.8, 50.8, 50.8, 50.8, 50.8, 50.8, 50.8, 50.8, 50.8, 50.8, 50.8, 50.8, 50.8, 50.8, 50.8, 50.8, 50.8, 50.8, 50.8], [50.9, 50.9, 50.9, 50.9, 50.9, 50.9, 50.9, 50.9, 50.9, 50.9, 50.9, 50.9, 50.9, 50.9, 50.9, 50.9, 50.9, 50.9, 50.9, 50.9, 50.9, 50.9, 50.9, 50.9, 50.9, 50.9, 50.9, 50.9, 50.9, 50.9], [50.7, 50.7, 50.7, 50.7, 50.7, 50.7, 50.7, 50.7, 50.7, 50.7, 50.7, 50.7, 50.7, 50.7, 50.7, 50.7, 50.7, 50.7, 50.7, 50.7, 50.7, 50.7, 50.7, 50.7, 50.7, 50.7, 50.7, 50.7, 50.7, 50.7], [51.0, 51.0, 51.0, 51.0, 51.0, 51.0, 51.0, 51.0, 51.0, 51.0, 51.0, 51.0, 51.0, 51.0, 51.0, 51.0, 51.0, 51.0, 51.0, 51.0, 51.0, 51.0, 51.0, 51.0, 51.0, 51.0, 51.0, 51.0, 51.0, 51.0], [51.2, 51.2, 51.2, 51.2, 51.2, 51.2, 51.2, 51.2, 51.2, 51.2, 51.2, 51.2, 51.2, 51.2, 51.2, 51.2, 51.2, 51.2, 51.2, 51.2, 51.2, 51.2, 51.2, 51.2, 51.2, 51.2, 51.2, 51.2, 51.2, 51.2], [53.2, 53.2, 53.2, 53.2, 53.2, 53.2, 53.2, 53.2, 53.2, 53.2, 53.2, 53.2, 53.2, 53.2, 53.2, 53.2, 53.2, 53.2, 53.2, 53.2, 53.2, 53.2, 53.2, 53.2, 53.2, 53.2, 53.2, 53.2, 53.2, 53.2], [53.3, 53.3, 53.3, 53.3, 53.3, 53.3, 53.3, 53.3, 53.3, 53.3, 53.3, 53.3, 53.3, 53.3, 53.3, 53.3, 53.3, 53.3, 53.3, 53.3, 53.3, 53.3, 53.3, 53.3, 53.3, 53.3, 53.3, 53.3, 53.3, 53.3], [53.2, 53.2, 53.2, 53.2, 53.2, 53.2, 53.2, 53.2, 53.2, 53.2, 53.2, 53.2, 53.2, 53.2, 53.2, 53.2, 53.2, 53.2, 53.2, 53.2, 53.2, 53.2, 53.2, 53.2, 53.2, 53.2, 53.2, 53.2, 53.2, 53.2], [52.8, 52.8, 52.8, 52.8, 52.8, 52.8, 52.8, 52.8, 52.8, 52.8, 52.8, 52.8, 52.8, 52.8, 52.8, 52.8, 52.8, 52.8, 52.8, 52.8, 52.8, 52.8, 52.8, 52.8, 52.8, 52.8, 52.8, 52.8, 52.8, 52.8], [54.0, 54.0, 54.0, 54.0, 54.0, 54.0, 54.0, 54.0, 54.0, 54.0, 54.0, 54.0, 54.0, 54.0, 54.0, 54.0, 54.0, 54.0, 54.0, 54.0, 54.0, 54.0, 54.0, 54.0, 54.0, 54.0, 54.0, 54.0, 54.0, 54.0], [53.9, 53.9, 53.9, 53.9, 53.9, 53.9, 53.9, 53.9, 53.9, 53.9, 53.9, 53.9, 53.9, 53.9, 53.9, 53.9, 53.9, 53.9, 53.9, 53.9, 53.9, 53.9, 53.9, 53.9, 53.9, 53.9, 53.9, 53.9, 53.9, 53.9], [52.8, 52.8, 52.8, 52.8, 52.8, 52.8, 52.8, 52.8, 52.8, 52.8, 52.8, 52.8, 52.8, 52.8, 52.8, 52.8, 52.8, 52.8, 52.8, 52.8, 52.8, 52.8, 52.8, 52.8, 52.8, 52.8, 52.8, 52.8, 52.8, 52.8], [52.1, 52.1, 52.1, 52.1, 52.1, 52.1, 52.1, 52.1, 52.1, 52.1, 52.1, 52.1, 52.1, 52.1, 52.1, 52.1, 52.1, 52.1, 52.1, 52.1, 52.1, 52.1, 52.1, 52.1, 52.1, 52.1, 52.1, 52.1, 52.1, 52.1], [50.7, 50.7, 50.7, 50.7, 50.7, 50.7, 50.7, 50.7, 50.7, 50.7, 50.7, 50.7, 50.7, 50.7, 50.7, 50.7, 50.7, 50.7, 50.7, 50.7, 50.7, 50.7, 50.7, 50.7, 50.7, 50.7, 50.7, 50.7, 50.7, 50.7], [50.9, 50.9, 50.9, 50.9, 50.9, 50.9, 50.9, 50.9, 50.9, 50.9, 50.9, 50.9, 50.9, 50.9, 50.9, 50.9, 50.9, 50.9, 50.9, 50.9, 50.9, 50.9, 50.9, 50.9, 50.9, 50.9, 50.9, 50.9, 50.9, 50.9], [51.5, 51.5, 51.5, 51.5, 51.5, 51.5, 51.5, 51.5, 51.5, 51.5, 51.5, 51.5, 51.5, 51.5, 51.5, 51.5, 51.5, 51.5, 51.5, 51.5, 51.5, 51.5, 51.5, 51.5, 51.5, 51.5, 51.5, 51.5, 51.5, 51.5], [51.7, 51.7, 51.7, 51.7, 51.7, 51.7, 51.7, 51.7, 51.7, 51.7, 51.7, 51.7, 51.7, 51.7, 51.7, 51.7, 51.7, 51.7, 51.7, 51.7, 51.7, 51.7, 51.7, 51.7, 51.7, 51.7, 51.7, 51.7, 51.7, 51.7], [52.8, 52.8, 52.8, 52.8, 52.8, 52.8, 52.8, 52.8, 52.8, 52.8, 52.8, 52.8, 52.8, 52.8, 52.8, 52.8, 52.8, 52.8, 52.8, 52.8, 52.8, 52.8, 52.8, 52.8, 52.8, 52.8, 52.8, 52.8, 52.8, 52.8], [53.0, 53.0, 53.0, 53.0, 53.0, 53.0, 53.0, 53.0, 53.0, 53.0, 53.0, 53.0, 53.0, 53.0, 53.0, 53.0, 53.0, 53.0, 53.0, 53.0, 53.0, 53.0, 53.0, 53.0, 53.0, 53.0, 53.0, 53.0, 53.0, 53.0]]\n"
     ]
    }
   ],
   "source": [
    "forecasts = make_forecasts(train, test, n_lag, n_seq)\n",
    "print(forecasts)"
   ]
  },
  {
   "cell_type": "code",
   "execution_count": 98,
   "metadata": {},
   "outputs": [],
   "source": [
    "# evaluate the RMSE for each forecast time step\n",
    "def evaluate_forecasts(test, forecasts, n_lag, n_seq):\n",
    "\tfor i in range(n_seq):\n",
    "\t\tactual = test[:,(n_lag+i)]\n",
    "\t\tpredicted = [forecast[i] for forecast in forecasts]\n",
    "\t\trmse = np.sqrt(mean_squared_error(actual, predicted))\n",
    "\t\tprint('t+%d RMSE: %f' % ((i+1), rmse))"
   ]
  },
  {
   "cell_type": "code",
   "execution_count": 99,
   "metadata": {},
   "outputs": [
    {
     "name": "stdout",
     "output_type": "stream",
     "text": [
      "t+1 RMSE: 0.887710\n",
      "t+2 RMSE: 1.240117\n",
      "t+3 RMSE: 1.514235\n",
      "t+4 RMSE: 1.760486\n",
      "t+5 RMSE: 1.950399\n",
      "t+6 RMSE: 2.129247\n",
      "t+7 RMSE: 2.295124\n",
      "t+8 RMSE: 2.444270\n",
      "t+9 RMSE: 2.580980\n",
      "t+10 RMSE: 2.702023\n",
      "t+11 RMSE: 2.830778\n",
      "t+12 RMSE: 2.960656\n",
      "t+13 RMSE: 3.074414\n",
      "t+14 RMSE: 3.212773\n",
      "t+15 RMSE: 3.337330\n",
      "t+16 RMSE: 3.473135\n",
      "t+17 RMSE: 3.601577\n",
      "t+18 RMSE: 3.712239\n",
      "t+19 RMSE: 3.795772\n",
      "t+20 RMSE: 3.882153\n",
      "t+21 RMSE: 3.981587\n",
      "t+22 RMSE: 4.057324\n",
      "t+23 RMSE: 4.124984\n",
      "t+24 RMSE: 4.196964\n",
      "t+25 RMSE: 4.274138\n",
      "t+26 RMSE: 4.349328\n",
      "t+27 RMSE: 4.434112\n",
      "t+28 RMSE: 4.523591\n",
      "t+29 RMSE: 4.591565\n",
      "t+30 RMSE: 4.647519\n"
     ]
    }
   ],
   "source": [
    "evaluate_forecasts(test, forecasts, n_lag, n_seq)\n"
   ]
  },
  {
   "cell_type": "code",
   "execution_count": 100,
   "metadata": {},
   "outputs": [],
   "source": [
    "def plot_forecasts(series, forecasts, n_test):\n",
    "\t# plot the entire dataset in blue\n",
    "\tplt.plot(series.values)\n",
    "\t# plot the forecasts in red\n",
    "\tfor i in range(len(forecasts)):\n",
    "\t\toff_s = len(series) - n_test + i - 1\n",
    "\t\toff_e = off_s + len(forecasts[i]) + 1\n",
    "\t\txaxis = [x for x in range(off_s, off_e)]\n",
    "\t\tyaxis = [series.values[off_s]] + forecasts[i]\n",
    "\t\tplt.plot(xaxis, yaxis, color='red')\n",
    "\t# show the plot\n",
    "\tplt.show()\n"
   ]
  },
  {
   "cell_type": "code",
   "execution_count": 101,
   "metadata": {},
   "outputs": [
    {
     "data": {
      "image/png": "[encoded data removed]",
      "text/plain": [
       "<Figure size 432x288 with 1 Axes>"
      ]
     },
     "metadata": {
      "needs_background": "light"
     },
     "output_type": "display_data"
    }
   ],
   "source": [
    "plot_forecasts(close_prices, forecasts, n_test+2)"
   ]
  },
  {
   "cell_type": "code",
   "execution_count": 104,
   "metadata": {},
   "outputs": [],
   "source": [
    "def difference(dataset, interval=1):\n",
    "\tdiff = list()\n",
    "\tfor i in range(interval, len(dataset)):\n",
    "\t\tvalue = dataset[i] - dataset[i - interval]\n",
    "\t\tdiff.append(value)\n",
    "\treturn pd.Series(diff)"
   ]
  },
  {
   "cell_type": "code",
   "execution_count": 105,
   "metadata": {},
   "outputs": [],
   "source": [
    "def prepare_data(series, n_test, n_lag, n_seq):\n",
    "\t# extract raw values\n",
    "\traw_values = series.values\n",
    "\t# transform data to be stationary\n",
    "\tdiff_series = difference(raw_values, 1)\n",
    "\tdiff_values = diff_series.values\n",
    "\tdiff_values = diff_values.reshape(len(diff_values), 1)\n",
    "\t# rescale values to -1, 1\n",
    "\tscaler = MinMaxScaler(feature_range=(-1, 1))\n",
    "\tscaled_values = scaler.fit_transform(diff_values)\n",
    "\tscaled_values = scaled_values.reshape(len(scaled_values), 1)\n",
    "\t# transform into supervised learning problem X, y\n",
    "\tsupervised = series_to_supervised(scaled_values, n_lag, n_seq)\n",
    "\tprint(supervised)\n",
    "\tsupervised_values = supervised.values\n",
    "\t# split into train and test sets\n",
    "\ttrain, test = supervised_values[0:-n_test], supervised_values[-n_test:]\n",
    "\treturn scaler, train, test"
   ]
  },
  {
   "cell_type": "code",
   "execution_count": 106,
   "metadata": {},
   "outputs": [
    {
     "name": "stdout",
     "output_type": "stream",
     "text": [
      "      var1(t-60)  var1(t-59)  var1(t-58)  var1(t-57)  var1(t-56)  var1(t-55)  \\\n",
      "60      0.420108    0.439116    0.458124    0.477098    0.496072   -0.434507   \n",
      "61      0.439116    0.458124    0.477098    0.496072   -0.434507   -0.415499   \n",
      "62      0.458124    0.477098    0.496072   -0.434507   -0.415499   -0.396525   \n",
      "63      0.477098    0.496072   -0.434507   -0.415499   -0.396525    0.439116   \n",
      "64      0.496072   -0.434507   -0.415499   -0.396525    0.439116    0.439116   \n",
      "...          ...         ...         ...         ...         ...         ...   \n",
      "3455   -0.025585    0.139094    0.073222   -0.025585    0.204966    0.188515   \n",
      "3456    0.139094    0.073222   -0.025585    0.204966    0.188515   -0.009134   \n",
      "3457    0.073222   -0.025585    0.204966    0.188515   -0.009134    0.108076   \n",
      "3458   -0.025585    0.204966    0.188515   -0.009134    0.108076   -0.010177   \n",
      "3459    0.204966    0.188515   -0.009134    0.108076   -0.010177    0.040287   \n",
      "\n",
      "      var1(t-54)  var1(t-53)  var1(t-52)  var1(t-51)  ...  var1(t+20)  \\\n",
      "60     -0.415499   -0.396525    0.439116    0.439116  ...    0.135360   \n",
      "61     -0.396525    0.439116    0.439116    0.040287  ...   -0.149826   \n",
      "62      0.439116    0.439116    0.040287   -0.339568  ...    0.135326   \n",
      "63      0.439116    0.040287   -0.339568   -0.339535  ...   -0.244832   \n",
      "64      0.040287   -0.339568   -0.339535    0.230197  ...   -0.434944   \n",
      "...          ...         ...         ...         ...  ...         ...   \n",
      "3455   -0.009134    0.108076   -0.010177    0.040287  ...    0.208498   \n",
      "3456    0.108076   -0.010177    0.040287    0.107571  ...   -0.228852   \n",
      "3457   -0.010177    0.040287    0.107571    0.158035  ...   -0.026998   \n",
      "3458    0.040287    0.107571    0.158035    0.393531  ...    0.174856   \n",
      "3459    0.107571    0.158035    0.393531    0.174856  ...    0.040287   \n",
      "\n",
      "      var1(t+21)  var1(t+22)  var1(t+23)  var1(t+24)  var1(t+25)  var1(t+26)  \\\n",
      "60     -0.149826    0.135326   -0.244832   -0.434944   -0.415903   -0.377921   \n",
      "61      0.135326   -0.244832   -0.434944   -0.415903   -0.377921   -0.130784   \n",
      "62     -0.244832   -0.434944   -0.415903   -0.377921   -0.130784    0.192350   \n",
      "63     -0.434944   -0.415903   -0.377921   -0.130784    0.192350    0.211358   \n",
      "64     -0.415903   -0.377921   -0.130784    0.192350    0.211358    0.458494   \n",
      "...          ...         ...         ...         ...         ...         ...   \n",
      "3455   -0.228852   -0.026998    0.174856    0.040287    0.073929    0.040287   \n",
      "3456   -0.026998    0.174856    0.040287    0.073929    0.040287    0.208498   \n",
      "3457    0.174856    0.040287    0.073929    0.040287    0.208498    0.477636   \n",
      "3458    0.040287    0.073929    0.040287    0.208498    0.477636   -0.296136   \n",
      "3459    0.073929    0.040287    0.208498    0.477636   -0.296136    0.208498   \n",
      "\n",
      "      var1(t+27)  var1(t+28)  var1(t+29)  \n",
      "60     -0.130784    0.192350    0.211358  \n",
      "61      0.192350    0.211358    0.458494  \n",
      "62      0.211358    0.458494    0.477502  \n",
      "63      0.458494    0.477502    0.287389  \n",
      "64      0.477502    0.287389    0.040287  \n",
      "...          ...         ...         ...  \n",
      "3455    0.208498    0.477636   -0.296136  \n",
      "3456    0.477636   -0.296136    0.208498  \n",
      "3457   -0.296136    0.208498    0.107571  \n",
      "3458    0.208498    0.107571   -0.127925  \n",
      "3459    0.107571   -0.127925    0.174856  \n",
      "\n",
      "[3400 rows x 90 columns]\n"
     ]
    }
   ],
   "source": [
    "scaler, train, test = prepare_data(close_prices, n_test, n_lag, n_seq)\n"
   ]
  },
  {
   "cell_type": "code",
   "execution_count": 256,
   "metadata": {},
   "outputs": [],
   "source": [
    "def lstm(X,y,n_batch,n_neurons):\n",
    "    model = Sequential()\n",
    "    model.add(LSTM(n_neurons, batch_input_shape=(n_batch, X.shape[1], X.shape[2]), stateful=True))\n",
    "    model.add(Dense(y.shape[1]))\n",
    "    model.compile(loss='mean_squared_error', optimizer='adam')\n",
    "    return model"
   ]
  },
  {
   "cell_type": "code",
   "execution_count": 107,
   "metadata": {},
   "outputs": [],
   "source": [
    "def fit_lstm(train, n_lag, n_seq, n_batch, nb_epoch, n_neurons):\n",
    "\t# reshape training into [samples, timesteps, features]\n",
    "\tX, y = train[:, 0:n_lag], train[:, n_lag:]\n",
    "\tX = X.reshape(X.shape[0], 1, X.shape[1])\n",
    "\t# design network\n",
    "\tmodel = Sequential()\n",
    "\tmodel.add(LSTM(n_neurons, batch_input_shape=(n_batch, X.shape[1], X.shape[2]), stateful=True))\n",
    "\tmodel.add(Dense(y.shape[1]))\n",
    "\tmodel.compile(loss='mean_squared_error', optimizer='adam')\n",
    "    \n",
    "\t# fit network\n",
    "\tfor i in range(nb_epoch):\n",
    "\t\tmodel.fit(X, y, epochs=1, batch_size=n_batch, verbose=1, shuffle=False)\n",
    "\t\tmodel.reset_states()\n",
    "\treturn model\n"
   ]
  },
  {
   "cell_type": "code",
   "execution_count": 267,
   "metadata": {},
   "outputs": [
    {
     "name": "stdout",
     "output_type": "stream",
     "text": [
      "('Failed to import pydot. You must `pip install pydot` and install graphviz (https://graphviz.gitlab.io/download/), ', 'for `pydotprint` to work.')\n"
     ]
    }
   ],
   "source": [
    "from keras.utils.vis_utils import plot_model\n",
    "plot_model(model, to_file='model_plot.png', show_shapes=True, show_layer_names=True)"
   ]
  },
  {
   "cell_type": "code",
   "execution_count": 265,
   "metadata": {},
   "outputs": [
    {
     "name": "stdout",
     "output_type": "stream",
     "text": [
      "Requirement already satisfied: pydot in c:\\users\\vinhdt17\\anaconda3\\lib\\site-packages (1.4.1)\n",
      "Requirement already satisfied: pyparsing>=2.1.4 in c:\\users\\vinhdt17\\anaconda3\\lib\\site-packages (from pydot) (2.4.7)\n",
      "Collecting graphviz\n",
      "  Downloading graphviz-0.16-py2.py3-none-any.whl (19 kB)\n",
      "Installing collected packages: graphviz\n",
      "Successfully installed graphviz-0.16\n"
     ]
    }
   ],
   "source": [
    "!pip install pydot\n",
    "!pip install graphviz"
   ]
  },
  {
   "cell_type": "code",
   "execution_count": 108,
   "metadata": {},
   "outputs": [
    {
     "name": "stdout",
     "output_type": "stream",
     "text": [
      "   1/3200 [..............................] - ETA: 0s - loss: 0.0794WARNING:tensorflow:Callbacks method `on_train_batch_end` is slow compared to the batch time (batch time: 0.0000s vs `on_train_batch_end` time: 0.0081s). Check your callbacks.\n",
      "3200/3200 [==============================] - 3s 956us/step - loss: 0.0149\n",
      "3200/3200 [==============================] - 3s 862us/step - loss: 0.0149\n",
      "3200/3200 [==============================] - 3s 854us/step - loss: 0.0148\n",
      "3200/3200 [==============================] - 4s 1ms/step - loss: 0.0148\n",
      "3200/3200 [==============================] - 3s 891us/step - loss: 0.0148\n",
      "3200/3200 [==============================] - 3s 878us/step - loss: 0.0148\n",
      "3200/3200 [==============================] - 3s 870us/step - loss: 0.0148\n",
      "3200/3200 [==============================] - 3s 978us/step - loss: 0.0148\n",
      "3200/3200 [==============================] - 3s 973us/step - loss: 0.0148\n",
      "3200/3200 [==============================] - 3s 997us/step - loss: 0.0148\n",
      "3200/3200 [==============================] - 3s 1ms/step - loss: 0.0148\n",
      "3200/3200 [==============================] - 3s 1ms/step - loss: 0.0148\n",
      "3200/3200 [==============================] - 3s 993us/step - loss: 0.0148\n",
      "3200/3200 [==============================] - 3s 1ms/step - loss: 0.0148\n",
      "3200/3200 [==============================] - 3s 1ms/step - loss: 0.0148\n",
      "3200/3200 [==============================] - 3s 999us/step - loss: 0.0148\n",
      "3200/3200 [==============================] - 3s 1ms/step - loss: 0.0147\n",
      "3200/3200 [==============================] - 3s 1ms/step - loss: 0.0147\n",
      "3200/3200 [==============================] - 3s 974us/step - loss: 0.0147\n",
      "3200/3200 [==============================] - 3s 1ms/step - loss: 0.0147\n",
      "3200/3200 [==============================] - 3s 1ms/step - loss: 0.0147\n",
      "3200/3200 [==============================] - 3s 988us/step - loss: 0.0147\n",
      "3200/3200 [==============================] - 4s 1ms/step - loss: 0.0147\n",
      "3200/3200 [==============================] - 4s 1ms/step - loss: 0.0147\n",
      "3200/3200 [==============================] - 3s 1ms/step - loss: 0.0147\n",
      "3200/3200 [==============================] - 3s 1ms/step - loss: 0.0147\n",
      "3200/3200 [==============================] - 3s 998us/step - loss: 0.0147\n",
      "3200/3200 [==============================] - 4s 1ms/step - loss: 0.0147\n",
      "3200/3200 [==============================] - 3s 1ms/step - loss: 0.0147\n",
      "3200/3200 [==============================] - 3s 1ms/step - loss: 0.0147\n",
      "3200/3200 [==============================] - 3s 1ms/step - loss: 0.0147\n",
      "3200/3200 [==============================] - 3s 984us/step - loss: 0.0147\n",
      "3200/3200 [==============================] - 3s 1ms/step - loss: 0.0147\n",
      "3200/3200 [==============================] - 3s 1ms/step - loss: 0.0147\n",
      "3200/3200 [==============================] - 3s 1ms/step - loss: 0.0147\n",
      "3200/3200 [==============================] - 3s 1ms/step - loss: 0.0147\n",
      "3200/3200 [==============================] - 3s 1ms/step - loss: 0.0147\n",
      "3200/3200 [==============================] - 3s 1ms/step - loss: 0.0147\n",
      "3200/3200 [==============================] - 3s 1ms/step - loss: 0.0147\n",
      "3200/3200 [==============================] - 3s 1ms/step - loss: 0.0147\n",
      "3200/3200 [==============================] - 4s 1ms/step - loss: 0.0147\n",
      "3200/3200 [==============================] - 4s 1ms/step - loss: 0.0147\n",
      "3200/3200 [==============================] - 3s 1ms/step - loss: 0.0147\n",
      "3200/3200 [==============================] - 3s 1ms/step - loss: 0.0147\n",
      "3200/3200 [==============================] - 3s 1ms/step - loss: 0.0147\n",
      "3200/3200 [==============================] - 3s 1ms/step - loss: 0.0147\n",
      "3200/3200 [==============================] - 3s 986us/step - loss: 0.0147\n",
      "3200/3200 [==============================] - 3s 1ms/step - loss: 0.0147\n",
      "3200/3200 [==============================] - 3s 1ms/step - loss: 0.0147\n",
      "3200/3200 [==============================] - 3s 1ms/step - loss: 0.0147\n",
      "3200/3200 [==============================] - 3s 1ms/step - loss: 0.0147\n",
      "3200/3200 [==============================] - 3s 1ms/step - loss: 0.0147\n",
      "3200/3200 [==============================] - 3s 1ms/step - loss: 0.0147\n",
      "3200/3200 [==============================] - 3s 1ms/step - loss: 0.0147\n",
      "3200/3200 [==============================] - 4s 1ms/step - loss: 0.0147\n",
      "3200/3200 [==============================] - 3s 1ms/step - loss: 0.0147\n",
      "3200/3200 [==============================] - 3s 982us/step - loss: 0.0147\n",
      "3200/3200 [==============================] - 3s 1ms/step - loss: 0.0147\n",
      "3200/3200 [==============================] - 3s 1ms/step - loss: 0.0147\n",
      "3200/3200 [==============================] - 4s 1ms/step - loss: 0.0147\n",
      "3200/3200 [==============================] - 3s 1ms/step - loss: 0.0147\n",
      "3200/3200 [==============================] - 3s 1ms/step - loss: 0.0147\n",
      "3200/3200 [==============================] - 4s 1ms/step - loss: 0.0147\n",
      "3200/3200 [==============================] - 4s 1ms/step - loss: 0.0147\n",
      "3200/3200 [==============================] - 3s 1ms/step - loss: 0.0147\n",
      "3200/3200 [==============================] - 3s 1ms/step - loss: 0.0147\n",
      "3200/3200 [==============================] - 3s 1ms/step - loss: 0.0147\n",
      "3200/3200 [==============================] - 3s 1ms/step - loss: 0.0147\n",
      "3200/3200 [==============================] - 3s 1ms/step - loss: 0.0147\n",
      "3200/3200 [==============================] - 3s 1ms/step - loss: 0.0147\n",
      "3200/3200 [==============================] - 3s 1ms/step - loss: 0.0147\n",
      "3200/3200 [==============================] - 3s 1ms/step - loss: 0.0147\n",
      "3200/3200 [==============================] - 3s 1ms/step - loss: 0.0146\n",
      "3200/3200 [==============================] - 3s 1ms/step - loss: 0.0147\n",
      "3200/3200 [==============================] - 3s 1ms/step - loss: 0.0146\n",
      "3200/3200 [==============================] - 3s 1ms/step - loss: 0.0147\n",
      "3200/3200 [==============================] - 3s 1ms/step - loss: 0.0146\n",
      "3200/3200 [==============================] - 5s 1ms/step - loss: 0.0147\n",
      "3200/3200 [==============================] - 4s 1ms/step - loss: 0.0146\n",
      "3200/3200 [==============================] - 4s 1ms/step - loss: 0.0147\n",
      "3200/3200 [==============================] - 4s 1ms/step - loss: 0.0146\n",
      "3200/3200 [==============================] - 4s 1ms/step - loss: 0.0147\n",
      "3200/3200 [==============================] - 3s 1ms/step - loss: 0.0146\n",
      "3200/3200 [==============================] - 3s 1ms/step - loss: 0.0147\n",
      "3200/3200 [==============================] - 3s 1ms/step - loss: 0.0146\n",
      "3200/3200 [==============================] - 3s 1ms/step - loss: 0.0146\n",
      "3200/3200 [==============================] - 4s 1ms/step - loss: 0.0147\n",
      "3200/3200 [==============================] - 3s 1ms/step - loss: 0.0146\n",
      "3200/3200 [==============================] - 3s 1ms/step - loss: 0.0147\n",
      "3200/3200 [==============================] - 3s 1ms/step - loss: 0.0147\n",
      "3200/3200 [==============================] - 3s 1ms/step - loss: 0.0146\n",
      "3200/3200 [==============================] - 3s 1ms/step - loss: 0.0147\n",
      "3200/3200 [==============================] - 4s 1ms/step - loss: 0.0146\n",
      "3200/3200 [==============================] - 4s 1ms/step - loss: 0.0147\n",
      "3200/3200 [==============================] - 5s 1ms/step - loss: 0.0147\n",
      "3200/3200 [==============================] - 4s 1ms/step - loss: 0.0146\n",
      "3200/3200 [==============================] - 4s 1ms/step - loss: 0.0146\n",
      "3200/3200 [==============================] - 4s 1ms/step - loss: 0.0147\n",
      "3200/3200 [==============================] - 4s 1ms/step - loss: 0.0146\n",
      "3200/3200 [==============================] - 4s 1ms/step - loss: 0.0146\n",
      "3200/3200 [==============================] - 4s 1ms/step - loss: 0.0147\n",
      "3200/3200 [==============================] - 4s 1ms/step - loss: 0.0146\n",
      "3200/3200 [==============================] - 4s 1ms/step - loss: 0.0146\n",
      "3200/3200 [==============================] - 4s 1ms/step - loss: 0.0146\n",
      "3200/3200 [==============================] - 4s 1ms/step - loss: 0.0146\n",
      "3200/3200 [==============================] - 4s 1ms/step - loss: 0.0146\n",
      "3200/3200 [==============================] - 4s 1ms/step - loss: 0.0146\n",
      "3200/3200 [==============================] - 4s 1ms/step - loss: 0.0146\n",
      "3200/3200 [==============================] - 4s 1ms/step - loss: 0.0146\n",
      "3200/3200 [==============================] - 4s 1ms/step - loss: 0.0146\n",
      "3200/3200 [==============================] - 4s 1ms/step - loss: 0.0146\n",
      "3200/3200 [==============================] - 5s 1ms/step - loss: 0.0146\n",
      "3200/3200 [==============================] - 4s 1ms/step - loss: 0.0146\n",
      "3200/3200 [==============================] - 4s 1ms/step - loss: 0.0146\n",
      "3200/3200 [==============================] - 4s 1ms/step - loss: 0.0146\n",
      "3200/3200 [==============================] - 5s 1ms/step - loss: 0.0146\n",
      "3200/3200 [==============================] - 4s 1ms/step - loss: 0.0146\n",
      "3200/3200 [==============================] - 4s 1ms/step - loss: 0.0146\n",
      "3200/3200 [==============================] - 4s 1ms/step - loss: 0.0146\n",
      "3200/3200 [==============================] - 4s 1ms/step - loss: 0.0146\n",
      "3200/3200 [==============================] - 4s 1ms/step - loss: 0.0146\n",
      "3200/3200 [==============================] - 4s 1ms/step - loss: 0.0146\n",
      "3200/3200 [==============================] - 4s 1ms/step - loss: 0.0146\n",
      "3200/3200 [==============================] - 4s 1ms/step - loss: 0.0146\n",
      "3200/3200 [==============================] - 4s 1ms/step - loss: 0.0146\n",
      "3200/3200 [==============================] - 4s 1ms/step - loss: 0.0146\n",
      "3200/3200 [==============================] - 4s 1ms/step - loss: 0.0146\n",
      "3200/3200 [==============================] - 5s 1ms/step - loss: 0.0146\n",
      "3200/3200 [==============================] - 4s 1ms/step - loss: 0.0146\n",
      "3200/3200 [==============================] - 4s 1ms/step - loss: 0.0146\n",
      "3200/3200 [==============================] - 4s 1ms/step - loss: 0.0146\n",
      "3200/3200 [==============================] - 4s 1ms/step - loss: 0.0146\n",
      "3200/3200 [==============================] - 4s 1ms/step - loss: 0.0146\n",
      "3200/3200 [==============================] - 4s 1ms/step - loss: 0.0146\n",
      "3200/3200 [==============================] - 4s 1ms/step - loss: 0.0146\n",
      "3200/3200 [==============================] - 4s 1ms/step - loss: 0.0146\n",
      "3200/3200 [==============================] - 4s 1ms/step - loss: 0.0146\n",
      "3200/3200 [==============================] - 4s 1ms/step - loss: 0.0146\n",
      "3200/3200 [==============================] - 4s 1ms/step - loss: 0.0146\n",
      "3200/3200 [==============================] - 4s 1ms/step - loss: 0.0146\n",
      "3200/3200 [==============================] - 4s 1ms/step - loss: 0.0146\n",
      "3200/3200 [==============================] - 4s 1ms/step - loss: 0.0146\n",
      "3200/3200 [==============================] - 4s 1ms/step - loss: 0.0146\n",
      "3200/3200 [==============================] - 4s 1ms/step - loss: 0.0146\n",
      "3200/3200 [==============================] - 6s 2ms/step - loss: 0.0146\n",
      "3200/3200 [==============================] - 4s 1ms/step - loss: 0.0146\n",
      "3200/3200 [==============================] - 4s 1ms/step - loss: 0.0146\n",
      "3200/3200 [==============================] - 6s 2ms/step - loss: 0.0146\n",
      "3200/3200 [==============================] - 5s 1ms/step - loss: 0.0146\n",
      "3200/3200 [==============================] - 5s 1ms/step - loss: 0.0146\n"
     ]
    }
   ],
   "source": [
    "model = fit_lstm(train, n_lag, n_seq, 1, 150, 1)"
   ]
  },
  {
   "cell_type": "code",
   "execution_count": 212,
   "metadata": {},
   "outputs": [],
   "source": [
    "# make one forecast with an LSTM,\n",
    "def forecast_lstm(model, X, n_batch):\n",
    "\t# reshape input pattern to [samples, timesteps, features]\n",
    "\tX = X.reshape(1, 1, len(X))\n",
    "\t# make forecast\n",
    "\tforecast = model.predict(X, batch_size=n_batch)\n",
    "\t# convert to array\n",
    "\treturn [x for x in forecast[0, :]]"
   ]
  },
  {
   "cell_type": "code",
   "execution_count": 213,
   "metadata": {},
   "outputs": [],
   "source": [
    "def make_forecasts(model, n_batch, train, test, n_lag, n_seq):\n",
    "\tforecasts = list()\n",
    "\tfor i in range(len(test)):\n",
    "\t\tX, y = test[i, 0:n_lag], test[i, n_lag:]\n",
    "\t\t# make forecast\n",
    "\t\tforecast = forecast_lstm(model, X, n_batch)\n",
    "\t\t# store the forecast\n",
    "\t\tforecasts.append(forecast)\n",
    "\treturn forecasts"
   ]
  },
  {
   "cell_type": "code",
   "execution_count": 214,
   "metadata": {},
   "outputs": [
    {
     "name": "stdout",
     "output_type": "stream",
     "text": [
      "200\n"
     ]
    }
   ],
   "source": [
    "forecasts = make_forecasts(model, 1, train, test, n_lag, n_seq)\n",
    "print(len(forecasts))"
   ]
  },
  {
   "cell_type": "code",
   "execution_count": 215,
   "metadata": {},
   "outputs": [],
   "source": [
    "# invert differenced forecast\n",
    "def inverse_difference(last_ob, forecast):\n",
    "\t# invert first forecast\n",
    "\tinverted = list()\n",
    "\tinverted.append(forecast[0] + last_ob)\n",
    "\t# propagate difference forecast using inverted first value\n",
    "\tfor i in range(1, len(forecast)):\n",
    "\t\tinverted.append(forecast[i] + inverted[i-1])\n",
    "\treturn inverted"
   ]
  },
  {
   "cell_type": "code",
   "execution_count": 216,
   "metadata": {},
   "outputs": [],
   "source": [
    "def inverse_transform(series, forecasts, scaler, n_test):\n",
    "\tinverted = list()\n",
    "\tfor i in range(len(forecasts)):\n",
    "\t\t# create array from forecast\n",
    "\t\tforecast = np.array(forecasts[i])\n",
    "\t\tforecast = forecast.reshape(1, len(forecast))\n",
    "\t\t# invert scaling\n",
    "\t\tinv_scale = scaler.inverse_transform(forecast)\n",
    "\t\tinv_scale = inv_scale[0, :]\n",
    "\t\t# invert differencing\n",
    "\t\tindex = len(series) - n_test + i - 1\n",
    "\t\tlast_ob = series.values[index]\n",
    "\t\tinv_diff = inverse_difference(last_ob, inv_scale)\n",
    "\t\t# store\n",
    "\t\tinverted.append(inv_diff)\n",
    "\treturn inverted"
   ]
  },
  {
   "cell_type": "code",
   "execution_count": 217,
   "metadata": {},
   "outputs": [],
   "source": [
    "forecasts = inverse_transform(close_prices, forecasts, scaler, n_test+2)\n"
   ]
  },
  {
   "cell_type": "code",
   "execution_count": 218,
   "metadata": {},
   "outputs": [
    {
     "name": "stdout",
     "output_type": "stream",
     "text": [
      "[[[46.5497]\n",
      "  [44.9619]\n",
      "  [45.7976]\n",
      "  ...\n",
      "  [44.9619]\n",
      "  [44.2097]\n",
      "  [43.7083]]\n",
      "\n",
      " [[44.7948]\n",
      "  [45.6305]\n",
      "  [44.1262]\n",
      "  ...\n",
      "  [44.0426]\n",
      "  [43.5412]\n",
      "  [40.449 ]]\n",
      "\n",
      " [[46.4661]\n",
      "  [44.9618]\n",
      "  [42.7053]\n",
      "  ...\n",
      "  [44.3768]\n",
      "  [41.2846]\n",
      "  [42.4546]]\n",
      "\n",
      " ...\n",
      "\n",
      " [[58.6   ]\n",
      "  [58.8   ]\n",
      "  [57.8   ]\n",
      "  ...\n",
      "  [62.3   ]\n",
      "  [62.8   ]\n",
      "  [63.    ]]\n",
      "\n",
      " [[56.7   ]\n",
      "  [55.7   ]\n",
      "  [56.1   ]\n",
      "  ...\n",
      "  [60.7   ]\n",
      "  [60.9   ]\n",
      "  [60.4   ]]\n",
      "\n",
      " [[56.    ]\n",
      "  [56.4   ]\n",
      "  [57.4   ]\n",
      "  ...\n",
      "  [61.2   ]\n",
      "  [60.7   ]\n",
      "  [61.1   ]]]\n"
     ]
    }
   ],
   "source": [
    "actual = [row[n_lag:] for row in test]\n",
    "actual = inverse_transform(close_prices, actual, scaler, n_test+2)\n",
    "print(np.asarray(actual))"
   ]
  },
  {
   "cell_type": "code",
   "execution_count": 219,
   "metadata": {},
   "outputs": [],
   "source": [
    "def evaluate_forecasts(test, forecasts, n_lag, n_seq):\n",
    "\ttotal_error = []\n",
    "\tfor i in range(n_seq):\n",
    "\t\tactual = np.asarray([row[i] for row in test])\n",
    "\t\tpredicted = np.asarray([forecast[i] for forecast in forecasts])\n",
    "# \t\tprint(actual[:30],predicted[:30])\n",
    "\t\terror = np.abs(actual - predicted)/actual\n",
    "# \t\terror.replace([np.inf, -np.inf], np.nan, inplace=True)\n",
    "\t\terror = error[~np.isnan(error)].mean()*100\n",
    "\t\ttotal_error.append(error)\n",
    "\t\tprint('t+%d MAPE: %f' % ((i+1), error))\n",
    "\tprint('Total:',np.array(total_error).mean())"
   ]
  },
  {
   "cell_type": "code",
   "execution_count": 220,
   "metadata": {},
   "outputs": [],
   "source": [
    "# plot the forecasts in the context of the original dataset\n",
    "def plot_forecasts(series, forecasts, n_test):\n",
    "\t# plot the entire dataset in blue\n",
    "\tplt.plot(np.concatenate((series.values[:len(series.values)-n_test],forecasts)))\n",
    "\tplt.plot(series.values)\n",
    "\t# plot the forecasts in red\n",
    "# \tfor i in range(len(forecasts)):\n",
    "# \t\toff_s = len(series) - n_test + i - 1\n",
    "# \t\toff_e = off_s + len(forecasts[i]) + 1\n",
    "# \t\txaxis = [x for x in range(off_s, off_e)]\n",
    "# \t\tyaxis = [series.values[off_s]] + forecasts[i]\n",
    "# \t\tplt.plot(xaxis, yaxis, color='red')\n",
    "\t# show the plot\n",
    "\tplt.show()"
   ]
  },
  {
   "cell_type": "code",
   "execution_count": 221,
   "metadata": {},
   "outputs": [],
   "source": [
    "def MAPE(y_true, y_pred):\n",
    "    error = np.abs(y_true - y_pred) / y_true\n",
    "    error.replace([np.inf, -np.inf], np.nan, inplace=True)\n",
    "    error = error[~np.isnan(error)]\n"
   ]
  },
  {
   "cell_type": "code",
   "execution_count": 254,
   "metadata": {},
   "outputs": [
    {
     "name": "stdout",
     "output_type": "stream",
     "text": [
      "(30, 1)\n",
      "(200, 30, 1)\n",
      "(30, 2)\n"
     ]
    },
    {
     "data": {
      "text/html": [
       "<div>\n",
       "<style scoped>\n",
       "    .dataframe tbody tr th:only-of-type {\n",
       "        vertical-align: middle;\n",
       "    }\n",
       "\n",
       "    .dataframe tbody tr th {\n",
       "        vertical-align: top;\n",
       "    }\n",
       "\n",
       "    .dataframe thead th {\n",
       "        text-align: right;\n",
       "    }\n",
       "</style>\n",
       "<table border=\"1\" class=\"dataframe\">\n",
       "  <thead>\n",
       "    <tr style=\"text-align: right;\">\n",
       "      <th></th>\n",
       "      <th>0</th>\n",
       "      <th>1</th>\n",
       "    </tr>\n",
       "  </thead>\n",
       "  <tbody>\n",
       "    <tr>\n",
       "      <th>0</th>\n",
       "      <td>46.939651</td>\n",
       "      <td>46.5497</td>\n",
       "    </tr>\n",
       "    <tr>\n",
       "      <th>1</th>\n",
       "      <td>47.100679</td>\n",
       "      <td>44.9619</td>\n",
       "    </tr>\n",
       "    <tr>\n",
       "      <th>2</th>\n",
       "      <td>47.235448</td>\n",
       "      <td>45.7976</td>\n",
       "    </tr>\n",
       "    <tr>\n",
       "      <th>3</th>\n",
       "      <td>47.309396</td>\n",
       "      <td>44.2933</td>\n",
       "    </tr>\n",
       "    <tr>\n",
       "      <th>4</th>\n",
       "      <td>47.394369</td>\n",
       "      <td>42.0368</td>\n",
       "    </tr>\n",
       "  </tbody>\n",
       "</table>\n",
       "</div>"
      ],
      "text/plain": [
       "           0        1\n",
       "0  46.939651  46.5497\n",
       "1  47.100679  44.9619\n",
       "2  47.235448  45.7976\n",
       "3  47.309396  44.2933\n",
       "4  47.394369  42.0368"
      ]
     },
     "execution_count": 254,
     "metadata": {},
     "output_type": "execute_result"
    }
   ],
   "source": [
    "# evaluate_forecasts(actual, forecasts, n_lag, n_seq)\n",
    "# plot forecasts\n",
    "# plot_forecasts(close_prices, np.asarray(forecasts)[:,2], n_test+2)\n",
    "# h = np.array(forecasts[0])\n",
    "# print(h)\n",
    "# for i in range(1,30):    \n",
    "#     tmp = abs((h[i]-h[i-1])/h[i-1])*100\n",
    "#     print(tmp)\n",
    "# forecasts = np.asarray(forecasts)\n",
    "# df_forecasts[:] = df_forecasts[:].T\n",
    "h = np.array(forecasts[0])\n",
    "print(h.shape)\n",
    "print(np.asarray(actual).shape)\n",
    "# print(actual[0])\n",
    "k = np.asarray(actual[0])\n",
    "ff = np.concatenate((h,k),axis=1)\n",
    "print(ff.shape)\n",
    "df_forecasts = pd.DataFrame(ff)\n",
    "df_forecasts.head()"
   ]
  },
  {
   "cell_type": "markdown",
   "metadata": {},
   "source": [
    "# Test class model"
   ]
  },
  {
   "cell_type": "code",
   "execution_count": 24,
   "metadata": {},
   "outputs": [],
   "source": [
    "import numpy as np\n",
    "from keras.models import Sequential\n",
    "from keras.layers import Dense\n",
    "from keras.layers import LSTM\n",
    "from keras.layers import Dropout\n",
    "\n",
    "class lstm():\n",
    "    \"\"\"A class for an building and inferencing an lstm model\"\"\"\n",
    "    \n",
    "    def __init__(self, input_shape):\n",
    "        self.model = Sequential()\n",
    "        \n",
    "        self.model.add(LSTM(units = 50, return_sequences = True, input_shape = input_shape))\n",
    "        self.model.add(Dropout(0.2))\n",
    "\n",
    "        self.model.add(LSTM(units = 50, return_sequences = True))\n",
    "        self.model.add(Dropout(0.2))\n",
    "\n",
    "        self.model.add(LSTM(units = 50, return_sequences = True))\n",
    "        self.model.add(Dropout(0.2))\n",
    "\n",
    "        self.model.add(LSTM(units = 50))\n",
    "        self.model.add(Dropout(0.2))\n",
    "\n",
    "        self.model.add(Dense(units = 1))\n",
    "\n",
    "        self.model.compile(optimizer = 'adam', loss = 'mean_squared_error')\n",
    "\n",
    "    def load_model_weights(self, filepath):\n",
    "        print('[Model] Loading model from file %s' % filepath)\n",
    "        self.model.load_weights(filepath)\n",
    "    \n",
    "    def predict(self,data):\n",
    "        #Predict each timestep given the last sequence of true data, in effect only predicting 1 step ahead each time\n",
    "        print('[Model] Predicting...')\n",
    "        predicted = self.model.predict(data)\n",
    "        predicted = np.reshape(predicted, (predicted.size,))\n",
    "        return predicted\n"
   ]
  },
  {
   "cell_type": "code",
   "execution_count": 25,
   "metadata": {},
   "outputs": [],
   "source": [
    "model = lstm((x_train.shape[1], 1))"
   ]
  },
  {
   "cell_type": "code",
   "execution_count": 26,
   "metadata": {},
   "outputs": [
    {
     "name": "stdout",
     "output_type": "stream",
     "text": [
      "[Model] Loading model from file model.h5\n"
     ]
    }
   ],
   "source": [
    "model.load_model_weights('model.h5')"
   ]
  },
  {
   "cell_type": "code",
   "execution_count": 31,
   "metadata": {},
   "outputs": [
    {
     "name": "stdout",
     "output_type": "stream",
     "text": [
      "[Model] Predicting...\n"
     ]
    }
   ],
   "source": [
    "y_pred = model.predict(X_test).reshape(-1,1)"
   ]
  },
  {
   "cell_type": "code",
   "execution_count": 32,
   "metadata": {},
   "outputs": [
    {
     "data": {
      "text/plain": [
       "500"
      ]
     },
     "execution_count": 32,
     "metadata": {},
     "output_type": "execute_result"
    }
   ],
   "source": [
    "predicted_stock_price = sc.inverse_transform(y_pred)\n",
    "# predicted_stock_price = np.insert(predicted_stock_price, 0,0)\n",
    "# print(test[:60].shape,predicted_stock_price.shape)\n",
    "predicted_stock_price = np.concatenate((test[:timestamp],predicted_stock_price))\n",
    "len(predicted_stock_price)\n",
    "# print(predicted_stock_price)"
   ]
  },
  {
   "cell_type": "code",
   "execution_count": 33,
   "metadata": {},
   "outputs": [
    {
     "ename": "NameError",
     "evalue": "name 'real_stock_price' is not defined",
     "output_type": "error",
     "traceback": [
      "\u001b[1;31m---------------------------------------------------------------------------\u001b[0m",
      "\u001b[1;31mNameError\u001b[0m                                 Traceback (most recent call last)",
      "\u001b[1;32m<ipython-input-33-de04094ef284>\u001b[0m in \u001b[0;36m<module>\u001b[1;34m\u001b[0m\n\u001b[0;32m      6\u001b[0m \u001b[1;33m\u001b[0m\u001b[0m\n\u001b[0;32m      7\u001b[0m     \u001b[1;32mreturn\u001b[0m \u001b[0mnp\u001b[0m\u001b[1;33m.\u001b[0m\u001b[0mmean\u001b[0m\u001b[1;33m(\u001b[0m\u001b[0merror\u001b[0m\u001b[1;33m)\u001b[0m \u001b[1;33m*\u001b[0m \u001b[1;36m100\u001b[0m\u001b[1;33m\u001b[0m\u001b[1;33m\u001b[0m\u001b[0m\n\u001b[1;32m----> 8\u001b[1;33m \u001b[0mMAPE\u001b[0m\u001b[1;33m(\u001b[0m\u001b[0mreal_stock_price\u001b[0m\u001b[1;33m,\u001b[0m\u001b[0mpredicted_stock_price\u001b[0m\u001b[1;33m)\u001b[0m\u001b[1;33m\u001b[0m\u001b[1;33m\u001b[0m\u001b[0m\n\u001b[0m",
      "\u001b[1;31mNameError\u001b[0m: name 'real_stock_price' is not defined"
     ]
    }
   ],
   "source": [
    "# predict 7 ngay dau tien cua 30 ngay test\n",
    "def MAPE(y_true, y_pred):\n",
    "    error = np.abs(y_true - y_pred) / y_true\n",
    "    error.replace([np.inf, -np.inf], np.nan, inplace=True)\n",
    "    error = error[~np.isnan(error)]\n",
    "\n",
    "    return np.mean(error) * 100\n",
    "MAPE(real_stock_price,predicted_stock_price)"
   ]
  },
  {
   "cell_type": "code",
   "execution_count": null,
   "metadata": {},
   "outputs": [],
   "source": []
  }
 ],
 "metadata": {
  "kernelspec": {
   "display_name": "Python 3",
   "language": "python",
   "name": "python3"
  },
  "language_info": {
   "codemirror_mode": {
    "name": "ipython",
    "version": 3
   },
   "file_extension": ".py",
   "mimetype": "text/x-python",
   "name": "python",
   "nbconvert_exporter": "python",
   "pygments_lexer": "ipython3",
   "version": "3.8.3"
  }
 },
 "nbformat": 4,
 "nbformat_minor": 4
}
