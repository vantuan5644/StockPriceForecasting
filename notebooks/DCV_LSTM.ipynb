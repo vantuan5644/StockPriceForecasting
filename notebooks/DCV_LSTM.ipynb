{
 "cells": [
  {
   "cell_type": "code",
   "execution_count": 52,
   "metadata": {},
   "outputs": [],
   "source": [
    "import numpy as np\n",
    "import matplotlib.pyplot as plt\n",
    "import pandas as pd\n",
    "\n",
    "from sklearn.preprocessing import MinMaxScaler\n",
    "from sklearn.preprocessing import LabelEncoder\n",
    "from sklearn.metrics import mean_squared_error\n",
    "from keras.models import Sequential\n",
    "from keras.layers import Dense\n",
    "from keras.layers import LSTM"
   ]
  },
  {
   "cell_type": "code",
   "execution_count": 53,
   "metadata": {},
   "outputs": [
    {
     "data": {
      "text/html": [
       "<div>\n",
       "<style scoped>\n",
       "    .dataframe tbody tr th:only-of-type {\n",
       "        vertical-align: middle;\n",
       "    }\n",
       "\n",
       "    .dataframe tbody tr th {\n",
       "        vertical-align: top;\n",
       "    }\n",
       "\n",
       "    .dataframe thead th {\n",
       "        text-align: right;\n",
       "    }\n",
       "</style>\n",
       "<table border=\"1\" class=\"dataframe\">\n",
       "  <thead>\n",
       "    <tr style=\"text-align: right;\">\n",
       "      <th></th>\n",
       "      <th>Ticker</th>\n",
       "      <th>Open</th>\n",
       "      <th>High</th>\n",
       "      <th>Low</th>\n",
       "      <th>Close</th>\n",
       "      <th>Volume</th>\n",
       "    </tr>\n",
       "    <tr>\n",
       "      <th>DateTime</th>\n",
       "      <th></th>\n",
       "      <th></th>\n",
       "      <th></th>\n",
       "      <th></th>\n",
       "      <th></th>\n",
       "      <th></th>\n",
       "    </tr>\n",
       "  </thead>\n",
       "  <tbody>\n",
       "    <tr>\n",
       "      <th>2006-12-13</th>\n",
       "      <td>FPT</td>\n",
       "      <td>22.5807</td>\n",
       "      <td>22.5807</td>\n",
       "      <td>22.5807</td>\n",
       "      <td>22.5807</td>\n",
       "      <td>83530</td>\n",
       "    </tr>\n",
       "    <tr>\n",
       "      <th>2006-12-14</th>\n",
       "      <td>FPT</td>\n",
       "      <td>23.7097</td>\n",
       "      <td>23.7097</td>\n",
       "      <td>23.7097</td>\n",
       "      <td>23.7097</td>\n",
       "      <td>280710</td>\n",
       "    </tr>\n",
       "    <tr>\n",
       "      <th>2006-12-15</th>\n",
       "      <td>FPT</td>\n",
       "      <td>24.8952</td>\n",
       "      <td>24.8952</td>\n",
       "      <td>24.8952</td>\n",
       "      <td>24.8952</td>\n",
       "      <td>265300</td>\n",
       "    </tr>\n",
       "    <tr>\n",
       "      <th>2006-12-18</th>\n",
       "      <td>FPT</td>\n",
       "      <td>26.1371</td>\n",
       "      <td>26.1371</td>\n",
       "      <td>26.1371</td>\n",
       "      <td>26.1372</td>\n",
       "      <td>215790</td>\n",
       "    </tr>\n",
       "    <tr>\n",
       "      <th>2006-12-19</th>\n",
       "      <td>FPT</td>\n",
       "      <td>27.4356</td>\n",
       "      <td>27.4356</td>\n",
       "      <td>27.4356</td>\n",
       "      <td>27.4356</td>\n",
       "      <td>137520</td>\n",
       "    </tr>\n",
       "  </tbody>\n",
       "</table>\n",
       "</div>"
      ],
      "text/plain": [
       "           Ticker     Open     High      Low    Close  Volume\n",
       "DateTime                                                     \n",
       "2006-12-13    FPT  22.5807  22.5807  22.5807  22.5807   83530\n",
       "2006-12-14    FPT  23.7097  23.7097  23.7097  23.7097  280710\n",
       "2006-12-15    FPT  24.8952  24.8952  24.8952  24.8952  265300\n",
       "2006-12-18    FPT  26.1371  26.1371  26.1371  26.1372  215790\n",
       "2006-12-19    FPT  27.4356  27.4356  27.4356  27.4356  137520"
      ]
     },
     "execution_count": 53,
     "metadata": {},
     "output_type": "execute_result"
    }
   ],
   "source": [
    "df_fpt= pd.read_csv('dataset/excel_fpt.csv')\n",
    "columns = [i.replace('<', '').replace('>', '') for i in df_fpt.columns]\n",
    "columns[1] = 'DateTime'\n",
    "df_fpt.rename(columns = {df_fpt.columns[i]: columns[i] for i in range(len(df_fpt.columns))}, inplace = True)\n",
    "df_fpt['DateTime'] = pd.to_datetime(df_fpt['DateTime'], format='%Y%m%d', errors='ignore')\n",
    "df_fpt = df_fpt.set_index('DateTime')\n",
    "df_fpt = df_fpt.sort_index()\n",
    "df_fpt.head()"
   ]
  },
  {
   "cell_type": "markdown",
   "metadata": {},
   "source": [
    "# CLOSE DIFF"
   ]
  },
  {
   "cell_type": "code",
   "execution_count": null,
   "metadata": {},
   "outputs": [],
   "source": [
    "df = df_fpt.copy()\n",
    "df['Close_diff_1'] = df['Close']-df.shift()['Close']\n",
    "df['Close_diff_3'] = df['Close']-df.shift(2)['Close']\n",
    "df['Close_diff_4'] = df['Close']-df.shift(3)['Close']\n",
    "df['Close_diff_5'] = df['Close']-df.shift(4)['Close']\n",
    "df['Close_diff_6'] = df['Close']-df.shift(5)['Close']\n",
    "df['Close_diff_7'] = df['Close']-df.shift(6)['Close']\n",
    "\n",
    "df.head()"
   ]
  },
  {
   "cell_type": "code",
   "execution_count": null,
   "metadata": {},
   "outputs": [],
   "source": [
    "df = df[['Close_diff_1','Close_diff_3','Close_diff_4','Close_diff_5','Close_diff_6','Close_diff_7']]\n",
    "df = df.dropna()\n",
    "y_train = df[['Close_diff_1']]['2007-01-01':'2017-01-01'].to_numpy()\n",
    "y_test = df[['Close_diff_1']]['2017-01-01':].to_numpy()\n",
    "x_train = df[['Close_diff_3','Close_diff_4','Close_diff_5','Close_diff_6','Close_diff_7']]['2007-01-01':'2017-01-01'].to_numpy()\n",
    "x_test = df[['Close_diff_3','Close_diff_4','Close_diff_5','Close_diff_6','Close_diff_7']]['2017-01-01':].to_numpy()\n",
    "# print(x_train)\n",
    "\n",
    "print(\"Train: {}\\t Test: {}\".format(len(x_train), len(x_test)))\n",
    "print(\"Shape:\", x_train.shape, y_train.shape)"
   ]
  },
  {
   "cell_type": "code",
   "execution_count": null,
   "metadata": {},
   "outputs": [],
   "source": [
    "# reshape input to be 3D [samples, timesteps, features]\n",
    "train_X = x_train.reshape((x_train.shape[0], 1, x_train.shape[1]))\n",
    "test_X = x_test.reshape((x_test.shape[0], 1, x_test.shape[1]))\n",
    "print(\"Shape:\", train_X.shape, y_train.shape)"
   ]
  },
  {
   "cell_type": "code",
   "execution_count": null,
   "metadata": {},
   "outputs": [],
   "source": [
    "# design network\n",
    "model = Sequential()\n",
    "model.add(LSTM(50, input_shape=(train_X.shape[1], train_X.shape[2])))\n",
    "model.add(Dense(1))\n",
    "model.compile(loss='mae', optimizer='adam')\n"
   ]
  },
  {
   "cell_type": "code",
   "execution_count": null,
   "metadata": {},
   "outputs": [],
   "source": [
    "model.summary()"
   ]
  },
  {
   "cell_type": "code",
   "execution_count": null,
   "metadata": {},
   "outputs": [],
   "source": [
    "history = model.fit(train_X, y_train, epochs=50, batch_size=72, verbose=1, shuffle=False)\n",
    "# plot history\n",
    "pyplot.plot(history.history['loss'], label='train')\n",
    "# pyplot.plot(history.history['val_loss'], label='test')\n",
    "pyplot.legend()\n",
    "pyplot.show()"
   ]
  },
  {
   "cell_type": "code",
   "execution_count": null,
   "metadata": {},
   "outputs": [],
   "source": [
    "yhat = model.predict(test_X)\n",
    "rmse = sqrt(mean_squared_error(y_test, yhat))\n",
    "print('Test RMSE: %.3f' % rmse)"
   ]
  },
  {
   "cell_type": "markdown",
   "metadata": {},
   "source": [
    "# Single LSTM "
   ]
  },
  {
   "cell_type": "code",
   "execution_count": 346,
   "metadata": {},
   "outputs": [
    {
     "name": "stdout",
     "output_type": "stream",
     "text": [
      "   index   DateTime Ticker     Open     High      Low    Close  Volume\n",
      "0      0 2006-12-13    FPT  22.5807  22.5807  22.5807  22.5807   83530\n",
      "1      1 2006-12-14    FPT  23.7097  23.7097  23.7097  23.7097  280710\n",
      "2      2 2006-12-15    FPT  24.8952  24.8952  24.8952  24.8952  265300\n",
      "3      3 2006-12-18    FPT  26.1371  26.1371  26.1371  26.1372  215790\n",
      "4      4 2006-12-19    FPT  27.4356  27.4356  27.4356  27.4356  137520\n",
      "(3490, 1)\n"
     ]
    }
   ],
   "source": [
    "df_fpt = df_fpt.sort_values('DateTime')\n",
    "df_fpt.reset_index(inplace=True)\n",
    "print(df_fpt.head())\n",
    "close_prices = df_fpt.iloc[:, 4:5].values\n",
    "print(close_prices.shape)"
   ]
  },
  {
   "cell_type": "code",
   "execution_count": 347,
   "metadata": {},
   "outputs": [
    {
     "data": {
      "image/png": "[encoded data removed]",
      "text/plain": [
       "<Figure size 1296x648 with 1 Axes>"
      ]
     },
     "metadata": {
      "needs_background": "light"
     },
     "output_type": "display_data"
    }
   ],
   "source": [
    "plt.figure(figsize = (18,9))\n",
    "plt.plot(range(df_fpt.shape[0]),(df_fpt['Close']))\n",
    "plt.xticks(range(0,df_fpt.shape[0],500),df_fpt['DateTime'].loc[::500],rotation=45)\n",
    "plt.xlabel('Date',fontsize=18)\n",
    "plt.ylabel('Close Price',fontsize=18)\n",
    "plt.show()"
   ]
  },
  {
   "cell_type": "code",
   "execution_count": 348,
   "metadata": {},
   "outputs": [
    {
     "data": {
      "image/png": "[encoded data removed]",
      "text/plain": [
       "<Figure size 432x288 with 1 Axes>"
      ]
     },
     "metadata": {
      "needs_background": "light"
     },
     "output_type": "display_data"
    }
   ],
   "source": [
    "import statsmodels.api as sm\n",
    "tmp = sm.graphics.tsa.plot_acf(df_fpt['Close'], lags=500)"
   ]
  },
  {
   "cell_type": "code",
   "execution_count": 349,
   "metadata": {},
   "outputs": [
    {
     "name": "stdout",
     "output_type": "stream",
     "text": [
      "(2970, 20) (2970,)\n",
      "[[22.5807 23.7097 24.8952 ... 28.7904 27.9437 27.9437]\n",
      " [23.7097 24.8952 26.1371 ... 27.9437 27.9437 28.2259]\n",
      " [24.8952 26.1371 27.4356 ... 27.9437 28.2259 29.6372]\n",
      " ...\n",
      " [30.9702 31.3354 31.5545 ... 32.8693 32.504  32.5406]\n",
      " [31.3354 31.5545 31.7006 ... 32.504  32.5406 33.0518]\n",
      " [31.5545 31.7006 31.7006 ... 32.5406 33.0518 32.7232]] [28.2259 29.6372 31.1049 ... 33.0518 32.7232 32.2119]\n"
     ]
    }
   ],
   "source": [
    "X_train = []\n",
    "y_train = []\n",
    "timestamp = 20\n",
    "for i in range(timestamp, len(close_prices)-500):\n",
    "    X_train.append(close_prices[i-timestamp:i, 0])\n",
    "    y_train.append(close_prices[i, 0])\n",
    "X_train, y_train = np.array(X_train), np.array(y_train)\n",
    "\n",
    "print(X_train.shape, y_train.shape)\n",
    "print(X_train, y_train)"
   ]
  },
  {
   "cell_type": "code",
   "execution_count": 350,
   "metadata": {},
   "outputs": [
    {
     "data": {
      "image/png": "[encoded data removed]",
      "text/plain": [
       "<Figure size 432x288 with 1 Axes>"
      ]
     },
     "metadata": {
      "needs_background": "light"
     },
     "output_type": "display_data"
    }
   ],
   "source": [
    "plt.plot(close_prices[:-200], color = 'black', label = 'FPT Stock Price train')\n",
    "# plt.plot(predicted_stock_price, color = 'green', label = 'Predicted FPT Stock Price')\n",
    "plt.title('FPT Stock Price Prediction')\n",
    "plt.xlabel('Time')\n",
    "plt.ylabel('FPT Stock Price')\n",
    "plt.legend()\n",
    "plt.show()\n"
   ]
  },
  {
   "cell_type": "code",
   "execution_count": 351,
   "metadata": {},
   "outputs": [],
   "source": [
    "from sklearn.preprocessing import MinMaxScaler\n",
    "sc = MinMaxScaler(feature_range = (0, 1))\n",
    "sc.fit(X_train)\n",
    "x_train = sc.fit_transform(X_train)\n",
    "y_train = sc.fit_transform(y_train.reshape(-1,1))\n",
    "x_train = np.reshape(x_train, (x_train.shape[0], x_train.shape[1], 1))"
   ]
  },
  {
   "cell_type": "code",
   "execution_count": 146,
   "metadata": {},
   "outputs": [
    {
     "name": "stdout",
     "output_type": "stream",
     "text": [
      "Epoch 1/25\n",
      "93/93 [==============================] - 7s 70ms/step - loss: 0.0159\n",
      "Epoch 2/25\n",
      "93/93 [==============================] - 6s 69ms/step - loss: 0.0034\n",
      "Epoch 3/25\n",
      "93/93 [==============================] - 6s 68ms/step - loss: 0.0029\n",
      "Epoch 4/25\n",
      "93/93 [==============================] - 6s 69ms/step - loss: 0.0027\n",
      "Epoch 5/25\n",
      "93/93 [==============================] - 7s 70ms/step - loss: 0.0028\n",
      "Epoch 6/25\n",
      "93/93 [==============================] - 6s 68ms/step - loss: 0.0026\n",
      "Epoch 7/25\n",
      "93/93 [==============================] - 6s 69ms/step - loss: 0.0026\n",
      "Epoch 8/25\n",
      "93/93 [==============================] - 6s 67ms/step - loss: 0.0023\n",
      "Epoch 9/25\n",
      "93/93 [==============================] - 6s 66ms/step - loss: 0.0022\n",
      "Epoch 10/25\n",
      "93/93 [==============================] - 6s 69ms/step - loss: 0.0021\n",
      "Epoch 11/25\n",
      "93/93 [==============================] - 6s 68ms/step - loss: 0.0021\n",
      "Epoch 12/25\n",
      "93/93 [==============================] - 6s 68ms/step - loss: 0.0019\n",
      "Epoch 13/25\n",
      "93/93 [==============================] - 6s 66ms/step - loss: 0.0019\n",
      "Epoch 14/25\n",
      "93/93 [==============================] - 6s 67ms/step - loss: 0.0018\n",
      "Epoch 15/25\n",
      "93/93 [==============================] - 6s 66ms/step - loss: 0.0019\n",
      "Epoch 16/25\n",
      "93/93 [==============================] - 6s 66ms/step - loss: 0.0017\n",
      "Epoch 17/25\n",
      "93/93 [==============================] - 6s 66ms/step - loss: 0.0017\n",
      "Epoch 18/25\n",
      "93/93 [==============================] - 6s 66ms/step - loss: 0.0016\n",
      "Epoch 19/25\n",
      "93/93 [==============================] - 6s 62ms/step - loss: 0.0014\n",
      "Epoch 20/25\n",
      "93/93 [==============================] - 6s 63ms/step - loss: 0.0015\n",
      "Epoch 21/25\n",
      "93/93 [==============================] - 6s 66ms/step - loss: 0.0013\n",
      "Epoch 22/25\n",
      "93/93 [==============================] - 6s 64ms/step - loss: 0.0013\n",
      "Epoch 23/25\n",
      "93/93 [==============================] - 6s 65ms/step - loss: 0.0013\n",
      "Epoch 24/25\n",
      "93/93 [==============================] - 6s 66ms/step - loss: 0.0012\n",
      "Epoch 25/25\n",
      "93/93 [==============================] - 8s 81ms/step - loss: 0.0012\n"
     ]
    },
    {
     "data": {
      "text/plain": [
       "<tensorflow.python.keras.callbacks.History at 0x198939e48e0>"
      ]
     },
     "execution_count": 146,
     "metadata": {},
     "output_type": "execute_result"
    }
   ],
   "source": [
    "from keras.models import Sequential\n",
    "from keras.layers import Dense\n",
    "from keras.layers import LSTM\n",
    "from keras.layers import Dropout\n",
    "\n",
    "model = Sequential()\n",
    "\n",
    "model.add(LSTM(units = 50, return_sequences = True, input_shape = (x_train.shape[1], 1)))\n",
    "model.add(Dropout(0.2))\n",
    "\n",
    "model.add(LSTM(units = 50, return_sequences = True))\n",
    "model.add(Dropout(0.2))\n",
    "\n",
    "model.add(LSTM(units = 50, return_sequences = True))\n",
    "model.add(Dropout(0.2))\n",
    "\n",
    "model.add(LSTM(units = 50))\n",
    "model.add(Dropout(0.2))\n",
    "\n",
    "model.add(Dense(units = 1))\n",
    "\n",
    "model.compile(optimizer = 'adam', loss = 'mean_squared_error')\n",
    "\n",
    "model.fit(x_train, y_train, epochs = 25, batch_size = 32)\n",
    "\n"
   ]
  },
  {
   "cell_type": "code",
   "execution_count": 147,
   "metadata": {},
   "outputs": [
    {
     "name": "stdout",
     "output_type": "stream",
     "text": [
      "Saved model to disk\n"
     ]
    }
   ],
   "source": [
    "model_json = model.to_json()\n",
    "with open(\"model.json\", \"w\") as json_file:\n",
    "    json_file.write(model_json)\n",
    "\n",
    "model.save_weights(\"model.h5\")\n",
    "print(\"Saved model to disk\")"
   ]
  },
  {
   "cell_type": "code",
   "execution_count": 352,
   "metadata": {},
   "outputs": [
    {
     "name": "stdout",
     "output_type": "stream",
     "text": [
      "(480, 20, 1)\n"
     ]
    }
   ],
   "source": [
    "test = close_prices[len(close_prices)-500:].reshape(-1,1)\n",
    "# print(len(test))\n",
    "inputs = sc.fit_transform(test)\n",
    "# print(np.array([inputs[i-7:i, 0]]).shape)\n",
    "# X_test = np.array([inputs[:7, 0]]).reshape(1,7,1)\n",
    "# print(X_test.shape)\n",
    "# predicted_stock_price = []\n",
    "# k = 1\n",
    "# for i in range(7,100):\n",
    "#     y_pred = model.predict(X_test)\n",
    "#     predicted_stock_price.append(y_pred)\n",
    "#     print(\"GT:\",inputs[k:k+7])\n",
    "#     X_test = np.concatenate((X_test[0,1:,0],y_pred[0])).reshape(1,7,1)\n",
    "#     print(\"Pred:\",X_test[0,:,0])\n",
    "#     k += 1\n",
    "# print(X_test.shape)\n",
    "X_test = []\n",
    "for i in range(timestamp, len(inputs)):\n",
    "    X_test.append(inputs[i-timestamp:i, 0])\n",
    "X_test = np.array(X_test)\n",
    "X_test = np.reshape(X_test, (X_test.shape[0], X_test.shape[1], 1))\n",
    "print(X_test.shape)"
   ]
  },
  {
   "cell_type": "code",
   "execution_count": 330,
   "metadata": {},
   "outputs": [],
   "source": [
    "# print(len(predicted_stock_price))\n",
    "# predicted_stock_price = np.array(predicted_stock_price).reshape(993,1)\n",
    "# print(np.array(predicted_stock_price).shape)"
   ]
  },
  {
   "cell_type": "code",
   "execution_count": 150,
   "metadata": {},
   "outputs": [
    {
     "data": {
      "text/plain": [
       "500"
      ]
     },
     "execution_count": 150,
     "metadata": {},
     "output_type": "execute_result"
    }
   ],
   "source": [
    "predicted_stock_price = model.predict(X_test)\n",
    "predicted_stock_price = sc.inverse_transform(predicted_stock_price)\n",
    "# predicted_stock_price = np.insert(predicted_stock_price, 0,0)\n",
    "# print(test[:60].shape,predicted_stock_price.shape)\n",
    "predicted_stock_price = np.concatenate((test[:timestamp],predicted_stock_price))\n",
    "len(predicted_stock_price)\n",
    "# print(predicted_stock_price)"
   ]
  },
  {
   "cell_type": "code",
   "execution_count": 166,
   "metadata": {},
   "outputs": [
    {
     "name": "stdout",
     "output_type": "stream",
     "text": [
      "500\n",
      "500\n"
     ]
    },
    {
     "data": {
      "image/png": "[encoded data removed]",
      "text/plain": [
       "<Figure size 432x288 with 1 Axes>"
      ]
     },
     "metadata": {
      "needs_background": "light"
     },
     "output_type": "display_data"
    }
   ],
   "source": [
    "real_stock_price = test\n",
    "print(len(predicted_stock_price))\n",
    "print(len(real_stock_price))\n",
    "plt.plot(real_stock_price[:27], color = 'black', label = 'FPT Stock Price')\n",
    "plt.plot(predicted_stock_price[:27], color = 'green', label = 'Predicted FPT Stock Price')\n",
    "plt.title('FPT Stock Price Prediction')\n",
    "plt.xlabel('Time')\n",
    "plt.ylabel('FPT Stock Price')\n",
    "plt.legend()\n",
    "plt.show()\n"
   ]
  },
  {
   "cell_type": "code",
   "execution_count": 168,
   "metadata": {},
   "outputs": [
    {
     "data": {
      "text/plain": [
       "0.17580555912512466"
      ]
     },
     "execution_count": 168,
     "metadata": {},
     "output_type": "execute_result"
    }
   ],
   "source": [
    "# predict 7 ngay dau tien cua 30 ngay test\n",
    "def MAPE(y_true, y_pred):\n",
    "    error = np.abs(y_true - y_pred) / y_true\n",
    "#     error.replace([np.inf, -np.inf], np.nan, inplace=True)\n",
    "    error = error[~np.isnan(error)]\n",
    "\n",
    "    return np.mean(error) * 100\n",
    "MAPE(real_stock_price[:27],predicted_stock_price[:27])"
   ]
  },
  {
   "cell_type": "markdown",
   "metadata": {},
   "source": [
    "# Multi Step Forecasting LSTM"
   ]
  },
  {
   "cell_type": "code",
   "execution_count": 251,
   "metadata": {},
   "outputs": [
    {
     "data": {
      "text/html": [
       "<div>\n",
       "<style scoped>\n",
       "    .dataframe tbody tr th:only-of-type {\n",
       "        vertical-align: middle;\n",
       "    }\n",
       "\n",
       "    .dataframe tbody tr th {\n",
       "        vertical-align: top;\n",
       "    }\n",
       "\n",
       "    .dataframe thead th {\n",
       "        text-align: right;\n",
       "    }\n",
       "</style>\n",
       "<table border=\"1\" class=\"dataframe\">\n",
       "  <thead>\n",
       "    <tr style=\"text-align: right;\">\n",
       "      <th></th>\n",
       "      <th>Ticker</th>\n",
       "      <th>Open</th>\n",
       "      <th>High</th>\n",
       "      <th>Low</th>\n",
       "      <th>Close</th>\n",
       "      <th>Volume</th>\n",
       "    </tr>\n",
       "    <tr>\n",
       "      <th>DateTime</th>\n",
       "      <th></th>\n",
       "      <th></th>\n",
       "      <th></th>\n",
       "      <th></th>\n",
       "      <th></th>\n",
       "      <th></th>\n",
       "    </tr>\n",
       "  </thead>\n",
       "  <tbody>\n",
       "    <tr>\n",
       "      <th>2006-12-13</th>\n",
       "      <td>FPT</td>\n",
       "      <td>22.5807</td>\n",
       "      <td>22.5807</td>\n",
       "      <td>22.5807</td>\n",
       "      <td>22.5807</td>\n",
       "      <td>83530</td>\n",
       "    </tr>\n",
       "    <tr>\n",
       "      <th>2006-12-14</th>\n",
       "      <td>FPT</td>\n",
       "      <td>23.7097</td>\n",
       "      <td>23.7097</td>\n",
       "      <td>23.7097</td>\n",
       "      <td>23.7097</td>\n",
       "      <td>280710</td>\n",
       "    </tr>\n",
       "    <tr>\n",
       "      <th>2006-12-15</th>\n",
       "      <td>FPT</td>\n",
       "      <td>24.8952</td>\n",
       "      <td>24.8952</td>\n",
       "      <td>24.8952</td>\n",
       "      <td>24.8952</td>\n",
       "      <td>265300</td>\n",
       "    </tr>\n",
       "    <tr>\n",
       "      <th>2006-12-18</th>\n",
       "      <td>FPT</td>\n",
       "      <td>26.1371</td>\n",
       "      <td>26.1371</td>\n",
       "      <td>26.1371</td>\n",
       "      <td>26.1372</td>\n",
       "      <td>215790</td>\n",
       "    </tr>\n",
       "    <tr>\n",
       "      <th>2006-12-19</th>\n",
       "      <td>FPT</td>\n",
       "      <td>27.4356</td>\n",
       "      <td>27.4356</td>\n",
       "      <td>27.4356</td>\n",
       "      <td>27.4356</td>\n",
       "      <td>137520</td>\n",
       "    </tr>\n",
       "  </tbody>\n",
       "</table>\n",
       "</div>"
      ],
      "text/plain": [
       "           Ticker     Open     High      Low    Close  Volume\n",
       "DateTime                                                     \n",
       "2006-12-13    FPT  22.5807  22.5807  22.5807  22.5807   83530\n",
       "2006-12-14    FPT  23.7097  23.7097  23.7097  23.7097  280710\n",
       "2006-12-15    FPT  24.8952  24.8952  24.8952  24.8952  265300\n",
       "2006-12-18    FPT  26.1371  26.1371  26.1371  26.1372  215790\n",
       "2006-12-19    FPT  27.4356  27.4356  27.4356  27.4356  137520"
      ]
     },
     "execution_count": 251,
     "metadata": {},
     "output_type": "execute_result"
    }
   ],
   "source": [
    "df_fpt= pd.read_csv('dataset/excel_fpt.csv')\n",
    "columns = [i.replace('<', '').replace('>', '') for i in df_fpt.columns]\n",
    "columns[1] = 'DateTime'\n",
    "df_fpt.rename(columns = {df_fpt.columns[i]: columns[i] for i in range(len(df_fpt.columns))}, inplace = True)\n",
    "df_fpt['DateTime'] = pd.to_datetime(df_fpt['DateTime'], format='%Y%m%d', errors='ignore')\n",
    "df_fpt = df_fpt.set_index('DateTime')\n",
    "df_fpt = df_fpt.sort_index()\n",
    "df_fpt.head()"
   ]
  },
  {
   "cell_type": "code",
   "execution_count": 252,
   "metadata": {},
   "outputs": [
    {
     "name": "stdout",
     "output_type": "stream",
     "text": [
      "              Close\n",
      "DateTime           \n",
      "2006-12-13  22.5807\n",
      "2006-12-14  23.7097\n",
      "2006-12-15  24.8952\n",
      "2006-12-18  26.1372\n",
      "2006-12-19  27.4356\n",
      "...             ...\n",
      "2020-12-10  56.5000\n",
      "2020-12-11  57.0000\n",
      "2020-12-14  57.2000\n",
      "2020-12-15  56.7000\n",
      "2020-12-16  57.1000\n",
      "\n",
      "[3490 rows x 1 columns]\n"
     ]
    }
   ],
   "source": [
    "df_fpt = df_fpt.sort_values('DateTime')\n",
    "# df_fpt.reset_index(inplace=True)\n",
    "close_prices = df_fpt.iloc[:, 4:5]\n",
    "print(close_prices)"
   ]
  },
  {
   "cell_type": "code",
   "execution_count": 253,
   "metadata": {},
   "outputs": [],
   "source": [
    "def series_to_supervised(data, n_in=1, n_out=1, dropnan=True):\n",
    "\tn_vars = 1 if type(data) is list else data.shape[1]\n",
    "\tdf = pd.DataFrame(data)\n",
    "\tcols, names = list(), list()\n",
    "\t# input sequence (t-n, ... t-1)\n",
    "\tfor i in range(n_in, 0, -1):\n",
    "\t\tcols.append(df.shift(i))\n",
    "\t\tnames += [('var%d(t-%d)' % (j+1, i)) for j in range(n_vars)]\n",
    "\t# forecast sequence (t, t+1, ... t+n)\n",
    "\tfor i in range(0, n_out):\n",
    "\t\tcols.append(df.shift(-i))\n",
    "\t\tif i == 0:\n",
    "\t\t\tnames += [('var%d(t)' % (j+1)) for j in range(n_vars)]\n",
    "\t\telse:\n",
    "\t\t\tnames += [('var%d(t+%d)' % (j+1, i)) for j in range(n_vars)]\n",
    "\t# put it all together\n",
    "\tagg = pd.concat(cols, axis=1)\n",
    "\tagg.columns = names\n",
    "\t# drop rows with NaN values\n",
    "\tif dropnan:\n",
    "\t\tagg.dropna(inplace=True)\n",
    "\treturn agg"
   ]
  },
  {
   "cell_type": "code",
   "execution_count": 254,
   "metadata": {},
   "outputs": [],
   "source": [
    "# transform series into train and test sets for supervised learning\n",
    "def prepare_data(series, n_test, n_lag, n_seq):\n",
    "\t# extract raw values\n",
    "\traw_values = series.values\n",
    "\traw_values = raw_values.reshape(len(raw_values), 1)\n",
    "\t# transform into supervised learning problem X, y\n",
    "\tsupervised = series_to_supervised(raw_values, n_lag, n_seq)\n",
    "\tsupervised_values = supervised.values\n",
    "\t# split into train and test sets\n",
    "\ttrain, test = supervised_values[0:-n_test], supervised_values[-n_test:]\n",
    "\treturn train, test\n"
   ]
  },
  {
   "cell_type": "code",
   "execution_count": 255,
   "metadata": {},
   "outputs": [
    {
     "name": "stdout",
     "output_type": "stream",
     "text": [
      "[[22.5807 23.7097 24.8952 ... 27.0969 27.0969 25.9678]\n",
      " [23.7097 24.8952 26.1372 ... 27.0969 25.9678 24.8388]\n",
      " [24.8952 26.1372 27.4356 ... 25.9678 24.8388 25.4033]\n",
      " ...\n",
      " [45.5469 45.2961 46.8004 ... 46.0483 46.5497 46.7169]\n",
      " [45.2961 46.8004 46.5497 ... 46.5497 46.7169 46.3826]\n",
      " [46.8004 46.5497 46.6333 ... 46.7169 46.3826 45.6304]]\n",
      "Train: (3278, 13), Test: (200, 13)\n"
     ]
    }
   ],
   "source": [
    "n_lag = 10\n",
    "n_seq = 3\n",
    "n_test = 200\n",
    "train, test = prepare_data(close_prices, n_test, n_lag, n_seq)\n",
    "print(train)\n",
    "print('Train: %s, Test: %s' % (train.shape, test.shape))"
   ]
  },
  {
   "cell_type": "code",
   "execution_count": 256,
   "metadata": {},
   "outputs": [],
   "source": [
    "# make a persistence forecast\n",
    "def persistence(last_ob, n_seq):\n",
    "\treturn [last_ob for i in range(n_seq)]"
   ]
  },
  {
   "cell_type": "code",
   "execution_count": 257,
   "metadata": {},
   "outputs": [],
   "source": [
    "# evaluate the persistence model\n",
    "def make_forecasts(train, test, n_lag, n_seq):\n",
    "\tforecasts = list()\n",
    "\tfor i in range(len(test)):\n",
    "\t\tX, y = test[i, 0:n_lag], test[i, n_lag:]\n",
    "\t\t# make forecast\n",
    "\t\tforecast = persistence(X[-1], n_seq)\n",
    "\t\t# store the forecast\n",
    "\t\tforecasts.append(forecast)\n",
    "\treturn forecasts"
   ]
  },
  {
   "cell_type": "code",
   "execution_count": 258,
   "metadata": {},
   "outputs": [
    {
     "name": "stdout",
     "output_type": "stream",
     "text": [
      "[[46.7169, 46.7169, 46.7169], [46.3826, 46.3826, 46.3826], [45.6304, 45.6304, 45.6304], [45.129, 45.129, 45.129], [42.0368, 42.0368, 42.0368], [43.2068, 43.2068, 43.2068], [42.4547, 42.4547, 42.4547], [40.1982, 40.1982, 40.1982], [40.24, 40.24, 40.24], [39.7804, 39.7804, 39.7804], [40.5325, 40.5325, 40.5325], [40.4489, 40.4489, 40.4489], [39.8639, 39.8639, 39.8639], [39.8639, 39.8639, 39.8639], [37.1061, 37.1061, 37.1061], [37.1896, 37.1896, 37.1896], [38.4432, 38.4432, 38.4432], [36.9389, 36.9389, 36.9389], [36.0196, 36.0196, 36.0196], [33.7632, 33.7632, 33.7632], [34.3482, 34.3482, 34.3482], [35.351, 35.351, 35.351], [37.2732, 37.2732, 37.2732], [39.6968, 39.6968, 39.6968], [39.5297, 39.5297, 39.5297], [39.1536, 39.1536, 39.1536], [39.1536, 39.1536, 39.1536], [38.7775, 38.7775, 38.7775], [38.8611, 38.8611, 38.8611], [41.3682, 41.3682, 41.3682], [41.8697, 41.8697, 41.8697], [42.0368, 42.0368, 42.0368], [42.789, 42.789, 42.789], [42.8725, 42.8725, 42.8725], [41.2011, 41.2011, 41.2011], [42.7054, 42.7054, 42.7054], [42.6218, 42.6218, 42.6218], [42.6218, 42.6218, 42.6218], [42.3711, 42.3711, 42.3711], [42.3711, 42.3711, 42.3711], [42.4547, 42.4547, 42.4547], [42.204, 42.204, 42.204], [42.5383, 42.5383, 42.5383], [44.2097, 44.2097, 44.2097], [44.7111, 44.7111, 44.7111], [44.8783, 44.8783, 44.8783], [45.129, 45.129, 45.129], [45.4633, 45.4633, 45.4633], [48.316, 48.316, 48.316], [47.6797, 47.6797, 47.6797], [46.9943, 46.9943, 46.9943], [47.337, 47.337, 47.337], [48.2181, 48.2181, 48.2181], [47.8755, 47.8755, 47.8755], [48.2671, 48.2671, 48.2671], [47.4349, 47.4349, 47.4349], [47.4349, 47.4349, 47.4349], [47.7776, 47.7776, 47.7776], [46.9943, 46.9943, 46.9943], [46.9943, 46.9943, 46.9943], [46.9454, 46.9454, 46.9454], [47.288, 47.288, 47.288], [46.9943, 46.9943, 46.9943], [47.6307, 47.6307, 47.6307], [47.3859, 47.3859, 47.3859], [47.6797, 47.6797, 47.6797], [48.316, 48.316, 48.316], [47.9244, 47.9244, 47.9244], [47.7776, 47.7776, 47.7776], [45.0362, 45.0362, 45.0362], [46.0153, 46.0153, 46.0153], [45.0362, 45.0362, 45.0362], [45.6237, 45.6237, 45.6237], [45.3789, 45.3789, 45.3789], [45.6237, 45.6237, 45.6237], [46.0153, 46.0153, 46.0153], [46.0153, 46.0153, 46.0153], [46.5537, 46.5537, 46.5537], [46.2111, 46.2111, 46.2111], [45.8195, 45.8195, 45.8195], [45.8684, 45.8684, 45.8684], [45.0852, 45.0852, 45.0852], [44.6936, 44.6936, 44.6936], [45.232, 45.232, 45.232], [45.1831, 45.1831, 45.1831], [45.281, 45.281, 45.281], [45.8195, 45.8195, 45.8195], [46.4558, 46.4558, 46.4558], [46.7006, 46.7006, 46.7006], [47.337, 47.337, 47.337], [46.7985, 46.7985, 46.7985], [47.6307, 47.6307, 47.6307], [47.5328, 47.5328, 47.5328], [47.5818, 47.5818, 47.5818], [47.5818, 47.5818, 47.5818], [47.0922, 47.0922, 47.0922], [46.4069, 46.4069, 46.4069], [46.7985, 46.7985, 46.7985], [46.4069, 46.4069, 46.4069], [46.7496, 46.7496, 46.7496], [44.9383, 44.9383, 44.9383], [42.7844, 42.7844, 42.7844], [44.7425, 44.7425, 44.7425], [43.6166, 43.6166, 43.6166], [44.204, 44.204, 44.204], [43.5677, 43.5677, 43.5677], [44.9383, 44.9383, 44.9383], [45.5747, 45.5747, 45.5747], [46.0153, 46.0153, 46.0153], [45.8195, 45.8195, 45.8195], [46.1132, 46.1132, 46.1132], [46.2111, 46.2111, 46.2111], [46.0153, 46.0153, 46.0153], [46.5048, 46.5048, 46.5048], [46.9454, 46.9454, 46.9454], [46.7985, 46.7985, 46.7985], [47.0, 47.0, 47.0], [46.85, 46.85, 46.85], [46.85, 46.85, 46.85], [47.05, 47.05, 47.05], [47.4, 47.4, 47.4], [48.45, 48.45, 48.45], [48.85, 48.85, 48.85], [48.4, 48.4, 48.4], [49.85, 49.85, 49.85], [49.9, 49.9, 49.9], [49.5, 49.5, 49.5], [49.9, 49.9, 49.9], [50.4, 50.4, 50.4], [50.0, 50.0, 50.0], [48.5, 48.5, 48.5], [49.5, 49.5, 49.5], [49.2, 49.2, 49.2], [49.2, 49.2, 49.2], [49.15, 49.15, 49.15], [49.3, 49.3, 49.3], [50.0, 50.0, 50.0], [50.5, 50.5, 50.5], [50.0, 50.0, 50.0], [51.2, 51.2, 51.2], [51.2, 51.2, 51.2], [51.3, 51.3, 51.3], [51.1, 51.1, 51.1], [50.5, 50.5, 50.5], [50.8, 50.8, 50.8], [51.1, 51.1, 51.1], [50.2, 50.2, 50.2], [50.0, 50.0, 50.0], [50.8, 50.8, 50.8], [50.3, 50.3, 50.3], [50.5, 50.5, 50.5], [50.5, 50.5, 50.5], [50.4, 50.4, 50.4], [51.1, 51.1, 51.1], [50.8, 50.8, 50.8], [50.9, 50.9, 50.9], [50.7, 50.7, 50.7], [51.0, 51.0, 51.0], [51.2, 51.2, 51.2], [53.2, 53.2, 53.2], [53.3, 53.3, 53.3], [53.2, 53.2, 53.2], [52.8, 52.8, 52.8], [54.0, 54.0, 54.0], [53.9, 53.9, 53.9], [52.8, 52.8, 52.8], [52.1, 52.1, 52.1], [50.7, 50.7, 50.7], [50.9, 50.9, 50.9], [51.5, 51.5, 51.5], [51.7, 51.7, 51.7], [52.8, 52.8, 52.8], [53.0, 53.0, 53.0], [52.0, 52.0, 52.0], [52.4, 52.4, 52.4], [53.4, 53.4, 53.4], [53.0, 53.0, 53.0], [53.0, 53.0, 53.0], [53.5, 53.5, 53.5], [53.8, 53.8, 53.8], [53.3, 53.3, 53.3], [54.0, 54.0, 54.0], [54.0, 54.0, 54.0], [55.1, 55.1, 55.1], [55.2, 55.2, 55.2], [55.9, 55.9, 55.9], [55.6, 55.6, 55.6], [55.2, 55.2, 55.2], [55.7, 55.7, 55.7], [56.2, 56.2, 56.2], [55.4, 55.4, 55.4], [55.2, 55.2, 55.2], [55.6, 55.6, 55.6], [55.6, 55.6, 55.6], [55.7, 55.7, 55.7], [55.7, 55.7, 55.7], [56.2, 56.2, 56.2], [57.5, 57.5, 57.5], [56.5, 56.5, 56.5], [57.0, 57.0, 57.0]]\n"
     ]
    }
   ],
   "source": [
    "forecasts = make_forecasts(train, test, n_lag, n_seq)\n",
    "print(forecasts)"
   ]
  },
  {
   "cell_type": "code",
   "execution_count": 259,
   "metadata": {},
   "outputs": [],
   "source": [
    "# evaluate the RMSE for each forecast time step\n",
    "def evaluate_forecasts(test, forecasts, n_lag, n_seq):\n",
    "\tfor i in range(n_seq):\n",
    "\t\tactual = test[:,(n_lag+i)]\n",
    "\t\tpredicted = [forecast[i] for forecast in forecasts]\n",
    "\t\trmse = np.sqrt(mean_squared_error(actual, predicted))\n",
    "\t\tprint('t+%d RMSE: %f' % ((i+1), rmse))"
   ]
  },
  {
   "cell_type": "code",
   "execution_count": 260,
   "metadata": {},
   "outputs": [
    {
     "name": "stdout",
     "output_type": "stream",
     "text": [
      "t+1 RMSE: 0.842976\n",
      "t+2 RMSE: 1.163700\n",
      "t+3 RMSE: 1.421155\n"
     ]
    }
   ],
   "source": [
    "evaluate_forecasts(test, forecasts, n_lag, n_seq)\n"
   ]
  },
  {
   "cell_type": "code",
   "execution_count": 261,
   "metadata": {},
   "outputs": [],
   "source": [
    "def plot_forecasts(series, forecasts, n_test):\n",
    "\t# plot the entire dataset in blue\n",
    "\tplt.plot(series.values)\n",
    "\t# plot the forecasts in red\n",
    "\tfor i in range(len(forecasts)):\n",
    "\t\toff_s = len(series) - n_test + i - 1\n",
    "\t\toff_e = off_s + len(forecasts[i]) + 1\n",
    "\t\txaxis = [x for x in range(off_s, off_e)]\n",
    "\t\tyaxis = [series.values[off_s]] + forecasts[i]\n",
    "\t\tplt.plot(xaxis, yaxis, color='red')\n",
    "\t# show the plot\n",
    "\tplt.show()\n"
   ]
  },
  {
   "cell_type": "code",
   "execution_count": 262,
   "metadata": {},
   "outputs": [
    {
     "data": {
      "image/png": "[encoded data removed]",
      "text/plain": [
       "<Figure size 432x288 with 1 Axes>"
      ]
     },
     "metadata": {
      "needs_background": "light"
     },
     "output_type": "display_data"
    }
   ],
   "source": [
    "plot_forecasts(close_prices, forecasts, n_test+2)"
   ]
  },
  {
   "cell_type": "code",
   "execution_count": 263,
   "metadata": {},
   "outputs": [],
   "source": [
    "def difference(dataset, interval=1):\n",
    "\tdiff = list()\n",
    "\tfor i in range(interval, len(dataset)):\n",
    "\t\tvalue = dataset[i] - dataset[i - interval]\n",
    "\t\tdiff.append(value)\n",
    "\treturn pd.Series(diff)"
   ]
  },
  {
   "cell_type": "code",
   "execution_count": 264,
   "metadata": {},
   "outputs": [],
   "source": [
    "def prepare_data(series, n_test, n_lag, n_seq):\n",
    "\t# extract raw values\n",
    "\traw_values = series.values\n",
    "\t# transform data to be stationary\n",
    "\tdiff_series = difference(raw_values, 1)\n",
    "\tdiff_values = diff_series.values\n",
    "\tdiff_values = diff_values.reshape(len(diff_values), 1)\n",
    "\t# rescale values to -1, 1\n",
    "\tscaler = MinMaxScaler(feature_range=(-1, 1))\n",
    "\tscaled_values = scaler.fit_transform(diff_values)\n",
    "\tscaled_values = scaled_values.reshape(len(scaled_values), 1)\n",
    "\t# transform into supervised learning problem X, y\n",
    "\tsupervised = series_to_supervised(scaled_values, n_lag, n_seq)\n",
    "\tsupervised_values = supervised.values\n",
    "\t# split into train and test sets\n",
    "\ttrain, test = supervised_values[0:-n_test], supervised_values[-n_test:]\n",
    "\treturn scaler, train, test"
   ]
  },
  {
   "cell_type": "code",
   "execution_count": 265,
   "metadata": {},
   "outputs": [],
   "source": [
    "scaler, train, test = prepare_data(close_prices, n_test, n_lag, n_seq)\n"
   ]
  },
  {
   "cell_type": "code",
   "execution_count": 266,
   "metadata": {},
   "outputs": [],
   "source": [
    "def fit_lstm(train, n_lag, n_seq, n_batch, nb_epoch, n_neurons):\n",
    "\t# reshape training into [samples, timesteps, features]\n",
    "\tX, y = train[:, 0:n_lag], train[:, n_lag:]\n",
    "\tX = X.reshape(X.shape[0], 1, X.shape[1])\n",
    "\t# design network\n",
    "\tmodel = Sequential()\n",
    "\tmodel.add(LSTM(n_neurons, batch_input_shape=(n_batch, X.shape[1], X.shape[2]), stateful=True))\n",
    "\tmodel.add(Dense(y.shape[1]))\n",
    "\tmodel.compile(loss='mean_squared_error', optimizer='adam')\n",
    "\t# fit network\n",
    "\tfor i in range(nb_epoch):\n",
    "\t\tmodel.fit(X, y, epochs=1, batch_size=n_batch, verbose=1, shuffle=False)\n",
    "\t\tmodel.reset_states()\n",
    "\treturn model"
   ]
  },
  {
   "cell_type": "code",
   "execution_count": 267,
   "metadata": {},
   "outputs": [
    {
     "name": "stdout",
     "output_type": "stream",
     "text": [
      "3277/3277 [==============================] - 3s 1ms/step - loss: 0.0182\n",
      "3277/3277 [==============================] - 4s 1ms/step - loss: 0.0178\n",
      "3277/3277 [==============================] - 3s 1ms/step - loss: 0.0177\n",
      "3277/3277 [==============================] - 3s 890us/step - loss: 0.0177\n",
      "3277/3277 [==============================] - 3s 893us/step - loss: 0.0177\n",
      "3277/3277 [==============================] - 3s 902us/step - loss: 0.0176\n",
      "3277/3277 [==============================] - 3s 937us/step - loss: 0.0176\n",
      "3277/3277 [==============================] - 3s 1ms/step - loss: 0.0176\n",
      "3277/3277 [==============================] - 3s 1ms/step - loss: 0.0176\n",
      "3277/3277 [==============================] - 3s 1ms/step - loss: 0.0176\n",
      "3277/3277 [==============================] - 3s 1ms/step - loss: 0.0176\n",
      "3277/3277 [==============================] - 3s 1ms/step - loss: 0.0175\n",
      "3277/3277 [==============================] - 3s 1ms/step - loss: 0.0175\n",
      "3277/3277 [==============================] - 4s 1ms/step - loss: 0.0175\n",
      "3277/3277 [==============================] - 4s 1ms/step - loss: 0.0175\n",
      "3277/3277 [==============================] - 3s 998us/step - loss: 0.0175\n",
      "3277/3277 [==============================] - 3s 1ms/step - loss: 0.0175\n",
      "3277/3277 [==============================] - 3s 1ms/step - loss: 0.0174\n",
      "3277/3277 [==============================] - 3s 1ms/step - loss: 0.0174\n",
      "3277/3277 [==============================] - 4s 1ms/step - loss: 0.0174\n",
      "3277/3277 [==============================] - 3s 1ms/step - loss: 0.0174\n",
      "3277/3277 [==============================] - 3s 1ms/step - loss: 0.0174\n",
      "3277/3277 [==============================] - 3s 1ms/step - loss: 0.0174\n",
      "3277/3277 [==============================] - 3s 994us/step - loss: 0.0174\n",
      "3277/3277 [==============================] - 3s 1ms/step - loss: 0.0174\n",
      "3277/3277 [==============================] - 3s 1ms/step - loss: 0.0174\n",
      "3277/3277 [==============================] - 3s 997us/step - loss: 0.0174\n",
      "3277/3277 [==============================] - 3s 989us/step - loss: 0.0174\n",
      "3277/3277 [==============================] - 3s 1ms/step - loss: 0.0174\n",
      "3277/3277 [==============================] - 3s 1ms/step - loss: 0.0174\n",
      "3277/3277 [==============================] - 3s 1ms/step - loss: 0.0174\n",
      "3277/3277 [==============================] - 3s 1ms/step - loss: 0.0174\n",
      "3277/3277 [==============================] - 4s 1ms/step - loss: 0.0173\n",
      "3277/3277 [==============================] - 3s 1ms/step - loss: 0.0173\n",
      "3277/3277 [==============================] - 3s 1ms/step - loss: 0.0173A: 0s - l\n",
      "3277/3277 [==============================] - 3s 1ms/step - loss: 0.0173\n",
      "3277/3277 [==============================] - 3s 1ms/step - loss: 0.0173\n",
      "3277/3277 [==============================] - 3s 1ms/step - loss: 0.0173\n",
      "3277/3277 [==============================] - 3s 1ms/step - loss: 0.0173\n",
      "3277/3277 [==============================] - 3s 1ms/step - loss: 0.0173\n",
      "3277/3277 [==============================] - 4s 1ms/step - loss: 0.0173\n",
      "3277/3277 [==============================] - 3s 1ms/step - loss: 0.0173\n",
      "3277/3277 [==============================] - 3s 1ms/step - loss: 0.0173\n",
      "3277/3277 [==============================] - 3s 1ms/step - loss: 0.0173\n",
      "3277/3277 [==============================] - 3s 1ms/step - loss: 0.0173\n",
      "3277/3277 [==============================] - 3s 1ms/step - loss: 0.0173\n",
      "3277/3277 [==============================] - 3s 1ms/step - loss: 0.0173\n",
      "3277/3277 [==============================] - 3s 1ms/step - loss: 0.0173\n",
      "3277/3277 [==============================] - 3s 1ms/step - loss: 0.0173\n",
      "3277/3277 [==============================] - 4s 1ms/step - loss: 0.0173\n",
      "3277/3277 [==============================] - 4s 1ms/step - loss: 0.0173\n",
      "3277/3277 [==============================] - 4s 1ms/step - loss: 0.0173\n",
      "3277/3277 [==============================] - 4s 1ms/step - loss: 0.0173\n",
      "3277/3277 [==============================] - 4s 1ms/step - loss: 0.0173\n",
      "3277/3277 [==============================] - 4s 1ms/step - loss: 0.0173\n",
      "3277/3277 [==============================] - 4s 1ms/step - loss: 0.0172\n",
      "3277/3277 [==============================] - 4s 1ms/step - loss: 0.0172\n",
      "3277/3277 [==============================] - 4s 1ms/step - loss: 0.0172\n",
      "3277/3277 [==============================] - 4s 1ms/step - loss: 0.0172\n",
      "3277/3277 [==============================] - 4s 1ms/step - loss: 0.0172\n",
      "3277/3277 [==============================] - 4s 1ms/step - loss: 0.0172\n",
      "3277/3277 [==============================] - 4s 1ms/step - loss: 0.0172\n",
      "3277/3277 [==============================] - 4s 1ms/step - loss: 0.0172\n",
      "3277/3277 [==============================] - 4s 1ms/step - loss: 0.0172\n",
      "3277/3277 [==============================] - 3s 1ms/step - loss: 0.0172\n",
      "3277/3277 [==============================] - 3s 1ms/step - loss: 0.0172\n",
      "3277/3277 [==============================] - 4s 1ms/step - loss: 0.0172\n",
      "3277/3277 [==============================] - 5s 1ms/step - loss: 0.0172\n",
      "3277/3277 [==============================] - 3s 1ms/step - loss: 0.0172\n",
      "3277/3277 [==============================] - 3s 1ms/step - loss: 0.0172\n",
      "3277/3277 [==============================] - 3s 1ms/step - loss: 0.0172\n",
      "3277/3277 [==============================] - 3s 1ms/step - loss: 0.0172\n",
      "3277/3277 [==============================] - 3s 1ms/step - loss: 0.0172\n",
      "3277/3277 [==============================] - 3s 1ms/step - loss: 0.0172\n",
      "3277/3277 [==============================] - 3s 1ms/step - loss: 0.0172\n",
      "3277/3277 [==============================] - 3s 1ms/step - loss: 0.0172\n",
      "3277/3277 [==============================] - 3s 1ms/step - loss: 0.0172\n",
      "3277/3277 [==============================] - 4s 1ms/step - loss: 0.0172\n",
      "3277/3277 [==============================] - 4s 1ms/step - loss: 0.0172\n",
      "3277/3277 [==============================] - 3s 1ms/step - loss: 0.0172\n",
      "3277/3277 [==============================] - 3s 1ms/step - loss: 0.0172\n",
      "3277/3277 [==============================] - 3s 1ms/step - loss: 0.0172\n",
      "3277/3277 [==============================] - 3s 1ms/step - loss: 0.0172\n",
      "3277/3277 [==============================] - 3s 1ms/step - loss: 0.0172\n",
      "3277/3277 [==============================] - 5s 2ms/step - loss: 0.0172\n",
      "3277/3277 [==============================] - 3s 1ms/step - loss: 0.0172\n",
      "3277/3277 [==============================] - 4s 1ms/step - loss: 0.0172\n",
      "3277/3277 [==============================] - 4s 1ms/step - loss: 0.0172\n",
      "3277/3277 [==============================] - 4s 1ms/step - loss: 0.0172\n",
      "3277/3277 [==============================] - 4s 1ms/step - loss: 0.0172\n",
      "3277/3277 [==============================] - 4s 1ms/step - loss: 0.0172\n",
      "3277/3277 [==============================] - 4s 1ms/step - loss: 0.0172\n",
      "3277/3277 [==============================] - 4s 1ms/step - loss: 0.0172\n",
      "3277/3277 [==============================] - 4s 1ms/step - loss: 0.0172\n",
      "3277/3277 [==============================] - 4s 1ms/step - loss: 0.0172\n",
      "3277/3277 [==============================] - 4s 1ms/step - loss: 0.0172\n",
      "3277/3277 [==============================] - 6s 2ms/step - loss: 0.0172\n",
      "3277/3277 [==============================] - 5s 1ms/step - loss: 0.0172\n",
      "3277/3277 [==============================] - 4s 1ms/step - loss: 0.0172\n",
      "3277/3277 [==============================] - 5s 2ms/step - loss: 0.0172\n",
      "3277/3277 [==============================] - ETA: 0s - loss: 0.016 - 4s 1ms/step - loss: 0.0172\n",
      "3277/3277 [==============================] - 4s 1ms/step - loss: 0.0172\n",
      "3277/3277 [==============================] - 4s 1ms/step - loss: 0.0172\n",
      "3277/3277 [==============================] - 4s 1ms/step - loss: 0.0172\n",
      "3277/3277 [==============================] - 4s 1ms/step - loss: 0.0172\n",
      "3277/3277 [==============================] - 4s 1ms/step - loss: 0.0172\n",
      "3277/3277 [==============================] - 4s 1ms/step - loss: 0.0172\n",
      "3277/3277 [==============================] - 3s 1ms/step - loss: 0.0172\n",
      "3277/3277 [==============================] - 3s 1ms/step - loss: 0.0172\n",
      "3277/3277 [==============================] - 4s 1ms/step - loss: 0.0172\n",
      "3277/3277 [==============================] - 3s 1ms/step - loss: 0.0172\n",
      "3277/3277 [==============================] - 4s 1ms/step - loss: 0.0172\n",
      "3277/3277 [==============================] - 3s 1ms/step - loss: 0.0172\n",
      "3277/3277 [==============================] - 3s 1ms/step - loss: 0.0171\n",
      "3277/3277 [==============================] - 4s 1ms/step - loss: 0.0171\n",
      "3277/3277 [==============================] - 5s 2ms/step - loss: 0.0171\n",
      "3277/3277 [==============================] - 3s 1ms/step - loss: 0.0171\n",
      "3277/3277 [==============================] - 3s 1ms/step - loss: 0.0171\n",
      "3277/3277 [==============================] - 3s 1ms/step - loss: 0.0171\n",
      "3277/3277 [==============================] - 3s 1ms/step - loss: 0.0171\n",
      "3277/3277 [==============================] - 3s 1ms/step - loss: 0.0171\n",
      "3277/3277 [==============================] - 3s 1ms/step - loss: 0.0171\n",
      "3277/3277 [==============================] - 3s 1ms/step - loss: 0.0171\n",
      "3277/3277 [==============================] - 3s 1ms/step - loss: 0.0171\n",
      "3277/3277 [==============================] - 4s 1ms/step - loss: 0.0171\n",
      "3277/3277 [==============================] - 3s 1ms/step - loss: 0.0171\n",
      "3277/3277 [==============================] - 3s 1ms/step - loss: 0.0171\n",
      "3277/3277 [==============================] - 3s 1ms/step - loss: 0.0171\n",
      "3277/3277 [==============================] - 3s 1ms/step - loss: 0.0171\n",
      "3277/3277 [==============================] - 4s 1ms/step - loss: 0.0171\n",
      "3277/3277 [==============================] - 4s 1ms/step - loss: 0.0171\n",
      "3277/3277 [==============================] - 3s 1ms/step - loss: 0.0171\n",
      "3277/3277 [==============================] - 5s 1ms/step - loss: 0.0171\n",
      "3277/3277 [==============================] - 4s 1ms/step - loss: 0.0171\n",
      "3277/3277 [==============================] - 3s 1ms/step - loss: 0.0171\n",
      "3277/3277 [==============================] - 3s 1ms/step - loss: 0.0171\n",
      "3277/3277 [==============================] - 3s 1ms/step - loss: 0.0171\n",
      "3277/3277 [==============================] - 4s 1ms/step - loss: 0.0171\n",
      "3277/3277 [==============================] - 4s 1ms/step - loss: 0.0171\n",
      "3277/3277 [==============================] - 3s 1ms/step - loss: 0.0171\n",
      "3277/3277 [==============================] - 3s 1ms/step - loss: 0.0171\n",
      "3277/3277 [==============================] - 3s 1ms/step - loss: 0.0171\n",
      "3277/3277 [==============================] - 3s 1ms/step - loss: 0.0171\n",
      "3277/3277 [==============================] - 4s 1ms/step - loss: 0.0171\n",
      "3277/3277 [==============================] - 5s 2ms/step - loss: 0.0171\n",
      "3277/3277 [==============================] - 5s 2ms/step - loss: 0.0171\n",
      "3277/3277 [==============================] - 5s 1ms/step - loss: 0.0171\n",
      "3277/3277 [==============================] - 4s 1ms/step - loss: 0.0171\n",
      "3277/3277 [==============================] - 4s 1ms/step - loss: 0.0171\n",
      "3277/3277 [==============================] - 4s 1ms/step - loss: 0.0171\n"
     ]
    }
   ],
   "source": [
    "model = fit_lstm(train, n_lag, n_seq, 1, 150, 1)"
   ]
  },
  {
   "cell_type": "code",
   "execution_count": 268,
   "metadata": {},
   "outputs": [],
   "source": [
    "# make one forecast with an LSTM,\n",
    "def forecast_lstm(model, X, n_batch):\n",
    "\t# reshape input pattern to [samples, timesteps, features]\n",
    "\tX = X.reshape(1, 1, len(X))\n",
    "\t# make forecast\n",
    "\tforecast = model.predict(X, batch_size=n_batch)\n",
    "\t# convert to array\n",
    "\treturn [x for x in forecast[0, :]]"
   ]
  },
  {
   "cell_type": "code",
   "execution_count": 269,
   "metadata": {},
   "outputs": [],
   "source": [
    "def make_forecasts(model, n_batch, train, test, n_lag, n_seq):\n",
    "\tforecasts = list()\n",
    "\tfor i in range(len(test)):\n",
    "\t\tX, y = test[i, 0:n_lag], test[i, n_lag:]\n",
    "\t\t# make forecast\n",
    "\t\tforecast = forecast_lstm(model, X, n_batch)\n",
    "\t\t# store the forecast\n",
    "\t\tforecasts.append(forecast)\n",
    "\treturn forecasts"
   ]
  },
  {
   "cell_type": "code",
   "execution_count": 270,
   "metadata": {},
   "outputs": [
    {
     "name": "stdout",
     "output_type": "stream",
     "text": [
      "200\n"
     ]
    }
   ],
   "source": [
    "forecasts = make_forecasts(model, 1, train, test, n_lag, n_seq)\n",
    "print(len(forecasts))"
   ]
  },
  {
   "cell_type": "code",
   "execution_count": 271,
   "metadata": {},
   "outputs": [],
   "source": [
    "# invert differenced forecast\n",
    "def inverse_difference(last_ob, forecast):\n",
    "\t# invert first forecast\n",
    "\tinverted = list()\n",
    "\tinverted.append(forecast[0] + last_ob)\n",
    "\t# propagate difference forecast using inverted first value\n",
    "\tfor i in range(1, len(forecast)):\n",
    "\t\tinverted.append(forecast[i] + inverted[i-1])\n",
    "\treturn inverted"
   ]
  },
  {
   "cell_type": "code",
   "execution_count": 272,
   "metadata": {},
   "outputs": [],
   "source": [
    "def inverse_transform(series, forecasts, scaler, n_test):\n",
    "\tinverted = list()\n",
    "\tfor i in range(len(forecasts)):\n",
    "\t\t# create array from forecast\n",
    "\t\tforecast = np.array(forecasts[i])\n",
    "\t\tforecast = forecast.reshape(1, len(forecast))\n",
    "\t\t# invert scaling\n",
    "\t\tinv_scale = scaler.inverse_transform(forecast)\n",
    "\t\tinv_scale = inv_scale[0, :]\n",
    "\t\t# invert differencing\n",
    "\t\tindex = len(series) - n_test + i - 1\n",
    "\t\tlast_ob = series.values[index]\n",
    "\t\tinv_diff = inverse_difference(last_ob, inv_scale)\n",
    "\t\t# store\n",
    "\t\tinverted.append(inv_diff)\n",
    "\treturn inverted"
   ]
  },
  {
   "cell_type": "code",
   "execution_count": 273,
   "metadata": {},
   "outputs": [],
   "source": [
    "forecasts = inverse_transform(close_prices, forecasts, scaler, n_test+2)\n"
   ]
  },
  {
   "cell_type": "code",
   "execution_count": 274,
   "metadata": {},
   "outputs": [],
   "source": [
    "actual = [row[n_lag:] for row in test]\n",
    "actual = inverse_transform(close_prices, actual, scaler, n_test+2)"
   ]
  },
  {
   "cell_type": "code",
   "execution_count": 275,
   "metadata": {},
   "outputs": [],
   "source": [
    "def evaluate_forecasts(test, forecasts, n_lag, n_seq):\n",
    "\tfor i in range(n_seq):\n",
    "\t\tactual = [row[i] for row in test]\n",
    "\t\tpredicted = [forecast[i] for forecast in forecasts]\n",
    "\t\trmse = np.sqrt(mean_squared_error(actual, predicted))\n",
    "\t\tprint('t+%d RMSE: %f' % ((i+1), rmse))"
   ]
  },
  {
   "cell_type": "code",
   "execution_count": 311,
   "metadata": {},
   "outputs": [],
   "source": [
    "# plot the forecasts in the context of the original dataset\n",
    "def plot_forecasts(series, forecasts, n_test):\n",
    "\t# plot the entire dataset in blue\n",
    "\tplt.plot(np.concatenate((series.values[:len(series.values)-n_test],forecasts)))\n",
    "\tplt.plot(series.values)\n",
    "\t# plot the forecasts in red\n",
    "# \tfor i in range(len(forecasts)):\n",
    "# \t\toff_s = len(series) - n_test + i - 1\n",
    "# \t\toff_e = off_s + len(forecasts[i]) + 1\n",
    "# \t\txaxis = [x for x in range(off_s, off_e)]\n",
    "# \t\tyaxis = [series.values[off_s]] + forecasts[i]\n",
    "# \t\tplt.plot(xaxis, yaxis, color='red')\n",
    "\t# show the plot\n",
    "\tplt.show()\n"
   ]
  },
  {
   "cell_type": "code",
   "execution_count": 312,
   "metadata": {},
   "outputs": [
    {
     "name": "stdout",
     "output_type": "stream",
     "text": [
      "t+1 RMSE: 0.948123\n",
      "t+2 RMSE: 1.231543\n",
      "t+3 RMSE: 1.406022\n"
     ]
    },
    {
     "data": {
      "image/png": "[encoded data removed]",
      "text/plain": [
       "<Figure size 432x288 with 1 Axes>"
      ]
     },
     "metadata": {
      "needs_background": "light"
     },
     "output_type": "display_data"
    }
   ],
   "source": [
    "evaluate_forecasts(actual, forecasts, n_lag, n_seq)\n",
    "# plot forecasts\n",
    "plot_forecasts(close_prices, np.asarray(forecasts)[:,2], n_test+2)\n"
   ]
  },
  {
   "cell_type": "markdown",
   "metadata": {},
   "source": [
    "# Test class model"
   ]
  },
  {
   "cell_type": "code",
   "execution_count": 326,
   "metadata": {},
   "outputs": [],
   "source": [
    "import numpy as np\n",
    "from keras.models import Sequential\n",
    "from keras.layers import Dense\n",
    "from keras.layers import LSTM\n",
    "from keras.layers import Dropout\n",
    "\n",
    "class lstm():\n",
    "    \"\"\"A class for an building and inferencing an lstm model\"\"\"\n",
    "    \n",
    "    def __init__(self, input_shape):\n",
    "        self.model = Sequential()\n",
    "        \n",
    "        self.model.add(LSTM(units = 50, return_sequences = True, input_shape = input_shape))\n",
    "        self.model.add(Dropout(0.2))\n",
    "\n",
    "        self.model.add(LSTM(units = 50, return_sequences = True))\n",
    "        self.model.add(Dropout(0.2))\n",
    "\n",
    "        self.model.add(LSTM(units = 50, return_sequences = True))\n",
    "        self.model.add(Dropout(0.2))\n",
    "\n",
    "        self.model.add(LSTM(units = 50))\n",
    "        self.model.add(Dropout(0.2))\n",
    "\n",
    "        self.model.add(Dense(units = 1))\n",
    "\n",
    "        self.model.compile(optimizer = 'adam', loss = 'mean_squared_error')\n",
    "\n",
    "    def load_model_weights(self, filepath):\n",
    "        print('[Model] Loading model from file %s' % filepath)\n",
    "        self.model.load_weights(filepath)\n",
    "    \n",
    "    def predict(self,data):\n",
    "        #Predict each timestep given the last sequence of true data, in effect only predicting 1 step ahead each time\n",
    "        print('[Model] Predicting...')\n",
    "        predicted = self.model.predict(data)\n",
    "        predicted = np.reshape(predicted, (predicted.size,))\n",
    "        return predicted\n"
   ]
  },
  {
   "cell_type": "code",
   "execution_count": 353,
   "metadata": {},
   "outputs": [],
   "source": [
    "model = lstm((x_train.shape[1], 1))"
   ]
  },
  {
   "cell_type": "code",
   "execution_count": 354,
   "metadata": {},
   "outputs": [
    {
     "name": "stdout",
     "output_type": "stream",
     "text": [
      "[Model] Loading model from file model.h5\n"
     ]
    }
   ],
   "source": [
    "model.load_model_weights('model.h5')"
   ]
  },
  {
   "cell_type": "code",
   "execution_count": 355,
   "metadata": {},
   "outputs": [
    {
     "name": "stdout",
     "output_type": "stream",
     "text": [
      "[Model] Predicting...\n"
     ]
    }
   ],
   "source": [
    "y_pred = model.predict(X_test).reshape(-1,1)"
   ]
  },
  {
   "cell_type": "code",
   "execution_count": 356,
   "metadata": {},
   "outputs": [
    {
     "data": {
      "text/plain": [
       "500"
      ]
     },
     "execution_count": 356,
     "metadata": {},
     "output_type": "execute_result"
    }
   ],
   "source": [
    "predicted_stock_price = sc.inverse_transform(y_pred)\n",
    "# predicted_stock_price = np.insert(predicted_stock_price, 0,0)\n",
    "# print(test[:60].shape,predicted_stock_price.shape)\n",
    "predicted_stock_price = np.concatenate((test[:timestamp],predicted_stock_price))\n",
    "len(predicted_stock_price)\n",
    "# print(predicted_stock_price)"
   ]
  },
  {
   "cell_type": "code",
   "execution_count": 358,
   "metadata": {},
   "outputs": [
    {
     "name": "stdout",
     "output_type": "stream",
     "text": [
      "500\n",
      "500\n"
     ]
    },
    {
     "data": {
      "image/png": "[encoded data removed]",
      "text/plain": [
       "<Figure size 432x288 with 1 Axes>"
      ]
     },
     "metadata": {
      "needs_background": "light"
     },
     "output_type": "display_data"
    }
   ],
   "source": [
    "real_stock_price = test\n",
    "print(len(predicted_stock_price))\n",
    "print(len(real_stock_price))\n",
    "plt.plot(real_stock_price[:27], color = 'black', label = 'FPT Stock Price')\n",
    "plt.plot(predicted_stock_price[:27], color = 'green', label = 'Predicted FPT Stock Price')\n",
    "plt.title('FPT Stock Price Prediction')\n",
    "plt.xlabel('Time')\n",
    "plt.ylabel('FPT Stock Price')\n",
    "plt.legend()\n",
    "plt.show()\n"
   ]
  },
  {
   "cell_type": "code",
   "execution_count": null,
   "metadata": {},
   "outputs": [],
   "source": []
  }
 ],
 "metadata": {
  "kernelspec": {
   "display_name": "Python 3",
   "language": "python",
   "name": "python3"
  },
  "language_info": {
   "codemirror_mode": {
    "name": "ipython",
    "version": 3
   },
   "file_extension": ".py",
   "mimetype": "text/x-python",
   "name": "python",
   "nbconvert_exporter": "python",
   "pygments_lexer": "ipython3",
   "version": "3.8.3"
  }
 },
 "nbformat": 4,
 "nbformat_minor": 4
}
